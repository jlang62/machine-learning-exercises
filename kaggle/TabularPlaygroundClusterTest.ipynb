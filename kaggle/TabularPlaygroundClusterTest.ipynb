{
 "cells": [
  {
   "cell_type": "code",
   "execution_count": 1,
   "metadata": {},
   "outputs": [],
   "source": [
    "import random \n",
    "import numpy as np \n",
    "import pandas as pd\n",
    "import matplotlib.pyplot as plt \n",
    "from sklearn.cluster import KMeans\n",
    "%matplotlib inline"
   ]
  },
  {
   "cell_type": "code",
   "execution_count": 2,
   "metadata": {},
   "outputs": [
    {
     "data": {
      "text/html": [
       "<div>\n",
       "<style scoped>\n",
       "    .dataframe tbody tr th:only-of-type {\n",
       "        vertical-align: middle;\n",
       "    }\n",
       "\n",
       "    .dataframe tbody tr th {\n",
       "        vertical-align: top;\n",
       "    }\n",
       "\n",
       "    .dataframe thead th {\n",
       "        text-align: right;\n",
       "    }\n",
       "</style>\n",
       "<table border=\"1\" class=\"dataframe\">\n",
       "  <thead>\n",
       "    <tr style=\"text-align: right;\">\n",
       "      <th></th>\n",
       "      <th>id</th>\n",
       "      <th>f_00</th>\n",
       "      <th>f_01</th>\n",
       "      <th>f_02</th>\n",
       "      <th>f_03</th>\n",
       "      <th>f_04</th>\n",
       "      <th>f_05</th>\n",
       "      <th>f_06</th>\n",
       "      <th>f_07</th>\n",
       "      <th>f_08</th>\n",
       "      <th>...</th>\n",
       "      <th>f_19</th>\n",
       "      <th>f_20</th>\n",
       "      <th>f_21</th>\n",
       "      <th>f_22</th>\n",
       "      <th>f_23</th>\n",
       "      <th>f_24</th>\n",
       "      <th>f_25</th>\n",
       "      <th>f_26</th>\n",
       "      <th>f_27</th>\n",
       "      <th>f_28</th>\n",
       "    </tr>\n",
       "  </thead>\n",
       "  <tbody>\n",
       "    <tr>\n",
       "      <th>0</th>\n",
       "      <td>0</td>\n",
       "      <td>-0.389420</td>\n",
       "      <td>-0.912791</td>\n",
       "      <td>0.648951</td>\n",
       "      <td>0.589045</td>\n",
       "      <td>-0.830817</td>\n",
       "      <td>0.733624</td>\n",
       "      <td>2.258560</td>\n",
       "      <td>2</td>\n",
       "      <td>13</td>\n",
       "      <td>...</td>\n",
       "      <td>-0.478412</td>\n",
       "      <td>-0.757002</td>\n",
       "      <td>-0.763635</td>\n",
       "      <td>-1.090369</td>\n",
       "      <td>1.142641</td>\n",
       "      <td>-0.884274</td>\n",
       "      <td>1.137896</td>\n",
       "      <td>1.309073</td>\n",
       "      <td>1.463002</td>\n",
       "      <td>0.813527</td>\n",
       "    </tr>\n",
       "    <tr>\n",
       "      <th>1</th>\n",
       "      <td>1</td>\n",
       "      <td>-0.689249</td>\n",
       "      <td>-0.453954</td>\n",
       "      <td>0.654175</td>\n",
       "      <td>0.995248</td>\n",
       "      <td>-1.653020</td>\n",
       "      <td>0.863810</td>\n",
       "      <td>-0.090651</td>\n",
       "      <td>2</td>\n",
       "      <td>3</td>\n",
       "      <td>...</td>\n",
       "      <td>-0.428791</td>\n",
       "      <td>-0.089908</td>\n",
       "      <td>-1.784204</td>\n",
       "      <td>-0.839474</td>\n",
       "      <td>0.459685</td>\n",
       "      <td>1.759412</td>\n",
       "      <td>-0.275422</td>\n",
       "      <td>-0.852168</td>\n",
       "      <td>0.562457</td>\n",
       "      <td>-2.680541</td>\n",
       "    </tr>\n",
       "    <tr>\n",
       "      <th>2</th>\n",
       "      <td>2</td>\n",
       "      <td>0.809079</td>\n",
       "      <td>0.324568</td>\n",
       "      <td>-1.170602</td>\n",
       "      <td>-0.624491</td>\n",
       "      <td>0.105448</td>\n",
       "      <td>0.783948</td>\n",
       "      <td>1.988301</td>\n",
       "      <td>5</td>\n",
       "      <td>11</td>\n",
       "      <td>...</td>\n",
       "      <td>-0.413534</td>\n",
       "      <td>-1.602377</td>\n",
       "      <td>1.190984</td>\n",
       "      <td>3.267116</td>\n",
       "      <td>-0.088322</td>\n",
       "      <td>-2.168635</td>\n",
       "      <td>-0.974989</td>\n",
       "      <td>1.335763</td>\n",
       "      <td>-1.110655</td>\n",
       "      <td>-3.630723</td>\n",
       "    </tr>\n",
       "    <tr>\n",
       "      <th>3</th>\n",
       "      <td>3</td>\n",
       "      <td>-0.500923</td>\n",
       "      <td>0.229049</td>\n",
       "      <td>0.264109</td>\n",
       "      <td>0.231520</td>\n",
       "      <td>0.415012</td>\n",
       "      <td>-1.221269</td>\n",
       "      <td>0.138850</td>\n",
       "      <td>6</td>\n",
       "      <td>2</td>\n",
       "      <td>...</td>\n",
       "      <td>0.619283</td>\n",
       "      <td>1.287801</td>\n",
       "      <td>0.532837</td>\n",
       "      <td>1.036631</td>\n",
       "      <td>-2.041828</td>\n",
       "      <td>1.440490</td>\n",
       "      <td>-1.900191</td>\n",
       "      <td>-0.630771</td>\n",
       "      <td>-0.050641</td>\n",
       "      <td>0.238333</td>\n",
       "    </tr>\n",
       "    <tr>\n",
       "      <th>4</th>\n",
       "      <td>4</td>\n",
       "      <td>-0.671268</td>\n",
       "      <td>-1.039533</td>\n",
       "      <td>-0.270155</td>\n",
       "      <td>-1.830264</td>\n",
       "      <td>-0.290108</td>\n",
       "      <td>-1.852809</td>\n",
       "      <td>0.781898</td>\n",
       "      <td>8</td>\n",
       "      <td>7</td>\n",
       "      <td>...</td>\n",
       "      <td>-1.628830</td>\n",
       "      <td>-0.434948</td>\n",
       "      <td>0.322505</td>\n",
       "      <td>0.284326</td>\n",
       "      <td>-2.438365</td>\n",
       "      <td>1.473930</td>\n",
       "      <td>-1.044684</td>\n",
       "      <td>1.602686</td>\n",
       "      <td>-0.405263</td>\n",
       "      <td>-1.987263</td>\n",
       "    </tr>\n",
       "  </tbody>\n",
       "</table>\n",
       "<p>5 rows × 30 columns</p>\n",
       "</div>"
      ],
      "text/plain": [
       "   id      f_00      f_01      f_02      f_03      f_04      f_05      f_06  \\\n",
       "0   0 -0.389420 -0.912791  0.648951  0.589045 -0.830817  0.733624  2.258560   \n",
       "1   1 -0.689249 -0.453954  0.654175  0.995248 -1.653020  0.863810 -0.090651   \n",
       "2   2  0.809079  0.324568 -1.170602 -0.624491  0.105448  0.783948  1.988301   \n",
       "3   3 -0.500923  0.229049  0.264109  0.231520  0.415012 -1.221269  0.138850   \n",
       "4   4 -0.671268 -1.039533 -0.270155 -1.830264 -0.290108 -1.852809  0.781898   \n",
       "\n",
       "   f_07  f_08  ...      f_19      f_20      f_21      f_22      f_23  \\\n",
       "0     2    13  ... -0.478412 -0.757002 -0.763635 -1.090369  1.142641   \n",
       "1     2     3  ... -0.428791 -0.089908 -1.784204 -0.839474  0.459685   \n",
       "2     5    11  ... -0.413534 -1.602377  1.190984  3.267116 -0.088322   \n",
       "3     6     2  ...  0.619283  1.287801  0.532837  1.036631 -2.041828   \n",
       "4     8     7  ... -1.628830 -0.434948  0.322505  0.284326 -2.438365   \n",
       "\n",
       "       f_24      f_25      f_26      f_27      f_28  \n",
       "0 -0.884274  1.137896  1.309073  1.463002  0.813527  \n",
       "1  1.759412 -0.275422 -0.852168  0.562457 -2.680541  \n",
       "2 -2.168635 -0.974989  1.335763 -1.110655 -3.630723  \n",
       "3  1.440490 -1.900191 -0.630771 -0.050641  0.238333  \n",
       "4  1.473930 -1.044684  1.602686 -0.405263 -1.987263  \n",
       "\n",
       "[5 rows x 30 columns]"
      ]
     },
     "execution_count": 2,
     "metadata": {},
     "output_type": "execute_result"
    }
   ],
   "source": [
    "data = pd.read_csv('../data/tabular-playground/data.csv')\n",
    "data.head()"
   ]
  },
  {
   "cell_type": "code",
   "execution_count": 4,
   "metadata": {},
   "outputs": [
    {
     "name": "stdout",
     "output_type": "stream",
     "text": [
      "<class 'pandas.core.frame.DataFrame'>\n",
      "RangeIndex: 98000 entries, 0 to 97999\n",
      "Data columns (total 30 columns):\n",
      " #   Column  Non-Null Count  Dtype  \n",
      "---  ------  --------------  -----  \n",
      " 0   id      98000 non-null  int64  \n",
      " 1   f_00    98000 non-null  float64\n",
      " 2   f_01    98000 non-null  float64\n",
      " 3   f_02    98000 non-null  float64\n",
      " 4   f_03    98000 non-null  float64\n",
      " 5   f_04    98000 non-null  float64\n",
      " 6   f_05    98000 non-null  float64\n",
      " 7   f_06    98000 non-null  float64\n",
      " 8   f_07    98000 non-null  int64  \n",
      " 9   f_08    98000 non-null  int64  \n",
      " 10  f_09    98000 non-null  int64  \n",
      " 11  f_10    98000 non-null  int64  \n",
      " 12  f_11    98000 non-null  int64  \n",
      " 13  f_12    98000 non-null  int64  \n",
      " 14  f_13    98000 non-null  int64  \n",
      " 15  f_14    98000 non-null  float64\n",
      " 16  f_15    98000 non-null  float64\n",
      " 17  f_16    98000 non-null  float64\n",
      " 18  f_17    98000 non-null  float64\n",
      " 19  f_18    98000 non-null  float64\n",
      " 20  f_19    98000 non-null  float64\n",
      " 21  f_20    98000 non-null  float64\n",
      " 22  f_21    98000 non-null  float64\n",
      " 23  f_22    98000 non-null  float64\n",
      " 24  f_23    98000 non-null  float64\n",
      " 25  f_24    98000 non-null  float64\n",
      " 26  f_25    98000 non-null  float64\n",
      " 27  f_26    98000 non-null  float64\n",
      " 28  f_27    98000 non-null  float64\n",
      " 29  f_28    98000 non-null  float64\n",
      "dtypes: float64(22), int64(8)\n",
      "memory usage: 22.4 MB\n"
     ]
    }
   ],
   "source": [
    "data.info()"
   ]
  },
  {
   "cell_type": "code",
   "execution_count": 5,
   "metadata": {},
   "outputs": [],
   "source": [
    "data_num = data.drop(['id', 'f_07', 'f_08', 'f_09', 'f_10', 'f_11', 'f_12', 'f_13'], axis=1)\n",
    "data_cat = data[['f_07', 'f_08', 'f_09', 'f_10', 'f_11', 'f_12', 'f_13']]"
   ]
  },
  {
   "cell_type": "code",
   "execution_count": 6,
   "metadata": {},
   "outputs": [],
   "source": [
    "from sklearn.preprocessing import StandardScaler\n",
    "X_cat = data_num.values\n",
    "X_cat_standard = StandardScaler().fit_transform(X_cat)"
   ]
  },
  {
   "cell_type": "code",
   "execution_count": 7,
   "metadata": {},
   "outputs": [
    {
     "data": {
      "text/plain": [
       "array([[-3.89550500e-01, -9.17694946e-01,  6.49104995e-01,\n",
       "         5.89498984e-01, -8.24774855e-01,  7.34848683e-01,\n",
       "         2.26743219e+00, -4.73737567e-01,  3.60371972e-01,\n",
       "         1.05923577e+00, -5.60604302e-01, -3.62971505e-01,\n",
       "        -4.71839241e-01, -7.54256628e-01, -7.62195098e-01,\n",
       "        -7.11585255e-01,  9.11572221e-01, -6.80948219e-01,\n",
       "         7.62783050e-01,  9.60481581e-01,  1.04529612e+00,\n",
       "         6.83322736e-01,  2.00000000e+00,  1.30000000e+01,\n",
       "         1.40000000e+01,  5.00000000e+00,  1.30000000e+01,\n",
       "         6.00000000e+00,  6.00000000e+00],\n",
       "       [-6.88543799e-01, -4.59194764e-01,  6.54321217e-01,\n",
       "         9.95533084e-01, -1.64447199e+00,  8.64966703e-01,\n",
       "        -8.78352573e-02,  5.88248389e-01, -3.93846188e-01,\n",
       "         1.39971938e-01, -3.24139220e-02,  4.78499187e-01,\n",
       "        -4.22433626e-01, -8.91292064e-02, -1.78307297e+00,\n",
       "        -5.41814989e-01,  4.54692971e-01,  1.03238624e+00,\n",
       "        -1.33948161e-01, -5.52942135e-01,  3.55435202e-01,\n",
       "        -1.60267076e+00,  2.00000000e+00,  3.00000000e+00,\n",
       "         6.00000000e+00,  4.00000000e+00,  6.00000000e+00,\n",
       "         1.60000000e+01,  9.00000000e+00],\n",
       "       [ 8.05606942e-01,  3.18753453e-01, -1.16796258e+00,\n",
       "        -6.23530829e-01,  1.08638193e-01,  7.85146238e-01,\n",
       "         1.99647583e+00, -6.84016690e-01,  4.71450447e-01,\n",
       "         3.43315744e-01, -2.89335684e-01,  2.98073592e-01,\n",
       "        -4.07242702e-01, -1.59713958e+00,  1.19301479e+00,\n",
       "         2.23694317e+00,  8.80904394e-02, -1.51332424e+00,\n",
       "        -5.77814488e-01,  9.79171337e-01, -9.26250169e-01,\n",
       "        -2.22432704e+00,  5.00000000e+00,  1.10000000e+01,\n",
       "         5.00000000e+00,  8.00000000e+00,  9.00000000e+00,\n",
       "         3.00000000e+00,  1.10000000e+01],\n",
       "       [-5.00743206e-01,  2.23304872e-01,  2.64788219e-01,\n",
       "         2.32123629e-01,  4.17258506e-01, -1.21901570e+00,\n",
       "         1.42257191e-01, -3.93288475e-01,  6.28715085e-01,\n",
       "        -1.07642481e+00, -1.52150377e+00, -1.15005246e+00,\n",
       "         6.21083420e-01,  1.28451790e+00,  5.34668636e-01,\n",
       "         7.27667192e-01, -1.21875261e+00,  8.25697841e-01,\n",
       "        -1.16484212e+00, -3.97907673e-01, -1.14228119e-01,\n",
       "         3.07002249e-01,  6.00000000e+00,  2.00000000e+00,\n",
       "         1.30000000e+01,  8.00000000e+00,  9.00000000e+00,\n",
       "         6.00000000e+00,  4.00000000e+00],\n",
       "       [-6.70612595e-01, -1.04434276e+00, -2.68745357e-01,\n",
       "        -1.82880120e+00, -2.85713028e-01, -1.85022268e+00,\n",
       "         7.86962808e-01, -1.24288325e-01, -6.12271136e-01,\n",
       "        -1.06627362e+00,  4.41932147e-01,  4.35485334e-01,\n",
       "        -1.61725527e+00, -4.33151541e-01,  3.24272925e-01,\n",
       "         2.18613720e-01, -1.48402546e+00,  8.47369228e-01,\n",
       "        -6.22034461e-01,  1.16608584e+00, -3.85885713e-01,\n",
       "        -1.14909352e+00,  8.00000000e+00,  7.00000000e+00,\n",
       "         5.00000000e+00,  3.00000000e+00,  1.00000000e+00,\n",
       "         1.30000000e+01,  1.10000000e+01],\n",
       "       [-8.87683217e-01, -1.12577622e+00,  9.88298132e-01,\n",
       "         2.25383957e-01,  1.65354211e+00, -1.27198973e+00,\n",
       "         3.75450114e-01,  9.41856607e-01, -1.26667925e+00,\n",
       "        -7.55142958e-02,  8.51341248e-01, -4.23795927e-02,\n",
       "         2.71780345e-02, -1.02127251e-01,  2.08765768e-01,\n",
       "        -1.13955742e+00, -3.38424388e-01,  8.27410184e-01,\n",
       "         3.15331218e-01, -1.01349183e+00,  4.84845223e-01,\n",
       "         3.67569744e-01,  4.00000000e+00,  1.00000000e+00,\n",
       "         1.00000000e+00,  3.00000000e+00,  2.00000000e+00,\n",
       "         1.20000000e+01,  1.00000000e+01],\n",
       "       [-9.70848040e-02, -2.52920965e-01, -6.40257820e-01,\n",
       "        -5.33926136e-01,  1.05135420e+00,  2.58887902e-01,\n",
       "        -2.13163959e+00,  3.97977667e-01,  1.67219119e-01,\n",
       "         8.37189110e-03, -7.88647850e-01,  1.36576456e-01,\n",
       "         1.29475394e+00, -1.78330967e+00,  6.40912952e-01,\n",
       "        -5.14395901e-01, -1.24558268e+00,  2.99164721e-01,\n",
       "        -1.52236701e+00,  4.41037854e-01,  4.69714127e-02,\n",
       "         1.12520968e+00,  2.00000000e+00,  2.00000000e+00,\n",
       "         1.70000000e+01,  1.30000000e+01,  5.00000000e+00,\n",
       "         3.00000000e+00,  0.00000000e+00],\n",
       "       [-9.07298485e-01,  5.96954264e-02, -4.25377944e-01,\n",
       "        -3.91206699e-01,  1.13558303e+00,  7.98829631e-01,\n",
       "        -5.08746388e-01,  1.92663879e+00,  1.53753374e+00,\n",
       "         8.41655236e-01, -6.11417765e-01, -8.55788594e-01,\n",
       "         6.07706692e-01,  2.46534749e+00, -1.39903661e+00,\n",
       "         9.49029365e-02,  2.60877084e-02, -1.09164420e+00,\n",
       "        -2.68807088e-01, -9.45422029e-02, -6.74456359e-01,\n",
       "        -2.14398521e+00,  2.00000000e+00,  8.00000000e+00,\n",
       "         5.00000000e+00,  6.00000000e+00,  1.00000000e+01,\n",
       "         3.00000000e+00,  8.00000000e+00],\n",
       "       [ 9.93732133e-01, -1.15849133e+00, -9.06681493e-01,\n",
       "         9.85251315e-01,  1.17617904e+00, -5.99264460e-02,\n",
       "        -1.01481464e+00,  3.72539168e-01,  1.57919664e-01,\n",
       "        -1.07838095e+00, -1.01071106e+00, -1.28215953e+00,\n",
       "        -1.04024126e+00,  2.19981161e-01,  3.28541403e-01,\n",
       "         8.79727702e-01,  1.86844506e+00, -1.36089182e+00,\n",
       "         3.39006939e-01,  8.39397453e-01,  1.73903857e-01,\n",
       "         3.90714855e-01,  1.00000000e+00,  4.00000000e+00,\n",
       "         4.00000000e+00,  1.00000000e+00,  1.00000000e+01,\n",
       "         8.00000000e+00,  1.50000000e+01],\n",
       "       [-6.40736816e-01,  3.70853989e-01, -4.26145764e-01,\n",
       "         8.02604696e-01, -1.04284954e+00, -2.13871952e-01,\n",
       "        -1.27727872e+00, -5.81952214e-01,  7.95102515e-02,\n",
       "         6.76369441e-01,  6.07208978e-01,  1.21271976e+00,\n",
       "        -7.76165823e-01,  1.06139679e+00, -2.43820373e-01,\n",
       "         5.04496776e-01,  5.74872050e-01,  3.83662760e-01,\n",
       "        -5.35974448e-01, -1.66072264e-02, -1.39989787e+00,\n",
       "        -4.65549100e-01,  1.00000000e+00,  1.50000000e+01,\n",
       "         1.00000000e+00,  1.00000000e+00,  5.00000000e+00,\n",
       "         6.00000000e+00,  8.00000000e+00]])"
      ]
     },
     "execution_count": 7,
     "metadata": {},
     "output_type": "execute_result"
    }
   ],
   "source": [
    "X = np.concatenate((X_cat_standard, data_cat), axis=1)\n",
    "X[:10]"
   ]
  },
  {
   "cell_type": "code",
   "execution_count": 9,
   "metadata": {},
   "outputs": [],
   "source": [
    "Error =[]\n",
    "for i in range(1, 10):\n",
    "    kmeans = KMeans(init = \"k-means++\", n_clusters = i, n_init = 12)\n",
    "    kmeans.fit(X)\n",
    "    Error.append(kmeans.inertia_)\n"
   ]
  },
  {
   "cell_type": "code",
   "execution_count": 10,
   "metadata": {},
   "outputs": [
    {
     "data": {
      "image/png": "[encoded data removed]",
      "text/plain": [
       "<Figure size 640x480 with 1 Axes>"
      ]
     },
     "metadata": {},
     "output_type": "display_data"
    }
   ],
   "source": [
    "import matplotlib.pyplot as plt\n",
    "plt.plot(range(1, 10), Error)\n",
    "plt.title('Elbow method')\n",
    "plt.xlabel('No of clusters')\n",
    "plt.ylabel('Error')\n",
    "plt.show()"
   ]
  },
  {
   "cell_type": "code",
   "execution_count": 11,
   "metadata": {},
   "outputs": [
    {
     "name": "stdout",
     "output_type": "stream",
     "text": [
      "[3 4 3 ... 2 0 3]\n"
     ]
    }
   ],
   "source": [
    "clusterNum = 5\n",
    "k_means = KMeans(init = \"k-means++\", n_clusters = clusterNum, n_init = 12)\n",
    "k_means.fit(X)\n",
    "labels = k_means.labels_\n",
    "print(labels)"
   ]
  },
  {
   "cell_type": "code",
   "execution_count": 12,
   "metadata": {},
   "outputs": [
    {
     "name": "stdout",
     "output_type": "stream",
     "text": [
      "Your submission was successfully saved!\n"
     ]
    }
   ],
   "source": [
    "output = pd.DataFrame({'Id': data.id, 'Predicted': labels})\n",
    "output.to_csv('submissions/clustering/submissionKNNsplitted.csv', index=False)   \n",
    "print(\"Your submission was successfully saved!\")"
   ]
  },
  {
   "cell_type": "code",
   "execution_count": 13,
   "metadata": {},
   "outputs": [
    {
     "data": {
      "image/png": "[encoded data removed]",
      "text/plain": [
       "<Figure size 640x480 with 1 Axes>"
      ]
     },
     "metadata": {},
     "output_type": "display_data"
    }
   ],
   "source": [
    "X_cat = data_cat.values\n",
    "\n",
    "Error =[]\n",
    "for i in range(1, 10):\n",
    "    kmeans = KMeans(init = \"k-means++\", n_clusters = i, n_init = 12)\n",
    "    kmeans.fit(X_cat)\n",
    "    Error.append(kmeans.inertia_)\n",
    "\n",
    "plt.plot(range(1, 10), Error)\n",
    "plt.title('Elbow method')\n",
    "plt.xlabel('No of clusters')\n",
    "plt.ylabel('Error')\n",
    "plt.show()"
   ]
  },
  {
   "cell_type": "code",
   "execution_count": 16,
   "metadata": {},
   "outputs": [
    {
     "name": "stdout",
     "output_type": "stream",
     "text": [
      "[3 3 3 ... 2 2 2]\n"
     ]
    }
   ],
   "source": [
    "clusterNum = 5\n",
    "k_means = KMeans(init = \"k-means++\", n_clusters = clusterNum, n_init = 12)\n",
    "k_means.fit(X_cat)\n",
    "labels = k_means.labels_\n",
    "print(labels)"
   ]
  },
  {
   "cell_type": "code",
   "execution_count": 17,
   "metadata": {},
   "outputs": [
    {
     "name": "stdout",
     "output_type": "stream",
     "text": [
      "Your submission was successfully saved!\n"
     ]
    }
   ],
   "source": [
    "output = pd.DataFrame({'Id': data.id, 'Predicted': labels})\n",
    "output.to_csv('submissions/clustering/submissionKNNCatOnly.csv', index=False)   \n",
    "print(\"Your submission was successfully saved!\")"
   ]
  },
  {
   "cell_type": "code",
   "execution_count": null,
   "metadata": {},
   "outputs": [],
   "source": []
  }
 ],
 "metadata": {
  "kernelspec": {
   "display_name": "base",
   "language": "python",
   "name": "python3"
  },
  "language_info": {
   "codemirror_mode": {
    "name": "ipython",
    "version": 3
   },
   "file_extension": ".py",
   "mimetype": "text/x-python",
   "name": "python",
   "nbconvert_exporter": "python",
   "pygments_lexer": "ipython3",
   "version": "3.11.4"
  },
  "orig_nbformat": 4
 },
 "nbformat": 4,
 "nbformat_minor": 2
}
