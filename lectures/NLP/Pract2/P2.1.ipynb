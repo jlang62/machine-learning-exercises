{
 "cells": [
  {
   "cell_type": "code",
   "execution_count": null,
   "metadata": {
    "collapsed": true,
    "pycharm": {
     "name": "#%%\n"
    }
   },
   "outputs": [],
   "source": [
    "# https://numpy.org/doc/stable/reference/generated/numpy.genfromtxt.html#numpy.genfromtxt    "
   ]
  },
  {
   "cell_type": "code",
   "execution_count": 60,
   "metadata": {
    "collapsed": false,
    "pycharm": {
     "name": "#%%\n"
    }
   },
   "outputs": [],
   "source": [
    "import numpy as np\n",
    "#The csv imported has been uploaded along\n",
    "#with this notebook\n",
    "start_array = np.genfromtxt('sort_of_random_data.csv',\n",
    "                            dtype='float',\n",
    "                            delimiter=';',\n",
    "                            filling_values=0)\n",
    "\n",
    "\n"
   ]
  },
  {
   "cell_type": "code",
   "execution_count": null,
   "metadata": {
    "collapsed": false,
    "pycharm": {
     "name": "#%%\n"
    }
   },
   "outputs": [],
   "source": [
    "print(start_array[:5])"
   ]
  },
  {
   "cell_type": "code",
   "execution_count": null,
   "metadata": {
    "collapsed": false,
    "pycharm": {
     "name": "#%%\n"
    }
   },
   "outputs": [],
   "source": [
    "print(start_array.shape[1])"
   ]
  },
  {
   "cell_type": "code",
   "execution_count": null,
   "metadata": {
    "collapsed": false,
    "pycharm": {
     "name": "#%%\n"
    }
   },
   "outputs": [],
   "source": [
    "# information on the shape\n",
    "num_rows = start_array.shape[0]\n",
    "print('there are {} rows in the data'.format(num_rows))\n",
    "\n",
    "num_cols = start_array.shape[1]\n",
    "print('there are {} columns in the data'.format(num_cols))"
   ]
  },
  {
   "cell_type": "code",
   "execution_count": null,
   "metadata": {
    "collapsed": false,
    "pycharm": {
     "name": "#%%\n"
    }
   },
   "outputs": [],
   "source": [
    "# a simple case to show argsort\n",
    "arr0=np.array([0,0,0])\n",
    "arr1=np.array([3,3,3])\n",
    "arr2=np.array([2,2,2])\n",
    "arr = np.array([arr0,arr1,arr2])\n",
    "\n",
    "print(arr0, arr1, arr2)\n",
    "print(arr)"
   ]
  },
  {
   "cell_type": "code",
   "execution_count": null,
   "metadata": {
    "collapsed": false,
    "pycharm": {
     "name": "#%%\n"
    }
   },
   "outputs": [],
   "source": [
    "\n",
    "s1 = np.argsort(arr)\n",
    "print(s1)"
   ]
  },
  {
   "cell_type": "code",
   "execution_count": null,
   "metadata": {
    "collapsed": false,
    "pycharm": {
     "name": "#%%\n"
    }
   },
   "outputs": [],
   "source": [
    "\n",
    "s2= np.argsort(arr,axis=0)\n",
    "print(s2)"
   ]
  },
  {
   "cell_type": "code",
   "execution_count": null,
   "metadata": {
    "collapsed": false,
    "pycharm": {
     "name": "#%%\n"
    }
   },
   "outputs": [],
   "source": [
    "def top5(ar):\n",
    "    \"\"\"input: an array in shape of (1,)\n",
    "    output: iterable with indices of top five elements, highest value first\"\"\"\n",
    "    ar_sorted_asc = np.argsort(ar) #by default argsort gives ascending sorting\n",
    "    #ar_sorted_desc = np.argsort(ar)[::-1] #to obtain descending sorting, we reverse the order with [::-1] on the end . alternatively np.flip/np.fliplr\n",
    "\n",
    "    return ar_sorted_asc[:5]\n"
   ]
  },
  {
   "cell_type": "code",
   "execution_count": null,
   "metadata": {
    "collapsed": false,
    "pycharm": {
     "name": "#%%\n"
    }
   },
   "outputs": [],
   "source": [
    "for element in top5(start_array[:,0]):\n",
    "    print(start_array[element,:])"
   ]
  },
  {
   "cell_type": "code",
   "execution_count": null,
   "metadata": {
    "collapsed": false,
    "pycharm": {
     "name": "#%%\n"
    }
   },
   "outputs": [],
   "source": [
    "def top5New(ar):\n",
    "    \"\"\"input: an array in shape of (1,)\n",
    "    output: iterable with indices of top five elements, highest value first\"\"\"\n",
    "    ar_sorted_asc = np.argsort(ar,axis=0) #by default argsort gives ascending sorting\n",
    "    #ar_sorted_desc = np.argsort(ar)[::-1] #to obtain descending sorting, we reverse the order with [::-1] on the end . alternatively np.flip/np.fliplr\n",
    "\n",
    "    return ar_sorted_asc[5:]"
   ]
  },
  {
   "cell_type": "code",
   "execution_count": null,
   "metadata": {},
   "outputs": [],
   "source": [
    "for element in top5New(start_array[:,0]):\n",
    "    print(start_array[element,:])"
   ]
  },
  {
   "cell_type": "code",
   "execution_count": null,
   "metadata": {},
   "outputs": [],
   "source": [
    "def typeCheck(x):\n",
    "    if type(x) == list: \n",
    "        arr = []\n",
    "        for item in x:\n",
    "            arr.append(type(item))\n",
    "        return arr\n",
    "    else: \n",
    "        return type(x)"
   ]
  },
  {
   "cell_type": "code",
   "execution_count": 59,
   "metadata": {},
   "outputs": [
    {
     "name": "stdout",
     "output_type": "stream",
     "text": [
      "<class 'str'>\n",
      "[<class 'str'>, <class 'float'>, <class 'int'>, <class 'bool'>, <class 'list'>, <class 'dict'>]\n"
     ]
    }
   ],
   "source": [
    "test1 = 'Hello World'\n",
    "test2 = ['a',1.0,1,False,[],{}]\n",
    "\n",
    "print(typeCheck(test1))\n",
    "print(typeCheck(test2))"
   ]
  },
  {
   "cell_type": "code",
   "execution_count": 61,
   "metadata": {},
   "outputs": [],
   "source": [
    "testElements = ['apple', 'banana', 'apple', 5, 2, 2, 'orange', 'banana', 'apple']\n"
   ]
  },
  {
   "cell_type": "code",
   "execution_count": 84,
   "metadata": {},
   "outputs": [],
   "source": [
    "def countOcc(x):\n",
    "    if type(x) == list:\n",
    "        dictObject = {}\n",
    "        for item in x:\n",
    "            if item in dictObject:\n",
    "                dictObject[item] += 1\n",
    "            else:\n",
    "                dictObject[item] = 1\n",
    "        return dictObject\n",
    "    else:\n",
    "        return x.count(x)\n",
    "    "
   ]
  },
  {
   "cell_type": "code",
   "execution_count": 85,
   "metadata": {},
   "outputs": [
    {
     "name": "stdout",
     "output_type": "stream",
     "text": [
      "{'apple': 3, 'banana': 2, 5: 1, 2: 2, 'orange': 1}\n"
     ]
    }
   ],
   "source": [
    "print(countOcc(testElements))"
   ]
  },
  {
   "cell_type": "code",
   "execution_count": 86,
   "metadata": {},
   "outputs": [],
   "source": [
    "test_string = [123, 'text', True, 'word', 98.6, 'string']"
   ]
  },
  {
   "cell_type": "code",
   "execution_count": 88,
   "metadata": {},
   "outputs": [
    {
     "name": "stdout",
     "output_type": "stream",
     "text": [
      "['text', 'word', 'string']\n"
     ]
    }
   ],
   "source": [
    "def stringFilter(x):\n",
    "    if type(x) == list:\n",
    "        arr = []\n",
    "        for item in x:\n",
    "            if type(item) == str:\n",
    "                arr.append(item)\n",
    "        return arr\n",
    "    else:\n",
    "        return x\n",
    "    \n",
    "\n",
    "print(stringFilter(test_string))"
   ]
  },
  {
   "cell_type": "code",
   "execution_count": null,
   "metadata": {},
   "outputs": [],
   "source": []
  }
 ],
 "metadata": {
  "kernelspec": {
   "display_name": "Python 3",
   "language": "python",
   "name": "python3"
  },
  "language_info": {
   "codemirror_mode": {
    "name": "ipython",
    "version": 3
   },
   "file_extension": ".py",
   "mimetype": "text/x-python",
   "name": "python",
   "nbconvert_exporter": "python",
   "pygments_lexer": "ipython3",
   "version": "3.11.4"
  }
 },
 "nbformat": 4,
 "nbformat_minor": 0
}
