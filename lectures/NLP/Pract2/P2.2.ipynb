{
 "cells": [
  {
   "cell_type": "markdown",
   "metadata": {
    "collapsed": false,
    "pycharm": {
     "name": "#%% md\n"
    }
   },
   "source": [
    "# KUC, PGR210, P7 - Practice for Lec 7\n",
    "chatterbot\n",
    "https://github.com/gunthercox/ChatterBot\n",
    "\n"
   ]
  },
  {
   "cell_type": "code",
   "execution_count": null,
   "metadata": {
    "collapsed": false,
    "pycharm": {
     "name": "#%%\n"
    }
   },
   "outputs": [],
   "source": []
  },
  {
   "cell_type": "markdown",
   "metadata": {
    "collapsed": false,
    "pycharm": {
     "name": "#%% md\n"
    }
   },
   "source": [
    "# Introduction to a chatbot\n",
    "A chatbot requires four kinds of processing as well as a database to maintain a memory of past statements and responses. Each of the four processing stages can contain one or more processing algorithms working in parallel or in series:"
   ]
  },
  {
   "cell_type": "markdown",
   "metadata": {
    "collapsed": false,
    "pycharm": {
     "name": "#%% md\n"
    }
   },
   "source": [
    "## 1. Parse—Extract features, structured numerical data, from natural language text.\n",
    "## 2. Analyze—Generate and combine features by scoring text for sentiment, grammaticality, and semantics.\n",
    "## 3. Generate—Compose possible responses using templates, search, or language models.\n",
    "## 4. Execute—Plan statements based on conversation history and objectives, and select the next response."
   ]
  },
  {
   "cell_type": "markdown",
   "metadata": {
    "collapsed": false,
    "pycharm": {
     "name": "#%% md\n"
    }
   },
   "source": [
    "# 2. Steps\n",
    "## 2.1 command in terminal: pip install chatterbot\n",
    "\n",
    "There might be some version issues in your system.\n",
    "After testing, I would suggest you to use : python 3.8, and after the command 'pip install chatterbot', if you see the error:\n",
    "No module named 'chatterbot_corpus'\n",
    "then try:\n",
    "pip3 install chatterbot-corpus"
   ]
  },
  {
   "cell_type": "markdown",
   "metadata": {
    "collapsed": false,
    "pycharm": {
     "name": "#%% md\n"
    }
   },
   "source": [
    "## 2.2 A basic usage\n"
   ]
  },
  {
   "cell_type": "code",
   "execution_count": 1,
   "metadata": {
    "collapsed": false,
    "pycharm": {
     "name": "#%%from chatterbot import ChatBot\n"
    }
   },
   "outputs": [],
   "source": [
    "import chatterbot\n"
   ]
  },
  {
   "cell_type": "code",
   "execution_count": 2,
   "metadata": {
    "collapsed": false,
    "pycharm": {
     "name": "#%%\n"
    }
   },
   "outputs": [],
   "source": [
    "from chatterbot.trainers import ChatterBotCorpusTrainer\n",
    "from chatterbot import ChatBot"
   ]
  },
  {
   "cell_type": "code",
   "execution_count": 12,
   "metadata": {
    "collapsed": false,
    "pycharm": {
     "name": "#%%\n"
    }
   },
   "outputs": [
    {
     "name": "stdout",
     "output_type": "stream",
     "text": [
      "Training ai.yml: [############        ] 58%"
     ]
    },
    {
     "name": "stderr",
     "output_type": "stream",
     "text": [
      "[nltk_data] Downloading package averaged_perceptron_tagger to\n",
      "[nltk_data]     /Users/hure002/nltk_data...\n",
      "[nltk_data]   Package averaged_perceptron_tagger is already up-to-\n",
      "[nltk_data]       date!\n",
      "[nltk_data] Downloading package stopwords to\n",
      "[nltk_data]     /Users/hure002/nltk_data...\n",
      "[nltk_data]   Package stopwords is already up-to-date!\n"
     ]
    },
    {
     "name": "stdout",
     "output_type": "stream",
     "text": [
      "Training ai.yml: [####################] 100%\r\n",
      "Training botprofile.yml: [####################] 100%\r\n",
      "Training computers.yml: [####################] 100%\r\n",
      "Training conversations.yml: [####################] 100%\r\n",
      "Training emotion.yml: [####################] 100%\r\n",
      "Training food.yml: [####################] 100%\r\n",
      "Training gossip.yml: [####################] 100%\r\n",
      "Training greetings.yml: [####################] 100%\r\n",
      "Training health.yml: [####################] 100%\r\n",
      "Training history.yml: [####################] 100%\r\n",
      "Training humor.yml: [####################] 100%\r\n",
      "Training literature.yml: [####################] 100%\r\n",
      "Training money.yml: [####################] 100%\r\n",
      "Training movies.yml: [####################] 100%\r\n",
      "Training politics.yml: [####################] 100%\r\n",
      "Training psychology.yml: [####################] 100%\r\n",
      "Training science.yml: [####################] 100%\r\n",
      "Training sports.yml: [####################] 100%\r\n",
      "Training trivia.yml: [####################] 100%\r\n"
     ]
    },
    {
     "data": {
      "text/plain": [
       "<Statement text:Can you move>"
      ]
     },
     "execution_count": 12,
     "metadata": {},
     "output_type": "execute_result"
    }
   ],
   "source": [
    "\n",
    "chatbot = ChatBot('Ron Obvious')\n",
    "\n",
    "# Create a new trainer for the chatbot\n",
    "trainer = ChatterBotCorpusTrainer(chatbot)\n",
    "\n",
    "# Train the chatbot based on the english corpus\n",
    "trainer.train(\"chatterbot.corpus.english\")\n",
    "\n",
    "# Get a response to an input statement\n",
    "chatbot.get_response(\"Hello, how are you today?\")"
   ]
  },
  {
   "cell_type": "code",
   "execution_count": 13,
   "metadata": {
    "collapsed": false,
    "pycharm": {
     "name": "#%%\n"
    }
   },
   "outputs": [
    {
     "data": {
      "text/plain": [
       "<Statement text:i have no need for money.>"
      ]
     },
     "execution_count": 13,
     "metadata": {},
     "output_type": "execute_result"
    }
   ],
   "source": [
    "chatbot.get_response(\"Hello, how does the weather look like today?\")"
   ]
  },
  {
   "cell_type": "code",
   "execution_count": 14,
   "metadata": {
    "collapsed": false,
    "pycharm": {
     "name": "#%%\n"
    }
   },
   "outputs": [
    {
     "data": {
      "text/plain": [
       "<Statement text:Hi>"
      ]
     },
     "execution_count": 14,
     "metadata": {},
     "output_type": "execute_result"
    }
   ],
   "source": [
    "chatbot.get_response(\"Hello\")"
   ]
  },
  {
   "cell_type": "code",
   "execution_count": 15,
   "metadata": {
    "collapsed": false,
    "pycharm": {
     "name": "#%%\n"
    }
   },
   "outputs": [
    {
     "data": {
      "text/plain": [
       "<Statement text:I'm a software construct, I'm not really capable of feeling sad.>"
      ]
     },
     "execution_count": 15,
     "metadata": {},
     "output_type": "execute_result"
    }
   ],
   "source": [
    "chatbot.get_response(\"Your name?\")"
   ]
  },
  {
   "cell_type": "markdown",
   "metadata": {
    "collapsed": false,
    "pycharm": {
     "name": "#%% md\n"
    }
   },
   "source": [
    "# 2.3 new training"
   ]
  },
  {
   "cell_type": "code",
   "execution_count": 16,
   "metadata": {
    "collapsed": false,
    "pycharm": {
     "name": "#%%from chatterbot.trainers import ChatterBotCorpusTrainer\n"
    }
   },
   "outputs": [
    {
     "name": "stdout",
     "output_type": "stream",
     "text": [
      "Training ai.yml: [####################] 100%\r\n",
      "Training botprofile.yml: [####################] 100%\r\n",
      "Training computers.yml: [####################] 100%\r\n",
      "Training conversations.yml: [####################] 100%\r\n",
      "Training emotion.yml: [####################] 100%\r\n",
      "Training food.yml: [####################] 100%\r\n",
      "Training gossip.yml: [####################] 100%\r\n",
      "Training greetings.yml: [####################] 100%\r\n",
      "Training health.yml: [####################] 100%\r\n",
      "Training history.yml: [####################] 100%\r\n",
      "Training humor.yml: [####################] 100%\r\n",
      "Training literature.yml: [####################] 100%\r\n",
      "Training money.yml: [####################] 100%\r\n",
      "Training movies.yml: [####################] 100%\r\n",
      "Training politics.yml: [####################] 100%\r\n",
      "Training psychology.yml: [####################] 100%\r\n",
      "Training science.yml: [####################] 100%\r\n",
      "Training sports.yml: [####################] 100%\r\n",
      "Training trivia.yml: [####################] 100%\r\n",
      "Training greetings.yml: [####################] 100%\r\n",
      "Training conversations.yml: [####################] 100%\r\n"
     ]
    }
   ],
   "source": [
    "\n",
    "# Create a new trainer for the chatbot\n",
    "trainer = ChatterBotCorpusTrainer(chatbot)\n",
    "\n",
    "# Train based on the english corpus\n",
    "trainer.train(\"chatterbot.corpus.english\")\n",
    "\n",
    "# Train based on english greetings corpus\n",
    "trainer.train(\"chatterbot.corpus.english.greetings\")\n",
    "\n",
    "# Train based on the english conversations corpus\n",
    "trainer.train(\"chatterbot.corpus.english.conversations\")"
   ]
  },
  {
   "cell_type": "code",
   "execution_count": 17,
   "metadata": {
    "collapsed": false,
    "pycharm": {
     "name": "#%%\n"
    }
   },
   "outputs": [
    {
     "data": {
      "text/plain": [
       "<Statement text:I am not yet capable of feeling sadness.>"
      ]
     },
     "execution_count": 17,
     "metadata": {},
     "output_type": "execute_result"
    }
   ],
   "source": [
    "chatbot.get_response(\"Hello, how are you today?\")"
   ]
  },
  {
   "cell_type": "code",
   "execution_count": 18,
   "metadata": {
    "collapsed": false,
    "pycharm": {
     "name": "#%%\n"
    }
   },
   "outputs": [
    {
     "data": {
      "text/plain": [
       "<Statement text:I have a lot of friends to chat with online.>"
      ]
     },
     "execution_count": 18,
     "metadata": {},
     "output_type": "execute_result"
    }
   ],
   "source": [
    "chatbot.get_response(\"Hello, everything is good today?\")"
   ]
  },
  {
   "cell_type": "code",
   "execution_count": 19,
   "metadata": {
    "collapsed": false,
    "pycharm": {
     "name": "#%%\n"
    }
   },
   "outputs": [
    {
     "data": {
      "text/plain": [
       "<Statement text:Tell me a joke>"
      ]
     },
     "execution_count": 19,
     "metadata": {},
     "output_type": "execute_result"
    }
   ],
   "source": [
    "chatbot.get_response(\"When did you go to work today?\")"
   ]
  },
  {
   "cell_type": "code",
   "execution_count": 21,
   "metadata": {
    "collapsed": false,
    "pycharm": {
     "name": "#%%\n"
    }
   },
   "outputs": [
    {
     "data": {
      "text/plain": [
       "<Statement text:Hello>"
      ]
     },
     "execution_count": 21,
     "metadata": {},
     "output_type": "execute_result"
    }
   ],
   "source": [
    "chatbot.get_response(\"Have you ever taken a computer science bachelor degree before?\")"
   ]
  },
  {
   "cell_type": "code",
   "execution_count": null,
   "metadata": {
    "collapsed": false,
    "pycharm": {
     "name": "#%%\n"
    }
   },
   "outputs": [],
   "source": []
  }
 ],
 "metadata": {
  "kernelspec": {
   "display_name": "Python 3",
   "language": "python",
   "name": "python3"
  },
  "language_info": {
   "codemirror_mode": {
    "name": "ipython",
    "version": 3
   },
   "file_extension": ".py",
   "mimetype": "text/x-python",
   "name": "python",
   "nbconvert_exporter": "python",
   "pygments_lexer": "ipython3",
   "version": "3.11.4"
  }
 },
 "nbformat": 4,
 "nbformat_minor": 0
}
