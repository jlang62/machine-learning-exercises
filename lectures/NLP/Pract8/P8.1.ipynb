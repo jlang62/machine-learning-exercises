{
 "cells": [
  {
   "cell_type": "code",
   "execution_count": null,
   "metadata": {
    "collapsed": true,
    "pycharm": {
     "name": "#%%\n"
    }
   },
   "outputs": [],
   "source": [
    "## KUC\n",
    "# NLP\n",
    "# task: self-define a way of vectorize a list of strings, perform hamming distance to calculate similarity, and then finally find the most similar vectors."
   ]
  },
  {
   "cell_type": "code",
   "execution_count": 12,
   "metadata": {
    "pycharm": {
     "name": "#%% 1. create vectors\n"
    }
   },
   "outputs": [],
   "source": [
    "# 1. compute similarity\n",
    "# 2. find most similar vectors.\n",
    "\n",
    "import numpy as np"
   ]
  },
  {
   "cell_type": "code",
   "execution_count": 13,
   "metadata": {
    "pycharm": {
     "name": "#%%\n"
    }
   },
   "outputs": [],
   "source": [
    "def vectorize_terms(terms):\n",
    "    terms = [term.lower() for term in terms]\n",
    "    terms = [np.array(list(term)) for term in terms]\n",
    "    terms = [np.array([ord(char) for char in term])\n",
    "                for term in terms]\n",
    "    return terms"
   ]
  },
  {
   "cell_type": "code",
   "execution_count": 14,
   "metadata": {
    "pycharm": {
     "name": "#%%\n"
    }
   },
   "outputs": [
    {
     "data": {
      "text/plain": [
       "['NLP ',\n",
       " 'natural language processing',\n",
       " 'nature and science',\n",
       " 'image processing']"
      ]
     },
     "execution_count": 14,
     "metadata": {},
     "output_type": "execute_result"
    }
   ],
   "source": [
    "root = 'NLP '\n",
    "term1 = 'natural language processing'\n",
    "term2 = 'nature and science'\n",
    "term3 = 'image processing'\n",
    "\n",
    "terms = [root, term1, term2, term3]\n",
    "terms\n"
   ]
  },
  {
   "cell_type": "code",
   "execution_count": 15,
   "metadata": {
    "pycharm": {
     "name": "#%%\n"
    }
   },
   "outputs": [
    {
     "name": "stdout",
     "output_type": "stream",
     "text": [
      "[array([110, 108, 112,  32]), array([110,  97, 116, 117, 114,  97, 108,  32, 108,  97, 110, 103, 117,\n",
      "        97, 103, 101,  32, 112, 114, 111,  99, 101, 115, 115, 105, 110,\n",
      "       103]), array([110,  97, 116, 117, 114, 101,  32,  97, 110, 100,  32, 115,  99,\n",
      "       105, 101, 110,  99, 101]), array([105, 109,  97, 103, 101,  32, 112, 114, 111,  99, 101, 115, 115,\n",
      "       105, 110, 103])]\n"
     ]
    }
   ],
   "source": [
    "# Character vectorization\n",
    "term_vectors = vectorize_terms(terms)\n",
    "print(term_vectors)"
   ]
  },
  {
   "cell_type": "code",
   "execution_count": 16,
   "metadata": {
    "pycharm": {
     "name": "#%%\n"
    }
   },
   "outputs": [
    {
     "name": "stdout",
     "output_type": "stream",
     "text": [
      "NLP \n",
      "[array([110]), array([108]), array([112]), array([32])]\n"
     ]
    }
   ],
   "source": [
    "print(root)\n",
    "print(vectorize_terms(root))\n"
   ]
  },
  {
   "cell_type": "code",
   "execution_count": 30,
   "metadata": {
    "pycharm": {
     "name": "#%%\n"
    }
   },
   "outputs": [
    {
     "name": "stdout",
     "output_type": "stream",
     "text": [
      "['NLP ', 'natural language processing', 'nature and science', 'image processing']\n",
      "[array([110, 108, 112,  32]), array([110,  97, 116, 117, 114,  97, 108,  32, 108,  97, 110, 103, 117,\n",
      "        97, 103, 101,  32, 112, 114, 111,  99, 101, 115, 115, 105, 110,\n",
      "       103]), array([110,  97, 116, 117, 114, 101,  32,  97, 110, 100,  32, 115,  99,\n",
      "       105, 101, 110,  99, 101]), array([105, 109,  97, 103, 101,  32, 112, 114, 111,  99, 101, 115, 115,\n",
      "       105, 110, 103])]\n",
      "                              0    1    2    3      4      5      6      7   \\\n",
      "NLP                          110  108  112   32    NaN    NaN    NaN    NaN   \n",
      "natural language processing  110   97  116  117  114.0   97.0  108.0   32.0   \n",
      "nature and science           110   97  116  117  114.0  101.0   32.0   97.0   \n",
      "image processing             105  109   97  103  101.0   32.0  112.0  114.0   \n",
      "\n",
      "                                8      9   ...     17     18     19    20  \\\n",
      "NLP                            NaN    NaN  ...    NaN    NaN    NaN   NaN   \n",
      "natural language processing  108.0   97.0  ...  112.0  114.0  111.0  99.0   \n",
      "nature and science           110.0  100.0  ...  101.0    NaN    NaN   NaN   \n",
      "image processing             111.0   99.0  ...    NaN    NaN    NaN   NaN   \n",
      "\n",
      "                                21     22     23     24     25     26  \n",
      "NLP                            NaN    NaN    NaN    NaN    NaN    NaN  \n",
      "natural language processing  101.0  115.0  115.0  105.0  110.0  103.0  \n",
      "nature and science             NaN    NaN    NaN    NaN    NaN    NaN  \n",
      "image processing               NaN    NaN    NaN    NaN    NaN    NaN  \n",
      "\n",
      "[4 rows x 27 columns]\n"
     ]
    }
   ],
   "source": [
    "import pandas as pd\n",
    "# show vector representations\n",
    "print(terms)\n",
    "print(term_vectors)\n",
    "vec_df = pd.DataFrame(term_vectors, index=terms)\n",
    "print(vec_df)"
   ]
  },
  {
   "cell_type": "code",
   "execution_count": 25,
   "metadata": {
    "pycharm": {
     "name": "#%%\n"
    }
   },
   "outputs": [],
   "source": [
    "root_term = root\n",
    "other_terms = [term1, term2, term3]\n",
    "\n",
    "root_term_vec = vec_df[vec_df.index == root_term].dropna(axis=1).values[0]\n",
    "other_term_vecs = [vec_df[vec_df.index == term].dropna(axis=1).values[0]\n",
    "                      for term in other_terms]"
   ]
  },
  {
   "cell_type": "code",
   "execution_count": 31,
   "metadata": {
    "pycharm": {
     "name": "#%%\n"
    }
   },
   "outputs": [],
   "source": [
    "def hamming_distance(u, v, norm=False):\n",
    "    if u.shape != v.shape:\n",
    "        raise ValueError('The vectors must have equal lengths.')\n",
    "    return (u != v).sum() if not norm else (u != v).mean()"
   ]
  },
  {
   "cell_type": "code",
   "execution_count": 35,
   "metadata": {
    "pycharm": {
     "name": "#%%\n"
    }
   },
   "outputs": [
    {
     "name": "stdout",
     "output_type": "stream",
     "text": [
      "0     110.0\n",
      "1     108.0\n",
      "2     112.0\n",
      "3      32.0\n",
      "4       NaN\n",
      "5       NaN\n",
      "6       NaN\n",
      "7       NaN\n",
      "8       NaN\n",
      "9       NaN\n",
      "10      NaN\n",
      "11      NaN\n",
      "12      NaN\n",
      "13      NaN\n",
      "14      NaN\n",
      "15      NaN\n",
      "16      NaN\n",
      "17      NaN\n",
      "18      NaN\n",
      "19      NaN\n",
      "20      NaN\n",
      "21      NaN\n",
      "22      NaN\n",
      "23      NaN\n",
      "24      NaN\n",
      "25      NaN\n",
      "26      NaN\n",
      "Name: NLP , dtype: float64\n"
     ]
    }
   ],
   "source": [
    "print(vec_df.iloc[0])"
   ]
  },
  {
   "cell_type": "code",
   "execution_count": 36,
   "metadata": {
    "pycharm": {
     "name": "#%%\n"
    }
   },
   "outputs": [
    {
     "name": "stdout",
     "output_type": "stream",
     "text": [
      "26\n"
     ]
    }
   ],
   "source": [
    "i0 = vec_df.iloc[0]\n",
    "i1 = vec_df.iloc[1]\n",
    "d = hamming_distance(i0,i1)\n",
    "print(d)\n"
   ]
  },
  {
   "cell_type": "code",
   "execution_count": null,
   "outputs": [],
   "source": [],
   "metadata": {
    "collapsed": false,
    "pycharm": {
     "name": "#%%\n"
    }
   }
  }
 ],
 "metadata": {
  "kernelspec": {
   "display_name": "Python 3",
   "language": "python",
   "name": "python3"
  },
  "language_info": {
   "codemirror_mode": {
    "name": "ipython",
    "version": 3
   },
   "file_extension": ".py",
   "mimetype": "text/x-python",
   "name": "python",
   "nbconvert_exporter": "python",
   "pygments_lexer": "ipython3",
   "version": "3.8.5"
  }
 },
 "nbformat": 4,
 "nbformat_minor": 1
}