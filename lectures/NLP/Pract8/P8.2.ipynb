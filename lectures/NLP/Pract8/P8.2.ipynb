{
 "cells": [
  {
   "cell_type": "code",
   "execution_count": null,
   "metadata": {
    "collapsed": true,
    "pycharm": {
     "name": "#%%\n"
    }
   },
   "outputs": [],
   "source": [
    "## KUC\n",
    "# similar functions as in P8.1, but using scikit-learn to compute distance metrics"
   ]
  },
  {
   "cell_type": "code",
   "execution_count": null,
   "metadata": {
    "pycharm": {
     "name": "#%% 1. create vectors\n"
    }
   },
   "outputs": [],
   "source": [
    "# 1. compute similarity\n",
    "# 2. find most similar vectors.\n",
    "\n",
    "import numpy as np"
   ]
  },
  {
   "cell_type": "code",
   "execution_count": null,
   "metadata": {
    "pycharm": {
     "name": "#%%\n"
    }
   },
   "outputs": [],
   "source": [
    "def vectorize_terms(terms):\n",
    "    terms = [term.lower() for term in terms]\n",
    "    terms = [np.array(list(term)) for term in terms]\n",
    "    terms = [np.array([ord(char) for char in term])\n",
    "                for term in terms]\n",
    "    return terms"
   ]
  },
  {
   "cell_type": "code",
   "execution_count": null,
   "metadata": {
    "pycharm": {
     "name": "#%%\n"
    }
   },
   "outputs": [],
   "source": [
    "root = 'NLP '\n",
    "term1 = 'natural language processing'\n",
    "term2 = 'nature and science'\n",
    "term3 = 'image processing'\n",
    "\n",
    "terms = [root, term1, term2, term3]\n",
    "terms\n"
   ]
  },
  {
   "cell_type": "code",
   "execution_count": null,
   "metadata": {
    "pycharm": {
     "name": "#%%\n"
    }
   },
   "outputs": [],
   "source": [
    "# Character vectorization\n",
    "term_vectors = vectorize_terms(terms)\n",
    "print(term_vectors)"
   ]
  },
  {
   "cell_type": "code",
   "execution_count": null,
   "metadata": {
    "pycharm": {
     "name": "#%%\n"
    }
   },
   "outputs": [],
   "source": [
    "print(root)\n",
    "print(vectorize_terms(root))\n"
   ]
  },
  {
   "cell_type": "code",
   "execution_count": null,
   "metadata": {
    "pycharm": {
     "name": "#%%\n"
    }
   },
   "outputs": [],
   "source": [
    "import pandas as pd\n",
    "# show vector representations\n",
    "print(terms)\n",
    "print(term_vectors)\n",
    "vec_df = pd.DataFrame(term_vectors, index=terms)\n",
    "print(vec_df)"
   ]
  },
  {
   "cell_type": "code",
   "execution_count": null,
   "metadata": {
    "pycharm": {
     "name": "#%%\n"
    }
   },
   "outputs": [],
   "source": [
    "root_term = root\n",
    "other_terms = [term1, term2, term3]\n",
    "\n",
    "root_term_vec = vec_df[vec_df.index == root_term].dropna(axis=1).values[0]\n",
    "other_term_vecs = [vec_df[vec_df.index == term].dropna(axis=1).values[0]\n",
    "                      for term in other_terms]"
   ]
  },
  {
   "cell_type": "code",
   "execution_count": null,
   "metadata": {
    "pycharm": {
     "name": "#%%\n"
    }
   },
   "outputs": [],
   "source": [
    "def hamming_distance(u, v, norm=False):\n",
    "    if u.shape != v.shape:\n",
    "        raise ValueError('The vectors must have equal lengths.')\n",
    "    return (u != v).sum() if not norm else (u != v).mean()"
   ]
  },
  {
   "cell_type": "code",
   "execution_count": null,
   "metadata": {
    "pycharm": {
     "name": "#%%\n"
    }
   },
   "outputs": [],
   "source": [
    "print(vec_df.iloc[0])"
   ]
  },
  {
   "cell_type": "code",
   "execution_count": null,
   "metadata": {
    "pycharm": {
     "name": "#%%\n"
    }
   },
   "outputs": [],
   "source": [
    "i0 = vec_df.iloc[0]\n",
    "i1 = vec_df.iloc[1]\n",
    "d = hamming_distance(i0,i1)\n",
    "print(d)"
   ]
  },
  {
   "cell_type": "code",
   "execution_count": null,
   "metadata": {
    "collapsed": false,
    "pycharm": {
     "name": "#%%\n"
    }
   },
   "outputs": [],
   "source": [
    "# print(i0)\n",
    "# print(i1)\n",
    "import math\n",
    "import numpy as np\n",
    "i00 = [w for w in i0]\n",
    "print(i00)\n",
    "i0 = [0 if math.isnan(w) else w for w in i0 ]\n",
    "print(i0)\n",
    "\n",
    "\n",
    "i1 = [0 if math.isnan(w) else w for w in i1 ]\n",
    "print(i1)\n",
    "\n"
   ]
  }
 ],
 "metadata": {
  "kernelspec": {
   "display_name": "Python 3",
   "language": "python",
   "name": "python3"
  },
  "language_info": {
   "codemirror_mode": {
    "name": "ipython",
    "version": 3
   },
   "file_extension": ".py",
   "mimetype": "text/x-python",
   "name": "python",
   "nbconvert_exporter": "python",
   "pygments_lexer": "ipython3",
   "version": "3.8.5"
  }
 },
 "nbformat": 4,
 "nbformat_minor": 1
}
