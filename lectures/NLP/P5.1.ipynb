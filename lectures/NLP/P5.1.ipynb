{
 "cells": [
  {
   "cell_type": "code",
   "execution_count": null,
   "outputs": [],
   "source": [
    "# NLP\n",
    "# ref: textbook"
   ],
   "metadata": {
    "collapsed": false,
    "pycharm": {
     "name": "#%%\n"
    }
   }
  },
  {
   "cell_type": "markdown",
   "source": [
    "# Putting it all together - Basic Text Processing and Analysis"
   ],
   "metadata": {
    "collapsed": false,
    "pycharm": {
     "name": "#%% md\n"
    }
   }
  },
  {
   "cell_type": "markdown",
   "source": [
    "# 1. initialize a string, and analysis\n",
    "## 1.1 initialize\n"
   ],
   "metadata": {
    "collapsed": false,
    "pycharm": {
     "name": "#%% md\n"
    }
   }
  },
  {
   "cell_type": "code",
   "execution_count": 1,
   "outputs": [
    {
     "data": {
      "text/plain": "850"
     },
     "execution_count": 1,
     "metadata": {},
     "output_type": "execute_result"
    }
   ],
   "source": [
    "import numpy as np\n",
    "\n",
    "ex_book =\"A few words about Dostoevsky himself may help the English reader to understand his work. Dostoevsky was the son of a doctor. His parents were very hard-working and deeply religious people, \" \\\n",
    "          \"but so poor that they lived with their five children in only two rooms. The father and mother spent their evenings in reading aloud to their children, generally from books of a serious character.\" \\\n",
    "        \"Though always sickly and delicate Dostoevsky came out third in the\" \\\n",
    "        \"final examination of the Petersburg school of Engineering. There he had\" \\\n",
    "        \"already begun his first work, “Poor Folk.”\" \\\n",
    "        \"This story was published by the poet Nekrassov in his review and\" \\\n",
    "        \"was received with acclamations. The shy, unknown youth found himself \" \\\n",
    "        \"instantly something of a celebrity. A brilliant and successful career\" \\\n",
    "        \"seemed to open before him, but those hopes were soon dashed. In 1849 he\" \\\n",
    "        \"was arrested..\"\n",
    "\n",
    "\n",
    "\n",
    "len(ex_book)"
   ],
   "metadata": {
    "collapsed": false,
    "pycharm": {
     "name": "#%%\n"
    }
   }
  },
  {
   "cell_type": "code",
   "execution_count": 1,
   "outputs": [],
   "source": [],
   "metadata": {
    "collapsed": false,
    "pycharm": {
     "name": "#%%\n"
    }
   }
  },
  {
   "cell_type": "markdown",
   "source": [
    "## 1.2 split"
   ],
   "metadata": {
    "collapsed": false,
    "pycharm": {
     "name": "#%% md\n"
    }
   }
  },
  {
   "cell_type": "code",
   "execution_count": 2,
   "outputs": [
    {
     "name": "stdout",
     "output_type": "stream",
     "text": [
      "A few words about Dostoevsky himself may help the English reader to understand his work. Dostoevsky was the son of a doctor. His parents were very hard-working and deeply religious people, but so poor that they lived with their five children in only two rooms. The father and mother spent their evenings in reading aloud to their children, generally from books of a serious character.Though always sickly and delicate Dostoevsky came out third in thefinal examination of the Petersburg school of Engineering. There he hadalready begun his first work, “Poor Folk.”This story was published by the poet Nekrassov in his review andwas received with acclamations. The shy, unknown youth found himself instantly something of a celebrity. A brilliant and successful careerseemed to open before him, but those hopes were soon dashed. In 1849 hewas arrested..\n",
      "<class 'list'>\n",
      "135\n",
      "['A', 'few', 'words', 'about', 'Dostoevsky', 'himself', 'may', 'help', 'the', 'English']\n"
     ]
    }
   ],
   "source": [
    "print(ex_book)\n",
    "s_ex_book = ex_book.split()\n",
    "print(type(s_ex_book))\n",
    "print(len(s_ex_book))\n",
    "print(s_ex_book[:10])"
   ],
   "metadata": {
    "collapsed": false,
    "pycharm": {
     "name": "#%%\n"
    }
   }
  },
  {
   "cell_type": "markdown",
   "source": [
    "## 1.3 string operations"
   ],
   "metadata": {
    "collapsed": false,
    "pycharm": {
     "name": "#%% md\n"
    }
   }
  },
  {
   "cell_type": "code",
   "execution_count": 3,
   "outputs": [],
   "source": [
    "# (1) String concatenation"
   ],
   "metadata": {
    "collapsed": false,
    "pycharm": {
     "name": "#%%\n"
    }
   }
  },
  {
   "cell_type": "code",
   "execution_count": 4,
   "outputs": [
    {
     "name": "stdout",
     "output_type": "stream",
     "text": [
      "Hello and welcome to Python!\n"
     ]
    }
   ],
   "source": [
    "s1 = 'Hello' + ' and welcome ' + 'to Python!'\n",
    "print(s1)"
   ],
   "metadata": {
    "collapsed": false,
    "pycharm": {
     "name": "#%%\n"
    }
   }
  },
  {
   "cell_type": "code",
   "execution_count": 5,
   "outputs": [
    {
     "data": {
      "text/plain": "'Hello and welcome to Python!Hello and welcome to Python!Hello and welcome to Python!Hello and welcome to Python!Hello and welcome to Python!'"
     },
     "execution_count": 5,
     "metadata": {},
     "output_type": "execute_result"
    }
   ],
   "source": [
    "s1 * 5"
   ],
   "metadata": {
    "collapsed": false,
    "pycharm": {
     "name": "#%%\n"
    }
   }
  },
  {
   "cell_type": "code",
   "execution_count": 6,
   "outputs": [],
   "source": [
    "# concatenating several strings together in parentheses"
   ],
   "metadata": {
    "collapsed": false,
    "pycharm": {
     "name": "#%%\n"
    }
   }
  },
  {
   "cell_type": "code",
   "execution_count": 7,
   "outputs": [
    {
     "data": {
      "text/plain": "'This is another way to concatenate several strings!'"
     },
     "execution_count": 7,
     "metadata": {},
     "output_type": "execute_result"
    }
   ],
   "source": [
    "s3 = ('This '\n",
    "      'is another way '\n",
    "      'to concatenate '\n",
    "      'several strings!')\n",
    "s3"
   ],
   "metadata": {
    "collapsed": false,
    "pycharm": {
     "name": "#%%\n"
    }
   }
  },
  {
   "cell_type": "code",
   "execution_count": 8,
   "outputs": [
    {
     "data": {
      "text/plain": "['A',\n 'few',\n 'words',\n 'about',\n 'Dostoevsky',\n 'himself',\n 'may',\n 'help',\n 'the',\n 'English']"
     },
     "execution_count": 8,
     "metadata": {},
     "output_type": "execute_result"
    }
   ],
   "source": [
    "s_ex_book[:10]"
   ],
   "metadata": {
    "collapsed": false,
    "pycharm": {
     "name": "#%%\n"
    }
   }
  },
  {
   "cell_type": "code",
   "execution_count": 9,
   "outputs": [
    {
     "name": "stdout",
     "output_type": "stream",
     "text": [
      "True\n"
     ]
    }
   ],
   "source": [
    "# (2) checking for substrings in a string\n",
    "# 'way' in s3\n",
    "s3 = s3 + 'python python'\n",
    "print('python' in s3)"
   ],
   "metadata": {
    "collapsed": false,
    "pycharm": {
     "name": "#%%\n"
    }
   }
  },
  {
   "cell_type": "code",
   "execution_count": 10,
   "outputs": [
    {
     "name": "stdout",
     "output_type": "stream",
     "text": [
      "PYTHON\n",
      "<class 'str'>\n",
      "PY\n"
     ]
    }
   ],
   "source": [
    "# (3)String indexing and slicing\n",
    "s = 'PYTHON'\n",
    "print(s)\n",
    "print(type(s))\n",
    "print(s[:2])"
   ],
   "metadata": {
    "collapsed": false,
    "pycharm": {
     "name": "#%%\n"
    }
   }
  },
  {
   "cell_type": "code",
   "execution_count": 11,
   "outputs": [
    {
     "name": "stdout",
     "output_type": "stream",
     "text": [
      "The character is: P , the index is: 0\n",
      "The character is: Y , the index is: 1\n",
      "The character is: T , the index is: 2\n",
      "The character is: H , the index is: 3\n",
      "The character is: O , the index is: 4\n",
      "The character is: N , the index is: 5\n"
     ]
    }
   ],
   "source": [
    "# depicting string indexes\n",
    "for index, character in enumerate(s):\n",
    "    print('The character is:', character, ', the index is:', index)"
   ],
   "metadata": {
    "collapsed": false,
    "pycharm": {
     "name": "#%%\n"
    }
   }
  },
  {
   "cell_type": "code",
   "execution_count": 12,
   "outputs": [
    {
     "data": {
      "text/plain": "('P', 'Y', 'T', 'H', 'O', 'N')"
     },
     "execution_count": 12,
     "metadata": {},
     "output_type": "execute_result"
    }
   ],
   "source": [
    "s[0], s[1], s[2], s[3], s[4], s[5]"
   ],
   "metadata": {
    "collapsed": false,
    "pycharm": {
     "name": "#%%\n"
    }
   }
  },
  {
   "cell_type": "code",
   "execution_count": 13,
   "outputs": [
    {
     "data": {
      "text/plain": "('N', 'O', 'H', 'T', 'Y', 'P')"
     },
     "execution_count": 13,
     "metadata": {},
     "output_type": "execute_result"
    }
   ],
   "source": [
    "\n",
    "s[-1], s[-2], s[-3], s[-4], s[-5], s[-6]\n"
   ],
   "metadata": {
    "collapsed": false,
    "pycharm": {
     "name": "#%%\n"
    }
   }
  },
  {
   "cell_type": "code",
   "execution_count": 14,
   "outputs": [
    {
     "data": {
      "text/plain": "'YTH'"
     },
     "execution_count": 14,
     "metadata": {},
     "output_type": "execute_result"
    }
   ],
   "source": [
    "s[:]\n",
    "s[1:4]"
   ],
   "metadata": {
    "collapsed": false,
    "pycharm": {
     "name": "#%%\n"
    }
   }
  },
  {
   "cell_type": "code",
   "execution_count": 15,
   "outputs": [],
   "source": [
    "# (4) Useful String methods -case conversions"
   ],
   "metadata": {
    "collapsed": false,
    "pycharm": {
     "name": "#%%\n"
    }
   }
  },
  {
   "cell_type": "code",
   "execution_count": 16,
   "outputs": [
    {
     "name": "stdout",
     "output_type": "stream",
     "text": [
      "python is great\n",
      "15\n"
     ]
    }
   ],
   "source": [
    "s = 'python is great'\n",
    "print(s)\n",
    "print(len(s))"
   ],
   "metadata": {
    "collapsed": false,
    "pycharm": {
     "name": "#%%\n"
    }
   }
  },
  {
   "cell_type": "code",
   "execution_count": 17,
   "outputs": [
    {
     "name": "stdout",
     "output_type": "stream",
     "text": [
      "Python is great\n"
     ]
    }
   ],
   "source": [
    "print(s.capitalize())\n"
   ],
   "metadata": {
    "collapsed": false,
    "pycharm": {
     "name": "#%%\n"
    }
   }
  },
  {
   "cell_type": "code",
   "execution_count": 18,
   "outputs": [
    {
     "data": {
      "text/plain": "'PYTHON IS GREAT'"
     },
     "execution_count": 18,
     "metadata": {},
     "output_type": "execute_result"
    }
   ],
   "source": [
    "s.upper()"
   ],
   "metadata": {
    "collapsed": false,
    "pycharm": {
     "name": "#%%\n"
    }
   }
  },
  {
   "cell_type": "code",
   "execution_count": 19,
   "outputs": [
    {
     "data": {
      "text/plain": "'python is great'"
     },
     "execution_count": 19,
     "metadata": {},
     "output_type": "execute_result"
    }
   ],
   "source": [
    "s.lower()"
   ],
   "metadata": {
    "collapsed": false,
    "pycharm": {
     "name": "#%%\n"
    }
   }
  },
  {
   "cell_type": "code",
   "execution_count": 20,
   "outputs": [
    {
     "data": {
      "text/plain": "'Python Is Great'"
     },
     "execution_count": 20,
     "metadata": {},
     "output_type": "execute_result"
    }
   ],
   "source": [
    "s.title()"
   ],
   "metadata": {
    "collapsed": false,
    "pycharm": {
     "name": "#%%\n"
    }
   }
  },
  {
   "cell_type": "code",
   "execution_count": 21,
   "outputs": [],
   "source": [
    "# (4) Useful String methods - String replace"
   ],
   "metadata": {
    "collapsed": false,
    "pycharm": {
     "name": "#%%\n"
    }
   }
  },
  {
   "cell_type": "code",
   "execution_count": 22,
   "outputs": [
    {
     "name": "stdout",
     "output_type": "stream",
     "text": [
      "s before replacement:  python is greatpython is great\n"
     ]
    }
   ],
   "source": [
    "s = s*2\n",
    "print('s before replacement: ',s)\n"
   ],
   "metadata": {
    "collapsed": false,
    "pycharm": {
     "name": "#%%\n"
    }
   }
  },
  {
   "cell_type": "code",
   "execution_count": 23,
   "outputs": [
    {
     "name": "stdout",
     "output_type": "stream",
     "text": [
      "s after replacement:  NLP is greatNLP is great\n"
     ]
    }
   ],
   "source": [
    "s = s.replace('python', 'NLP')\n",
    "print('s after replacement: ',s)\n"
   ],
   "metadata": {
    "collapsed": false,
    "pycharm": {
     "name": "#%%\n"
    }
   }
  },
  {
   "cell_type": "code",
   "execution_count": 24,
   "outputs": [
    {
     "name": "stdout",
     "output_type": "stream",
     "text": [
      "I,am,a,comma,separated,string\n",
      "['I,am,a,comma,separated,string']\n"
     ]
    }
   ],
   "source": [
    "# (5) Useful String methods - String split, join\n",
    "\n",
    "s = 'I,am,a,comma,separated,string'\n",
    "print(s)\n",
    "print(s.split())"
   ],
   "metadata": {
    "collapsed": false,
    "pycharm": {
     "name": "#%%\n"
    }
   }
  },
  {
   "cell_type": "code",
   "execution_count": 25,
   "outputs": [
    {
     "name": "stdout",
     "output_type": "stream",
     "text": [
      "['I', 'am', 'a', 'comma', 'separated', 'string']\n"
     ]
    }
   ],
   "source": [
    "print(s.split(','))\n"
   ],
   "metadata": {
    "collapsed": false,
    "pycharm": {
     "name": "#%%\n"
    }
   }
  },
  {
   "cell_type": "code",
   "execution_count": 26,
   "outputs": [
    {
     "name": "stdout",
     "output_type": "stream",
     "text": [
      "A few words about Dostoevsky himself may help the English reader to understand his work. Dostoevsky was the son of a doctor. His parents were very hard-working and deeply religious people, but so poor that they lived with their five children in only two rooms. The father and mother spent their evenings in reading aloud to their children, generally from books of a serious character.Though always sickly and delicate Dostoevsky came out third in thefinal examination of the Petersburg school of Engineering. There he hadalready begun his first work, “Poor Folk.”This story was published by the poet Nekrassov in his review andwas received with acclamations. The shy, unknown youth found himself instantly something of a celebrity. A brilliant and successful careerseemed to open before him, but those hopes were soon dashed. In 1849 hewas arrested..\n",
      "12\n"
     ]
    }
   ],
   "source": [
    "print(ex_book)\n",
    "\n",
    "sentences = ex_book.split('.')\n",
    "print(len(sentences))"
   ],
   "metadata": {
    "collapsed": false,
    "pycharm": {
     "name": "#%%\n"
    }
   }
  },
  {
   "cell_type": "code",
   "execution_count": 27,
   "outputs": [
    {
     "data": {
      "text/plain": "['A few words about Dostoevsky himself may help the English reader to understand his work',\n ' Dostoevsky was the son of a doctor',\n ' His parents were very hard-working and deeply religious people, but so poor that they lived with their five children in only two rooms']"
     },
     "execution_count": 27,
     "metadata": {},
     "output_type": "execute_result"
    }
   ],
   "source": [
    "sentences[:3]"
   ],
   "metadata": {
    "collapsed": false,
    "pycharm": {
     "name": "#%%\n"
    }
   }
  },
  {
   "cell_type": "code",
   "execution_count": 28,
   "outputs": [
    {
     "data": {
      "text/plain": "'A few words about Dostoevsky himself may help the English reader to understand his work  Dostoevsky was the son of a doctor  His parents were very hard-working and deeply religious people, but so poor that they lived with their five children in only two rooms  The father and mother spent their evenings in reading aloud to their children, generally from books of a serious character Though always sickly and delicate Dostoevsky came out third in thefinal examination of the Petersburg school of Engineering  There he hadalready begun his first work, “Poor Folk ”This story was published by the poet Nekrassov in his review andwas received with acclamations  The shy, unknown youth found himself instantly something of a celebrity  A brilliant and successful careerseemed to open before him, but those hopes were soon dashed  In 1849 hewas arrested  '"
     },
     "execution_count": 28,
     "metadata": {},
     "output_type": "execute_result"
    }
   ],
   "source": [
    "' '.join(sentences)"
   ],
   "metadata": {
    "collapsed": false,
    "pycharm": {
     "name": "#%%\n"
    }
   }
  },
  {
   "cell_type": "code",
   "execution_count": 29,
   "outputs": [
    {
     "name": "stdout",
     "output_type": "stream",
     "text": [
      "28\n"
     ]
    }
   ],
   "source": [
    "# stripping whitespace characters\n",
    "s = '  I am surrounded by spaces '\n",
    "print(len(s))"
   ],
   "metadata": {
    "collapsed": false,
    "pycharm": {
     "name": "#%%\n"
    }
   }
  },
  {
   "cell_type": "code",
   "execution_count": 30,
   "outputs": [
    {
     "name": "stdout",
     "output_type": "stream",
     "text": [
      "25\n"
     ]
    }
   ],
   "source": [
    "print(len(s.strip()))\n"
   ],
   "metadata": {
    "collapsed": false,
    "pycharm": {
     "name": "#%%\n"
    }
   }
  },
  {
   "cell_type": "code",
   "execution_count": 31,
   "outputs": [
    {
     "name": "stdout",
     "output_type": "stream",
     "text": [
      "['Python', 'is', 'great.', 'NLP', 'is', 'also', 'good.']\n",
      "3\n",
      "['Python is great', ' NLP is also good', '']\n"
     ]
    }
   ],
   "source": [
    "sentences = 'Python is great. NLP is also good.'\n",
    "print(sentences.split(' '))\n",
    "print(len(sentences.split('.')))\n",
    "print(sentences.split('.')[:])"
   ],
   "metadata": {
    "collapsed": false,
    "pycharm": {
     "name": "#%%\n"
    }
   }
  },
  {
   "cell_type": "code",
   "execution_count": 32,
   "outputs": [
    {
     "name": "stdout",
     "output_type": "stream",
     "text": [
      "Python is great\n",
      " NLP is also good\n",
      "\n"
     ]
    },
    {
     "data": {
      "text/plain": "'P\\ny\\nt\\nh\\no\\nn\\n \\ni\\ns\\n \\ng\\nr\\ne\\na\\nt\\n.\\n \\nN\\nL\\nP\\n \\ni\\ns\\n \\na\\nl\\ns\\no\\n \\ng\\no\\no\\nd\\n.'"
     },
     "execution_count": 32,
     "metadata": {},
     "output_type": "execute_result"
    }
   ],
   "source": [
    "print('\\n'.join(sentences.split('.')))\n",
    "'\\n'.join(sentences)"
   ],
   "metadata": {
    "collapsed": false,
    "pycharm": {
     "name": "#%%\n"
    }
   }
  },
  {
   "cell_type": "code",
   "execution_count": 33,
   "outputs": [
    {
     "name": "stdout",
     "output_type": "stream",
     "text": [
      "Python is great\n",
      "NLP is also good\n"
     ]
    }
   ],
   "source": [
    "# ['sentence1', 's2'....]\n",
    "print('\\n'.join([sentence.strip()\n",
    "                     for sentence in sentences.split('.')\n",
    "                         if sentence]))\n"
   ],
   "metadata": {
    "collapsed": false,
    "pycharm": {
     "name": "#%%a\n"
    }
   }
  },
  {
   "cell_type": "markdown",
   "source": [
    "# 2. Using nltk to perform tokenize\n",
    "## 2.1 tokenize and histogram of sentence lengths"
   ],
   "metadata": {
    "collapsed": false,
    "pycharm": {
     "name": "#%% md\n"
    }
   }
  },
  {
   "cell_type": "code",
   "execution_count": 34,
   "outputs": [
    {
     "name": "stdout",
     "output_type": "stream",
     "text": [
      "A few words about Dostoevsky himself may help the English reader to understand his work. Dostoevsky was the son of a doctor. His parents were very hard-working and deeply religious people, but so poor that they lived with their five children in only two rooms. The father and mother spent their evenings in reading aloud to their children, generally from books of a serious character.Though always sickly and delicate Dostoevsky came out third in thefinal examination of the Petersburg school of Engineering. There he hadalready begun his first work, “Poor Folk.”This story was published by the poet Nekrassov in his review andwas received with acclamations. The shy, unknown youth found himself instantly something of a celebrity. A brilliant and successful careerseemed to open before him, but those hopes were soon dashed. In 1849 hewas arrested..\n"
     ]
    }
   ],
   "source": [
    "import nltk\n",
    "print(ex_book)"
   ],
   "metadata": {
    "collapsed": false,
    "pycharm": {
     "name": "#%%\n"
    }
   }
  },
  {
   "cell_type": "code",
   "execution_count": 35,
   "outputs": [
    {
     "name": "stdout",
     "output_type": "stream",
     "text": [
      "['A few words about Dostoevsky himself may help the English reader to understand his work.', 'Dostoevsky was the son of a doctor.']\n"
     ]
    }
   ],
   "source": [
    "s_list = nltk.tokenize.sent_tokenize(ex_book)\n",
    "print(s_list[:2])\n"
   ],
   "metadata": {
    "collapsed": false,
    "pycharm": {
     "name": "#%%\n"
    }
   }
  },
  {
   "cell_type": "code",
   "execution_count": 36,
   "outputs": [
    {
     "name": "stdout",
     "output_type": "stream",
     "text": [
      "['A few words about Dostoevsky himself may help the English reader to understand his work.', 'Dostoevsky was the son of a doctor.', 'His parents were very hard-working and deeply religious people, but so poor that they lived with their five children in only two rooms.', 'The father and mother spent their evenings in reading aloud to their children, generally from books of a serious character.Though always sickly and delicate Dostoevsky came out third in thefinal examination of the Petersburg school of Engineering.', 'There he hadalready begun his first work, “Poor Folk.”This story was published by the poet Nekrassov in his review andwas received with acclamations.', 'The shy, unknown youth found himself instantly something of a celebrity.', 'A brilliant and successful careerseemed to open before him, but those hopes were soon dashed.', 'In 1849 hewas arrested..']\n"
     ]
    }
   ],
   "source": [
    "print(s_list[:10])"
   ],
   "metadata": {
    "collapsed": false,
    "pycharm": {
     "name": "#%%\n"
    }
   }
  },
  {
   "cell_type": "code",
   "execution_count": 37,
   "outputs": [
    {
     "name": "stdout",
     "output_type": "stream",
     "text": [
      "[88, 35, 135, 247, 149, 72, 93, 24]\n"
     ]
    }
   ],
   "source": [
    "import matplotlib.pyplot as  plt\n",
    "line_lengths = [len(sentence) for sentence in s_list]\n",
    "print(line_lengths)\n"
   ],
   "metadata": {
    "collapsed": false,
    "pycharm": {
     "name": "#%%\n"
    }
   }
  },
  {
   "cell_type": "code",
   "execution_count": 38,
   "outputs": [
    {
     "name": "stdout",
     "output_type": "stream",
     "text": [
      "[0 1 2 3 4 5 6 7]\n"
     ]
    },
    {
     "data": {
      "text/plain": "<Figure size 640x480 with 1 Axes>",
      "image/png": "[encoded data removed]"
     },
     "metadata": {},
     "output_type": "display_data"
    }
   ],
   "source": [
    "#histogram\n",
    "import numpy as np\n",
    "x = np.arange((len(line_lengths)))\n",
    "print(x)\n",
    "h = plt.hist(line_lengths)\n"
   ],
   "metadata": {
    "collapsed": false,
    "pycharm": {
     "name": "#%%\n"
    }
   }
  },
  {
   "cell_type": "markdown",
   "source": [
    "## 2.2 tokenize of a url"
   ],
   "metadata": {
    "collapsed": false,
    "pycharm": {
     "name": "#%% md\n"
    }
   }
  },
  {
   "cell_type": "code",
   "execution_count": 39,
   "outputs": [],
   "source": [
    "from urllib import request\n",
    "url = \"http://www.gutenberg.org/files/2554/2554-0.txt\"\n",
    "response = request.urlopen(url)\n",
    "raw = response.read().decode('utf8')\n"
   ],
   "metadata": {
    "collapsed": false,
    "pycharm": {
     "name": "#%%\n"
    }
   }
  },
  {
   "cell_type": "code",
   "execution_count": 40,
   "outputs": [
    {
     "name": "stdout",
     "output_type": "stream",
     "text": [
      "﻿The Project Gutenberg eBook of Crime and Punishment, by Fyodor Dostoevsky\r\n",
      "\r\n",
      "This eBook is for the \n"
     ]
    }
   ],
   "source": [
    "print(raw[:100])\n",
    "\n"
   ],
   "metadata": {
    "collapsed": false,
    "pycharm": {
     "name": "#%%\n"
    }
   }
  },
  {
   "cell_type": "code",
   "execution_count": 41,
   "outputs": [
    {
     "name": "stdout",
     "output_type": "stream",
     "text": [
      "['\\ufeffThe Project Gutenberg eBook of Crime and Punishment, by Fyodor Dostoevsky\\r\\n', '\\r\\n', 'This eBook is for the use of anyone anywhere in the United States and\\r\\n', 'most other parts of the world at no cost and with almost no restrictions\\r\\n', 'whatsoever. You may copy it, give it away or re-use it under the terms\\r\\n']\n"
     ]
    }
   ],
   "source": [
    "f1 = request.urlopen(url)\n",
    "sentences = []\n",
    "for line in f1:\n",
    "        line = line.decode('utf8')\n",
    "        sentences.append(line)\n",
    "\n",
    "print(sentences[:5])\n"
   ],
   "metadata": {
    "collapsed": false,
    "pycharm": {
     "name": "#%%\n"
    }
   }
  },
  {
   "cell_type": "code",
   "execution_count": 42,
   "outputs": [
    {
     "name": "stdout",
     "output_type": "stream",
     "text": [
      "[76, 2, 71, 74, 72, 72, 69, 73, 19, 2]\n"
     ]
    },
    {
     "data": {
      "text/plain": "<Figure size 640x480 with 1 Axes>",
      "image/png": "[encoded data removed]"
     },
     "metadata": {},
     "output_type": "display_data"
    }
   ],
   "source": [
    "import matplotlib.pyplot as  plt\n",
    "line_lengths = [len(sentence) for sentence in sentences]\n",
    "print(line_lengths[:10])\n",
    "h = plt.hist(line_lengths)"
   ],
   "metadata": {
    "collapsed": false,
    "pycharm": {
     "name": "#%%\n"
    }
   }
  },
  {
   "cell_type": "code",
   "execution_count": 43,
   "outputs": [
    {
     "data": {
      "text/plain": "<Figure size 640x480 with 1 Axes>",
      "image/png": "[encoded data removed]"
     },
     "metadata": {},
     "output_type": "display_data"
    }
   ],
   "source": [
    "# ! improve the code\n",
    "from urllib import request\n",
    "url = \"http://www.gutenberg.org/files/2554/2554-0.txt\"\n",
    "raw = response.read().decode('utf8')\n",
    "f1 = request.urlopen(url)\n",
    "sentences = [line.decode('utf8') for line in f1]\n",
    "line_lengths = [len(sentence) for sentence in sentences]\n",
    "h = plt.hist(line_lengths)"
   ],
   "metadata": {
    "collapsed": false,
    "pycharm": {
     "name": "#%%\n"
    }
   }
  },
  {
   "cell_type": "markdown",
   "source": [
    "# 3. word tokenize and sentence tokenize ..."
   ],
   "metadata": {
    "collapsed": false,
    "pycharm": {
     "name": "#%% md\n"
    }
   }
  },
  {
   "cell_type": "code",
   "execution_count": 44,
   "outputs": [
    {
     "name": "stdout",
     "output_type": "stream",
     "text": [
      "﻿The Project Gutenberg eBook of Crime and Punishment, by Fyodor Dostoevsky\r\n",
      "\r\n",
      "This eBook is for the use of anyone anywhere in the United States and\r\n",
      "most other parts of the world at no cost and with a\n"
     ]
    }
   ],
   "source": [
    "# process with words and punctuations\n",
    "from nltk import word_tokenize\n",
    "from nltk.tokenize import sent_tokenize\n",
    "\n",
    "from urllib import request\n",
    "url = \"http://www.gutenberg.org/files/2554/2554-0.txt\"\n",
    "response = request.urlopen(url)\n",
    "raw = response.read().decode('utf8')\n",
    "print(raw[:200])\n",
    "\n"
   ],
   "metadata": {
    "collapsed": false,
    "pycharm": {
     "name": "#%%\n"
    }
   }
  },
  {
   "cell_type": "code",
   "execution_count": 45,
   "outputs": [
    {
     "name": "stdout",
     "output_type": "stream",
     "text": [
      "['\\ufeffThe', 'Project', 'Gutenberg', 'eBook', 'of']\n"
     ]
    }
   ],
   "source": [
    "tokens = word_tokenize(raw)\n",
    "len(tokens)\n",
    "print(tokens[:5])"
   ],
   "metadata": {
    "collapsed": false,
    "pycharm": {
     "name": "#%%\n"
    }
   }
  },
  {
   "cell_type": "code",
   "execution_count": 46,
   "outputs": [
    {
     "name": "stdout",
     "output_type": "stream",
     "text": [
      "﻿The Project Gutenberg eBook of Crime and Punishment, by Fyodor Dostoevsky\r\n",
      "\r\n",
      "This eBook is for the use of anyone anywhere in the United States and\r\n",
      "most other parts of the world at no cost and with almost no restrictions\r\n",
      "whatsoever.\n"
     ]
    }
   ],
   "source": [
    "sent_tokens = sent_tokenize(raw)\n",
    "print(sent_tokens[0])"
   ],
   "metadata": {
    "collapsed": false,
    "pycharm": {
     "name": "#%%\n"
    }
   }
  },
  {
   "cell_type": "markdown",
   "source": [
    "\n",
    "# Combine tokenize, string operations, stop_words together"
   ],
   "metadata": {
    "collapsed": false,
    "pycharm": {
     "name": "#%% md\n"
    }
   }
  },
  {
   "cell_type": "code",
   "execution_count": 47,
   "outputs": [
    {
     "name": "stdout",
     "output_type": "stream",
     "text": [
      "['\\ufeffThe', 'Project', 'Gutenberg', 'eBook', 'of', 'Crime', 'and', 'Punishment', ',', 'by']\n"
     ]
    }
   ],
   "source": [
    "# print tokens\n",
    "print(tokens[:10])\n"
   ],
   "metadata": {
    "collapsed": false,
    "pycharm": {
     "name": "#%%\n"
    }
   }
  },
  {
   "cell_type": "code",
   "execution_count": 48,
   "outputs": [
    {
     "name": "stdout",
     "output_type": "stream",
     "text": [
      "['\\ufeffthe', 'project', 'gutenberg', 'ebook', 'of', 'crime', 'and', 'punishment', ',', 'by']\n"
     ]
    }
   ],
   "source": [
    "# convert to lower case\n",
    "tokens_tr = [token.lower() for token in tokens]\n",
    "print(tokens_tr[:10])"
   ],
   "metadata": {
    "collapsed": false,
    "pycharm": {
     "name": "#%%\n"
    }
   }
  },
  {
   "cell_type": "code",
   "execution_count": 49,
   "outputs": [
    {
     "data": {
      "text/plain": "['\\ufeffthe',\n 'project',\n 'gutenberg',\n 'ebook',\n 'of',\n 'crime',\n 'and',\n 'punishment',\n ',',\n 'by']"
     },
     "execution_count": 49,
     "metadata": {},
     "output_type": "execute_result"
    }
   ],
   "source": [
    "# remove while space\n",
    "tokens_tr = [token.strip() for token in tokens_tr]\n",
    "tokens_tr[:10]"
   ],
   "metadata": {
    "collapsed": false,
    "pycharm": {
     "name": "#%%\n"
    }
   }
  },
  {
   "cell_type": "code",
   "execution_count": 50,
   "outputs": [
    {
     "name": "stdout",
     "output_type": "stream",
     "text": [
      "['\\ufeffthe', 'project', 'gutenberg', 'ebook', 'crime', 'punishment', ',', 'fyodor', 'dostoevsky', 'ebook']\n"
     ]
    }
   ],
   "source": [
    "# remove stop words\n",
    "import nltk\n",
    "stop_words = nltk.corpus.stopwords.words('english')\n",
    "tokens_tr = [word for word in tokens_tr if word not in stop_words]\n",
    "print(tokens_tr[:10])"
   ],
   "metadata": {
    "collapsed": false,
    "pycharm": {
     "name": "#%%\n"
    }
   }
  },
  {
   "cell_type": "code",
   "execution_count": 51,
   "outputs": [
    {
     "data": {
      "text/plain": "[(',', 16177),\n ('.', 8908),\n ('’', 4039),\n ('“', 3980),\n ('”', 3929),\n ('!', 2364),\n ('?', 2275),\n ('...', 1085),\n (';', 1047),\n ('raskolnikov', 782)]"
     },
     "execution_count": 51,
     "metadata": {},
     "output_type": "execute_result"
    }
   ],
   "source": [
    "# counting\n",
    "from collections import Counter\n",
    "c = Counter(tokens_tr)\n",
    "c.most_common(10)\n",
    "\n"
   ],
   "metadata": {
    "collapsed": false,
    "pycharm": {
     "name": "#%%\n"
    }
   }
  },
  {
   "cell_type": "code",
   "execution_count": 52,
   "outputs": [
    {
     "data": {
      "text/plain": "[('raskolnikov', 782),\n ('one', 638),\n ('would', 572),\n ('know', 524),\n ('said', 518),\n ('could', 496),\n ('come', 476),\n ('man', 474),\n ('like', 452),\n ('though', 443)]"
     },
     "execution_count": 52,
     "metadata": {},
     "output_type": "execute_result"
    }
   ],
   "source": [
    "# remove punctuation and count the frequency of tokens\n",
    "# isalnum(): Return True if all characters are alphanumeric\n",
    "tokens_tr = [word for word in tokens_tr if word.isalnum()]\n",
    "c = Counter(tokens_tr)\n",
    "c.most_common(10)"
   ],
   "metadata": {
    "collapsed": false,
    "pycharm": {
     "name": "#%%\n"
    }
   }
  },
  {
   "cell_type": "code",
   "execution_count": 53,
   "outputs": [
    {
     "name": "stdout",
     "output_type": "stream",
     "text": [
      "['project', 'gutenberg', 'ebook', 'crime', 'punishment', 'fyodor', 'dostoevsky', 'ebook', 'use', 'anyone', 'anywhere', 'united', 'states', 'parts', 'world', 'cost', 'almost', 'restrictions', 'whatsoever', 'may']\n"
     ]
    }
   ],
   "source": [
    "print(tokens_tr[:20])"
   ],
   "metadata": {
    "collapsed": false,
    "pycharm": {
     "name": "#%%\n"
    }
   }
  },
  {
   "cell_type": "markdown",
   "source": [
    "# Task\n",
    "Can you use two approaches to generate stop_words list, i.e., one from NLTK, and the other one from Scilearn, Then,\n",
    "1. compare the difference\n",
    "2. apply visualization to show the difference."
   ],
   "metadata": {
    "collapsed": false,
    "pycharm": {
     "name": "#%% md\n"
    }
   }
  }
 ],
 "metadata": {
  "anaconda-cloud": {},
  "kernelspec": {
   "display_name": "Python 3",
   "language": "python",
   "name": "python3"
  },
  "language_info": {
   "codemirror_mode": {
    "name": "ipython",
    "version": 3
   },
   "file_extension": ".py",
   "mimetype": "text/x-python",
   "name": "python",
   "nbconvert_exporter": "python",
   "pygments_lexer": "ipython3",
   "version": "3.6.5"
  }
 },
 "nbformat": 4,
 "nbformat_minor": 2
}