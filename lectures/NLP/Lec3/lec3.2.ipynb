{
 "cells": [
  {
   "cell_type": "markdown",
   "source": [
    "# KUC, PRG210\n",
    "# regular expressions"
   ],
   "metadata": {
    "collapsed": false,
    "pycharm": {
     "name": "#%% md\n"
    }
   }
  },
  {
   "cell_type": "code",
   "execution_count": null,
   "outputs": [],
   "source": [
    "import re"
   ],
   "metadata": {
    "collapsed": false,
    "pycharm": {
     "name": "#%%\n"
    }
   }
  },
  {
   "cell_type": "code",
   "execution_count": 15,
   "outputs": [
    {
     "name": "stdout",
     "output_type": "stream",
     "text": [
      "hello\n",
      "<re.Match object; span=(0, 5), match='hello'>\n",
      "hello\n"
     ]
    }
   ],
   "source": [
    "import re\n",
    "r = \"(hi|hello|hey)[ ]*([a-z]*)\"\n",
    "text = input('type your greeting:')\n",
    "print(text)\n",
    "# text = 'hi ja'\n",
    "find = re.match(r,text, flags=re.IGNORECASE)\n",
    "\n",
    "#find=re_greeting.match(text)\n",
    "print(find)\n",
    "if find:\n",
    "    print('hello')\n",
    "else:\n",
    "    print('not an expected question...')\n",
    "\n"
   ],
   "metadata": {
    "collapsed": false,
    "pycharm": {
     "name": "#%%\n"
    }
   }
  },
  {
   "cell_type": "code",
   "execution_count": null,
   "outputs": [],
   "source": [],
   "metadata": {
    "collapsed": false,
    "pycharm": {
     "name": "#%%\n"
    }
   }
  }
 ],
 "metadata": {
  "kernelspec": {
   "display_name": "Python 3",
   "language": "python",
   "name": "python3"
  },
  "language_info": {
   "codemirror_mode": {
    "name": "ipython",
    "version": 2
   },
   "file_extension": ".py",
   "mimetype": "text/x-python",
   "name": "python",
   "nbconvert_exporter": "python",
   "pygments_lexer": "ipython2",
   "version": "2.7.6"
  }
 },
 "nbformat": 4,
 "nbformat_minor": 0
}