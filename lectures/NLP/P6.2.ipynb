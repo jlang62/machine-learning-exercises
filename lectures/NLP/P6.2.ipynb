{
 "cells": [
  {
   "cell_type": "markdown",
   "source": [
    "# KUC, PGR210\n",
    "# P6.2\n",
    "# 14:30 - 16:00\n",
    "# Suppose you have three texts, describing the city of Oslo, NLP, and the city of Trondheim, i.e.,\n",
    "\n",
    "txt1  = \"Oslo is the economic and governmental centre of Norway. The city is also a hub of Norwegian trade, banking, industry and shipping. It is an important centre for maritime industries and maritime trade in Europe. The city is home to many companies within the maritime sector, some of which are among the world's largest shipping companies, shipbrokers and maritime insurance brokers. Oslo is a pilot city of the Council of Europe and the European Commission intercultural cities programme.\"\n",
    "txt2 = \"Natural language processing (NLP) is a subfield of \" \\\n",
    "            \"linguistics, computer science, and artificial intelligence \" \\\n",
    "            \"concerned with the interactions between computers and \" \\\n",
    "            \"human language, in particular how to program computers \" \\\n",
    "            \"to process and analyze large amounts of natural language data.\" \\\n",
    "            \" The goal is a computer capable of understanding the contents of documents, including the contextual nuances of the language within them. The technology can then accurately extract information and insights contained in the documents as well as categorize and organize the documents themselves. Challenges in natural language processing frequently involve speech recognition, natural language understanding, and natural language generation.\"\n",
    "tx3 = \"Trondheim has a very mild climate for its northerly latitude, resulting in moderate summers and winters that often remain above the freezing point in seaside areas. On higher elevation, though, the microclimate is colder and snowier. The city functions as the seat of the County Mayor of Trøndelag county, but not as the administrative centre, which is Steinkjer. This is to make the county more efficient and not too centralized, as Trøndelag is the third largest county in Norway.\"\n",
    "\n",
    "Implement the code functioning the same as in P6.1, however, this time, the code should import sklearn.feature_extraction.text for the implementation:\n",
    "1. Have a group discussion on corpus: compare the generated corpus with the corpus in P6.1.\n",
    "2. generate BoW (bag of words) from scratch, represent each text and understand the representation.\n",
    "3. generate TF-IDF from scratch, represent each text and understand the representation.\n",
    "4. find the most similar two texts through BoW and TF-IDF combined with cosine_similarity , respectively among the given three texts.\n",
    "\n"
   ],
   "metadata": {
    "collapsed": false,
    "pycharm": {
     "name": "#%% md\n"
    }
   }
  }
 ],
 "metadata": {
  "kernelspec": {
   "display_name": "Python 3",
   "language": "python",
   "name": "python3"
  },
  "language_info": {
   "codemirror_mode": {
    "name": "ipython",
    "version": 2
   },
   "file_extension": ".py",
   "mimetype": "text/x-python",
   "name": "python",
   "nbconvert_exporter": "python",
   "pygments_lexer": "ipython2",
   "version": "2.7.6"
  }
 },
 "nbformat": 4,
 "nbformat_minor": 0
}