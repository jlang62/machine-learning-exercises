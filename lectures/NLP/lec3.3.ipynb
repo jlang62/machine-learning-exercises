{
 "cells": [
  {
   "cell_type": "markdown",
   "source": [
    "# KUC, PRG210\n",
    "# Lec3.3"
   ],
   "metadata": {
    "collapsed": false,
    "pycharm": {
     "name": "#%% md\n"
    }
   }
  },
  {
   "cell_type": "code",
   "execution_count": 1,
   "outputs": [],
   "source": [
    "# An implementation of vector space"
   ],
   "metadata": {
    "collapsed": false,
    "pycharm": {
     "name": "#%%\n"
    }
   }
  },
  {
   "cell_type": "code",
   "execution_count": 2,
   "outputs": [],
   "source": [
    "from collections import Counter"
   ],
   "metadata": {
    "collapsed": false,
    "pycharm": {
     "name": "#%%\n"
    }
   }
  },
  {
   "cell_type": "code",
   "execution_count": 3,
   "outputs": [
    {
     "name": "stdout",
     "output_type": "stream",
     "text": [
      "the orginal text is:  Guten guten GUTEN MORGEN Morgen Rosa Rosa rosa\n"
     ]
    }
   ],
   "source": [
    "text = \"Guten guten GUTEN MORGEN Morgen Rosa Rosa rosa\" # this is your input string\n",
    "print('the orginal text is: ', text)\n"
   ],
   "metadata": {
    "collapsed": false,
    "pycharm": {
     "name": "#%%\n"
    }
   }
  },
  {
   "cell_type": "code",
   "execution_count": 3,
   "outputs": [],
   "source": [],
   "metadata": {
    "collapsed": false,
    "pycharm": {
     "name": "#%%\n"
    }
   }
  },
  {
   "cell_type": "code",
   "execution_count": 4,
   "outputs": [
    {
     "name": "stdout",
     "output_type": "stream",
     "text": [
      "['Guten', 'guten', 'GUTEN', 'MORGEN', 'Morgen', 'Rosa', 'Rosa', 'rosa']\n"
     ]
    }
   ],
   "source": [
    "print(text.split())"
   ],
   "metadata": {
    "collapsed": false,
    "pycharm": {
     "name": "#%%\n"
    }
   }
  },
  {
   "cell_type": "code",
   "execution_count": 5,
   "outputs": [
    {
     "name": "stdout",
     "output_type": "stream",
     "text": [
      "after the conversion, the new text should be:  ['guten', 'guten', 'guten', 'morgen', 'morgen', 'rosa', 'rosa', 'rosa']\n"
     ]
    }
   ],
   "source": [
    "\n",
    "new_text = [w.lower() for w in text.split()]\n",
    "print('after the conversion, the new text should be: ', new_text)\n"
   ],
   "metadata": {
    "collapsed": false,
    "pycharm": {
     "name": "#%%\n"
    }
   }
  },
  {
   "cell_type": "code",
   "execution_count": 6,
   "outputs": [
    {
     "name": "stdout",
     "output_type": "stream",
     "text": [
      "Counter({'guten': 3, 'rosa': 3, 'morgen': 2})\n"
     ]
    },
    {
     "data": {
      "text/plain": "[('guten', 3), ('rosa', 3), ('morgen', 2)]"
     },
     "execution_count": 6,
     "metadata": {},
     "output_type": "execute_result"
    }
   ],
   "source": [
    "# instead of converting to lower case and counting the frequency of each word, we can use directly\n",
    "# use functions from Counter object.\n",
    "text = \"Guten guten GUTEN MORGEN Morgen Rosa Rosa rosa\"\n",
    "c_t = Counter(new_text)\n",
    "\n",
    "print(c_t)\n",
    "c_t.most_common()"
   ],
   "metadata": {
    "collapsed": false,
    "pycharm": {
     "name": "#%%\n"
    }
   }
  },
  {
   "cell_type": "code",
   "execution_count": 7,
   "outputs": [
    {
     "data": {
      "text/plain": "Counter({'Good': 1, 'morning,': 1, 'Rosa!': 1})"
     },
     "execution_count": 7,
     "metadata": {},
     "output_type": "execute_result"
    }
   ],
   "source": [
    "#ex2\n",
    "Counter(\"Good morning, Rosa!\".split())"
   ],
   "metadata": {
    "collapsed": false,
    "pycharm": {
     "name": "#%%\n"
    }
   }
  },
  {
   "cell_type": "code",
   "execution_count": 8,
   "outputs": [
    {
     "data": {
      "text/plain": "[('good', 2), ('mornning,', 1), ('morgen', 1)]"
     },
     "execution_count": 8,
     "metadata": {},
     "output_type": "execute_result"
    }
   ],
   "source": [
    "#ex3\n",
    "text = 'good mornning, good morgen'\n",
    "text_count = Counter(text.split())\n",
    "text_count.most_common()\n",
    "\n",
    "\n",
    "\n",
    "\n"
   ],
   "metadata": {
    "collapsed": false,
    "pycharm": {
     "name": "#%%\n"
    }
   }
  },
  {
   "cell_type": "code",
   "execution_count": null,
   "outputs": [],
   "source": [],
   "metadata": {
    "collapsed": false,
    "pycharm": {
     "name": "#%%\n"
    }
   }
  }
 ],
 "metadata": {
  "kernelspec": {
   "display_name": "Python 3",
   "language": "python",
   "name": "python3"
  },
  "language_info": {
   "codemirror_mode": {
    "name": "ipython",
    "version": 2
   },
   "file_extension": ".py",
   "mimetype": "text/x-python",
   "name": "python",
   "nbconvert_exporter": "python",
   "pygments_lexer": "ipython2",
   "version": "2.7.6"
  }
 },
 "nbformat": 4,
 "nbformat_minor": 0
}