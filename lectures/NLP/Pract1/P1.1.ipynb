{
 "cells": [
  {
   "cell_type": "markdown",
   "id": "b7cebe47-bb60-4e7a-9fdf-4615d97757ff",
   "metadata": {
    "pycharm": {
     "name": "#%% md\n"
    }
   },
   "source": [
    "# Python data types\n",
    "\n",
    "Python has different data types to hold different information. A few:\n",
    "* Integers (type int) hold whole numbers. No decimals!\n",
    "* Floats (type float) hold decimal point numbers\n",
    "* Strings (type str) (hold textual content - can hold a number but the number will be treated as a piece of textual information\n",
    "* Booleans (type bool) hold either value True or value False.\n",
    "\n",
    "Python comes with a built in function to obtain the data type of an object: type()\n",
    "\n",
    "Additionally, Python comes with functions to transform objects from one data type to another, and these transformations follow set rules. bool(1) = True, and bool(0) = False, for instance."
   ]
  },
  {
   "cell_type": "code",
   "execution_count": null,
   "id": "ba7e6330-b392-4c11-96fa-ff2cce1eba5b",
   "metadata": {
    "pycharm": {
     "name": "#%%\n"
    }
   },
   "outputs": [],
   "source": [
    "#lets look at type()\n",
    "#type() "
   ]
  },
  {
   "cell_type": "code",
   "execution_count": null,
   "id": "866086fc-b552-44ce-96dc-262f903bcff9",
   "metadata": {
    "pycharm": {
     "name": "#%%\n"
    }
   },
   "outputs": [],
   "source": [
    "variable = '10'\n",
    "#note use of '"
   ]
  },
  {
   "cell_type": "code",
   "execution_count": null,
   "id": "345c1b6c",
   "metadata": {
    "pycharm": {
     "name": "#%%\n"
    }
   },
   "outputs": [],
   "source": [
    "type(variable)"
   ]
  },
  {
   "cell_type": "code",
   "execution_count": null,
   "id": "180b9e6d-74aa-4784-8a52-d914a6da8d46",
   "metadata": {
    "pycharm": {
     "name": "#%%\n"
    }
   },
   "outputs": [],
   "source": [
    "type('123')\n",
    "#note use of '"
   ]
  },
  {
   "cell_type": "code",
   "execution_count": null,
   "id": "f30301b9-1c8b-4c32-9add-995822f35575",
   "metadata": {
    "pycharm": {
     "name": "#%%\n"
    }
   },
   "outputs": [],
   "source": [
    "type(1)\n",
    "#only a number"
   ]
  },
  {
   "cell_type": "code",
   "execution_count": null,
   "id": "242a177d-b435-4345-81f5-f55f9223f5af",
   "metadata": {
    "pycharm": {
     "name": "#%%\n"
    }
   },
   "outputs": [],
   "source": [
    "type(1.)\n",
    "#decimal point"
   ]
  },
  {
   "cell_type": "code",
   "execution_count": null,
   "id": "c32ebf92-6b26-42d8-ace1-3cd83ff8acdb",
   "metadata": {
    "pycharm": {
     "name": "#%%\n"
    }
   },
   "outputs": [],
   "source": [
    "type(True) \n",
    "#note capital letter of True"
   ]
  },
  {
   "cell_type": "markdown",
   "id": "d1cc06c2",
   "metadata": {
    "pycharm": {
     "name": "#%% md\n"
    }
   },
   "source": [
    "## More data types\n",
    "the list\n",
    "* holds an arbitrary length of objects, in a set order\n",
    "* denoted list() or more commonly []\n",
    "\n",
    "the dictionary\n",
    "* holds an arbitrary number of key and value pairs, not in a set order \n",
    "* each \"item\" has a key and a value. The key is used to select the contents of the \"item\" with the specified key\n",
    "* denoted dict() or {}"
   ]
  },
  {
   "cell_type": "code",
   "execution_count": 1,
   "id": "3f45730f-b0f4-4d23-ad1d-4010d10a1d52",
   "metadata": {
    "pycharm": {
     "name": "#%%\n"
    }
   },
   "outputs": [
    {
     "data": {
      "text/plain": [
       "[1, 2, 3]"
      ]
     },
     "execution_count": 1,
     "metadata": {},
     "output_type": "execute_result"
    }
   ],
   "source": [
    "#this is a Python list\n",
    "[1,2,3]"
   ]
  },
  {
   "cell_type": "code",
   "execution_count": 2,
   "id": "5f2b078a",
   "metadata": {
    "pycharm": {
     "name": "#%%\n"
    }
   },
   "outputs": [
    {
     "data": {
      "text/plain": [
       "[]"
      ]
     },
     "execution_count": 2,
     "metadata": {},
     "output_type": "execute_result"
    }
   ],
   "source": [
    "#this also:\n",
    "[]"
   ]
  },
  {
   "cell_type": "code",
   "execution_count": 3,
   "id": "4fd49d7f-2166-4e07-9564-c11cade1d077",
   "metadata": {
    "pycharm": {
     "name": "#%%\n"
    }
   },
   "outputs": [
    {
     "data": {
      "text/plain": [
       "list"
      ]
     },
     "execution_count": 3,
     "metadata": {},
     "output_type": "execute_result"
    }
   ],
   "source": [
    "type([])"
   ]
  },
  {
   "cell_type": "code",
   "execution_count": 4,
   "id": "37f94fd9",
   "metadata": {
    "pycharm": {
     "name": "#%%\n"
    }
   },
   "outputs": [
    {
     "data": {
      "text/plain": [
       "list"
      ]
     },
     "execution_count": 4,
     "metadata": {},
     "output_type": "execute_result"
    }
   ],
   "source": [
    "type([1,2,2])"
   ]
  },
  {
   "cell_type": "code",
   "execution_count": 5,
   "id": "4d8ec106-1417-431b-a39e-506e57a14823",
   "metadata": {
    "pycharm": {
     "name": "#%%\n"
    }
   },
   "outputs": [],
   "source": [
    "#this is a Python dict, with keys 'A' and 'B'. A holds the integer 2 and B holds 3\n",
    "D = {'A':2,'B':3}"
   ]
  },
  {
   "cell_type": "code",
   "execution_count": 6,
   "id": "f97e405d-8c14-4c78-8584-88703ae7d9e1",
   "metadata": {
    "pycharm": {
     "name": "#%%\n"
    }
   },
   "outputs": [
    {
     "data": {
      "text/plain": [
       "3"
      ]
     },
     "execution_count": 6,
     "metadata": {},
     "output_type": "execute_result"
    }
   ],
   "source": [
    "#lets access 'B's value.\n",
    "D['B']"
   ]
  },
  {
   "cell_type": "code",
   "execution_count": 7,
   "id": "d537caa6-fe24-435e-b9c3-66e631da0e37",
   "metadata": {
    "pycharm": {
     "name": "#%%\n"
    }
   },
   "outputs": [
    {
     "data": {
      "text/plain": [
       "dict"
      ]
     },
     "execution_count": 7,
     "metadata": {},
     "output_type": "execute_result"
    }
   ],
   "source": [
    "type({})"
   ]
  },
  {
   "cell_type": "markdown",
   "id": "128ee84a-a064-4f05-acc7-fa7dad4ccfa8",
   "metadata": {
    "pycharm": {
     "name": "#%% md\n"
    }
   },
   "source": [
    "# Defining a function\n",
    "in order to be able to build anything from simple to complex routines with the built in functions in the Python language, using functions is very beneficial. Using functions lays the groundwork for writing lean and efficient code."
   ]
  },
  {
   "cell_type": "code",
   "execution_count": 10,
   "id": "ad80e482",
   "metadata": {
    "pycharm": {
     "name": "#%%\n"
    }
   },
   "outputs": [],
   "source": [
    "#this is how the function defining syntax works\n",
    "def funct(x): #initiates function definition for named function funct, which takes x as input\n",
    "    \"\"\"Write something informative of what input the function takes, \n",
    "    and what results it yields\"\"\" \n",
    "    #it is good practice to explain within \"\"\"\"\"\" what the function takes as input and what it does and returns as output. However, it is not a requirement for it to work  \n",
    "    \n",
    "    return x/2 #the function will return the input x divided by two"
   ]
  },
  {
   "cell_type": "code",
   "execution_count": 12,
   "metadata": {
    "collapsed": false,
    "pycharm": {
     "name": "#%%\n"
    }
   },
   "outputs": [
    {
     "data": {
      "text/plain": [
       "1.0"
      ]
     },
     "execution_count": 12,
     "metadata": {},
     "output_type": "execute_result"
    }
   ],
   "source": [
    "funct(2)\n"
   ]
  },
  {
   "cell_type": "code",
   "execution_count": 13,
   "id": "9f68717b",
   "metadata": {},
   "outputs": [
    {
     "data": {
      "text/plain": [
       "20.0"
      ]
     },
     "execution_count": 13,
     "metadata": {},
     "output_type": "execute_result"
    }
   ],
   "source": [
    "funct(40)"
   ]
  },
  {
   "cell_type": "code",
   "execution_count": 14,
   "metadata": {
    "collapsed": false,
    "pycharm": {
     "name": "#%%\n"
    }
   },
   "outputs": [],
   "source": [
    "# written by Huamin, Oct 10.\n",
    "# x: a list of strings, such as ['  asaasef  as df   sdf  ds f asd f ', 'asdfsd sdf  s df d  ']\n",
    "# the function will remove any white space in front as well as at the end of the sentence for each sentence in the list\n",
    "# new_x: ['asaasef  as df   sdf  ds f asd f', 'asdfsd sdf  s df d']\n",
    "# [''asaasef', 'as','df','sdf'.....]\n",
    "def remove_whitespace(x):\n",
    "    return new_x\n",
    "\n"
   ]
  },
  {
   "cell_type": "code",
   "execution_count": null,
   "metadata": {
    "collapsed": false,
    "pycharm": {
     "name": "#%%\n"
    }
   },
   "outputs": [],
   "source": []
  },
  {
   "cell_type": "markdown",
   "id": "e7c09e46",
   "metadata": {
    "pycharm": {
     "name": "#%% md\n"
    }
   },
   "source": [
    "Notice the 1.0 - the decimal point in the result? It is because Python produce floats from division, even when the answer is certainly a whole number."
   ]
  },
  {
   "cell_type": "code",
   "execution_count": null,
   "id": "98fba5df-619c-439b-8fc3-ced09f78e72a",
   "metadata": {
    "pycharm": {
     "name": "#%%\n"
    }
   },
   "outputs": [],
   "source": [
    "#look how the function we made and a built in Python function can be used together\n",
    "int(funct(2))"
   ]
  },
  {
   "cell_type": "markdown",
   "id": "03d525a9-348d-49fe-afab-36d89cf928e8",
   "metadata": {
    "pycharm": {
     "name": "#%% md\n"
    }
   },
   "source": [
    "## Ex 1\n",
    "Now that we have showed a few built in functions, and also how to write a custom function, lets practice some examples. Remember that using functions is good practice and makes for lean and efficient code. You will benefit from mastering the skill of \"thinking in terms of functions\" when we get to NLP implementations later on.\n",
    "\n",
    "### Create a function that checks the data type of the input "
   ]
  },
  {
   "cell_type": "code",
   "execution_count": null,
   "id": "77d34bfe",
   "metadata": {
    "pycharm": {
     "name": "#%%\n"
    }
   },
   "outputs": [],
   "source": [
    "#yes, the example exercise is \"unneccessary\" as type() is already an available built in function. However, this is about mastering to put an existing Python behavior inside a user defined function. Then we can build more complex functions later on."
   ]
  },
  {
   "cell_type": "code",
   "execution_count": 15,
   "id": "9715f362-4081-4afe-a3ac-14348e1e65a3",
   "metadata": {
    "pycharm": {
     "name": "#%%\n"
    }
   },
   "outputs": [],
   "source": [
    "def typeCheck(x):\n",
    "    y = type(x)\n",
    "    return y"
   ]
  },
  {
   "cell_type": "code",
   "execution_count": 16,
   "id": "3565419d-0a12-4ebb-9a7b-a60ef367450e",
   "metadata": {
    "pycharm": {
     "name": "#%%\n"
    }
   },
   "outputs": [
    {
     "data": {
      "text/plain": [
       "bool"
      ]
     },
     "execution_count": 16,
     "metadata": {},
     "output_type": "execute_result"
    }
   ],
   "source": [
    "typeCheck(False)"
   ]
  },
  {
   "cell_type": "code",
   "execution_count": 17,
   "id": "282265f9-a41f-41c5-a219-5b303c398e89",
   "metadata": {
    "pycharm": {
     "name": "#%%\n"
    }
   },
   "outputs": [
    {
     "data": {
      "text/plain": [
       "bool"
      ]
     },
     "execution_count": 17,
     "metadata": {},
     "output_type": "execute_result"
    }
   ],
   "source": [
    "#in this simple case, our function is equal to rhe built in type()\n",
    "type(False)"
   ]
  },
  {
   "cell_type": "markdown",
   "id": "b0a10afe-d5aa-4733-ad41-eefdb1d39c83",
   "metadata": {
    "pycharm": {
     "name": "#%% md\n"
    }
   },
   "source": [
    "# Introducing more Python behaviors\n",
    "Now, lets introduce some more behaviors we can use in conjunction with or within our user-defined functions\n",
    "# Loops\n",
    "loops are an iterative way of doing the same action again and again on different input."
   ]
  },
  {
   "cell_type": "code",
   "execution_count": 18,
   "id": "7f399a5f-9f54-4c07-a631-eec45c1dfb58",
   "metadata": {
    "pycharm": {
     "name": "#%%\n"
    }
   },
   "outputs": [
    {
     "name": "stdout",
     "output_type": "stream",
     "text": [
      "1\n",
      "2\n",
      "3\n",
      "4\n"
     ]
    }
   ],
   "source": [
    "nums = [1,2,3,4] #we have this list, and want to print item for item of it:\n",
    "\n",
    "for item in nums:\n",
    "    print(item)"
   ]
  },
  {
   "cell_type": "markdown",
   "id": "fdf1bd50",
   "metadata": {
    "pycharm": {
     "name": "#%% md\n"
    }
   },
   "source": [
    "# the operator % ('modulo')\n",
    "All of you are probably well familiar with the four basic mathematical operators + - * /\n",
    "Imagine an operator which returns the remainder, rather than the result, from a division. That operator is modulo, denoted % in Python. This operator can be useful in some circumstances:"
   ]
  },
  {
   "cell_type": "code",
   "execution_count": 19,
   "id": "c2e783eb-5d4c-4cff-96f9-5f6bd33dcf23",
   "metadata": {
    "pycharm": {
     "name": "#%%\n"
    }
   },
   "outputs": [
    {
     "data": {
      "text/plain": [
       "1"
      ]
     },
     "execution_count": 19,
     "metadata": {},
     "output_type": "execute_result"
    }
   ],
   "source": [
    "\n",
    "3%2 #three modulo two yields one. Remember that for a division with only whole numbers, the answer of 3/2 would be 1, and one as the remainder."
   ]
  },
  {
   "cell_type": "code",
   "execution_count": 20,
   "id": "fb50b007-e1cb-4976-a04d-7d9d08ecdf60",
   "metadata": {
    "pycharm": {
     "name": "#%%\n"
    }
   },
   "outputs": [
    {
     "name": "stdout",
     "output_type": "stream",
     "text": [
      "2\n",
      "4\n"
     ]
    }
   ],
   "source": [
    "#because of this behavior, every even number modulo two should yield zero. Hence, we can use modulo to identify the even numbers in a list, using a loop\n",
    "for item in nums:\n",
    "    if item%2 == 0:\n",
    "        print(item)"
   ]
  },
  {
   "cell_type": "code",
   "execution_count": 21,
   "id": "b8cfc162-2cf5-4eba-a1e2-734a53e4924f",
   "metadata": {
    "pycharm": {
     "name": "#%%\n"
    }
   },
   "outputs": [
    {
     "name": "stdout",
     "output_type": "stream",
     "text": [
      "[<class 'int'>, <class 'int'>, <class 'int'>, <class 'int'>]\n"
     ]
    }
   ],
   "source": [
    "#lets use a loop to obtain a list of data types, corresponding to the data types of out input list\n",
    "newList = []\n",
    "for item in nums:\n",
    "    newList.append(type(item))\n",
    "print(newList)"
   ]
  },
  {
   "cell_type": "code",
   "execution_count": 22,
   "id": "d64d8a93-17bb-4c5f-a4a8-496dca94c7d3",
   "metadata": {
    "pycharm": {
     "name": "#%%\n"
    }
   },
   "outputs": [
    {
     "name": "stdout",
     "output_type": "stream",
     "text": [
      "0\n",
      "1\n",
      "2\n",
      "3\n",
      "4\n",
      "5\n",
      "6\n",
      "7\n",
      "8\n",
      "9\n"
     ]
    }
   ],
   "source": [
    "#a loop can also be run through a range of numbers, as opposed to through a predefined list\n",
    "for i in range(10):\n",
    "    print(i)"
   ]
  },
  {
   "cell_type": "markdown",
   "id": "ba07dd1f-034b-4648-8d53-bc4f19e6a787",
   "metadata": {
    "pycharm": {
     "name": "#%% md\n"
    }
   },
   "source": [
    "## Ex 1b Use a loop to print the 20 first multiples of two"
   ]
  },
  {
   "cell_type": "code",
   "execution_count": 23,
   "id": "3ad76f56-65bc-40cf-bb13-56833983d0e7",
   "metadata": {
    "pycharm": {
     "name": "#%%\n"
    }
   },
   "outputs": [
    {
     "name": "stdout",
     "output_type": "stream",
     "text": [
      "2\n",
      "4\n",
      "6\n",
      "8\n",
      "10\n",
      "12\n",
      "14\n",
      "16\n",
      "18\n",
      "20\n",
      "22\n",
      "24\n",
      "26\n",
      "28\n",
      "30\n",
      "32\n",
      "34\n",
      "36\n",
      "38\n",
      "40\n"
     ]
    }
   ],
   "source": [
    "for i in range(1,21):\n",
    "    print(i*2)"
   ]
  },
  {
   "cell_type": "markdown",
   "id": "14a5f25b",
   "metadata": {
    "pycharm": {
     "name": "#%% md\n"
    }
   },
   "source": [
    "### If\n",
    "now lets see how we can print only multiples of two that are also multiples of three, based on the previous cell.\n",
    "\n",
    "We will do it by adding an if statement.\n",
    "\n",
    "An if statement is a code line that evaluates a certain precpndition, and implements code under the if statement only if criterias are met. \n"
   ]
  },
  {
   "cell_type": "code",
   "execution_count": null,
   "id": "f82f3421",
   "metadata": {
    "pycharm": {
     "name": "#%%\n"
    }
   },
   "outputs": [],
   "source": [
    "for i in range(1,21):\n",
    "    if i%3==0: #evaluating if the i is a multiple of three\n",
    "        print(i*2)"
   ]
  },
  {
   "cell_type": "markdown",
   "id": "055a7b2d",
   "metadata": {
    "pycharm": {
     "name": "#%% md\n"
    }
   },
   "source": [
    "# Combining some of what we've seen so far:"
   ]
  },
  {
   "cell_type": "markdown",
   "id": "70cc7976-eb98-4a05-a12a-86c7c23db530",
   "metadata": {
    "pycharm": {
     "name": "#%% md\n"
    }
   },
   "source": [
    "## Ex 2\n",
    "Create a __function__ that checks the data type of the input, and in case the input is a list, returns a list of data types corresponding to the data types in the list"
   ]
  },
  {
   "cell_type": "code",
   "execution_count": 24,
   "id": "d98e3775-017c-494f-afe1-039629d5fb85",
   "metadata": {
    "pycharm": {
     "name": "#%%\n"
    }
   },
   "outputs": [],
   "source": [
    "def typeCheck(x):\n",
    "    if type(x) == list: #if it is a list, the following will apply\n",
    "        b = []\n",
    "        for item in x:\n",
    "            b.append(type(item))\n",
    "\n",
    "        #use a loop to fill the resultList\n",
    "        return b\n",
    "    else: # if not a list, then the else-block will apply\n",
    "        return type(x)"
   ]
  },
  {
   "cell_type": "code",
   "execution_count": 25,
   "id": "b83adeb6-d2e5-4117-b2f0-7769b3e0bc48",
   "metadata": {
    "pycharm": {
     "name": "#%%\n"
    }
   },
   "outputs": [],
   "source": [
    "testList = ['a',1.0,1,False,[],{}]"
   ]
  },
  {
   "cell_type": "code",
   "execution_count": 26,
   "id": "161256ed-5b38-4a35-872a-e03e97ab03cf",
   "metadata": {
    "pycharm": {
     "name": "#%%\n"
    }
   },
   "outputs": [
    {
     "data": {
      "text/plain": [
       "[str, float, int, bool, list, dict]"
      ]
     },
     "execution_count": 26,
     "metadata": {},
     "output_type": "execute_result"
    }
   ],
   "source": [
    "typeCheck(testList)"
   ]
  },
  {
   "cell_type": "code",
   "execution_count": 27,
   "id": "c06533fc-b3e5-410d-a740-34391e1ff676",
   "metadata": {
    "pycharm": {
     "name": "#%%\n"
    }
   },
   "outputs": [
    {
     "data": {
      "text/plain": [
       "float"
      ]
     },
     "execution_count": 27,
     "metadata": {},
     "output_type": "execute_result"
    }
   ],
   "source": [
    "typeCheck(1.0)"
   ]
  },
  {
   "cell_type": "markdown",
   "id": "7aea46c8-e7d5-4bb5-82da-fcd4ef2a7591",
   "metadata": {
    "pycharm": {
     "name": "#%% md\n"
    }
   },
   "source": [
    "# String operations\n",
    "string operations are important in NLP, even foundational for the libraries and functions we will use in NLP pipeline implementation."
   ]
  },
  {
   "cell_type": "code",
   "execution_count": 28,
   "id": "080a8e04-35a6-4fac-b44e-380e610c1299",
   "metadata": {
    "pycharm": {
     "name": "#%%\n"
    }
   },
   "outputs": [
    {
     "data": {
      "text/plain": [
       "'String'"
      ]
     },
     "execution_count": 28,
     "metadata": {},
     "output_type": "execute_result"
    }
   ],
   "source": [
    "'string'.capitalize()"
   ]
  },
  {
   "cell_type": "code",
   "execution_count": 29,
   "id": "56f9846b-cdc2-4e98-beb2-a5680a1aae8c",
   "metadata": {
    "pycharm": {
     "name": "#%%\n"
    }
   },
   "outputs": [
    {
     "data": {
      "text/plain": [
       "'STRING'"
      ]
     },
     "execution_count": 29,
     "metadata": {},
     "output_type": "execute_result"
    }
   ],
   "source": [
    "'string'.upper()"
   ]
  },
  {
   "cell_type": "code",
   "execution_count": 30,
   "id": "895d4852-4de7-4bb0-a910-dfddd302c3cd",
   "metadata": {
    "pycharm": {
     "name": "#%%\n"
    }
   },
   "outputs": [
    {
     "data": {
      "text/plain": [
       "'string'"
      ]
     },
     "execution_count": 30,
     "metadata": {},
     "output_type": "execute_result"
    }
   ],
   "source": [
    "'stRING'.lower()"
   ]
  },
  {
   "cell_type": "code",
   "execution_count": 31,
   "id": "a50801fc-e19b-425d-aa11-9c17807bf067",
   "metadata": {
    "pycharm": {
     "name": "#%%\n"
    }
   },
   "outputs": [
    {
     "data": {
      "text/plain": [
       "'string'"
      ]
     },
     "execution_count": 31,
     "metadata": {},
     "output_type": "execute_result"
    }
   ],
   "source": [
    "'  string '.strip()"
   ]
  },
  {
   "cell_type": "code",
   "execution_count": 32,
   "id": "7ca59ca7-46e4-4ff1-a85a-f972940c2e43",
   "metadata": {
    "pycharm": {
     "name": "#%%\n"
    }
   },
   "outputs": [
    {
     "data": {
      "text/plain": [
       "True"
      ]
     },
     "execution_count": 32,
     "metadata": {},
     "output_type": "execute_result"
    }
   ],
   "source": [
    "'s'.isalnum()"
   ]
  },
  {
   "cell_type": "code",
   "execution_count": 33,
   "id": "63c278c2-451a-4464-bccb-df2a54b039c6",
   "metadata": {
    "pycharm": {
     "name": "#%%\n"
    }
   },
   "outputs": [
    {
     "data": {
      "text/plain": [
       "False"
      ]
     },
     "execution_count": 33,
     "metadata": {},
     "output_type": "execute_result"
    }
   ],
   "source": [
    "'.'.isalnum()"
   ]
  },
  {
   "cell_type": "code",
   "execution_count": 34,
   "id": "43c0be13-9b85-401f-8379-7231960331e0",
   "metadata": {
    "pycharm": {
     "name": "#%%\n"
    }
   },
   "outputs": [
    {
     "data": {
      "text/plain": [
       "['two', 'strings']"
      ]
     },
     "execution_count": 34,
     "metadata": {},
     "output_type": "execute_result"
    }
   ],
   "source": [
    "'two strings'.split()"
   ]
  },
  {
   "cell_type": "code",
   "execution_count": 35,
   "id": "c887a06a-a2eb-472a-9f8f-d4dbfba0ecb4",
   "metadata": {
    "pycharm": {
     "name": "#%%\n"
    }
   },
   "outputs": [
    {
     "data": {
      "text/plain": [
       "['comma', 'separated', 'strings']"
      ]
     },
     "execution_count": 35,
     "metadata": {},
     "output_type": "execute_result"
    }
   ],
   "source": [
    "'comma,separated,strings'.split(',')"
   ]
  },
  {
   "cell_type": "code",
   "execution_count": 36,
   "id": "39e1eece-90a7-4cd5-bf65-a81511f19e52",
   "metadata": {
    "pycharm": {
     "name": "#%%\n"
    }
   },
   "outputs": [
    {
     "name": "stdout",
     "output_type": "stream",
     "text": [
      "a\n",
      "b\n",
      "c\n"
     ]
    }
   ],
   "source": [
    "example = 'abc'\n",
    "for letter in example:\n",
    "    print(letter)"
   ]
  },
  {
   "cell_type": "markdown",
   "id": "a6577b89-d306-4eba-bc19-2aaac5a3efb4",
   "metadata": {
    "pycharm": {
     "name": "#%% md\n"
    }
   },
   "source": [
    "## Ex 3\n",
    "Create a function that takes a word which may have spaces around it and may be in differenr capitalizations, and returns the lower case of the word with spaces removed"
   ]
  },
  {
   "cell_type": "code",
   "execution_count": 37,
   "id": "2b4bcb2b-d471-42b6-bfa3-5f9665cb5858",
   "metadata": {
    "pycharm": {
     "name": "#%%\n"
    }
   },
   "outputs": [
    {
     "data": {
      "text/plain": [
       "'inputword..'"
      ]
     },
     "execution_count": 37,
     "metadata": {},
     "output_type": "execute_result"
    }
   ],
   "source": [
    "word = ' INPutword..   ' \n",
    "\n",
    "def cleaner(w):\n",
    "    w = w.strip()\n",
    "    w = w.lower()\n",
    "    return w\n",
    "\n",
    "cleaner(word)"
   ]
  },
  {
   "cell_type": "markdown",
   "id": "4c4f4812",
   "metadata": {
    "pycharm": {
     "name": "#%% md\n"
    }
   },
   "source": [
    "## joining a list, creating a string"
   ]
  },
  {
   "cell_type": "code",
   "execution_count": 38,
   "id": "84fcd3fc-b51b-492b-843c-4612b0dc6a5c",
   "metadata": {
    "pycharm": {
     "name": "#%%\n"
    }
   },
   "outputs": [
    {
     "data": {
      "text/plain": [
       "['a', 'b', 'c']"
      ]
     },
     "execution_count": 38,
     "metadata": {},
     "output_type": "execute_result"
    }
   ],
   "source": [
    "list('abc')"
   ]
  },
  {
   "cell_type": "code",
   "execution_count": 39,
   "id": "76c3a7cd-2126-410d-982f-b52c8243526f",
   "metadata": {
    "pycharm": {
     "name": "#%%\n"
    }
   },
   "outputs": [
    {
     "data": {
      "text/plain": [
       "'abc'"
      ]
     },
     "execution_count": 39,
     "metadata": {},
     "output_type": "execute_result"
    }
   ],
   "source": [
    "('').join(['a','b','c'])"
   ]
  },
  {
   "cell_type": "markdown",
   "id": "53060658-67fe-4a97-9fa9-3ed40524be7d",
   "metadata": {
    "pycharm": {
     "name": "#%% md\n"
    }
   },
   "source": [
    "## Ex 4\n",
    "Create a function that takes a word which may have spaces around it, various capitalizations and punctuation and returns the lower case of the word with spaces and punctuation removed"
   ]
  },
  {
   "cell_type": "code",
   "execution_count": 41,
   "id": "1b290386-650a-4d29-a81d-5872a5696958",
   "metadata": {
    "pycharm": {
     "name": "#%%\n"
    }
   },
   "outputs": [
    {
     "data": {
      "text/plain": [
       "'inputword'"
      ]
     },
     "execution_count": 41,
     "metadata": {},
     "output_type": "execute_result"
    }
   ],
   "source": [
    "word = ' INPutword..   ' \n",
    "\n",
    "def cleaner(w):\n",
    "    w = w.strip()\n",
    "    w = w.lower()\n",
    "    w = list(w)\n",
    "    w = [letter for letter in w if letter.isalnum()]\n",
    "    w = ('').join(w)\n",
    "    \n",
    "    return w\n",
    "\n",
    "cleaner(word)"
   ]
  },
  {
   "cell_type": "markdown",
   "id": "e9c44db3-b475-4190-b5b3-c428b1fdd8ec",
   "metadata": {
    "pycharm": {
     "name": "#%% md\n"
    },
    "tags": []
   },
   "source": [
    "# More functionality and behavior related to lists"
   ]
  },
  {
   "cell_type": "code",
   "execution_count": 42,
   "id": "d9d01874-fa51-49f6-88f9-e3add27addb3",
   "metadata": {
    "pycharm": {
     "name": "#%%\n"
    }
   },
   "outputs": [
    {
     "data": {
      "text/plain": [
       "['a', 'b', 'c']"
      ]
     },
     "execution_count": 42,
     "metadata": {},
     "output_type": "execute_result"
    }
   ],
   "source": [
    "letters = list('abc')\n",
    "letters"
   ]
  },
  {
   "cell_type": "code",
   "execution_count": 43,
   "id": "8c009b97-b28c-46ec-832d-291cf652756e",
   "metadata": {
    "pycharm": {
     "name": "#%%\n"
    }
   },
   "outputs": [
    {
     "data": {
      "text/plain": [
       "[1, 2, 3]"
      ]
     },
     "execution_count": 43,
     "metadata": {},
     "output_type": "execute_result"
    }
   ],
   "source": [
    "nums = [1,2,3]\n",
    "nums"
   ]
  },
  {
   "cell_type": "code",
   "execution_count": 44,
   "id": "ed159cf5",
   "metadata": {
    "pycharm": {
     "name": "#%%\n"
    }
   },
   "outputs": [
    {
     "data": {
      "text/plain": [
       "3"
      ]
     },
     "execution_count": 44,
     "metadata": {},
     "output_type": "execute_result"
    }
   ],
   "source": [
    "len(nums)"
   ]
  },
  {
   "cell_type": "code",
   "execution_count": 45,
   "id": "bfc38b9a",
   "metadata": {
    "pycharm": {
     "name": "#%%\n"
    }
   },
   "outputs": [
    {
     "data": {
      "text/plain": [
       "1"
      ]
     },
     "execution_count": 45,
     "metadata": {},
     "output_type": "execute_result"
    }
   ],
   "source": [
    "nums[0]"
   ]
  },
  {
   "cell_type": "code",
   "execution_count": 46,
   "id": "cd5298d9",
   "metadata": {
    "pycharm": {
     "name": "#%%\n"
    }
   },
   "outputs": [
    {
     "data": {
      "text/plain": [
       "3"
      ]
     },
     "execution_count": 46,
     "metadata": {},
     "output_type": "execute_result"
    }
   ],
   "source": [
    "nums[-1]"
   ]
  },
  {
   "cell_type": "code",
   "execution_count": 47,
   "id": "b53f6b3c",
   "metadata": {
    "pycharm": {
     "name": "#%%\n"
    }
   },
   "outputs": [
    {
     "data": {
      "text/plain": [
       "[1, 2]"
      ]
     },
     "execution_count": 47,
     "metadata": {},
     "output_type": "execute_result"
    }
   ],
   "source": [
    "nums[:2]"
   ]
  },
  {
   "cell_type": "code",
   "execution_count": 48,
   "id": "8ffd2fcb",
   "metadata": {
    "pycharm": {
     "name": "#%%\n"
    }
   },
   "outputs": [
    {
     "data": {
      "text/plain": [
       "[2, 3]"
      ]
     },
     "execution_count": 48,
     "metadata": {},
     "output_type": "execute_result"
    }
   ],
   "source": [
    "nums[-2:]"
   ]
  },
  {
   "cell_type": "code",
   "execution_count": 49,
   "id": "5ceab30e",
   "metadata": {
    "pycharm": {
     "name": "#%%\n"
    }
   },
   "outputs": [
    {
     "data": {
      "text/plain": [
       "[1, 2, 3]"
      ]
     },
     "execution_count": 49,
     "metadata": {},
     "output_type": "execute_result"
    }
   ],
   "source": [
    "nums"
   ]
  },
  {
   "cell_type": "code",
   "execution_count": 50,
   "id": "2bd71e3d-d06a-40e5-b373-46ea337ec139",
   "metadata": {
    "pycharm": {
     "name": "#%%\n"
    }
   },
   "outputs": [
    {
     "data": {
      "text/plain": [
       "int"
      ]
     },
     "execution_count": 50,
     "metadata": {},
     "output_type": "execute_result"
    }
   ],
   "source": [
    "type(nums[0])"
   ]
  },
  {
   "cell_type": "code",
   "execution_count": 51,
   "id": "b6290892-d12d-4eb9-abb2-dd40c45836e1",
   "metadata": {
    "pycharm": {
     "name": "#%%\n"
    }
   },
   "outputs": [
    {
     "data": {
      "text/plain": [
       "str"
      ]
     },
     "execution_count": 51,
     "metadata": {},
     "output_type": "execute_result"
    }
   ],
   "source": [
    "type(letters[0])"
   ]
  },
  {
   "cell_type": "code",
   "execution_count": 52,
   "id": "4a6d3dd0-232e-41cb-83d1-2bf61b8bd238",
   "metadata": {
    "pycharm": {
     "name": "#%%\n"
    }
   },
   "outputs": [
    {
     "name": "stdout",
     "output_type": "stream",
     "text": [
      "[1, 2, 3, 4] ['a', 'b', 'c', 'd']\n"
     ]
    }
   ],
   "source": [
    "nums.append(4)\n",
    "letters.append('d')\n",
    "print(nums,letters)"
   ]
  },
  {
   "cell_type": "code",
   "execution_count": 53,
   "id": "4d8b02d0-46ca-4db4-9aa4-4f8ec8c97bea",
   "metadata": {
    "pycharm": {
     "name": "#%%\n"
    }
   },
   "outputs": [],
   "source": [
    "nums = [1,2,3,4]"
   ]
  },
  {
   "cell_type": "code",
   "execution_count": 54,
   "id": "c5b894ad-cb94-41d4-ab04-c5b01a038458",
   "metadata": {
    "pycharm": {
     "name": "#%%\n"
    }
   },
   "outputs": [],
   "source": [
    "letters = list('abcd')"
   ]
  },
  {
   "cell_type": "code",
   "execution_count": 55,
   "id": "7cc22ad5",
   "metadata": {
    "pycharm": {
     "name": "#%%\n"
    }
   },
   "outputs": [
    {
     "data": {
      "text/plain": [
       "[1, 2, 3, 4, ['a', 'b', 'c', 'd']]"
      ]
     },
     "execution_count": 55,
     "metadata": {},
     "output_type": "execute_result"
    }
   ],
   "source": [
    "nums.append(letters)\n",
    "nums"
   ]
  },
  {
   "cell_type": "code",
   "execution_count": 56,
   "id": "ca0cf210",
   "metadata": {
    "pycharm": {
     "name": "#%%\n"
    }
   },
   "outputs": [
    {
     "data": {
      "text/plain": [
       "['a', 'b', 'c', 'd']"
      ]
     },
     "execution_count": 56,
     "metadata": {},
     "output_type": "execute_result"
    }
   ],
   "source": [
    "nums[4]"
   ]
  },
  {
   "cell_type": "code",
   "execution_count": 57,
   "id": "dd45b18e",
   "metadata": {
    "pycharm": {
     "name": "#%%\n"
    }
   },
   "outputs": [
    {
     "data": {
      "text/plain": [
       "'c'"
      ]
     },
     "execution_count": 57,
     "metadata": {},
     "output_type": "execute_result"
    }
   ],
   "source": [
    "nums[4][2]"
   ]
  },
  {
   "cell_type": "code",
   "execution_count": 58,
   "id": "3ddd4e8c",
   "metadata": {
    "pycharm": {
     "name": "#%%\n"
    }
   },
   "outputs": [
    {
     "data": {
      "text/plain": [
       "['a', 'b', 'c', 'd']"
      ]
     },
     "execution_count": 58,
     "metadata": {},
     "output_type": "execute_result"
    }
   ],
   "source": [
    "popped = nums.pop()\n",
    "popped"
   ]
  },
  {
   "cell_type": "code",
   "execution_count": 59,
   "id": "8abaa146",
   "metadata": {
    "pycharm": {
     "name": "#%%\n"
    }
   },
   "outputs": [
    {
     "data": {
      "text/plain": [
       "[1, 2, 3, 4]"
      ]
     },
     "execution_count": 59,
     "metadata": {},
     "output_type": "execute_result"
    }
   ],
   "source": [
    "nums"
   ]
  },
  {
   "cell_type": "code",
   "execution_count": 60,
   "id": "2326b6d4-0172-4abf-86d8-7c40c4b57b57",
   "metadata": {
    "pycharm": {
     "name": "#%%\n"
    }
   },
   "outputs": [
    {
     "data": {
      "text/plain": [
       "4"
      ]
     },
     "execution_count": 60,
     "metadata": {},
     "output_type": "execute_result"
    }
   ],
   "source": [
    "max(nums)"
   ]
  },
  {
   "cell_type": "code",
   "execution_count": 61,
   "id": "17aacdd2-45e4-4c54-b0c7-f9919cb15c05",
   "metadata": {
    "pycharm": {
     "name": "#%%\n"
    }
   },
   "outputs": [
    {
     "data": {
      "text/plain": [
       "1"
      ]
     },
     "execution_count": 61,
     "metadata": {},
     "output_type": "execute_result"
    }
   ],
   "source": [
    "min(nums)"
   ]
  },
  {
   "cell_type": "code",
   "execution_count": 62,
   "id": "007cf998",
   "metadata": {
    "pycharm": {
     "name": "#%%\n"
    }
   },
   "outputs": [
    {
     "data": {
      "text/plain": [
       "'two words'"
      ]
     },
     "execution_count": 62,
     "metadata": {},
     "output_type": "execute_result"
    }
   ],
   "source": [
    "(' ').join(['two','words'])"
   ]
  },
  {
   "cell_type": "markdown",
   "id": "be53dbbc-4f4a-4ea3-9b17-94f603f593aa",
   "metadata": {
    "pycharm": {
     "name": "#%% md\n"
    }
   },
   "source": [
    "## Ex 5\n",
    "Create a function that takes a list of words (either as a data type list), or as a set of words separated by space, and return a list with the lower case of each of the words, without spaces and punctuation"
   ]
  },
  {
   "cell_type": "code",
   "execution_count": 63,
   "id": "d1ff4374-5e5e-4c82-be52-a01140d27c6d",
   "metadata": {
    "pycharm": {
     "name": "#%%\n"
    }
   },
   "outputs": [],
   "source": [
    "test = 'A sentence WITH several Words.'"
   ]
  },
  {
   "cell_type": "code",
   "execution_count": 64,
   "id": "f494b2ea-ee72-459d-9815-22f74def03ad",
   "metadata": {
    "pycharm": {
     "name": "#%%\n"
    }
   },
   "outputs": [],
   "source": [
    "test2 = ['A','sENTEnce','with','several.','words']"
   ]
  },
  {
   "cell_type": "code",
   "execution_count": 67,
   "id": "bbd42de1-fb57-4487-837f-b891ddd40dbb",
   "metadata": {
    "pycharm": {
     "name": "#%%\n"
    }
   },
   "outputs": [],
   "source": [
    "def tokenize(d):\n",
    "    if type(d) != list:\n",
    "        d = d.split()\n",
    "    output = []\n",
    "    for item in d:\n",
    "            output.append(\n",
    "                 ('').join([letter for letter in list(item.strip().lower()) if letter.isalnum()])\n",
    "                 )\n",
    "            \n",
    "    return output\n",
    "        "
   ]
  },
  {
   "cell_type": "code",
   "execution_count": 69,
   "id": "613a4780-f3c5-496f-a260-eea22ca078f6",
   "metadata": {
    "pycharm": {
     "name": "#%%\n"
    }
   },
   "outputs": [
    {
     "data": {
      "text/plain": [
       "['a', 'sentence', 'with', 'several', 'words']"
      ]
     },
     "execution_count": 69,
     "metadata": {},
     "output_type": "execute_result"
    }
   ],
   "source": [
    "tokenize(test)"
   ]
  },
  {
   "cell_type": "code",
   "execution_count": 70,
   "id": "dd7c795a",
   "metadata": {},
   "outputs": [
    {
     "data": {
      "text/plain": [
       "['a', 'sentence', 'with', 'several', 'words']"
      ]
     },
     "execution_count": 70,
     "metadata": {},
     "output_type": "execute_result"
    }
   ],
   "source": [
    "tokenize(test2)"
   ]
  },
  {
   "cell_type": "markdown",
   "id": "22b41b8d-c4f7-40ee-b016-8718adcb81dc",
   "metadata": {
    "pycharm": {
     "name": "#%% md\n"
    }
   },
   "source": [
    "## Ex 6\n",
    "Create a function that takes a list of words (either as a data type list) or as as set of words separated by space, and return a the input as __one__ string where the words are lower case, punctuation has been removed, and the words are separated by a space"
   ]
  },
  {
   "cell_type": "code",
   "execution_count": 71,
   "id": "6df9c2e0",
   "metadata": {
    "pycharm": {
     "name": "#%%\n"
    }
   },
   "outputs": [],
   "source": [
    "## Ex 6\n",
    "#Create a function that takes a list of words (either as a data type list) or as as set of words separated by space, and return a the input as __one__ string where the words are lower case, punctuation has been removed, and the words are separated by a space\n",
    "\n",
    "test = 'A sentence WITH several Words.'\n",
    "\n",
    "\n",
    "def tokenize2(d):\n",
    "    \"\"\"Taking input as a document (string) or list of tokens, \n",
    "    returning a list of tokens after preprocessing, and a preprocessed string\"\"\"\n",
    "    if type(d) != list:\n",
    "        d = d.split()\n",
    "    output = []\n",
    "    for item in d:\n",
    "            output.append(  ('').join([letter for letter in list(item.strip().lower()) if letter.isalnum()])  )\n",
    "            \n",
    "    return output,(' ').join(output)"
   ]
  },
  {
   "cell_type": "code",
   "execution_count": 72,
   "id": "67c45884",
   "metadata": {
    "pycharm": {
     "name": "#%%\n"
    }
   },
   "outputs": [
    {
     "name": "stdout",
     "output_type": "stream",
     "text": [
      "['a', 'sentence', 'with', 'several', 'words']\n",
      "a sentence with several words\n"
     ]
    }
   ],
   "source": [
    "tokens, document = tokenize2(test)\n",
    "print(tokens)\n",
    "print(document)"
   ]
  },
  {
   "cell_type": "markdown",
   "id": "a68abe2d",
   "metadata": {
    "pycharm": {
     "name": "#%% md\n"
    }
   },
   "source": [
    "# cross-checking one list vs another"
   ]
  },
  {
   "cell_type": "code",
   "execution_count": 73,
   "id": "18de366e",
   "metadata": {
    "pycharm": {
     "name": "#%%\n"
    }
   },
   "outputs": [
    {
     "data": {
      "text/plain": [
       "['some', 'words', 'process']"
      ]
     },
     "execution_count": 73,
     "metadata": {},
     "output_type": "execute_result"
    }
   ],
   "source": [
    "## cross-checking lists\n",
    "\n",
    "inputs = ['some','words','to','process']\n",
    "checklist = ['to', 'the', 'a', 'an', 'from']\n",
    "result = [word for word in inputs if word not in checklist]\n",
    "\n",
    "#result = []\n",
    "#for word in inputs:\n",
    "#    if word not in checklist:\n",
    "#        result.append(word)\n",
    "result"
   ]
  },
  {
   "cell_type": "markdown",
   "id": "70923294",
   "metadata": {
    "pycharm": {
     "name": "#%% md\n"
    }
   },
   "source": [
    "# Teaser on what the coming weeks will look further into,  and beyond"
   ]
  },
  {
   "cell_type": "code",
   "execution_count": 83,
   "id": "678c8219-e26c-4480-af84-47571e983f79",
   "metadata": {
    "pycharm": {
     "name": "#%%\n"
    }
   },
   "outputs": [
    {
     "name": "stderr",
     "output_type": "stream",
     "text": [
      "[nltk_data] Downloading package stopwords to\n",
      "[nltk_data]     /Users/jesselang/nltk_data...\n",
      "[nltk_data]   Package stopwords is already up-to-date!\n"
     ]
    },
    {
     "data": {
      "text/plain": [
       "'one morning gregor samsa woke troubled dreams found transformed bed horrible vermin lay armourlike back lifted head little could see brown belly slightly domed divided arches stiff sections bedding hardly able cover seemed ready slide moment many legs pitifully thin compared size rest waved helplessly looked whats happened thought wasnt dream room proper human room although little small lay peacefully four familiar walls collection textile samples lay spread table  samsa travelling salesman  hung picture recently cut illustrated magazine housed nice gilded frame showed lady fitted fur hat fur boa sat upright raising heavy fur muff covered whole lower arm towards viewer gregor turned look window dull weather drops'"
      ]
     },
     "execution_count": 83,
     "metadata": {},
     "output_type": "execute_result"
    }
   ],
   "source": [
    "import nltk\n",
    "nltk.download('stopwords')\n",
    "from nltk.corpus import stopwords\n",
    "\n",
    "stops = stopwords.words('english')\n",
    "len(stops)\n",
    "\n",
    "## Ex 6 create a function to split string to list of words (tokens), remove stopwords and reassemble as string\n",
    "\n",
    "stringEx6 = \"\"\"One morning, when Gregor Samsa woke from troubled dreams, he found himself transformed in his bed into a horrible vermin. He lay on his armour-like back, and if he lifted his head a little he could see his brown belly, slightly domed and divided by arches into stiff sections. The bedding was hardly able to cover it and seemed ready to slide off any moment. His many legs, pitifully thin compared with the size of the rest of him, waved about helplessly as he looked. \"What's happened to me?\" he thought. It wasn't a dream. His room, a proper human room although a little too small, lay peacefully between its four familiar walls. A collection of textile samples lay spread out on the table - Samsa was a travelling salesman - and above it there hung a picture that he had recently cut out of an illustrated magazine and housed in a nice, gilded frame. It showed a lady fitted out with a fur hat and fur boa who sat upright, raising a heavy fur muff that covered the whole of her lower arm towards the viewer. Gregor then turned to look out the window at the dull weather. Drops\"\"\"\n",
    "\n",
    "def tokenize2(d):\n",
    "    if type(d) != list:\n",
    "        d = d.split()\n",
    "    output = []\n",
    "    for item in d:\n",
    "            output.append(  ('').join([letter for letter in list(item.strip().lower()) if letter.isalnum()])  )\n",
    "            \n",
    "    return output,(' ').join(output)       \n",
    "\n",
    "def stopRemoval(d):\n",
    "    output = [word for word in d if word not in stops]\n",
    "    return output\n",
    "\n",
    "def preprocessor(d):\n",
    "    tokens, document = tokenize2(d)\n",
    "    \n",
    "    tokens = stopRemoval(tokens)\n",
    "    \n",
    "    return (' ').join(tokens)\n",
    "\n",
    "newPara = preprocessor(stringEx6)\n",
    "newPara"
   ]
  },
  {
   "cell_type": "code",
   "execution_count": 84,
   "id": "c5ebca80",
   "metadata": {
    "pycharm": {
     "name": "#%%\n"
    }
   },
   "outputs": [
    {
     "data": {
      "text/plain": [
       "722"
      ]
     },
     "execution_count": 84,
     "metadata": {},
     "output_type": "execute_result"
    }
   ],
   "source": [
    "len(newPara)"
   ]
  },
  {
   "cell_type": "code",
   "execution_count": 85,
   "id": "4c5712a3",
   "metadata": {},
   "outputs": [
    {
     "data": {
      "text/plain": [
       "1079"
      ]
     },
     "execution_count": 85,
     "metadata": {},
     "output_type": "execute_result"
    }
   ],
   "source": [
    "len(stringEx6)"
   ]
  },
  {
   "cell_type": "code",
   "execution_count": null,
   "id": "85116e24",
   "metadata": {},
   "outputs": [],
   "source": []
  }
 ],
 "metadata": {
  "kernelspec": {
   "display_name": "Python 3",
   "language": "python",
   "name": "python3"
  },
  "language_info": {
   "codemirror_mode": {
    "name": "ipython",
    "version": 3
   },
   "file_extension": ".py",
   "mimetype": "text/x-python",
   "name": "python",
   "nbconvert_exporter": "python",
   "pygments_lexer": "ipython3",
   "version": "3.11.4"
  },
  "widgets": {
   "application/vnd.jupyter.widget-state+json": {
    "state": {},
    "version_major": 2,
    "version_minor": 0
   }
  }
 },
 "nbformat": 4,
 "nbformat_minor": 5
}
