{
 "cells": [
  {
   "cell_type": "markdown",
   "id": "51e62837",
   "metadata": {
    "pycharm": {
     "name": "#%% md\n"
    }
   },
   "source": [
    "# NumPy\n",
    "NumPy is a library that allows us to work on tabular, spreadsheet-like (matrix) data structures. It is a significant improvement over using lists of lists to simulate tabular data "
   ]
  },
  {
   "cell_type": "code",
   "execution_count": 2,
   "id": "c93ebe4c",
   "metadata": {
    "pycharm": {
     "name": "#%%\n"
    }
   },
   "outputs": [
    {
     "data": {
      "text/plain": [
       "[[1, 2, 3], [4, 5, 6], [7, 8, 9]]"
      ]
     },
     "execution_count": 2,
     "metadata": {},
     "output_type": "execute_result"
    }
   ],
   "source": [
    "#first, lets see how lists of lists look  \n",
    "\n",
    "row1=[1,2,3]\n",
    "row2=[4,5,6]\n",
    "row3=[7,8,9]\n",
    "\n",
    "\n",
    "listOfLists = [row1,row2,row3]\n",
    "listOfLists"
   ]
  },
  {
   "cell_type": "code",
   "execution_count": 3,
   "id": "35f62094",
   "metadata": {
    "pycharm": {
     "name": "#%%\n"
    }
   },
   "outputs": [],
   "source": [
    "#import numpy\n",
    "import numpy as np"
   ]
  },
  {
   "cell_type": "code",
   "execution_count": 4,
   "id": "00d2badd",
   "metadata": {
    "pycharm": {
     "name": "#%%\n"
    }
   },
   "outputs": [
    {
     "data": {
      "text/plain": [
       "array([[1, 2, 3],\n",
       "       [4, 5, 6],\n",
       "       [7, 8, 9]])"
      ]
     },
     "execution_count": 4,
     "metadata": {},
     "output_type": "execute_result"
    }
   ],
   "source": [
    "#creating a numpy n-dimensional array, using the list of lists above\n",
    "narray = np.array(listOfLists)\n",
    "narray"
   ]
  },
  {
   "cell_type": "code",
   "execution_count": 5,
   "id": "0cdfa12d",
   "metadata": {
    "pycharm": {
     "name": "#%%\n"
    }
   },
   "outputs": [
    {
     "data": {
      "text/plain": [
       "array([1, 4, 7])"
      ]
     },
     "execution_count": 5,
     "metadata": {},
     "output_type": "execute_result"
    }
   ],
   "source": [
    "#we can easily slice a row or column of a numpy array\n",
    "narray[:,0]"
   ]
  },
  {
   "cell_type": "code",
   "execution_count": 6,
   "id": "77bac3f7",
   "metadata": {
    "pycharm": {
     "name": "#%%\n"
    }
   },
   "outputs": [
    {
     "data": {
      "text/plain": [
       "array([7, 8, 9])"
      ]
     },
     "execution_count": 6,
     "metadata": {},
     "output_type": "execute_result"
    }
   ],
   "source": [
    "narray[2,:]"
   ]
  },
  {
   "cell_type": "code",
   "execution_count": 7,
   "id": "bd6a64a5",
   "metadata": {
    "pycharm": {
     "name": "#%%\n"
    }
   },
   "outputs": [
    {
     "data": {
      "text/plain": [
       "array([7, 8, 9])"
      ]
     },
     "execution_count": 7,
     "metadata": {},
     "output_type": "execute_result"
    }
   ],
   "source": [
    "#note the behavior with rows first, so index 2 returns row 2 (aka \"row three\" - the bottom one in this example)\n",
    "narray[2]"
   ]
  },
  {
   "cell_type": "code",
   "execution_count": 8,
   "id": "37a09b81",
   "metadata": {
    "pycharm": {
     "name": "#%%\n"
    }
   },
   "outputs": [
    {
     "data": {
      "text/plain": [
       "9"
      ]
     },
     "execution_count": 8,
     "metadata": {},
     "output_type": "execute_result"
    }
   ],
   "source": [
    "#nympy comes wit a wealth of extra functions, some similar to Python's built in ones, and many additional functions.\n",
    "np.max(narray)"
   ]
  },
  {
   "cell_type": "code",
   "execution_count": 9,
   "id": "06db6fe9",
   "metadata": {
    "pycharm": {
     "name": "#%%\n"
    }
   },
   "outputs": [
    {
     "data": {
      "text/plain": [
       "4"
      ]
     },
     "execution_count": 9,
     "metadata": {},
     "output_type": "execute_result"
    }
   ],
   "source": [
    "#asking for the minimum of row 1\n",
    "np.min(narray[1])"
   ]
  },
  {
   "cell_type": "code",
   "execution_count": 10,
   "id": "c363b367",
   "metadata": {
    "pycharm": {
     "name": "#%%\n"
    }
   },
   "outputs": [
    {
     "data": {
      "text/plain": [
       "0"
      ]
     },
     "execution_count": 10,
     "metadata": {},
     "output_type": "execute_result"
    }
   ],
   "source": [
    "#asking for the column index of the minimum of row 2. (like asking \"where is the minimum of row 2 located\")\n",
    "np.argmin(narray[2])"
   ]
  },
  {
   "cell_type": "code",
   "execution_count": 11,
   "id": "2a90e3c5",
   "metadata": {
    "pycharm": {
     "name": "#%%\n"
    }
   },
   "outputs": [
    {
     "data": {
      "text/plain": [
       "array([1, 2, 3, 4, 5, 6, 7, 8, 9])"
      ]
     },
     "execution_count": 11,
     "metadata": {},
     "output_type": "execute_result"
    }
   ],
   "source": [
    "#arrays can quickly be reshaped, into other applicable shapes. 3*3 can also be viewed as 9 (by one)\n",
    "narray.reshape(9,)"
   ]
  },
  {
   "cell_type": "code",
   "execution_count": 12,
   "id": "8b7abde8",
   "metadata": {
    "pycharm": {
     "name": "#%%\n"
    }
   },
   "outputs": [
    {
     "data": {
      "text/plain": [
       "array([[1, 2, 3],\n",
       "       [4, 5, 6],\n",
       "       [7, 8, 9]])"
      ]
     },
     "execution_count": 12,
     "metadata": {},
     "output_type": "execute_result"
    }
   ],
   "source": [
    "narray.reshape(3,3)"
   ]
  },
  {
   "cell_type": "code",
   "execution_count": 13,
   "id": "f0064499-1014-4a2f-a35a-c719e33b696e",
   "metadata": {
    "pycharm": {
     "name": "#%%\n"
    }
   },
   "outputs": [
    {
     "data": {
      "text/plain": [
       "array([[1, 4, 7],\n",
       "       [2, 5, 8],\n",
       "       [3, 6, 9]])"
      ]
     },
     "execution_count": 13,
     "metadata": {},
     "output_type": "execute_result"
    }
   ],
   "source": [
    "#arrays can be transposed/flipped\n",
    "narray.T"
   ]
  },
  {
   "cell_type": "markdown",
   "id": "6a963d0f",
   "metadata": {
    "pycharm": {
     "name": "#%% md\n"
    }
   },
   "source": [
    "### Note that NumPy has a peculiar way pf dealing with copies - \"a copy is just a view\" - any modifications to the copy is modifications to the original also"
   ]
  },
  {
   "cell_type": "code",
   "execution_count": 14,
   "id": "2dbb4d56",
   "metadata": {
    "pycharm": {
     "name": "#%%\n"
    }
   },
   "outputs": [
    {
     "data": {
      "text/plain": [
       "array([1, 2, 3])"
      ]
     },
     "execution_count": 14,
     "metadata": {},
     "output_type": "execute_result"
    }
   ],
   "source": [
    "#creating a copy, which is a slice of the original\n",
    "narrayCopy = narray[0]\n",
    "narrayCopy"
   ]
  },
  {
   "cell_type": "code",
   "execution_count": 15,
   "id": "40af8cc7",
   "metadata": {
    "pycharm": {
     "name": "#%%\n"
    }
   },
   "outputs": [],
   "source": [
    "#changing the copy\n",
    "narrayCopy[1] = 7"
   ]
  },
  {
   "cell_type": "code",
   "execution_count": 16,
   "id": "fab8a660",
   "metadata": {
    "pycharm": {
     "name": "#%%\n"
    }
   },
   "outputs": [
    {
     "data": {
      "text/plain": [
       "array([[1, 7, 3],\n",
       "       [4, 5, 6],\n",
       "       [7, 8, 9]])"
      ]
     },
     "execution_count": 16,
     "metadata": {},
     "output_type": "execute_result"
    }
   ],
   "source": [
    "narray"
   ]
  },
  {
   "cell_type": "markdown",
   "id": "0a657f47",
   "metadata": {
    "pycharm": {
     "name": "#%% md\n"
    }
   },
   "source": [
    "Note how the original also changed in place 0,1"
   ]
  },
  {
   "cell_type": "markdown",
   "id": "32dfa14d",
   "metadata": {
    "pycharm": {
     "name": "#%% md\n"
    }
   },
   "source": [
    "### lets learn how to import data from file into a NumPy array, to play around with more NumPy functions"
   ]
  },
  {
   "cell_type": "markdown",
   "id": "63199f63-7d9b-48b9-a7a1-e96202f5a6fb",
   "metadata": {
    "pycharm": {
     "name": "#%% md\n"
    }
   },
   "source": [
    "# Importing CSV with numpy (this part is where we put emphasis on)\n",
    "-----------------------------------------"
   ]
  },
  {
   "cell_type": "markdown",
   "id": "30681b28-1705-4486-a3bf-ceacfbb3229e",
   "metadata": {
    "pycharm": {
     "name": "#%% md\n"
    }
   },
   "source": [
    "Remember that NumPy has a great documentation online at numpy.org. This is an example of the documentation of np.genfromtxt as used below:\n",
    "https://numpy.org/doc/stable/reference/generated/numpy.genfromtxt.html#numpy.genfromtxt\n",
    "\n",
    "learning to quickly read documentation on new functions and then implement them is time well spent - as you will always come across new libraries with functions you would like to use."
   ]
  },
  {
   "cell_type": "code",
   "execution_count": 2,
   "id": "7a288372",
   "metadata": {
    "pycharm": {
     "name": "#%%\n"
    }
   },
   "outputs": [],
   "source": [
    "import numpy as np\n",
    "#The csv imported has been uploaded along \n",
    "#with this notebook\n",
    "start_array = np.genfromtxt('sort of random data.csv',\n",
    "                            dtype='float',\n",
    "                            delimiter=';',\n",
    "                            filling_values=0)"
   ]
  },
  {
   "cell_type": "markdown",
   "id": "07afc502",
   "metadata": {
    "pycharm": {
     "name": "#%% md\n"
    }
   },
   "source": [
    "### Now, the start_array holds data we can investigate with numpys different functions"
   ]
  },
  {
   "cell_type": "code",
   "execution_count": 3,
   "id": "bf3b0ca2",
   "metadata": {
    "pycharm": {
     "name": "#%%\n"
    }
   },
   "outputs": [
    {
     "data": {
      "text/plain": "(26, 7)"
     },
     "execution_count": 3,
     "metadata": {},
     "output_type": "execute_result"
    }
   ],
   "source": [
    "#The .shape tells us number of rows, and \n",
    "#columns, respectively\n",
    "start_array.shape"
   ]
  },
  {
   "cell_type": "code",
   "execution_count": 4,
   "id": "0c7f03dc-926b-47a6-8614-76ed0617b9ae",
   "metadata": {
    "pycharm": {
     "name": "#%%\n"
    }
   },
   "outputs": [
    {
     "data": {
      "text/plain": "array([298.12,  48.93,  29.61, 151.  ,  55.1 ,  95.45,  34.4 ,  86.94,\n        64.69,  34.01,  31.25, 357.19, 216.56, 233.44,  24.29, 155.  ,\n       151.61, 151.  ,  47.81, 170.64,  99.36,  42.3 ,  14.94,  43.85,\n       267.7 , 106.61])"
     },
     "execution_count": 4,
     "metadata": {},
     "output_type": "execute_result"
    }
   ],
   "source": [
    "#Making a slice of the array \n",
    "#to inspect one column of the data\n",
    "start_array[:,4]"
   ]
  },
  {
   "cell_type": "markdown",
   "id": "47064cb1-9df1-442a-928c-f3444f16dff0",
   "metadata": {
    "pycharm": {
     "name": "#%% md\n"
    }
   },
   "source": [
    "## Examine the two first columns of the data (display a slice)"
   ]
  },
  {
   "cell_type": "code",
   "execution_count": 5,
   "id": "52b40989-0d15-4380-884f-a9d4404a215a",
   "metadata": {
    "pycharm": {
     "name": "#%%\n"
    }
   },
   "outputs": [
    {
     "data": {
      "text/plain": "array([[17.9237 , 59.6423 ],\n       [17.0514 , 59.5093 ],\n       [20.51447, 59.0481 ],\n       [11.0534 , 60.0814 ],\n       [11.1437 , 60.4586 ],\n       [16.5732 , 55.6803 ],\n       [ 6.71895, 55.365  ],\n       [ 9.1138 , 55.7391 ],\n       [19.45983, 60.287  ],\n       [29.29154, 59.9821 ],\n       [11.117  , 60.1922 ],\n       [16.18511, 58.8726 ],\n       [16.07554, 58.8818 ],\n       [15.98789, 58.8885 ],\n       [22.5235 , 58.266  ],\n       [ 6.1523 , 56.3694 ],\n       [ 7.1236 , 58.6813 ],\n       [ 6.0798 , 59.6619 ],\n       [14.1471 , 60.2908 ],\n       [12.81027, 59.3149 ],\n       [14.6657 , 56.4846 ],\n       [ 4.70555, 60.5926 ],\n       [24.73179, 61.6196 ],\n       [ 9.1897 , 55.1424 ],\n       [10.94208, 55.5425 ],\n       [14.77893, 58.8833 ]])"
     },
     "execution_count": 5,
     "metadata": {},
     "output_type": "execute_result"
    }
   ],
   "source": [
    "start_array[:,:2]"
   ]
  },
  {
   "cell_type": "code",
   "execution_count": 5,
   "id": "f0d2b4c1",
   "metadata": {
    "pycharm": {
     "name": "#%%\n"
    }
   },
   "outputs": [],
   "source": []
  },
  {
   "cell_type": "markdown",
   "id": "73a926c4-a6b2-466f-81e3-e3955ccd7711",
   "metadata": {
    "pycharm": {
     "name": "#%% md\n"
    }
   },
   "source": [
    "## Ex 2 Create a function to return the max, min and mean value in a column\n"
   ]
  },
  {
   "cell_type": "code",
   "execution_count": 6,
   "id": "1dcab9cb",
   "metadata": {
    "pycharm": {
     "name": "#%%\n"
    }
   },
   "outputs": [],
   "source": [
    "def descr(col):\n",
    "    return {'max':np.max(col),\n",
    "            'mean':np.mean(col),\n",
    "           'min':np.min(col)}"
   ]
  },
  {
   "cell_type": "code",
   "execution_count": 7,
   "id": "9a105b89-5be0-4b45-8c33-6faad05f6b88",
   "metadata": {
    "pycharm": {
     "name": "#%%\n"
    }
   },
   "outputs": [
    {
     "data": {
      "text/plain": "{'max': 29.29154, 'mean': 14.079225, 'min': 4.70555}"
     },
     "execution_count": 7,
     "metadata": {},
     "output_type": "execute_result"
    }
   ],
   "source": [
    "descr(start_array[:,0])"
   ]
  },
  {
   "cell_type": "code",
   "execution_count": null,
   "outputs": [],
   "source": [
    "[descr(start_array[:,i]) for i in range(start_array.shape[1])]\n"
   ],
   "metadata": {
    "collapsed": false,
    "pycharm": {
     "name": "#%%\n"
    }
   }
  },
  {
   "cell_type": "code",
   "execution_count": null,
   "outputs": [],
   "source": [],
   "metadata": {
    "collapsed": false,
    "pycharm": {
     "name": "#%%\n"
    }
   }
  },
  {
   "cell_type": "code",
   "execution_count": 11,
   "outputs": [
    {
     "name": "stdout",
     "output_type": "stream",
     "text": [
      "there are 26 rows in the data\n",
      "there are 7 columns in the data\n"
     ]
    }
   ],
   "source": [
    "# information on the shape\n",
    "num_rows = start_array.shape[0]\n",
    "print('there are {} rows in the data'.format(num_rows))\n",
    "\n",
    "num_cols = start_array.shape[1]\n",
    "print('there are {} columns in the data'.format(num_cols))"
   ],
   "metadata": {
    "collapsed": false,
    "pycharm": {
     "name": "#%%\n"
    }
   }
  },
  {
   "cell_type": "markdown",
   "source": [
    "# Think about: how to return top five rows based on values in column 1\n",
    "https://numpy.org/doc/stable/reference/generated/numpy.argsort.html\n",
    "Especially parameters and returns.\n"
   ],
   "metadata": {
    "collapsed": false,
    "pycharm": {
     "name": "#%% md\n"
    }
   }
  },
  {
   "cell_type": "markdown",
   "source": [
    "\n"
   ],
   "metadata": {
    "collapsed": false,
    "pycharm": {
     "name": "#%% md\n"
    }
   }
  },
  {
   "cell_type": "markdown",
   "source": [
    "(use argsort as part of the implementation)\n",
    "\n",
    "(better still: can you write this as a function, which takes a numpy row/column as input and returns the top five rows with their indices)\n",
    "\n",
    "(note that argsort sorts ascending - we are looking for descending sorting. You can use \"np.flip\"/\"np.fliplr\" around the expression, OR numpy indexing, using [::-1] at the end of your expression, to reverse and obtain descending sorting\n"
   ],
   "metadata": {
    "collapsed": false,
    "pycharm": {
     "name": "#%% md\n"
    }
   }
  },
  {
   "cell_type": "code",
   "execution_count": 18,
   "outputs": [
    {
     "name": "stdout",
     "output_type": "stream",
     "text": [
      "[[0 0 0]\n",
      " [3 3 3]\n",
      " [2 2 2]] (3, 3)\n"
     ]
    }
   ],
   "source": [
    "arr0=np.array([0,0,0])\n",
    "arr1=np.array([3,3,3])\n",
    "arr2=np.array([2,2,2])\n",
    "arr = np.array([arr0,arr1,arr2])\n",
    "print(arr, arr.shape)"
   ],
   "metadata": {
    "collapsed": false,
    "pycharm": {
     "name": "#%%\n"
    }
   }
  },
  {
   "cell_type": "code",
   "execution_count": null,
   "outputs": [],
   "source": [],
   "metadata": {
    "collapsed": false,
    "pycharm": {
     "name": "#%%\n"
    }
   }
  },
  {
   "cell_type": "code",
   "execution_count": 34,
   "outputs": [
    {
     "name": "stdout",
     "output_type": "stream",
     "text": [
      "[[0 1 2]\n",
      " [0 1 2]\n",
      " [0 1 2]]\n",
      "[[0 1 2]\n",
      " [0 1 2]\n",
      " [0 1 2]]\n"
     ]
    }
   ],
   "source": [
    "s1 = np.argsort(arr)\n",
    "print(s1)\n",
    "\n",
    "s2= np.argsort(arr,axis=1)\n",
    "print(s2)"
   ],
   "metadata": {
    "collapsed": false,
    "pycharm": {
     "name": "#%%\n"
    }
   }
  },
  {
   "cell_type": "code",
   "execution_count": 40,
   "outputs": [],
   "source": [
    "def top5(ar):\n",
    "    \"\"\"input: an array in shape of (1,)\n",
    "    output: iterable with indices of top five elements, highest value first\"\"\"\n",
    "    ar_sorted_asc = np.argsort(ar) #by default argsort gives ascending sorting\n",
    "    #ar_sorted_desc = np.argsort(ar)[::-1] #to obtain descending sorting, we reverse the order with [::-1] on the end . alternatively np.flip/np.fliplr\n",
    "    \n",
    "    return ar_sorted_asc[:5]"
   ],
   "metadata": {
    "collapsed": false,
    "pycharm": {
     "name": "#%%\n"
    }
   }
  },
  {
   "cell_type": "code",
   "execution_count": 43,
   "id": "0c61ab7c",
   "metadata": {
    "pycharm": {
     "name": "#%%\n"
    }
   },
   "outputs": [
    {
     "name": "stdout",
     "output_type": "stream",
     "text": [
      "[ 4.70555e+00  6.05926e+01  3.37566e+03  1.08180e+02  4.23000e+01\n",
      " -3.30000e-01  3.36042e+03]\n",
      "[ 6.07980e+00  5.96619e+01  6.46938e+03  1.46450e+02  1.51000e+02\n",
      " -9.75000e+00  6.49986e+03]\n",
      "[6.152300e+00 5.636940e+01 1.187958e+04 2.547400e+02 1.550000e+02\n",
      " 0.000000e+00 1.191768e+04]\n",
      "[ 6.71895e+00  5.53650e+01  3.16992e+03  1.73940e+02  3.44000e+01\n",
      " -2.60000e+00  3.13944e+03]\n",
      "[   7.1236   58.6813 6088.38    173.1     151.61     -9.75   6134.1   ]\n"
     ]
    }
   ],
   "source": [
    "#quick loop to print out the top five values. Do a visual sanity check to see that your code returns descending values (column 1)\n",
    "\n",
    "for element in top5(start_array[:,0]):\n",
    "    print(start_array[element,:])"
   ]
  },
  {
   "cell_type": "markdown",
   "id": "67f85539",
   "metadata": {
    "pycharm": {
     "name": "#%% md\n"
    }
   },
   "source": [
    "### Numpy supports using an array with indixes to slice another array. The sorting will be the same as in the original array. useful if you want the five best scores, but dont keed them sorted, etc"
   ]
  },
  {
   "cell_type": "code",
   "execution_count": 18,
   "id": "e1f81766",
   "metadata": {
    "pycharm": {
     "name": "#%%\n"
    }
   },
   "outputs": [
    {
     "data": {
      "text/plain": [
       "array([[ 6.71895, 55.365  ],\n",
       "       [20.51447, 59.0481 ],\n",
       "       [11.0534 , 60.0814 ],\n",
       "       [17.0514 , 59.5093 ],\n",
       "       [11.1437 , 60.4586 ]])"
      ]
     },
     "execution_count": 18,
     "metadata": {},
     "output_type": "execute_result"
    }
   ],
   "source": [
    "start_array[top5(start_array[1]),:2]"
   ]
  },
  {
   "cell_type": "markdown",
   "id": "ba52262a",
   "metadata": {
    "pycharm": {
     "name": "#%% md\n"
    }
   },
   "source": [
    "### "
   ]
  },
  {
   "cell_type": "markdown",
   "id": "4eb01edc",
   "metadata": {
    "pycharm": {
     "name": "#%% md\n"
    }
   },
   "source": [
    "### bonus; pandas DataFrame to easily allow for colunn and row labels. Example with the min/max/mean from above"
   ]
  },
  {
   "cell_type": "code",
   "execution_count": 1,
   "id": "db711ddc-0e77-4ca0-947d-29b53273b66f",
   "metadata": {
    "pycharm": {
     "name": "#%%\n"
    }
   },
   "outputs": [
    {
     "data": {
      "text/html": [
       "<div>\n",
       "<style scoped>\n",
       "    .dataframe tbody tr th:only-of-type {\n",
       "        vertical-align: middle;\n",
       "    }\n",
       "\n",
       "    .dataframe tbody tr th {\n",
       "        vertical-align: top;\n",
       "    }\n",
       "\n",
       "    .dataframe thead th {\n",
       "        text-align: right;\n",
       "    }\n",
       "</style>\n",
       "<table border=\"1\" class=\"dataframe\">\n",
       "  <thead>\n",
       "    <tr style=\"text-align: right;\">\n",
       "      <th></th>\n",
       "      <th>max</th>\n",
       "      <th>mean</th>\n",
       "      <th>min</th>\n",
       "    </tr>\n",
       "  </thead>\n",
       "  <tbody>\n",
       "    <tr>\n",
       "      <th>0</th>\n",
       "      <td>29.29154</td>\n",
       "      <td>14.079225</td>\n",
       "      <td>4.70555</td>\n",
       "    </tr>\n",
       "    <tr>\n",
       "      <th>1</th>\n",
       "      <td>61.61960</td>\n",
       "      <td>58.595292</td>\n",
       "      <td>55.14240</td>\n",
       "    </tr>\n",
       "    <tr>\n",
       "      <th>2</th>\n",
       "      <td>11894.82000</td>\n",
       "      <td>4120.075385</td>\n",
       "      <td>0.00000</td>\n",
       "    </tr>\n",
       "    <tr>\n",
       "      <th>3</th>\n",
       "      <td>283.69000</td>\n",
       "      <td>156.414912</td>\n",
       "      <td>16.98000</td>\n",
       "    </tr>\n",
       "    <tr>\n",
       "      <th>4</th>\n",
       "      <td>357.19000</td>\n",
       "      <td>115.838462</td>\n",
       "      <td>14.94000</td>\n",
       "    </tr>\n",
       "    <tr>\n",
       "      <th>5</th>\n",
       "      <td>0.00000</td>\n",
       "      <td>-2.713846</td>\n",
       "      <td>-10.73000</td>\n",
       "    </tr>\n",
       "    <tr>\n",
       "      <th>6</th>\n",
       "      <td>11940.54000</td>\n",
       "      <td>3770.727692</td>\n",
       "      <td>0.00000</td>\n",
       "    </tr>\n",
       "  </tbody>\n",
       "</table>\n",
       "</div>"
      ],
      "text/plain": [
       "           max         mean       min\n",
       "0     29.29154    14.079225   4.70555\n",
       "1     61.61960    58.595292  55.14240\n",
       "2  11894.82000  4120.075385   0.00000\n",
       "3    283.69000   156.414912  16.98000\n",
       "4    357.19000   115.838462  14.94000\n",
       "5      0.00000    -2.713846 -10.73000\n",
       "6  11940.54000  3770.727692   0.00000"
      ]
     },
     "execution_count": 1,
     "metadata": {},
     "output_type": "execute_result"
    }
   ],
   "source": [
    "import pandas as pd\n",
    "pd.DataFrame([descr(start_array[:,i]) for i in range(start_array.shape[1])])"
   ]
  }
 ],
 "metadata": {
  "kernelspec": {
   "display_name": "Python 3",
   "language": "python",
   "name": "python3"
  },
  "language_info": {
   "codemirror_mode": {
    "name": "ipython",
    "version": 3
   },
   "file_extension": ".py",
   "mimetype": "text/x-python",
   "name": "python",
   "nbconvert_exporter": "python",
   "pygments_lexer": "ipython3",
   "version": "3.6.6+"
  },
  "widgets": {
   "application/vnd.jupyter.widget-state+json": {
    "state": {},
    "version_major": 2,
    "version_minor": 0
   }
  }
 },
 "nbformat": 4,
 "nbformat_minor": 5
}