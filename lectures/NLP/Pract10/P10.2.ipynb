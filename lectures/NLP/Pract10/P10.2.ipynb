{
 "cells": [
  {
   "cell_type": "code",
   "execution_count": null,
   "metadata": {
    "collapsed": true,
    "pycharm": {
     "name": "#%%\n"
    }
   },
   "outputs": [],
   "source": [
    "# KUC, NLP\n",
    "# load sms-spam, applying LDA using sklearn"
   ]
  },
  {
   "cell_type": "markdown",
   "metadata": {
    "pycharm": {
     "name": "#%% md\n"
    }
   },
   "source": [
    "1. Load data"
   ]
  },
  {
   "cell_type": "code",
   "execution_count": 3,
   "metadata": {
    "pycharm": {
     "name": "#%%\n"
    }
   },
   "outputs": [
    {
     "name": "stdout",
     "output_type": "stream",
     "text": [
      "   spam                                               text\n",
      "0     0  Go until jurong point, crazy.. Available only ...\n",
      "1     0                      Ok lar... Joking wif u oni...\n",
      "2     1  Free entry in 2 a wkly comp to win FA Cup fina...\n",
      "3     0  U dun say so early hor... U c already then say...\n",
      "4     0  Nah I don't think he goes to usf, he lives aro...\n",
      "       spam                                               text\n",
      "sms0      0  Go until jurong point, crazy.. Available only ...\n",
      "sms1      0                      Ok lar... Joking wif u oni...\n",
      "sms2!     1  Free entry in 2 a wkly comp to win FA Cup fina...\n",
      "sms3      0  U dun say so early hor... U c already then say...\n",
      "sms4      0  Nah I don't think he goes to usf, he lives aro...\n"
     ]
    }
   ],
   "source": [
    "# import sms-spam.csv\n",
    "import pandas as pd\n",
    "sms = pd.read_csv('sms-spam.csv',usecols= ['spam','text'])\n",
    "print(sms.head())\n",
    "\n",
    "index = ['sms{}{}'.format(i, '!'*j) for (i,j) in zip(range(len(sms)), sms.spam)]  # <2>\n",
    "sms = pd.DataFrame(sms.values, columns=sms.columns, index=index)\n",
    "mask = sms.spam.astype(bool).values\n",
    "sms['spam'] = sms.spam.astype(int)\n",
    "\n",
    "print(sms.head())"
   ]
  },
  {
   "cell_type": "markdown",
   "metadata": {
    "pycharm": {
     "name": "#%% md\n"
    }
   },
   "source": [
    "2. generate TF-IDF vectors"
   ]
  },
  {
   "cell_type": "code",
   "execution_count": 4,
   "metadata": {
    "pycharm": {
     "name": "#%%\n"
    }
   },
   "outputs": [
    {
     "name": "stderr",
     "output_type": "stream",
     "text": [
      "/Users/jesselang/anaconda3/lib/python3.11/site-packages/sklearn/feature_extraction/text.py:525: UserWarning: The parameter 'token_pattern' will not be used since 'tokenizer' is not None'\n",
      "  warnings.warn(\n"
     ]
    },
    {
     "name": "stdout",
     "output_type": "stream",
     "text": [
      "(4837, 9232)\n",
      "['!' '\"' '#' ... '┾' '〨ud' '鈥']\n"
     ]
    }
   ],
   "source": [
    "from sklearn.feature_extraction.text import TfidfVectorizer\n",
    "from nltk.tokenize.casual import casual_tokenize\n",
    "\n",
    "tfidf_model = TfidfVectorizer(tokenizer=casual_tokenize)\n",
    "tfidf_docs = tfidf_model.fit_transform(raw_documents=sms.text)\n",
    "print(tfidf_docs.toarray().shape)\n",
    "print(tfidf_model.get_feature_names_out())\n"
   ]
  },
  {
   "cell_type": "code",
   "execution_count": 5,
   "metadata": {
    "pycharm": {
     "name": "#%%\n"
    }
   },
   "outputs": [
    {
     "name": "stdout",
     "output_type": "stream",
     "text": [
      "                                                                                                                        0\n",
      "0  shall, birthday, ., pls, .., oredi, a, my, i, to, is, meh, car, usual, film, and, ..., you, dad, bye                  \n",
      "1  ..., ., i, u, ?, ok, you, !, me, to, lor, a, my, ,, ü, it, so, 2, how, then                                           \n",
      "2  half, .., *, those, rental, =, ,, 3030, 0870, tick, per, 08707509020, plenty, ltd, 5wb, croydon, cr9, price, 1327, 20p\n",
      "3  ., call, your, for, waiting, to, ,, please, i, happy, you, i'm, <#>, the, at, new, .., office, as, message            \n",
      "4  £, !, to, ., a, call, &, txt, claim, ,, your, prize, free, or, /, mobile, cash, stop, t, from                         \n",
      "['shall, birthday, ., pls, .., oredi, a, my, i, to, is, meh, car, usual, film, and, ..., you, dad, bye', '..., ., i, u, ?, ok, you, !, me, to, lor, a, my, ,, ü, it, so, 2, how, then', 'half, .., *, those, rental, =, ,, 3030, 0870, tick, per, 08707509020, plenty, ltd, 5wb, croydon, cr9, price, 1327, 20p', \"., call, your, for, waiting, to, ,, please, i, happy, you, i'm, <#>, the, at, new, .., office, as, message\", '£, !, to, ., a, call, &, txt, claim, ,, your, prize, free, or, /, mobile, cash, stop, t, from', \"later, sorry, call, i'll, ,, ., meeting, in, right, pls, message, i, cant, me, now, phone, free, movie, pick, watching\", \"., ', the, .., your, neva, !, yup, please, ?, you, is, hee, service, have, message, club, customer, to, for\", '?, ., you, reply, to, email, ,, a, finished, ..., or, your, sounds, tmr, noon, at, of, free, unlimited, camcorder', ':), okie, k, .., ., \", no, to, and, got, ?, i, how, new, the, possible, course, ill, search, did', '., the, is, .., you, !, am, have, to, u, ?, no, on, a, i, 2, way, ,, this, ur', '., mins, free, on, something, for, to, &, ,, or, !, latest, it, orange, <#>, i, your, double, the, 8', 'no, .., prob, plans, thursday, message, awake, chikku, settled, yet, 350, ?, doin, area, match, responce, letter, wet, happend, app', \".., and, (, omw, ), menu, sunday, very, texts, yay, 08712460324, pilates, surfing, ym, saturday, i'm, yoga, ideas, space, vikky\", '., you, i, to, ?, ,, the, in, and, a, me, be, do, my, that, is, will, what, it, get', '., ur, tone, !, .., week, plan, daddy, mates, whats, hostel, ,, nokia, :), no, mob, txting, tell, charity, 2', '.., ur, who, door, good, difficult, \", plz, is, so, reveal, training, morning, truth, ., secret, admirer, thinks, sunday, feels']\n"
     ]
    },
    {
     "name": "stderr",
     "output_type": "stream",
     "text": [
      "/var/folders/jw/pk9yd5v978d_6j_wky4ptw480000gn/T/ipykernel_61538/2622021794.py:17: FutureWarning: Passing a negative integer is deprecated in version 1.0 and will not be supported in future version. Instead, use None to not limit the column width.\n",
      "  pd.set_option('display.max_colwidth', -1)\n"
     ]
    }
   ],
   "source": [
    "# using scikit-learn package\n",
    "from sklearn.decomposition import LatentDirichletAllocation\n",
    "import numpy as np\n",
    "lda_model = LatentDirichletAllocation(16)\n",
    "topics = lda_model.fit_transform(tfidf_docs)\n",
    "# topic_terms = lda_model.components_\n",
    "# topic_key_id= np.argsort(-np.absolute(topic_terms, axis=1[:,:20]))\n",
    "\n",
    "\n",
    "top_terms = 20\n",
    "TOTAL_TOPICS = 20\n",
    "vocabulary = np.array(tfidf_model.get_feature_names_out())\n",
    "topic_terms = lda_model.components_\n",
    "topic_key_term_idxs = np.argsort(-np.absolute(topic_terms), axis=1)[:, :top_terms]\n",
    "topic_keyterms = vocabulary[topic_key_term_idxs]\n",
    "topics = [', '.join(topic) for topic in topic_keyterms]\n",
    "pd.set_option('display.max_colwidth', -1)\n",
    "topics_df = pd.DataFrame(topics)\n",
    "print(topics_df.head(5))\n",
    "print(topics)"
   ]
  },
  {
   "cell_type": "markdown",
   "metadata": {
    "pycharm": {
     "name": "#%% md\n"
    }
   },
   "source": [
    "In comparison:"
   ]
  },
  {
   "cell_type": "code",
   "execution_count": 6,
   "metadata": {
    "pycharm": {
     "name": "#%%\n"
    }
   },
   "outputs": [
    {
     "name": "stdout",
     "output_type": "stream",
     "text": [
      "                                                                                                                                   0\n",
      "0  ., new, ur, \", id, possible, comin, otherwise, .., your, 2nite, stupid.its, doctor, liked, login, 1, job, happy, daily, <decimal>\n",
      "1  .., nothing, thinking, chennai, aathi, :), izzit, fine, lot, bitch, love, &, in, din, xmas, vijay, usual, whats, iam, available  \n",
      "2  ., you, !, ?, to, ', reach, ,, .., your, i, are, free, mobile, ;, dreams, sweet, dear, where, talking                            \n",
      "3  £, prize, ., call, won, urgent, !, claim, guaranteed, your, a, |, to, 1000, line, cash, valid, have, contact, you                \n",
      "4  /, to, ., 150p, ur, !, :, week, don, wants, and, 86688, txt, now, receive, u, is, umma, 2, move                                  \n"
     ]
    },
    {
     "name": "stderr",
     "output_type": "stream",
     "text": [
      "/var/folders/jw/pk9yd5v978d_6j_wky4ptw480000gn/T/ipykernel_61538/2700899050.py:17: FutureWarning: Passing a negative integer is deprecated in version 1.0 and will not be supported in future version. Instead, use None to not limit the column width.\n",
      "  pd.set_option('display.max_colwidth', -1)\n"
     ]
    }
   ],
   "source": [
    "\n",
    "# using scikit-learn package\n",
    "from sklearn.decomposition import LatentDirichletAllocation\n",
    "import numpy as np\n",
    "lda_model = LatentDirichletAllocation(16)\n",
    "topics = lda_model.fit_transform(tfidf_docs)\n",
    "# topic_terms = lda_model.components_\n",
    "# topic_key_id= np.argsort(-np.absolute(topic_terms, axis=1[:,:20]))\n",
    "\n",
    "\n",
    "top_terms = 20\n",
    "TOTAL_TOPICS = 20\n",
    "vocabulary = np.array(tfidf_model.get_feature_names_out())\n",
    "topic_terms = lda_model.components_\n",
    "topic_key_term_idxs = np.argsort(-np.absolute(topic_terms), axis=1)[:, :top_terms]\n",
    "topic_keyterms = vocabulary[topic_key_term_idxs]\n",
    "topics = [', '.join(topic) for topic in topic_keyterms]\n",
    "pd.set_option('display.max_colwidth', -1)\n",
    "topics_df = pd.DataFrame(topics)\n",
    "print(topics_df.head(5))"
   ]
  },
  {
   "cell_type": "code",
   "execution_count": 7,
   "metadata": {
    "pycharm": {
     "name": "#%%\n"
    }
   },
   "outputs": [
    {
     "name": "stdout",
     "output_type": "stream",
     "text": [
      "['., new, ur, \", id, possible, comin, otherwise, .., your, 2nite, stupid.its, doctor, liked, login, 1, job, happy, daily, <decimal>', '.., nothing, thinking, chennai, aathi, :), izzit, fine, lot, bitch, love, &, in, din, xmas, vijay, usual, whats, iam, available', \"., you, !, ?, to, ', reach, ,, .., your, i, are, free, mobile, ;, dreams, sweet, dear, where, talking\", '£, prize, ., call, won, urgent, !, claim, guaranteed, your, a, |, to, 1000, line, cash, valid, have, contact, you', '/, to, ., 150p, ur, !, :, week, don, wants, and, 86688, txt, now, receive, u, is, umma, 2, move', '..., princess, yup, nite, ., !, good, dear, happy, morning, ham, office, you, noe, hi, to, plz, a, ?, my', \"later, sorry, i'll, call, ,, meeting, .., pls, birthday, ., is, in, sch, service, a, story, u, me, persons, tmr\", 'u, ., !, 2, the, who, . . ., is, to, have, b4, bathe, &, ,, per, ur, this, for, £, contact', 'okie, almost, .., sec, !, library, die, christmas, pizza, ish, <#>, ..., 88066, normal, kids, bigger, merry, ., round, thanx', 'thanx, \", a, :, mrng, 8007, gud, hav, tone, nice, msgs, thinkin, ,, charity, \\x92, voice, cute, account, dear, ur', '., <#>, i, :), will, to, the, k, ?, in, ,, you, be, .., a, and, at, fine, is, on', \"prob, ., no, room, words, :), the, pain, a, selected, use, nvm, mah, to, download, brain, hahaha, ?, i'd, ending\", '..., tmr, driving, ., sat, !, den, dint, ate, machan, tht, camera, bold, within, okie, goodnight, e, lesson, freephone, disturb', '., .., \", !, ,, :-), in, :, semester, the, to, a, your, account, ur, ?, 2003, d, points, s', '., i, you, ?, ..., to, ,, u, the, a, me, !, and, my, it, in, ok, is, do, not', '., pls, the, send, town, call, cant, message, phone, pick, right, i, your, now, double, customer, free, &, a, happen']\n"
     ]
    }
   ],
   "source": [
    "print(topics)"
   ]
  }
 ],
 "metadata": {
  "kernelspec": {
   "display_name": "Python 3 (ipykernel)",
   "language": "python",
   "name": "python3"
  },
  "language_info": {
   "codemirror_mode": {
    "name": "ipython",
    "version": 3
   },
   "file_extension": ".py",
   "mimetype": "text/x-python",
   "name": "python",
   "nbconvert_exporter": "python",
   "pygments_lexer": "ipython3",
   "version": "3.11.4"
  }
 },
 "nbformat": 4,
 "nbformat_minor": 1
}
