{
 "cells": [
  {
   "cell_type": "code",
   "execution_count": null,
   "metadata": {
    "collapsed": true,
    "pycharm": {
     "name": "#%%\n"
    }
   },
   "outputs": [],
   "source": [
    "# KUC\n",
    "# Word2Vec"
   ]
  },
  {
   "cell_type": "code",
   "execution_count": null,
   "metadata": {
    "pycharm": {
     "name": "#%%\n"
    }
   },
   "outputs": [],
   "source": [
    "# create a token list\n",
    "from nltk.tokenize import TreebankWordTokenizer\n",
    "corpus = [\n",
    "    'Norwegian (Norwegian: norsk) is a North Germanic language spoken mainly in Norway, where it is an official language. Along with Swedish and Danish, Norwegian forms a dialect continuum of more or less mutually intelligible local and regional varieties; some Norwegian and Swedish dialects, in particular, are very close. These Scandinavian languages, together with Faroese and Icelandic as well as some extinct languages, constitute the North Germanic languages. Faroese and Icelandic are not mutually intelligible with Norwegian in their spoken form because continental Scandinavian has diverged from them. While the two Germanic languages with the greatest numbers of speakers, English and German, have close similarities with Norwegian, neither is mutually intelligible with it. Norwegian is a descendant of Old Norse, the common language of the Germanic peoples living in Scandinavia during the Viking Era.',\n",
    "    'Norsk er et nordisk språk som er offisielt språk i Norge og morsmål til rundt 90 % av befolkningen[2] (i 2012 morsmål til omtrent 4 320 000 personer[3])[1]. Det snakkes også av over 50 000 norsk-amerikanere i USA, spesielt i Midtvesten. Norsk, svensk og dansk utgjør sammen de fastlandsnordiske språkene, et kontinuum av mer eller mindre innbyrdes forståelige dialekter i Skandinavia.[4] Norsk kan føres tilbake til de vestnordiske dialektene av norrønt, som også islandsk og færøysk har utgått fra, men avstanden til disse øynordiske språkene er i dag langt større enn avstanden til de østnordiske språkene dansk og svensk. Det er vanskelig å avgrense norsk mot svensk og dansk etter rent språklige kriterier; i praksis kan moderne norsk sies å være de skandinaviske dialekter og standardspråk som har geografisk tilknytning til Norge.',\n",
    "    'Norsk rettskrivning ble fra senmiddelalderen delvis erstattet av dansk skriftspråk. Sent på 1800-tallet oppstod landsmål, senere nynorsk, som et alternativt skriftspråk basert på flere norske dialekter. Dette gav støtet til den norske språkstriden, en langvarig strid mellom tilhengere av de ulike målformene og rettskrivningene. Rundt 85–90 prosent bruker i dag bokmål som sitt viktigste skriftspråk, mens resten bruker nynorsk.[5][6] I 2019 hadde 87 % av elevene i grunnskolen bokmål som målform.[7]'\n",
    "\n",
    "    ]\n",
    "corpus = ['Oslo City is one of the largest shopping centres in central Oslo, Norway. The shopping centre was built in 1988, and is visited by c. 50,000 people a day – 16 million a year. It generated gross revenues of 1,444 billion Norwegian kroner in 2005. It has 26,000 m² of commercial space, with 93 stores on five floors.']\n",
    "tokenizer = TreebankWordTokenizer()\n",
    "token_list = []\n",
    "for doc in corpus:\n",
    "    token_list += [sorted(tokenizer.tokenize(doc.lower()))]"
   ]
  },
  {
   "cell_type": "code",
   "execution_count": null,
   "metadata": {
    "pycharm": {
     "name": "#%%\n"
    }
   },
   "outputs": [],
   "source": [
    "print(token_list)"
   ]
  },
  {
   "cell_type": "code",
   "execution_count": null,
   "metadata": {
    "pycharm": {
     "name": "#%%\n"
    }
   },
   "outputs": [],
   "source": [
    "from gensim.models import Word2Vec\n",
    "\n",
    "#training parameters\n",
    "num_features = 300\n",
    "min_word_count = 3\n",
    "num_workers = 2\n",
    "window_size = 6\n",
    "subsampling = 1e-3\n",
    "# model = Word2Vec(token_list)\n",
    "\n",
    "model = Word2Vec(sentences=token_list, vector_size=100, window=5, min_count=1, workers=4)\n",
    "# model = Word2Vec(token_list)\n",
    "model.init_sims()\n"
   ]
  },
  {
   "cell_type": "code",
   "execution_count": null,
   "metadata": {
    "collapsed": false,
    "pycharm": {
     "name": "#%%\n"
    }
   },
   "outputs": [],
   "source": [
    "list(model.wv.index_to_key)"
   ]
  },
  {
   "cell_type": "code",
   "execution_count": null,
   "metadata": {
    "collapsed": false,
    "pycharm": {
     "name": "#%%\n"
    }
   },
   "outputs": [],
   "source": [
    "model.wv.most_similar('norwegian')"
   ]
  },
  {
   "cell_type": "code",
   "execution_count": null,
   "metadata": {
    "pycharm": {
     "name": "#%%\n"
    }
   },
   "outputs": [],
   "source": [
    "print(model.wv.most_similar('oslo'))"
   ]
  },
  {
   "cell_type": "code",
   "execution_count": null,
   "metadata": {
    "pycharm": {
     "name": "#%%\n"
    }
   },
   "outputs": [],
   "source": [
    "model.wv.most_similar('people', topn=10)"
   ]
  },
  {
   "cell_type": "code",
   "execution_count": null,
   "metadata": {
    "pycharm": {
     "name": "#%%\n"
    }
   },
   "outputs": [],
   "source": []
  },
  {
   "cell_type": "code",
   "execution_count": null,
   "metadata": {
    "collapsed": false,
    "pycharm": {
     "name": "#%%\n"
    }
   },
   "outputs": [],
   "source": []
  }
 ],
 "metadata": {
  "kernelspec": {
   "display_name": "Python 3",
   "language": "python",
   "name": "python3"
  },
  "language_info": {
   "codemirror_mode": {
    "name": "ipython",
    "version": 3
   },
   "file_extension": ".py",
   "mimetype": "text/x-python",
   "name": "python",
   "nbconvert_exporter": "python",
   "pygments_lexer": "ipython3",
   "version": "3.8.5"
  }
 },
 "nbformat": 4,
 "nbformat_minor": 1
}
