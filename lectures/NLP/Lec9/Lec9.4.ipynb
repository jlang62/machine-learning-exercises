{
 "cells": [
  {
   "cell_type": "code",
   "execution_count": 1,
   "metadata": {
    "collapsed": true,
    "pycharm": {
     "name": "#%%\n"
    }
   },
   "outputs": [],
   "source": [
    "# KUC\n",
    "# Word2Vec"
   ]
  },
  {
   "cell_type": "code",
   "execution_count": 2,
   "metadata": {
    "pycharm": {
     "name": "#%%\n"
    }
   },
   "outputs": [],
   "source": [
    "# create a token list\n",
    "from nltk.tokenize import TreebankWordTokenizer\n",
    "corpus = [\n",
    "    'Norwegian (Norwegian: norsk) is a North Germanic language spoken mainly in Norway, where it is an official language. Along with Swedish and Danish, Norwegian forms a dialect continuum of more or less mutually intelligible local and regional varieties; some Norwegian and Swedish dialects, in particular, are very close. These Scandinavian languages, together with Faroese and Icelandic as well as some extinct languages, constitute the North Germanic languages. Faroese and Icelandic are not mutually intelligible with Norwegian in their spoken form because continental Scandinavian has diverged from them. While the two Germanic languages with the greatest numbers of speakers, English and German, have close similarities with Norwegian, neither is mutually intelligible with it. Norwegian is a descendant of Old Norse, the common language of the Germanic peoples living in Scandinavia during the Viking Era.',\n",
    "    'Norsk er et nordisk språk som er offisielt språk i Norge og morsmål til rundt 90 % av befolkningen[2] (i 2012 morsmål til omtrent 4 320 000 personer[3])[1]. Det snakkes også av over 50 000 norsk-amerikanere i USA, spesielt i Midtvesten. Norsk, svensk og dansk utgjør sammen de fastlandsnordiske språkene, et kontinuum av mer eller mindre innbyrdes forståelige dialekter i Skandinavia.[4] Norsk kan føres tilbake til de vestnordiske dialektene av norrønt, som også islandsk og færøysk har utgått fra, men avstanden til disse øynordiske språkene er i dag langt større enn avstanden til de østnordiske språkene dansk og svensk. Det er vanskelig å avgrense norsk mot svensk og dansk etter rent språklige kriterier; i praksis kan moderne norsk sies å være de skandinaviske dialekter og standardspråk som har geografisk tilknytning til Norge.',\n",
    "    'Norsk rettskrivning ble fra senmiddelalderen delvis erstattet av dansk skriftspråk. Sent på 1800-tallet oppstod landsmål, senere nynorsk, som et alternativt skriftspråk basert på flere norske dialekter. Dette gav støtet til den norske språkstriden, en langvarig strid mellom tilhengere av de ulike målformene og rettskrivningene. Rundt 85–90 prosent bruker i dag bokmål som sitt viktigste skriftspråk, mens resten bruker nynorsk.[5][6] I 2019 hadde 87 % av elevene i grunnskolen bokmål som målform.[7]'\n",
    "\n",
    "    ]\n",
    "corpus = ['Oslo City is one of the largest shopping centres in central Oslo, Norway. The shopping centre was built in 1988, and is visited by c. 50,000 people a day – 16 million a year. It generated gross revenues of 1,444 billion Norwegian kroner in 2005. It has 26,000 m² of commercial space, with 93 stores on five floors.']\n",
    "tokenizer = TreebankWordTokenizer()\n",
    "token_list = []\n",
    "for doc in corpus:\n",
    "    token_list += [sorted(tokenizer.tokenize(doc.lower()))]"
   ]
  },
  {
   "cell_type": "code",
   "execution_count": 3,
   "metadata": {
    "pycharm": {
     "name": "#%%\n"
    }
   },
   "outputs": [
    {
     "name": "stdout",
     "output_type": "stream",
     "text": [
      "[[',', ',', ',', '.', '1,444', '16', '1988', '2005.', '26,000', '50,000', '93', 'a', 'a', 'and', 'billion', 'built', 'by', 'c.', 'central', 'centre', 'centres', 'city', 'commercial', 'day', 'five', 'floors', 'generated', 'gross', 'has', 'in', 'in', 'in', 'is', 'is', 'it', 'it', 'kroner', 'largest', 'million', 'm²', 'norway.', 'norwegian', 'of', 'of', 'of', 'on', 'one', 'oslo', 'oslo', 'people', 'revenues', 'shopping', 'shopping', 'space', 'stores', 'the', 'the', 'visited', 'was', 'with', 'year.', '–']]\n"
     ]
    }
   ],
   "source": [
    "print(token_list)"
   ]
  },
  {
   "cell_type": "code",
   "execution_count": 5,
   "metadata": {
    "pycharm": {
     "name": "#%%\n"
    }
   },
   "outputs": [
    {
     "name": "stderr",
     "output_type": "stream",
     "text": [
      "/var/folders/96/nzbv_1f552n35ys6t_2wlj880000gp/T/ipykernel_8167/3831211768.py:13: DeprecationWarning: Call to deprecated `init_sims` (Gensim 4.0.0 implemented internal optimizations that make calls to init_sims() unnecessary. init_sims() is now obsoleted and will be completely removed in future versions. See https://github.com/RaRe-Technologies/gensim/wiki/Migrating-from-Gensim-3.x-to-4).\n",
      "  model.init_sims()\n"
     ]
    }
   ],
   "source": [
    "from gensim.models import Word2Vec\n",
    "\n",
    "#training parameters\n",
    "num_features = 300\n",
    "min_word_count = 3\n",
    "num_workers = 2\n",
    "window_size = 6\n",
    "subsampling = 1e-3\n",
    "# model = Word2Vec(token_list)\n",
    "\n",
    "model = Word2Vec(sentences=token_list, vector_size=100, window=5, min_count=1, workers=4)\n",
    "# model = Word2Vec(token_list)\n",
    "model.init_sims()\n"
   ]
  },
  {
   "cell_type": "code",
   "execution_count": 6,
   "outputs": [
    {
     "data": {
      "text/plain": "[',',\n 'in',\n 'of',\n 'the',\n 'shopping',\n 'oslo',\n 'is',\n 'a',\n 'it',\n '1,444',\n 'by',\n 'city',\n 'centres',\n 'centre',\n '.',\n 'central',\n 'c.',\n 'and',\n 'built',\n 'billion',\n '16',\n 'day',\n '93',\n '50,000',\n '26,000',\n '2005.',\n '1988',\n 'commercial',\n '–',\n 'five',\n 'on',\n 'with',\n 'was',\n 'visited',\n 'stores',\n 'space',\n 'revenues',\n 'people',\n 'one',\n 'norwegian',\n 'floors',\n 'norway.',\n 'm²',\n 'million',\n 'largest',\n 'kroner',\n 'has',\n 'year.',\n 'generated',\n 'gross']"
     },
     "execution_count": 6,
     "metadata": {},
     "output_type": "execute_result"
    }
   ],
   "source": [
    "list(model.wv.index_to_key)"
   ],
   "metadata": {
    "collapsed": false,
    "pycharm": {
     "name": "#%%\n"
    }
   }
  },
  {
   "cell_type": "code",
   "execution_count": 7,
   "outputs": [
    {
     "data": {
      "text/plain": "[('has', 0.14600470662117004),\n ('kroner', 0.14586541056632996),\n ('gross', 0.13856211304664612),\n ('stores', 0.12882834672927856),\n ('city', 0.12218588590621948),\n ('it', 0.10207177698612213),\n ('centre', 0.09971971064805984),\n ('generated', 0.0949489176273346),\n ('day', 0.09422622621059418),\n ('on', 0.08802300691604614)]"
     },
     "execution_count": 7,
     "metadata": {},
     "output_type": "execute_result"
    }
   ],
   "source": [
    "model.wv.most_similar('norwegian')"
   ],
   "metadata": {
    "collapsed": false,
    "pycharm": {
     "name": "#%%\n"
    }
   }
  },
  {
   "cell_type": "code",
   "execution_count": 8,
   "metadata": {
    "pycharm": {
     "name": "#%%\n"
    }
   },
   "outputs": [
    {
     "name": "stdout",
     "output_type": "stream",
     "text": [
      "[('city', 0.16726021468639374), ('on', 0.16334912180900574), ('shopping', 0.13938260078430176), ('the', 0.13123172521591187), ('norway.', 0.11662817746400833), ('16', 0.09777708351612091), ('commercial', 0.09711813926696777), ('year.', 0.08403553068637848), ('and', 0.07206928730010986), ('gross', 0.06669653207063675)]\n"
     ]
    }
   ],
   "source": [
    "print(model.wv.most_similar('oslo'))"
   ]
  },
  {
   "cell_type": "code",
   "execution_count": 9,
   "metadata": {
    "pycharm": {
     "name": "#%%\n"
    }
   },
   "outputs": [
    {
     "data": {
      "text/plain": "[('is', 0.35018813610076904),\n ('largest', 0.2649592161178589),\n ('centres', 0.2482377290725708),\n ('year.', 0.22951599955558777),\n ('a', 0.20357704162597656),\n ('shopping', 0.14533807337284088),\n ('2005.', 0.1361277848482132),\n ('was', 0.131125345826149),\n ('billion', 0.12224104255437851),\n ('city', 0.12198621034622192)]"
     },
     "execution_count": 9,
     "metadata": {},
     "output_type": "execute_result"
    }
   ],
   "source": [
    "model.wv.most_similar('people', topn=10)"
   ]
  },
  {
   "cell_type": "code",
   "execution_count": 33,
   "metadata": {
    "pycharm": {
     "name": "#%%\n"
    }
   },
   "outputs": [],
   "source": []
  },
  {
   "cell_type": "code",
   "execution_count": null,
   "outputs": [],
   "source": [],
   "metadata": {
    "collapsed": false,
    "pycharm": {
     "name": "#%%\n"
    }
   }
  }
 ],
 "metadata": {
  "kernelspec": {
   "display_name": "Python 3",
   "language": "python",
   "name": "python3"
  },
  "language_info": {
   "codemirror_mode": {
    "name": "ipython",
    "version": 3
   },
   "file_extension": ".py",
   "mimetype": "text/x-python",
   "name": "python",
   "nbconvert_exporter": "python",
   "pygments_lexer": "ipython3",
   "version": "3.8.5"
  }
 },
 "nbformat": 4,
 "nbformat_minor": 1
}