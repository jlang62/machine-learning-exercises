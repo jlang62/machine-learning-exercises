{
 "cells": [
  {
   "cell_type": "code",
   "execution_count": null,
   "metadata": {
    "collapsed": true,
    "pycharm": {
     "name": "#%%\n"
    }
   },
   "outputs": [],
   "source": [
    "# KUC\n",
    "# Word2Vec"
   ]
  },
  {
   "cell_type": "code",
   "execution_count": 17,
   "metadata": {
    "pycharm": {
     "name": "#%%\n"
    }
   },
   "outputs": [],
   "source": [
    "# create a token list\n",
    "from nltk.tokenize import TreebankWordTokenizer\n",
    "corpus = [\n",
    "    'Norwegian (Norwegian: norsk) is a North Germanic language spoken mainly in Norway, where it is an official language. Along with Swedish and Danish, Norwegian forms a dialect continuum of more or less mutually intelligible local and regional varieties; some Norwegian and Swedish dialects, in particular, are very close. These Scandinavian languages, together with Faroese and Icelandic as well as some extinct languages, constitute the North Germanic languages. Faroese and Icelandic are not mutually intelligible with Norwegian in their spoken form because continental Scandinavian has diverged from them. While the two Germanic languages with the greatest numbers of speakers, English and German, have close similarities with Norwegian, neither is mutually intelligible with it. Norwegian is a descendant of Old Norse, the common language of the Germanic peoples living in Scandinavia during the Viking Era.',\n",
    "    'Norsk er et nordisk språk som er offisielt språk i Norge og morsmål til rundt 90 % av befolkningen[2] (i 2012 morsmål til omtrent 4 320 000 personer[3])[1]. Det snakkes også av over 50 000 norsk-amerikanere i USA, spesielt i Midtvesten. Norsk, svensk og dansk utgjør sammen de fastlandsnordiske språkene, et kontinuum av mer eller mindre innbyrdes forståelige dialekter i Skandinavia.[4] Norsk kan føres tilbake til de vestnordiske dialektene av norrønt, som også islandsk og færøysk har utgått fra, men avstanden til disse øynordiske språkene er i dag langt større enn avstanden til de østnordiske språkene dansk og svensk. Det er vanskelig å avgrense norsk mot svensk og dansk etter rent språklige kriterier; i praksis kan moderne norsk sies å være de skandinaviske dialekter og standardspråk som har geografisk tilknytning til Norge.',\n",
    "    'Norsk rettskrivning ble fra senmiddelalderen delvis erstattet av dansk skriftspråk. Sent på 1800-tallet oppstod landsmål, senere nynorsk, som et alternativt skriftspråk basert på flere norske dialekter. Dette gav støtet til den norske språkstriden, en langvarig strid mellom tilhengere av de ulike målformene og rettskrivningene. Rundt 85–90 prosent bruker i dag bokmål som sitt viktigste skriftspråk, mens resten bruker nynorsk.[5][6] I 2019 hadde 87 % av elevene i grunnskolen bokmål som målform.[7]'\n",
    "\n",
    "    ]\n",
    "corpus = ['Oslo City is one of the largest shopping centres in central Oslo, Norway. The shopping centre was built in 1988, and is visited by c. 50,000 people a day – 16 million a year. It generated gross revenues of 1,444 billion Norwegian kroner in 2005. It has 26,000 m² of commercial space, with 93 stores on five floors.']\n",
    "tokenizer = TreebankWordTokenizer()\n",
    "token_list = []\n",
    "for doc in corpus:\n",
    "    token_list += [sorted(tokenizer.tokenize(doc.lower()))]\n",
    "    token_list[-1] = [token for token in token_list[-1] if token.isalpha()]"
   ]
  },
  {
   "cell_type": "code",
   "execution_count": 18,
   "metadata": {
    "pycharm": {
     "name": "#%%\n"
    }
   },
   "outputs": [
    {
     "name": "stdout",
     "output_type": "stream",
     "text": [
      "[['a', 'a', 'and', 'billion', 'built', 'by', 'central', 'centre', 'centres', 'city', 'commercial', 'day', 'five', 'floors', 'generated', 'gross', 'has', 'in', 'in', 'in', 'is', 'is', 'it', 'it', 'kroner', 'largest', 'million', 'norwegian', 'of', 'of', 'of', 'on', 'one', 'oslo', 'oslo', 'people', 'revenues', 'shopping', 'shopping', 'space', 'stores', 'the', 'the', 'visited', 'was', 'with']]\n"
     ]
    }
   ],
   "source": [
    "print(token_list)"
   ]
  },
  {
   "cell_type": "code",
   "execution_count": 19,
   "metadata": {
    "pycharm": {
     "name": "#%%\n"
    }
   },
   "outputs": [
    {
     "name": "stderr",
     "output_type": "stream",
     "text": [
      "/var/folders/jw/pk9yd5v978d_6j_wky4ptw480000gn/T/ipykernel_21830/1186446700.py:13: DeprecationWarning: Call to deprecated `init_sims` (Gensim 4.0.0 implemented internal optimizations that make calls to init_sims() unnecessary. init_sims() is now obsoleted and will be completely removed in future versions. See https://github.com/RaRe-Technologies/gensim/wiki/Migrating-from-Gensim-3.x-to-4).\n",
      "  model.init_sims()\n"
     ]
    }
   ],
   "source": [
    "from gensim.models import Word2Vec\n",
    "\n",
    "#training parameters\n",
    "num_features = 300\n",
    "min_word_count = 3\n",
    "num_workers = 2\n",
    "window_size = 6\n",
    "subsampling = 1e-3\n",
    "# model = Word2Vec(token_list)\n",
    "\n",
    "model = Word2Vec(sentences=token_list, vector_size=100, window=5, min_count=1, workers=4)\n",
    "# model = Word2Vec(token_list)\n",
    "model.init_sims()\n"
   ]
  },
  {
   "cell_type": "code",
   "execution_count": 20,
   "metadata": {
    "collapsed": false,
    "pycharm": {
     "name": "#%%\n"
    }
   },
   "outputs": [
    {
     "data": {
      "text/plain": [
       "['in',\n",
       " 'of',\n",
       " 'is',\n",
       " 'shopping',\n",
       " 'it',\n",
       " 'oslo',\n",
       " 'a',\n",
       " 'the',\n",
       " 'revenues',\n",
       " 'generated',\n",
       " 'and',\n",
       " 'billion',\n",
       " 'built',\n",
       " 'by',\n",
       " 'central',\n",
       " 'centre',\n",
       " 'centres',\n",
       " 'city',\n",
       " 'commercial',\n",
       " 'day',\n",
       " 'five',\n",
       " 'floors',\n",
       " 'gross',\n",
       " 'people',\n",
       " 'has',\n",
       " 'visited',\n",
       " 'was',\n",
       " 'kroner',\n",
       " 'largest',\n",
       " 'million',\n",
       " 'norwegian',\n",
       " 'stores',\n",
       " 'on',\n",
       " 'one',\n",
       " 'space',\n",
       " 'with']"
      ]
     },
     "execution_count": 20,
     "metadata": {},
     "output_type": "execute_result"
    }
   ],
   "source": [
    "list(model.wv.index_to_key)"
   ]
  },
  {
   "cell_type": "code",
   "execution_count": 21,
   "metadata": {
    "collapsed": false,
    "pycharm": {
     "name": "#%%\n"
    }
   },
   "outputs": [
    {
     "data": {
      "text/plain": [
       "[('five', 0.18704210221767426),\n",
       " ('billion', 0.1825931966304779),\n",
       " ('it', 0.17529654502868652),\n",
       " ('oslo', 0.1634931117296219),\n",
       " ('in', 0.15214619040489197),\n",
       " ('kroner', 0.14235851168632507),\n",
       " ('city', 0.13384340703487396),\n",
       " ('largest', 0.11563670635223389),\n",
       " ('floors', 0.10287479311227798),\n",
       " ('centres', 0.0905166044831276)]"
      ]
     },
     "execution_count": 21,
     "metadata": {},
     "output_type": "execute_result"
    }
   ],
   "source": [
    "model.wv.most_similar('norwegian')"
   ]
  },
  {
   "cell_type": "code",
   "execution_count": 22,
   "metadata": {
    "pycharm": {
     "name": "#%%\n"
    }
   },
   "outputs": [
    {
     "name": "stdout",
     "output_type": "stream",
     "text": [
      "[('billion', 0.16892682015895844), ('norwegian', 0.1634930968284607), ('it', 0.13920097053050995), ('shopping', 0.1326465904712677), ('five', 0.09846725314855576), ('kroner', 0.09626218676567078), ('city', 0.07206156849861145), ('is', 0.06448190659284592), ('revenues', 0.060395658016204834), ('centres', 0.0482485257089138)]\n"
     ]
    }
   ],
   "source": [
    "print(model.wv.most_similar('oslo'))"
   ]
  },
  {
   "cell_type": "code",
   "execution_count": 23,
   "metadata": {
    "pycharm": {
     "name": "#%%\n"
    }
   },
   "outputs": [
    {
     "data": {
      "text/plain": [
       "[('central', 0.1716621071100235),\n",
       " ('floors', 0.15737688541412354),\n",
       " ('by', 0.14772342145442963),\n",
       " ('million', 0.1330835074186325),\n",
       " ('of', 0.12900720536708832),\n",
       " ('built', 0.11437729746103287),\n",
       " ('gross', 0.10875345766544342),\n",
       " ('and', 0.10849782079458237),\n",
       " ('was', 0.10214463621377945),\n",
       " ('stores', 0.0959746465086937)]"
      ]
     },
     "execution_count": 23,
     "metadata": {},
     "output_type": "execute_result"
    }
   ],
   "source": [
    "model.wv.most_similar('people', topn=10)"
   ]
  },
  {
   "cell_type": "code",
   "execution_count": null,
   "metadata": {},
   "outputs": [],
   "source": []
  }
 ],
 "metadata": {
  "kernelspec": {
   "display_name": "Python 3",
   "language": "python",
   "name": "python3"
  },
  "language_info": {
   "codemirror_mode": {
    "name": "ipython",
    "version": 3
   },
   "file_extension": ".py",
   "mimetype": "text/x-python",
   "name": "python",
   "nbconvert_exporter": "python",
   "pygments_lexer": "ipython3",
   "version": "3.11.4"
  }
 },
 "nbformat": 4,
 "nbformat_minor": 1
}
