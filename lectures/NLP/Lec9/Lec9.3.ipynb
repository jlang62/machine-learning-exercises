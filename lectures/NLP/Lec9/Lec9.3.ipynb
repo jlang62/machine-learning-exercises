{
 "cells": [
  {
   "cell_type": "code",
   "execution_count": 21,
   "metadata": {
    "collapsed": true,
    "pycharm": {
     "name": "#%%\n"
    }
   },
   "outputs": [],
   "source": [
    "# KUC, NLP"
   ]
  },
  {
   "cell_type": "markdown",
   "source": [
    "3. SVD, truncated SVD\n"
   ],
   "metadata": {
    "collapsed": false,
    "pycharm": {
     "name": "#%% md\n"
    }
   }
  },
  {
   "cell_type": "code",
   "execution_count": 22,
   "outputs": [],
   "source": [
    "import pandas as pd\n",
    "import numpy as np"
   ],
   "metadata": {
    "collapsed": false,
    "pycharm": {
     "name": "#%%\n"
    }
   }
  },
  {
   "cell_type": "code",
   "execution_count": 23,
   "outputs": [
    {
     "name": "stdout",
     "output_type": "stream",
     "text": [
      "   spam                                               text\n",
      "0     0  Go until jurong point, crazy.. Available only ...\n",
      "1     0                      Ok lar... Joking wif u oni...\n",
      "2     1  Free entry in 2 a wkly comp to win FA Cup fina...\n",
      "3     0  U dun say so early hor... U c already then say...\n",
      "4     0  Nah I don't think he goes to usf, he lives aro...\n"
     ]
    }
   ],
   "source": [
    "# original data\n",
    "sms = pd.read_csv('sms-spam.csv',usecols= ['spam','text'])\n",
    "print(sms.head())"
   ],
   "metadata": {
    "collapsed": false,
    "pycharm": {
     "name": "#%%\n"
    }
   }
  },
  {
   "cell_type": "code",
   "execution_count": 24,
   "outputs": [
    {
     "name": "stdout",
     "output_type": "stream",
     "text": [
      "['sms0', 'sms1', 'sms2!', 'sms3', 'sms4', 'sms5!', 'sms6', 'sms7', 'sms8!', 'sms9!', 'sms10', 'sms11!', 'sms12!', 'sms13', 'sms14', 'sms15!', 'sms16', 'sms17', 'sms18', 'sms19!', 'sms20', 'sms21', 'sms22', 'sms23', 'sms24', 'sms25', 'sms26', 'sms27', 'sms28', 'sms29', 'sms30', 'sms31', 'sms32', 'sms33', 'sms34!', 'sms35', 'sms36', 'sms37', 'sms38', 'sms39', 'sms40', 'sms41', 'sms42!', 'sms43', 'sms44', 'sms45', 'sms46', 'sms47', 'sms48', 'sms49', 'sms50', 'sms51', 'sms52', 'sms53', 'sms54!', 'sms55', 'sms56!', 'sms57', 'sms58', 'sms59', 'sms60', 'sms61', 'sms62', 'sms63', 'sms64', 'sms65!', 'sms66', 'sms67!', 'sms68!', 'sms69', 'sms70', 'sms71', 'sms72', 'sms73', 'sms74', 'sms75', 'sms76', 'sms77', 'sms78', 'sms79', 'sms80', 'sms81', 'sms82', 'sms83', 'sms84', 'sms85', 'sms86', 'sms87', 'sms88', 'sms89', 'sms90', 'sms91', 'sms92', 'sms93!', 'sms94', 'sms95!', 'sms96', 'sms97', 'sms98', 'sms99', 'sms100', 'sms101', 'sms102', 'sms103', 'sms104', 'sms105', 'sms106', 'sms107', 'sms108', 'sms109', 'sms110', 'sms111', 'sms112', 'sms113', 'sms114!', 'sms115', 'sms116', 'sms117!', 'sms118', 'sms119', 'sms120!', 'sms121!', 'sms122', 'sms123!', 'sms124', 'sms125', 'sms126', 'sms127', 'sms128', 'sms129', 'sms130', 'sms131', 'sms132', 'sms133', 'sms134!', 'sms135!', 'sms136', 'sms137', 'sms138', 'sms139!', 'sms140', 'sms141', 'sms142', 'sms143', 'sms144', 'sms145', 'sms146', 'sms147!', 'sms148', 'sms149', 'sms150', 'sms151', 'sms152', 'sms153', 'sms154', 'sms155', 'sms156', 'sms157', 'sms158', 'sms159!', 'sms160!', 'sms161', 'sms162', 'sms163', 'sms164!', 'sms165!', 'sms166', 'sms167!', 'sms168', 'sms169', 'sms170', 'sms171', 'sms172', 'sms173', 'sms174', 'sms175', 'sms176', 'sms177', 'sms178', 'sms179', 'sms180', 'sms181', 'sms182', 'sms183', 'sms184', 'sms185', 'sms186', 'sms187', 'sms188!', 'sms189', 'sms190', 'sms191!', 'sms192', 'sms193', 'sms194', 'sms195', 'sms196', 'sms197', 'sms198', 'sms199', 'sms200', 'sms201', 'sms202', 'sms203', 'sms204', 'sms205', 'sms206', 'sms207', 'sms208', 'sms209', 'sms210', 'sms211', 'sms212', 'sms213', 'sms214', 'sms215', 'sms216', 'sms217', 'sms218', 'sms219', 'sms220', 'sms221', 'sms222', 'sms223', 'sms224', 'sms225!', 'sms226', 'sms227!', 'sms228', 'sms229', 'sms230', 'sms231', 'sms232', 'sms233', 'sms234', 'sms235!', 'sms236', 'sms237', 'sms238', 'sms239', 'sms240!', 'sms241', 'sms242', 'sms243', 'sms244', 'sms245', 'sms246', 'sms247', 'sms248', 'sms249', 'sms250!', 'sms251', 'sms252', 'sms253', 'sms254', 'sms255', 'sms256', 'sms257', 'sms258', 'sms259!', 'sms260', 'sms261', 'sms262', 'sms263', 'sms264!', 'sms265', 'sms266', 'sms267', 'sms268!', 'sms269', 'sms270!', 'sms271', 'sms272', 'sms273!', 'sms274', 'sms275', 'sms276', 'sms277', 'sms278', 'sms279', 'sms280', 'sms281', 'sms282', 'sms283', 'sms284', 'sms285', 'sms286', 'sms287', 'sms288', 'sms289', 'sms290', 'sms291', 'sms292!', 'sms293', 'sms294', 'sms295', 'sms296', 'sms297', 'sms298', 'sms299', 'sms300!', 'sms301', 'sms302', 'sms303', 'sms304', 'sms305', 'sms306', 'sms307', 'sms308!', 'sms309', 'sms310', 'sms311!', 'sms312', 'sms313', 'sms314', 'sms315', 'sms316', 'sms317', 'sms318', 'sms319', 'sms320', 'sms321', 'sms322', 'sms323', 'sms324!', 'sms325', 'sms326', 'sms327', 'sms328', 'sms329!', 'sms330', 'sms331', 'sms332', 'sms333', 'sms334', 'sms335', 'sms336', 'sms337', 'sms338', 'sms339', 'sms340', 'sms341', 'sms342!', 'sms343', 'sms344', 'sms345', 'sms346', 'sms347', 'sms348', 'sms349', 'sms350', 'sms351', 'sms352!', 'sms353', 'sms354!', 'sms355!', 'sms356', 'sms357', 'sms358', 'sms359', 'sms360', 'sms361', 'sms362!', 'sms363', 'sms364!', 'sms365', 'sms366!', 'sms367', 'sms368!', 'sms369', 'sms370', 'sms371', 'sms372', 'sms373', 'sms374', 'sms375', 'sms376', 'sms377', 'sms378!', 'sms379', 'sms380', 'sms381', 'sms382', 'sms383', 'sms384', 'sms385', 'sms386', 'sms387', 'sms388', 'sms389', 'sms390', 'sms391', 'sms392', 'sms393', 'sms394', 'sms395', 'sms396', 'sms397', 'sms398', 'sms399', 'sms400', 'sms401!', 'sms402', 'sms403', 'sms404', 'sms405', 'sms406', 'sms407', 'sms408', 'sms409', 'sms410', 'sms411', 'sms412', 'sms413!', 'sms414', 'sms415', 'sms416!', 'sms417', 'sms418', 'sms419', 'sms420!', 'sms421', 'sms422', 'sms423', 'sms424', 'sms425', 'sms426', 'sms427', 'sms428!', 'sms429!', 'sms430!', 'sms431', 'sms432', 'sms433', 'sms434', 'sms435!', 'sms436', 'sms437', 'sms438', 'sms439', 'sms440', 'sms441', 'sms442', 'sms443', 'sms444!', 'sms445', 'sms446', 'sms447', 'sms448!', 'sms449', 'sms450', 'sms451', 'sms452', 'sms453', 'sms454', 'sms455', 'sms456', 'sms457', 'sms458', 'sms459!', 'sms460', 'sms461', 'sms462', 'sms463!', 'sms464!', 'sms465', 'sms466', 'sms467', 'sms468', 'sms469', 'sms470', 'sms471', 'sms472!', 'sms473', 'sms474', 'sms475', 'sms476', 'sms477', 'sms478!', 'sms479!', 'sms480', 'sms481', 'sms482', 'sms483', 'sms484', 'sms485', 'sms486!', 'sms487', 'sms488!', 'sms489', 'sms490', 'sms491', 'sms492!', 'sms493', 'sms494!', 'sms495!', 'sms496', 'sms497', 'sms498', 'sms499!', 'sms500', 'sms501', 'sms502', 'sms503', 'sms504', 'sms505!', 'sms506', 'sms507', 'sms508', 'sms509', 'sms510', 'sms511!', 'sms512', 'sms513', 'sms514', 'sms515', 'sms516', 'sms517', 'sms518', 'sms519', 'sms520', 'sms521!', 'sms522', 'sms523!', 'sms524!', 'sms525!', 'sms526', 'sms527', 'sms528', 'sms529', 'sms530', 'sms531!', 'sms532', 'sms533!', 'sms534!', 'sms535!', 'sms536!', 'sms537', 'sms538', 'sms539', 'sms540', 'sms541', 'sms542', 'sms543', 'sms544', 'sms545', 'sms546', 'sms547', 'sms548', 'sms549', 'sms550', 'sms551', 'sms552', 'sms553', 'sms554', 'sms555!', 'sms556', 'sms557', 'sms558', 'sms559', 'sms560', 'sms561', 'sms562!', 'sms563', 'sms564', 'sms565!', 'sms566', 'sms567', 'sms568', 'sms569', 'sms570', 'sms571', 'sms572', 'sms573', 'sms574', 'sms575', 'sms576', 'sms577', 'sms578', 'sms579', 'sms580', 'sms581', 'sms582', 'sms583', 'sms584', 'sms585!', 'sms586', 'sms587', 'sms588', 'sms589', 'sms590!', 'sms591', 'sms592', 'sms593', 'sms594!', 'sms595', 'sms596', 'sms597', 'sms598!', 'sms599', 'sms600', 'sms601', 'sms602!', 'sms603', 'sms604', 'sms605', 'sms606', 'sms607', 'sms608', 'sms609', 'sms610!', 'sms611', 'sms612', 'sms613', 'sms614', 'sms615', 'sms616', 'sms617!', 'sms618', 'sms619', 'sms620', 'sms621', 'sms622', 'sms623', 'sms624', 'sms625', 'sms626', 'sms627', 'sms628', 'sms629', 'sms630', 'sms631', 'sms632', 'sms633', 'sms634', 'sms635', 'sms636', 'sms637', 'sms638!', 'sms639', 'sms640', 'sms641', 'sms642', 'sms643', 'sms644', 'sms645', 'sms646', 'sms647', 'sms648', 'sms649', 'sms650', 'sms651', 'sms652', 'sms653', 'sms654', 'sms655', 'sms656', 'sms657!', 'sms658', 'sms659', 'sms660', 'sms661', 'sms662!', 'sms663', 'sms664', 'sms665', 'sms666', 'sms667', 'sms668', 'sms669', 'sms670', 'sms671', 'sms672!', 'sms673', 'sms674', 'sms675', 'sms676', 'sms677!', 'sms678', 'sms679', 'sms680', 'sms681', 'sms682', 'sms683', 'sms684', 'sms685', 'sms686', 'sms687', 'sms688', 'sms689', 'sms690', 'sms691', 'sms692', 'sms693', 'sms694', 'sms695', 'sms696', 'sms697', 'sms698', 'sms699', 'sms700!', 'sms701', 'sms702', 'sms703!', 'sms704', 'sms705!', 'sms706', 'sms707', 'sms708', 'sms709', 'sms710', 'sms711', 'sms712', 'sms713', 'sms714', 'sms715!', 'sms716', 'sms717', 'sms718', 'sms719!', 'sms720', 'sms721', 'sms722', 'sms723', 'sms724!', 'sms725', 'sms726', 'sms727!', 'sms728!', 'sms729', 'sms730', 'sms731', 'sms732', 'sms733', 'sms734', 'sms735', 'sms736', 'sms737', 'sms738', 'sms739', 'sms740', 'sms741', 'sms742', 'sms743', 'sms744!', 'sms745', 'sms746!', 'sms747', 'sms748', 'sms749', 'sms750', 'sms751', 'sms752!', 'sms753', 'sms754', 'sms755', 'sms756', 'sms757', 'sms758', 'sms759', 'sms760!', 'sms761', 'sms762', 'sms763', 'sms764', 'sms765', 'sms766', 'sms767', 'sms768', 'sms769', 'sms770', 'sms771', 'sms772', 'sms773!', 'sms774', 'sms775!', 'sms776', 'sms777!', 'sms778', 'sms779', 'sms780', 'sms781!', 'sms782', 'sms783', 'sms784!', 'sms785', 'sms786', 'sms787', 'sms788', 'sms789', 'sms790', 'sms791', 'sms792!', 'sms793', 'sms794', 'sms795', 'sms796', 'sms797!', 'sms798', 'sms799', 'sms800', 'sms801!', 'sms802', 'sms803', 'sms804', 'sms805', 'sms806', 'sms807', 'sms808', 'sms809!', 'sms810', 'sms811', 'sms812', 'sms813', 'sms814', 'sms815', 'sms816', 'sms817', 'sms818!', 'sms819', 'sms820', 'sms821', 'sms822', 'sms823', 'sms824', 'sms825', 'sms826', 'sms827!', 'sms828', 'sms829', 'sms830', 'sms831', 'sms832', 'sms833', 'sms834', 'sms835', 'sms836', 'sms837', 'sms838', 'sms839', 'sms840', 'sms841', 'sms842', 'sms843', 'sms844', 'sms845', 'sms846', 'sms847', 'sms848', 'sms849!', 'sms850', 'sms851!', 'sms852', 'sms853', 'sms854', 'sms855', 'sms856', 'sms857', 'sms858', 'sms859', 'sms860!', 'sms861', 'sms862!', 'sms863', 'sms864', 'sms865', 'sms866', 'sms867', 'sms868', 'sms869', 'sms870', 'sms871', 'sms872!', 'sms873', 'sms874', 'sms875', 'sms876!', 'sms877', 'sms878', 'sms879', 'sms880!', 'sms881', 'sms882!', 'sms883', 'sms884!', 'sms885', 'sms886', 'sms887', 'sms888', 'sms889', 'sms890', 'sms891', 'sms892', 'sms893', 'sms894', 'sms895', 'sms896', 'sms897', 'sms898', 'sms899', 'sms900', 'sms901', 'sms902', 'sms903', 'sms904', 'sms905', 'sms906', 'sms907!', 'sms908', 'sms909', 'sms910', 'sms911', 'sms912', 'sms913', 'sms914', 'sms915', 'sms916', 'sms917', 'sms918!', 'sms919', 'sms920', 'sms921', 'sms922', 'sms923', 'sms924!', 'sms925', 'sms926', 'sms927', 'sms928', 'sms929!', 'sms930', 'sms931', 'sms932', 'sms933', 'sms934', 'sms935', 'sms936', 'sms937', 'sms938', 'sms939', 'sms940', 'sms941', 'sms942', 'sms943', 'sms944', 'sms945', 'sms946', 'sms947', 'sms948', 'sms949', 'sms950', 'sms951', 'sms952', 'sms953', 'sms954', 'sms955', 'sms956', 'sms957', 'sms958', 'sms959', 'sms960', 'sms961', 'sms962!', 'sms963!', 'sms964', 'sms965', 'sms966', 'sms967', 'sms968', 'sms969', 'sms970', 'sms971', 'sms972', 'sms973!', 'sms974', 'sms975', 'sms976', 'sms977', 'sms978', 'sms979', 'sms980', 'sms981', 'sms982', 'sms983!', 'sms984', 'sms985', 'sms986', 'sms987', 'sms988', 'sms989', 'sms990', 'sms991', 'sms992', 'sms993', 'sms994', 'sms995', 'sms996', 'sms997', 'sms998', 'sms999', 'sms1000', 'sms1001', 'sms1002', 'sms1003', 'sms1004', 'sms1005!', 'sms1006', 'sms1007', 'sms1008', 'sms1009', 'sms1010', 'sms1011', 'sms1012', 'sms1013', 'sms1014', 'sms1015', 'sms1016', 'sms1017', 'sms1018', 'sms1019', 'sms1020', 'sms1021!', 'sms1022', 'sms1023', 'sms1024', 'sms1025', 'sms1026', 'sms1027', 'sms1028', 'sms1029!', 'sms1030!', 'sms1031', 'sms1032', 'sms1033!', 'sms1034', 'sms1035!', 'sms1036', 'sms1037', 'sms1038', 'sms1039', 'sms1040', 'sms1041', 'sms1042', 'sms1043', 'sms1044', 'sms1045', 'sms1046', 'sms1047', 'sms1048', 'sms1049', 'sms1050', 'sms1051', 'sms1052', 'sms1053', 'sms1054', 'sms1055', 'sms1056', 'sms1057', 'sms1058', 'sms1059', 'sms1060', 'sms1061', 'sms1062!', 'sms1063', 'sms1064', 'sms1065', 'sms1066', 'sms1067', 'sms1068', 'sms1069!', 'sms1070', 'sms1071', 'sms1072', 'sms1073', 'sms1074', 'sms1075', 'sms1076', 'sms1077', 'sms1078', 'sms1079', 'sms1080', 'sms1081', 'sms1082', 'sms1083', 'sms1084', 'sms1085', 'sms1086', 'sms1087!', 'sms1088', 'sms1089', 'sms1090', 'sms1091', 'sms1092!', 'sms1093', 'sms1094', 'sms1095', 'sms1096', 'sms1097', 'sms1098', 'sms1099!', 'sms1100', 'sms1101!', 'sms1102', 'sms1103!', 'sms1104', 'sms1105', 'sms1106!', 'sms1107', 'sms1108', 'sms1109!', 'sms1110', 'sms1111', 'sms1112!', 'sms1113', 'sms1114', 'sms1115', 'sms1116', 'sms1117', 'sms1118', 'sms1119', 'sms1120', 'sms1121', 'sms1122', 'sms1123', 'sms1124', 'sms1125', 'sms1126', 'sms1127', 'sms1128', 'sms1129', 'sms1130', 'sms1131', 'sms1132', 'sms1133', 'sms1134', 'sms1135!', 'sms1136', 'sms1137', 'sms1138', 'sms1139', 'sms1140', 'sms1141', 'sms1142', 'sms1143!', 'sms1144', 'sms1145!', 'sms1146', 'sms1147', 'sms1148', 'sms1149', 'sms1150!', 'sms1151', 'sms1152', 'sms1153', 'sms1154', 'sms1155', 'sms1156', 'sms1157', 'sms1158', 'sms1159', 'sms1160', 'sms1161!', 'sms1162', 'sms1163', 'sms1164!', 'sms1165', 'sms1166', 'sms1167', 'sms1168', 'sms1169', 'sms1170', 'sms1171', 'sms1172', 'sms1173', 'sms1174', 'sms1175', 'sms1176', 'sms1177', 'sms1178', 'sms1179!', 'sms1180', 'sms1181', 'sms1182', 'sms1183', 'sms1184', 'sms1185', 'sms1186', 'sms1187!', 'sms1188', 'sms1189', 'sms1190', 'sms1191', 'sms1192', 'sms1193', 'sms1194', 'sms1195', 'sms1196', 'sms1197', 'sms1198', 'sms1199', 'sms1200', 'sms1201', 'sms1202', 'sms1203', 'sms1204', 'sms1205', 'sms1206', 'sms1207', 'sms1208', 'sms1209', 'sms1210', 'sms1211', 'sms1212', 'sms1213', 'sms1214', 'sms1215', 'sms1216!', 'sms1217!', 'sms1218', 'sms1219', 'sms1220', 'sms1221', 'sms1222', 'sms1223', 'sms1224', 'sms1225', 'sms1226', 'sms1227', 'sms1228', 'sms1229', 'sms1230', 'sms1231', 'sms1232', 'sms1233', 'sms1234', 'sms1235', 'sms1236', 'sms1237!', 'sms1238', 'sms1239', 'sms1240!', 'sms1241!', 'sms1242', 'sms1243', 'sms1244', 'sms1245', 'sms1246', 'sms1247', 'sms1248', 'sms1249', 'sms1250', 'sms1251', 'sms1252', 'sms1253', 'sms1254', 'sms1255', 'sms1256!', 'sms1257', 'sms1258', 'sms1259', 'sms1260', 'sms1261', 'sms1262', 'sms1263', 'sms1264', 'sms1265', 'sms1266!', 'sms1267', 'sms1268!', 'sms1269', 'sms1270', 'sms1271!', 'sms1272', 'sms1273', 'sms1274', 'sms1275', 'sms1276', 'sms1277', 'sms1278!', 'sms1279', 'sms1280', 'sms1281!', 'sms1282', 'sms1283!', 'sms1284', 'sms1285', 'sms1286', 'sms1287', 'sms1288', 'sms1289', 'sms1290', 'sms1291', 'sms1292', 'sms1293', 'sms1294', 'sms1295', 'sms1296!', 'sms1297', 'sms1298', 'sms1299', 'sms1300', 'sms1301', 'sms1302!', 'sms1303', 'sms1304', 'sms1305', 'sms1306!', 'sms1307', 'sms1308', 'sms1309', 'sms1310', 'sms1311', 'sms1312', 'sms1313', 'sms1314', 'sms1315', 'sms1316!', 'sms1317!', 'sms1318', 'sms1319', 'sms1320', 'sms1321', 'sms1322', 'sms1323', 'sms1324', 'sms1325', 'sms1326', 'sms1327', 'sms1328', 'sms1329', 'sms1330!', 'sms1331!', 'sms1332', 'sms1333', 'sms1334!', 'sms1335', 'sms1336', 'sms1337', 'sms1338', 'sms1339', 'sms1340', 'sms1341', 'sms1342!', 'sms1343', 'sms1344', 'sms1345', 'sms1346', 'sms1347', 'sms1348', 'sms1349', 'sms1350', 'sms1351', 'sms1352', 'sms1353', 'sms1354', 'sms1355', 'sms1356', 'sms1357!', 'sms1358', 'sms1359', 'sms1360', 'sms1361!', 'sms1362', 'sms1363', 'sms1364', 'sms1365', 'sms1366', 'sms1367', 'sms1368', 'sms1369', 'sms1370', 'sms1371', 'sms1372', 'sms1373', 'sms1374', 'sms1375', 'sms1376', 'sms1377!', 'sms1378', 'sms1379', 'sms1380', 'sms1381', 'sms1382', 'sms1383', 'sms1384!', 'sms1385', 'sms1386', 'sms1387', 'sms1388!', 'sms1389', 'sms1390', 'sms1391', 'sms1392', 'sms1393', 'sms1394', 'sms1395', 'sms1396', 'sms1397', 'sms1398', 'sms1399', 'sms1400', 'sms1401', 'sms1402', 'sms1403', 'sms1404', 'sms1405', 'sms1406', 'sms1407', 'sms1408!', 'sms1409', 'sms1410!', 'sms1411', 'sms1412', 'sms1413', 'sms1414', 'sms1415', 'sms1416', 'sms1417', 'sms1418', 'sms1419', 'sms1420!', 'sms1421!', 'sms1422', 'sms1423!', 'sms1424!', 'sms1425', 'sms1426', 'sms1427', 'sms1428', 'sms1429', 'sms1430', 'sms1431', 'sms1432', 'sms1433', 'sms1434', 'sms1435', 'sms1436!', 'sms1437', 'sms1438', 'sms1439', 'sms1440', 'sms1441', 'sms1442', 'sms1443', 'sms1444', 'sms1445', 'sms1446', 'sms1447', 'sms1448', 'sms1449', 'sms1450!', 'sms1451', 'sms1452', 'sms1453', 'sms1454', 'sms1455', 'sms1456', 'sms1457', 'sms1458', 'sms1459', 'sms1460', 'sms1461', 'sms1462', 'sms1463', 'sms1464', 'sms1465', 'sms1466', 'sms1467', 'sms1468', 'sms1469', 'sms1470', 'sms1471', 'sms1472', 'sms1473!', 'sms1474', 'sms1475', 'sms1476', 'sms1477', 'sms1478', 'sms1479', 'sms1480', 'sms1481', 'sms1482!', 'sms1483', 'sms1484', 'sms1485', 'sms1486', 'sms1487', 'sms1488', 'sms1489', 'sms1490', 'sms1491!', 'sms1492', 'sms1493', 'sms1494', 'sms1495', 'sms1496!', 'sms1497', 'sms1498', 'sms1499', 'sms1500', 'sms1501', 'sms1502', 'sms1503', 'sms1504', 'sms1505', 'sms1506', 'sms1507', 'sms1508', 'sms1509', 'sms1510', 'sms1511', 'sms1512', 'sms1513', 'sms1514', 'sms1515', 'sms1516', 'sms1517!', 'sms1518!', 'sms1519!', 'sms1520', 'sms1521', 'sms1522', 'sms1523!', 'sms1524', 'sms1525', 'sms1526', 'sms1527', 'sms1528', 'sms1529', 'sms1530!', 'sms1531!', 'sms1532', 'sms1533', 'sms1534', 'sms1535', 'sms1536!', 'sms1537', 'sms1538!', 'sms1539', 'sms1540', 'sms1541', 'sms1542', 'sms1543', 'sms1544', 'sms1545', 'sms1546', 'sms1547!', 'sms1548', 'sms1549', 'sms1550', 'sms1551', 'sms1552', 'sms1553', 'sms1554', 'sms1555', 'sms1556', 'sms1557', 'sms1558!', 'sms1559', 'sms1560', 'sms1561', 'sms1562', 'sms1563', 'sms1564', 'sms1565', 'sms1566', 'sms1567', 'sms1568', 'sms1569', 'sms1570', 'sms1571', 'sms1572!', 'sms1573!', 'sms1574', 'sms1575', 'sms1576', 'sms1577', 'sms1578', 'sms1579', 'sms1580', 'sms1581', 'sms1582', 'sms1583!', 'sms1584', 'sms1585!', 'sms1586', 'sms1587', 'sms1588', 'sms1589', 'sms1590', 'sms1591', 'sms1592', 'sms1593', 'sms1594', 'sms1595', 'sms1596', 'sms1597', 'sms1598', 'sms1599', 'sms1600', 'sms1601', 'sms1602', 'sms1603', 'sms1604!', 'sms1605', 'sms1606!', 'sms1607', 'sms1608', 'sms1609', 'sms1610', 'sms1611', 'sms1612', 'sms1613!', 'sms1614', 'sms1615', 'sms1616', 'sms1617', 'sms1618', 'sms1619', 'sms1620', 'sms1621!', 'sms1622', 'sms1623', 'sms1624', 'sms1625', 'sms1626', 'sms1627', 'sms1628!', 'sms1629', 'sms1630', 'sms1631', 'sms1632', 'sms1633', 'sms1634', 'sms1635', 'sms1636!', 'sms1637', 'sms1638', 'sms1639', 'sms1640', 'sms1641', 'sms1642', 'sms1643', 'sms1644', 'sms1645', 'sms1646!', 'sms1647', 'sms1648', 'sms1649', 'sms1650', 'sms1651', 'sms1652', 'sms1653', 'sms1654', 'sms1655', 'sms1656', 'sms1657!', 'sms1658', 'sms1659', 'sms1660', 'sms1661', 'sms1662', 'sms1663', 'sms1664', 'sms1665', 'sms1666!', 'sms1667', 'sms1668', 'sms1669', 'sms1670', 'sms1671', 'sms1672', 'sms1673', 'sms1674', 'sms1675', 'sms1676', 'sms1677', 'sms1678', 'sms1679', 'sms1680', 'sms1681', 'sms1682', 'sms1683', 'sms1684', 'sms1685', 'sms1686', 'sms1687!', 'sms1688', 'sms1689', 'sms1690', 'sms1691', 'sms1692', 'sms1693', 'sms1694', 'sms1695', 'sms1696!', 'sms1697', 'sms1698', 'sms1699', 'sms1700', 'sms1701', 'sms1702', 'sms1703', 'sms1704', 'sms1705', 'sms1706', 'sms1707!', 'sms1708', 'sms1709', 'sms1710', 'sms1711', 'sms1712', 'sms1713!', 'sms1714!', 'sms1715', 'sms1716', 'sms1717!', 'sms1718', 'sms1719', 'sms1720', 'sms1721', 'sms1722!', 'sms1723', 'sms1724', 'sms1725', 'sms1726', 'sms1727', 'sms1728', 'sms1729', 'sms1730', 'sms1731', 'sms1732!', 'sms1733', 'sms1734', 'sms1735', 'sms1736', 'sms1737!', 'sms1738!', 'sms1739', 'sms1740', 'sms1741', 'sms1742', 'sms1743!', 'sms1744', 'sms1745', 'sms1746', 'sms1747', 'sms1748', 'sms1749', 'sms1750', 'sms1751', 'sms1752!', 'sms1753', 'sms1754', 'sms1755', 'sms1756!', 'sms1757', 'sms1758!', 'sms1759', 'sms1760', 'sms1761', 'sms1762!', 'sms1763', 'sms1764', 'sms1765', 'sms1766', 'sms1767!', 'sms1768', 'sms1769', 'sms1770', 'sms1771', 'sms1772', 'sms1773', 'sms1774', 'sms1775', 'sms1776!', 'sms1777', 'sms1778', 'sms1779', 'sms1780', 'sms1781', 'sms1782', 'sms1783', 'sms1784', 'sms1785', 'sms1786', 'sms1787', 'sms1788!', 'sms1789!', 'sms1790', 'sms1791', 'sms1792', 'sms1793', 'sms1794', 'sms1795', 'sms1796', 'sms1797', 'sms1798', 'sms1799', 'sms1800', 'sms1801', 'sms1802', 'sms1803!', 'sms1804', 'sms1805', 'sms1806', 'sms1807', 'sms1808', 'sms1809', 'sms1810', 'sms1811', 'sms1812', 'sms1813!', 'sms1814', 'sms1815', 'sms1816', 'sms1817', 'sms1818', 'sms1819', 'sms1820', 'sms1821', 'sms1822', 'sms1823', 'sms1824', 'sms1825', 'sms1826', 'sms1827', 'sms1828', 'sms1829', 'sms1830', 'sms1831', 'sms1832!', 'sms1833', 'sms1834', 'sms1835', 'sms1836', 'sms1837', 'sms1838', 'sms1839', 'sms1840', 'sms1841', 'sms1842', 'sms1843', 'sms1844', 'sms1845', 'sms1846', 'sms1847', 'sms1848', 'sms1849', 'sms1850!', 'sms1851', 'sms1852!', 'sms1853', 'sms1854', 'sms1855', 'sms1856', 'sms1857', 'sms1858', 'sms1859', 'sms1860', 'sms1861', 'sms1862', 'sms1863!', 'sms1864', 'sms1865', 'sms1866', 'sms1867!', 'sms1868', 'sms1869', 'sms1870', 'sms1871', 'sms1872', 'sms1873', 'sms1874', 'sms1875', 'sms1876', 'sms1877', 'sms1878', 'sms1879', 'sms1880', 'sms1881', 'sms1882', 'sms1883', 'sms1884', 'sms1885', 'sms1886', 'sms1887', 'sms1888', 'sms1889', 'sms1890!', 'sms1891!', 'sms1892', 'sms1893!', 'sms1894', 'sms1895', 'sms1896', 'sms1897', 'sms1898', 'sms1899', 'sms1900', 'sms1901', 'sms1902', 'sms1903', 'sms1904!', 'sms1905', 'sms1906', 'sms1907!', 'sms1908', 'sms1909', 'sms1910!', 'sms1911', 'sms1912!', 'sms1913', 'sms1914', 'sms1915', 'sms1916', 'sms1917', 'sms1918', 'sms1919', 'sms1920', 'sms1921', 'sms1922', 'sms1923', 'sms1924', 'sms1925', 'sms1926', 'sms1927', 'sms1928', 'sms1929', 'sms1930', 'sms1931', 'sms1932', 'sms1933!', 'sms1934', 'sms1935', 'sms1936', 'sms1937', 'sms1938!', 'sms1939', 'sms1940!', 'sms1941', 'sms1942', 'sms1943!', 'sms1944', 'sms1945', 'sms1946', 'sms1947', 'sms1948', 'sms1949', 'sms1950', 'sms1951!', 'sms1952!', 'sms1953', 'sms1954!', 'sms1955!', 'sms1956!', 'sms1957', 'sms1958', 'sms1959', 'sms1960', 'sms1961', 'sms1962', 'sms1963', 'sms1964', 'sms1965', 'sms1966', 'sms1967', 'sms1968', 'sms1969', 'sms1970', 'sms1971!', 'sms1972', 'sms1973', 'sms1974', 'sms1975', 'sms1976', 'sms1977', 'sms1978', 'sms1979', 'sms1980', 'sms1981', 'sms1982', 'sms1983', 'sms1984', 'sms1985', 'sms1986!', 'sms1987', 'sms1988', 'sms1989', 'sms1990', 'sms1991', 'sms1992', 'sms1993', 'sms1994', 'sms1995!', 'sms1996', 'sms1997!', 'sms1998', 'sms1999', 'sms2000', 'sms2001', 'sms2002', 'sms2003!', 'sms2004', 'sms2005', 'sms2006', 'sms2007!', 'sms2008', 'sms2009', 'sms2010!', 'sms2011', 'sms2012', 'sms2013', 'sms2014', 'sms2015', 'sms2016', 'sms2017!', 'sms2018', 'sms2019', 'sms2020', 'sms2021!', 'sms2022', 'sms2023', 'sms2024', 'sms2025', 'sms2026', 'sms2027', 'sms2028', 'sms2029!', 'sms2030', 'sms2031', 'sms2032', 'sms2033', 'sms2034', 'sms2035', 'sms2036', 'sms2037', 'sms2038', 'sms2039', 'sms2040', 'sms2041', 'sms2042', 'sms2043', 'sms2044', 'sms2045!', 'sms2046', 'sms2047', 'sms2048', 'sms2049', 'sms2050', 'sms2051', 'sms2052', 'sms2053', 'sms2054', 'sms2055', 'sms2056!', 'sms2057', 'sms2058', 'sms2059', 'sms2060', 'sms2061', 'sms2062', 'sms2063!', 'sms2064', 'sms2065', 'sms2066', 'sms2067', 'sms2068', 'sms2069', 'sms2070!', 'sms2071', 'sms2072', 'sms2073!', 'sms2074', 'sms2075', 'sms2076', 'sms2077', 'sms2078', 'sms2079', 'sms2080', 'sms2081!', 'sms2082', 'sms2083', 'sms2084', 'sms2085', 'sms2086', 'sms2087', 'sms2088', 'sms2089', 'sms2090', 'sms2091', 'sms2092', 'sms2093', 'sms2094', 'sms2095', 'sms2096', 'sms2097', 'sms2098', 'sms2099', 'sms2100', 'sms2101', 'sms2102', 'sms2103', 'sms2104', 'sms2105', 'sms2106', 'sms2107', 'sms2108', 'sms2109', 'sms2110', 'sms2111', 'sms2112', 'sms2113', 'sms2114', 'sms2115', 'sms2116!', 'sms2117', 'sms2118', 'sms2119', 'sms2120', 'sms2121', 'sms2122', 'sms2123!', 'sms2124!', 'sms2125', 'sms2126', 'sms2127', 'sms2128', 'sms2129', 'sms2130', 'sms2131', 'sms2132', 'sms2133', 'sms2134', 'sms2135', 'sms2136', 'sms2137', 'sms2138', 'sms2139!', 'sms2140', 'sms2141', 'sms2142', 'sms2143', 'sms2144', 'sms2145', 'sms2146', 'sms2147', 'sms2148', 'sms2149', 'sms2150', 'sms2151', 'sms2152', 'sms2153', 'sms2154', 'sms2155', 'sms2156', 'sms2157!', 'sms2158', 'sms2159', 'sms2160', 'sms2161', 'sms2162', 'sms2163', 'sms2164', 'sms2165', 'sms2166', 'sms2167', 'sms2168!', 'sms2169', 'sms2170', 'sms2171', 'sms2172', 'sms2173', 'sms2174', 'sms2175', 'sms2176', 'sms2177', 'sms2178', 'sms2179', 'sms2180', 'sms2181', 'sms2182', 'sms2183', 'sms2184', 'sms2185', 'sms2186', 'sms2187', 'sms2188', 'sms2189', 'sms2190', 'sms2191!', 'sms2192', 'sms2193', 'sms2194', 'sms2195', 'sms2196', 'sms2197', 'sms2198', 'sms2199!', 'sms2200', 'sms2201!', 'sms2202', 'sms2203', 'sms2204', 'sms2205', 'sms2206', 'sms2207', 'sms2208', 'sms2209', 'sms2210', 'sms2211', 'sms2212', 'sms2213', 'sms2214', 'sms2215', 'sms2216', 'sms2217!', 'sms2218!', 'sms2219', 'sms2220', 'sms2221', 'sms2222', 'sms2223', 'sms2224!', 'sms2225', 'sms2226!', 'sms2227', 'sms2228', 'sms2229', 'sms2230', 'sms2231', 'sms2232', 'sms2233!', 'sms2234', 'sms2235', 'sms2236', 'sms2237', 'sms2238', 'sms2239!', 'sms2240', 'sms2241', 'sms2242', 'sms2243', 'sms2244', 'sms2245', 'sms2246', 'sms2247', 'sms2248', 'sms2249', 'sms2250', 'sms2251', 'sms2252', 'sms2253', 'sms2254', 'sms2255!', 'sms2256', 'sms2257', 'sms2258', 'sms2259', 'sms2260', 'sms2261', 'sms2262', 'sms2263!', 'sms2264', 'sms2265', 'sms2266', 'sms2267', 'sms2268', 'sms2269!', 'sms2270', 'sms2271', 'sms2272', 'sms2273', 'sms2274', 'sms2275!', 'sms2276', 'sms2277', 'sms2278', 'sms2279', 'sms2280', 'sms2281', 'sms2282', 'sms2283', 'sms2284', 'sms2285!', 'sms2286', 'sms2287', 'sms2288', 'sms2289', 'sms2290', 'sms2291', 'sms2292', 'sms2293', 'sms2294', 'sms2295', 'sms2296', 'sms2297', 'sms2298', 'sms2299', 'sms2300', 'sms2301', 'sms2302', 'sms2303', 'sms2304', 'sms2305', 'sms2306!', 'sms2307!', 'sms2308', 'sms2309', 'sms2310', 'sms2311', 'sms2312!', 'sms2313!', 'sms2314', 'sms2315', 'sms2316', 'sms2317', 'sms2318', 'sms2319', 'sms2320', 'sms2321', 'sms2322', 'sms2323!', 'sms2324', 'sms2325', 'sms2326', 'sms2327', 'sms2328', 'sms2329!', 'sms2330', 'sms2331', 'sms2332', 'sms2333', 'sms2334!', 'sms2335', 'sms2336!', 'sms2337', 'sms2338', 'sms2339', 'sms2340', 'sms2341', 'sms2342!', 'sms2343', 'sms2344', 'sms2345', 'sms2346', 'sms2347', 'sms2348!', 'sms2349', 'sms2350', 'sms2351!', 'sms2352', 'sms2353', 'sms2354!', 'sms2355', 'sms2356', 'sms2357', 'sms2358', 'sms2359', 'sms2360', 'sms2361', 'sms2362!', 'sms2363', 'sms2364', 'sms2365', 'sms2366', 'sms2367', 'sms2368', 'sms2369', 'sms2370', 'sms2371', 'sms2372!', 'sms2373!', 'sms2374', 'sms2375', 'sms2376', 'sms2377', 'sms2378', 'sms2379', 'sms2380', 'sms2381', 'sms2382', 'sms2383', 'sms2384', 'sms2385!', 'sms2386', 'sms2387', 'sms2388', 'sms2389', 'sms2390', 'sms2391', 'sms2392', 'sms2393', 'sms2394', 'sms2395', 'sms2396', 'sms2397', 'sms2398', 'sms2399', 'sms2400', 'sms2401', 'sms2402', 'sms2403', 'sms2404', 'sms2405', 'sms2406', 'sms2407', 'sms2408', 'sms2409', 'sms2410!', 'sms2411', 'sms2412', 'sms2413!', 'sms2414', 'sms2415', 'sms2416', 'sms2417!', 'sms2418', 'sms2419', 'sms2420', 'sms2421', 'sms2422!', 'sms2423', 'sms2424', 'sms2425', 'sms2426', 'sms2427', 'sms2428', 'sms2429', 'sms2430', 'sms2431', 'sms2432', 'sms2433', 'sms2434!', 'sms2435', 'sms2436', 'sms2437', 'sms2438', 'sms2439', 'sms2440', 'sms2441', 'sms2442', 'sms2443', 'sms2444', 'sms2445', 'sms2446', 'sms2447!', 'sms2448', 'sms2449', 'sms2450', 'sms2451!', 'sms2452', 'sms2453', 'sms2454', 'sms2455', 'sms2456', 'sms2457', 'sms2458', 'sms2459', 'sms2460', 'sms2461!', 'sms2462', 'sms2463', 'sms2464!', 'sms2465', 'sms2466!', 'sms2467', 'sms2468', 'sms2469!', 'sms2470', 'sms2471', 'sms2472', 'sms2473!', 'sms2474', 'sms2475', 'sms2476', 'sms2477!', 'sms2478', 'sms2479', 'sms2480', 'sms2481', 'sms2482', 'sms2483', 'sms2484', 'sms2485', 'sms2486', 'sms2487', 'sms2488', 'sms2489', 'sms2490', 'sms2491!', 'sms2492', 'sms2493!', 'sms2494', 'sms2495', 'sms2496', 'sms2497', 'sms2498', 'sms2499', 'sms2500', 'sms2501', 'sms2502', 'sms2503', 'sms2504', 'sms2505', 'sms2506!', 'sms2507', 'sms2508', 'sms2509', 'sms2510', 'sms2511', 'sms2512', 'sms2513', 'sms2514!', 'sms2515', 'sms2516', 'sms2517', 'sms2518', 'sms2519', 'sms2520', 'sms2521', 'sms2522!', 'sms2523', 'sms2524!', 'sms2525', 'sms2526', 'sms2527', 'sms2528', 'sms2529', 'sms2530', 'sms2531', 'sms2532', 'sms2533', 'sms2534', 'sms2535', 'sms2536', 'sms2537', 'sms2538', 'sms2539', 'sms2540!', 'sms2541', 'sms2542', 'sms2543', 'sms2544', 'sms2545!', 'sms2546', 'sms2547', 'sms2548', 'sms2549', 'sms2550', 'sms2551', 'sms2552', 'sms2553!', 'sms2554', 'sms2555', 'sms2556', 'sms2557', 'sms2558!', 'sms2559', 'sms2560', 'sms2561', 'sms2562', 'sms2563', 'sms2564', 'sms2565', 'sms2566', 'sms2567', 'sms2568', 'sms2569', 'sms2570', 'sms2571', 'sms2572', 'sms2573', 'sms2574', 'sms2575', 'sms2576', 'sms2577', 'sms2578', 'sms2579', 'sms2580', 'sms2581', 'sms2582', 'sms2583', 'sms2584!', 'sms2585', 'sms2586', 'sms2587', 'sms2588!', 'sms2589', 'sms2590', 'sms2591', 'sms2592', 'sms2593', 'sms2594', 'sms2595', 'sms2596', 'sms2597!', 'sms2598', 'sms2599', 'sms2600', 'sms2601', 'sms2602!', 'sms2603', 'sms2604', 'sms2605', 'sms2606', 'sms2607', 'sms2608!', 'sms2609', 'sms2610', 'sms2611', 'sms2612', 'sms2613', 'sms2614', 'sms2615', 'sms2616', 'sms2617', 'sms2618', 'sms2619', 'sms2620', 'sms2621', 'sms2622', 'sms2623!', 'sms2624', 'sms2625', 'sms2626', 'sms2627', 'sms2628', 'sms2629', 'sms2630!', 'sms2631', 'sms2632', 'sms2633!', 'sms2634', 'sms2635!', 'sms2636', 'sms2637', 'sms2638', 'sms2639', 'sms2640', 'sms2641', 'sms2642', 'sms2643', 'sms2644', 'sms2645!', 'sms2646', 'sms2647', 'sms2648!', 'sms2649', 'sms2650', 'sms2651', 'sms2652!', 'sms2653!', 'sms2654', 'sms2655', 'sms2656', 'sms2657!', 'sms2658', 'sms2659', 'sms2660', 'sms2661', 'sms2662', 'sms2663', 'sms2664', 'sms2665', 'sms2666', 'sms2667', 'sms2668', 'sms2669', 'sms2670', 'sms2671', 'sms2672', 'sms2673', 'sms2674', 'sms2675', 'sms2676', 'sms2677', 'sms2678', 'sms2679', 'sms2680', 'sms2681', 'sms2682', 'sms2683', 'sms2684', 'sms2685', 'sms2686', 'sms2687', 'sms2688', 'sms2689', 'sms2690', 'sms2691', 'sms2692', 'sms2693', 'sms2694', 'sms2695', 'sms2696', 'sms2697', 'sms2698', 'sms2699!', 'sms2700', 'sms2701', 'sms2702!', 'sms2703', 'sms2704', 'sms2705', 'sms2706', 'sms2707!', 'sms2708', 'sms2709', 'sms2710!', 'sms2711', 'sms2712', 'sms2713', 'sms2714', 'sms2715', 'sms2716', 'sms2717', 'sms2718', 'sms2719', 'sms2720', 'sms2721', 'sms2722', 'sms2723', 'sms2724', 'sms2725', 'sms2726', 'sms2727', 'sms2728', 'sms2729', 'sms2730', 'sms2731', 'sms2732', 'sms2733', 'sms2734', 'sms2735!', 'sms2736', 'sms2737', 'sms2738', 'sms2739', 'sms2740', 'sms2741', 'sms2742', 'sms2743', 'sms2744', 'sms2745', 'sms2746', 'sms2747', 'sms2748', 'sms2749', 'sms2750', 'sms2751', 'sms2752', 'sms2753', 'sms2754!', 'sms2755', 'sms2756', 'sms2757', 'sms2758', 'sms2759', 'sms2760', 'sms2761', 'sms2762', 'sms2763', 'sms2764', 'sms2765', 'sms2766!', 'sms2767', 'sms2768', 'sms2769!', 'sms2770', 'sms2771', 'sms2772', 'sms2773', 'sms2774', 'sms2775!', 'sms2776', 'sms2777', 'sms2778', 'sms2779', 'sms2780', 'sms2781', 'sms2782', 'sms2783', 'sms2784!', 'sms2785', 'sms2786', 'sms2787', 'sms2788', 'sms2789', 'sms2790', 'sms2791', 'sms2792', 'sms2793', 'sms2794', 'sms2795', 'sms2796!', 'sms2797', 'sms2798!', 'sms2799', 'sms2800', 'sms2801', 'sms2802', 'sms2803', 'sms2804', 'sms2805', 'sms2806', 'sms2807!', 'sms2808', 'sms2809', 'sms2810!', 'sms2811', 'sms2812', 'sms2813', 'sms2814', 'sms2815', 'sms2816', 'sms2817!', 'sms2818', 'sms2819!', 'sms2820', 'sms2821', 'sms2822', 'sms2823', 'sms2824', 'sms2825', 'sms2826', 'sms2827', 'sms2828', 'sms2829', 'sms2830', 'sms2831', 'sms2832!', 'sms2833', 'sms2834', 'sms2835!', 'sms2836', 'sms2837', 'sms2838', 'sms2839', 'sms2840', 'sms2841', 'sms2842', 'sms2843', 'sms2844', 'sms2845', 'sms2846', 'sms2847', 'sms2848', 'sms2849', 'sms2850', 'sms2851', 'sms2852', 'sms2853', 'sms2854', 'sms2855', 'sms2856', 'sms2857', 'sms2858', 'sms2859', 'sms2860!', 'sms2861', 'sms2862', 'sms2863', 'sms2864', 'sms2865!', 'sms2866', 'sms2867', 'sms2868', 'sms2869', 'sms2870', 'sms2871', 'sms2872!', 'sms2873!', 'sms2874', 'sms2875', 'sms2876', 'sms2877', 'sms2878', 'sms2879', 'sms2880', 'sms2881', 'sms2882', 'sms2883', 'sms2884', 'sms2885', 'sms2886', 'sms2887', 'sms2888', 'sms2889', 'sms2890', 'sms2891', 'sms2892', 'sms2893', 'sms2894', 'sms2895', 'sms2896', 'sms2897', 'sms2898', 'sms2899', 'sms2900', 'sms2901', 'sms2902', 'sms2903!', 'sms2904', 'sms2905', 'sms2906', 'sms2907', 'sms2908', 'sms2909!', 'sms2910', 'sms2911', 'sms2912', 'sms2913', 'sms2914', 'sms2915!', 'sms2916', 'sms2917', 'sms2918', 'sms2919', 'sms2920', 'sms2921', 'sms2922', 'sms2923', 'sms2924', 'sms2925', 'sms2926', 'sms2927', 'sms2928', 'sms2929', 'sms2930', 'sms2931', 'sms2932!', 'sms2933!', 'sms2934', 'sms2935', 'sms2936', 'sms2937', 'sms2938', 'sms2939', 'sms2940', 'sms2941!', 'sms2942!', 'sms2943', 'sms2944', 'sms2945!', 'sms2946', 'sms2947', 'sms2948', 'sms2949', 'sms2950', 'sms2951', 'sms2952', 'sms2953', 'sms2954', 'sms2955', 'sms2956', 'sms2957', 'sms2958', 'sms2959!', 'sms2960', 'sms2961', 'sms2962', 'sms2963', 'sms2964', 'sms2965', 'sms2966', 'sms2967', 'sms2968', 'sms2969', 'sms2970', 'sms2971', 'sms2972', 'sms2973', 'sms2974', 'sms2975', 'sms2976', 'sms2977!', 'sms2978', 'sms2979', 'sms2980', 'sms2981', 'sms2982', 'sms2983', 'sms2984', 'sms2985', 'sms2986', 'sms2987', 'sms2988', 'sms2989', 'sms2990', 'sms2991', 'sms2992', 'sms2993', 'sms2994', 'sms2995', 'sms2996', 'sms2997', 'sms2998', 'sms2999', 'sms3000', 'sms3001', 'sms3002', 'sms3003!', 'sms3004', 'sms3005', 'sms3006', 'sms3007', 'sms3008', 'sms3009', 'sms3010', 'sms3011', 'sms3012', 'sms3013', 'sms3014', 'sms3015', 'sms3016', 'sms3017', 'sms3018', 'sms3019', 'sms3020', 'sms3021', 'sms3022', 'sms3023', 'sms3024', 'sms3025!', 'sms3026', 'sms3027', 'sms3028!', 'sms3029', 'sms3030', 'sms3031', 'sms3032', 'sms3033', 'sms3034!', 'sms3035', 'sms3036', 'sms3037', 'sms3038', 'sms3039', 'sms3040!', 'sms3041', 'sms3042', 'sms3043', 'sms3044!', 'sms3045', 'sms3046', 'sms3047', 'sms3048', 'sms3049', 'sms3050', 'sms3051', 'sms3052!', 'sms3053', 'sms3054', 'sms3055', 'sms3056', 'sms3057', 'sms3058', 'sms3059', 'sms3060', 'sms3061', 'sms3062!', 'sms3063!', 'sms3064!', 'sms3065!', 'sms3066!', 'sms3067!', 'sms3068!', 'sms3069', 'sms3070', 'sms3071', 'sms3072', 'sms3073', 'sms3074', 'sms3075', 'sms3076!', 'sms3077', 'sms3078', 'sms3079', 'sms3080', 'sms3081', 'sms3082', 'sms3083', 'sms3084', 'sms3085!', 'sms3086!', 'sms3087', 'sms3088', 'sms3089', 'sms3090', 'sms3091', 'sms3092', 'sms3093', 'sms3094', 'sms3095', 'sms3096', 'sms3097', 'sms3098', 'sms3099', 'sms3100', 'sms3101', 'sms3102', 'sms3103!', 'sms3104', 'sms3105', 'sms3106!', 'sms3107', 'sms3108', 'sms3109', 'sms3110', 'sms3111!', 'sms3112', 'sms3113', 'sms3114', 'sms3115', 'sms3116', 'sms3117', 'sms3118', 'sms3119', 'sms3120', 'sms3121', 'sms3122', 'sms3123', 'sms3124', 'sms3125', 'sms3126!', 'sms3127', 'sms3128', 'sms3129', 'sms3130', 'sms3131', 'sms3132', 'sms3133', 'sms3134', 'sms3135', 'sms3136', 'sms3137', 'sms3138!', 'sms3139!', 'sms3140', 'sms3141', 'sms3142', 'sms3143', 'sms3144!', 'sms3145', 'sms3146', 'sms3147', 'sms3148', 'sms3149', 'sms3150', 'sms3151', 'sms3152', 'sms3153', 'sms3154', 'sms3155', 'sms3156', 'sms3157', 'sms3158', 'sms3159', 'sms3160', 'sms3161', 'sms3162', 'sms3163', 'sms3164', 'sms3165', 'sms3166', 'sms3167', 'sms3168', 'sms3169', 'sms3170', 'sms3171', 'sms3172!', 'sms3173!', 'sms3174', 'sms3175', 'sms3176', 'sms3177', 'sms3178', 'sms3179', 'sms3180', 'sms3181', 'sms3182', 'sms3183', 'sms3184', 'sms3185', 'sms3186', 'sms3187', 'sms3188', 'sms3189', 'sms3190', 'sms3191!', 'sms3192', 'sms3193', 'sms3194', 'sms3195', 'sms3196', 'sms3197', 'sms3198', 'sms3199!', 'sms3200', 'sms3201', 'sms3202', 'sms3203!', 'sms3204', 'sms3205!', 'sms3206', 'sms3207!', 'sms3208', 'sms3209', 'sms3210', 'sms3211!', 'sms3212', 'sms3213', 'sms3214!', 'sms3215', 'sms3216', 'sms3217!', 'sms3218', 'sms3219', 'sms3220', 'sms3221', 'sms3222', 'sms3223', 'sms3224', 'sms3225', 'sms3226', 'sms3227', 'sms3228!', 'sms3229', 'sms3230!', 'sms3231', 'sms3232', 'sms3233', 'sms3234', 'sms3235', 'sms3236', 'sms3237', 'sms3238!', 'sms3239', 'sms3240', 'sms3241!', 'sms3242', 'sms3243', 'sms3244', 'sms3245', 'sms3246', 'sms3247', 'sms3248', 'sms3249', 'sms3250', 'sms3251', 'sms3252', 'sms3253', 'sms3254', 'sms3255', 'sms3256', 'sms3257', 'sms3258', 'sms3259', 'sms3260', 'sms3261', 'sms3262', 'sms3263!', 'sms3264', 'sms3265', 'sms3266', 'sms3267', 'sms3268', 'sms3269', 'sms3270', 'sms3271', 'sms3272', 'sms3273', 'sms3274!', 'sms3275', 'sms3276', 'sms3277', 'sms3278', 'sms3279', 'sms3280', 'sms3281', 'sms3282!', 'sms3283', 'sms3284', 'sms3285!', 'sms3286', 'sms3287', 'sms3288', 'sms3289!', 'sms3290', 'sms3291', 'sms3292', 'sms3293', 'sms3294', 'sms3295', 'sms3296', 'sms3297', 'sms3298', 'sms3299', 'sms3300', 'sms3301', 'sms3302', 'sms3303', 'sms3304', 'sms3305', 'sms3306', 'sms3307', 'sms3308', 'sms3309', 'sms3310', 'sms3311', 'sms3312', 'sms3313', 'sms3314', 'sms3315', 'sms3316', 'sms3317', 'sms3318!', 'sms3319', 'sms3320', 'sms3321', 'sms3322!', 'sms3323', 'sms3324', 'sms3325', 'sms3326', 'sms3327', 'sms3328', 'sms3329', 'sms3330', 'sms3331', 'sms3332', 'sms3333', 'sms3334', 'sms3335', 'sms3336', 'sms3337', 'sms3338', 'sms3339', 'sms3340', 'sms3341!', 'sms3342', 'sms3343', 'sms3344', 'sms3345', 'sms3346', 'sms3347', 'sms3348', 'sms3349', 'sms3350', 'sms3351', 'sms3352!', 'sms3353', 'sms3354', 'sms3355', 'sms3356', 'sms3357', 'sms3358', 'sms3359', 'sms3360', 'sms3361', 'sms3362', 'sms3363!', 'sms3364', 'sms3365', 'sms3366', 'sms3367', 'sms3368!', 'sms3369', 'sms3370', 'sms3371', 'sms3372', 'sms3373', 'sms3374', 'sms3375', 'sms3376', 'sms3377', 'sms3378', 'sms3379', 'sms3380', 'sms3381', 'sms3382', 'sms3383', 'sms3384', 'sms3385!', 'sms3386', 'sms3387', 'sms3388', 'sms3389', 'sms3390', 'sms3391', 'sms3392', 'sms3393!', 'sms3394', 'sms3395', 'sms3396', 'sms3397', 'sms3398!', 'sms3399', 'sms3400', 'sms3401!', 'sms3402', 'sms3403', 'sms3404', 'sms3405', 'sms3406!', 'sms3407', 'sms3408', 'sms3409!', 'sms3410', 'sms3411', 'sms3412', 'sms3413', 'sms3414', 'sms3415', 'sms3416', 'sms3417', 'sms3418', 'sms3419', 'sms3420', 'sms3421!', 'sms3422', 'sms3423!', 'sms3424', 'sms3425', 'sms3426', 'sms3427', 'sms3428', 'sms3429', 'sms3430', 'sms3431', 'sms3432!', 'sms3433', 'sms3434', 'sms3435!', 'sms3436', 'sms3437', 'sms3438', 'sms3439', 'sms3440', 'sms3441', 'sms3442', 'sms3443', 'sms3444!', 'sms3445', 'sms3446', 'sms3447', 'sms3448', 'sms3449', 'sms3450!', 'sms3451', 'sms3452', 'sms3453', 'sms3454', 'sms3455', 'sms3456', 'sms3457', 'sms3458', 'sms3459', 'sms3460', 'sms3461', 'sms3462!', 'sms3463', 'sms3464', 'sms3465', 'sms3466', 'sms3467', 'sms3468', 'sms3469', 'sms3470', 'sms3471!', 'sms3472', 'sms3473', 'sms3474', 'sms3475', 'sms3476', 'sms3477', 'sms3478', 'sms3479', 'sms3480', 'sms3481', 'sms3482', 'sms3483', 'sms3484', 'sms3485', 'sms3486', 'sms3487', 'sms3488', 'sms3489', 'sms3490', 'sms3491!', 'sms3492', 'sms3493', 'sms3494', 'sms3495', 'sms3496', 'sms3497', 'sms3498', 'sms3499!', 'sms3500', 'sms3501', 'sms3502', 'sms3503!', 'sms3504', 'sms3505!', 'sms3506', 'sms3507!', 'sms3508', 'sms3509', 'sms3510', 'sms3511', 'sms3512', 'sms3513', 'sms3514', 'sms3515', 'sms3516', 'sms3517', 'sms3518', 'sms3519', 'sms3520', 'sms3521', 'sms3522', 'sms3523', 'sms3524', 'sms3525', 'sms3526', 'sms3527', 'sms3528!', 'sms3529', 'sms3530', 'sms3531', 'sms3532', 'sms3533', 'sms3534!', 'sms3535', 'sms3536!', 'sms3537', 'sms3538!', 'sms3539', 'sms3540!', 'sms3541', 'sms3542', 'sms3543', 'sms3544', 'sms3545', 'sms3546', 'sms3547', 'sms3548!', 'sms3549!', 'sms3550', 'sms3551', 'sms3552', 'sms3553', 'sms3554', 'sms3555', 'sms3556!', 'sms3557', 'sms3558', 'sms3559', 'sms3560', 'sms3561', 'sms3562', 'sms3563', 'sms3564!', 'sms3565', 'sms3566', 'sms3567', 'sms3568', 'sms3569', 'sms3570', 'sms3571', 'sms3572', 'sms3573', 'sms3574', 'sms3575', 'sms3576', 'sms3577', 'sms3578', 'sms3579', 'sms3580', 'sms3581', 'sms3582', 'sms3583', 'sms3584', 'sms3585!', 'sms3586', 'sms3587', 'sms3588', 'sms3589', 'sms3590', 'sms3591', 'sms3592', 'sms3593', 'sms3594', 'sms3595', 'sms3596', 'sms3597!', 'sms3598', 'sms3599', 'sms3600', 'sms3601', 'sms3602', 'sms3603', 'sms3604', 'sms3605', 'sms3606!', 'sms3607', 'sms3608', 'sms3609', 'sms3610', 'sms3611!', 'sms3612', 'sms3613', 'sms3614', 'sms3615!', 'sms3616', 'sms3617', 'sms3618', 'sms3619', 'sms3620', 'sms3621!', 'sms3622', 'sms3623', 'sms3624!', 'sms3625', 'sms3626', 'sms3627', 'sms3628', 'sms3629', 'sms3630', 'sms3631!', 'sms3632', 'sms3633', 'sms3634!', 'sms3635', 'sms3636', 'sms3637', 'sms3638', 'sms3639', 'sms3640', 'sms3641!', 'sms3642!', 'sms3643', 'sms3644!', 'sms3645', 'sms3646', 'sms3647', 'sms3648', 'sms3649', 'sms3650', 'sms3651', 'sms3652', 'sms3653', 'sms3654!', 'sms3655!', 'sms3656', 'sms3657', 'sms3658', 'sms3659!', 'sms3660', 'sms3661', 'sms3662', 'sms3663!', 'sms3664', 'sms3665', 'sms3666', 'sms3667', 'sms3668', 'sms3669', 'sms3670', 'sms3671', 'sms3672', 'sms3673', 'sms3674', 'sms3675', 'sms3676', 'sms3677', 'sms3678', 'sms3679!', 'sms3680', 'sms3681', 'sms3682', 'sms3683', 'sms3684', 'sms3685!', 'sms3686', 'sms3687', 'sms3688', 'sms3689', 'sms3690!', 'sms3691!', 'sms3692', 'sms3693', 'sms3694', 'sms3695', 'sms3696', 'sms3697', 'sms3698', 'sms3699', 'sms3700', 'sms3701', 'sms3702', 'sms3703!', 'sms3704!', 'sms3705', 'sms3706', 'sms3707', 'sms3708', 'sms3709', 'sms3710', 'sms3711!', 'sms3712!', 'sms3713', 'sms3714', 'sms3715', 'sms3716!', 'sms3717', 'sms3718', 'sms3719', 'sms3720!', 'sms3721', 'sms3722', 'sms3723', 'sms3724', 'sms3725', 'sms3726', 'sms3727', 'sms3728', 'sms3729!', 'sms3730', 'sms3731!', 'sms3732', 'sms3733', 'sms3734!', 'sms3735', 'sms3736', 'sms3737', 'sms3738', 'sms3739', 'sms3740', 'sms3741', 'sms3742', 'sms3743', 'sms3744', 'sms3745', 'sms3746', 'sms3747', 'sms3748', 'sms3749', 'sms3750', 'sms3751', 'sms3752', 'sms3753', 'sms3754', 'sms3755', 'sms3756', 'sms3757', 'sms3758', 'sms3759', 'sms3760', 'sms3761', 'sms3762', 'sms3763!', 'sms3764', 'sms3765', 'sms3766', 'sms3767', 'sms3768', 'sms3769', 'sms3770', 'sms3771', 'sms3772', 'sms3773', 'sms3774', 'sms3775', 'sms3776', 'sms3777!', 'sms3778', 'sms3779', 'sms3780', 'sms3781', 'sms3782', 'sms3783', 'sms3784', 'sms3785', 'sms3786', 'sms3787!', 'sms3788', 'sms3789', 'sms3790', 'sms3791', 'sms3792', 'sms3793', 'sms3794', 'sms3795', 'sms3796', 'sms3797', 'sms3798', 'sms3799', 'sms3800!', 'sms3801', 'sms3802!', 'sms3803', 'sms3804', 'sms3805', 'sms3806', 'sms3807', 'sms3808', 'sms3809', 'sms3810', 'sms3811', 'sms3812', 'sms3813', 'sms3814', 'sms3815', 'sms3816', 'sms3817', 'sms3818', 'sms3819', 'sms3820', 'sms3821', 'sms3822', 'sms3823', 'sms3824', 'sms3825', 'sms3826!', 'sms3827!', 'sms3828', 'sms3829', 'sms3830', 'sms3831', 'sms3832', 'sms3833!', 'sms3834', 'sms3835', 'sms3836', 'sms3837', 'sms3838', 'sms3839', 'sms3840', 'sms3841!', 'sms3842', 'sms3843', 'sms3844!', 'sms3845', 'sms3846', 'sms3847', 'sms3848', 'sms3849', 'sms3850', 'sms3851', 'sms3852', 'sms3853', 'sms3854!', 'sms3855', 'sms3856', 'sms3857', 'sms3858', 'sms3859', 'sms3860', 'sms3861!', 'sms3862', 'sms3863', 'sms3864', 'sms3865', 'sms3866', 'sms3867', 'sms3868', 'sms3869', 'sms3870!', 'sms3871', 'sms3872', 'sms3873', 'sms3874', 'sms3875', 'sms3876', 'sms3877', 'sms3878', 'sms3879', 'sms3880', 'sms3881', 'sms3882!', 'sms3883', 'sms3884', 'sms3885!', 'sms3886!', 'sms3887!', 'sms3888', 'sms3889', 'sms3890', 'sms3891', 'sms3892!', 'sms3893', 'sms3894!', 'sms3895!', 'sms3896', 'sms3897', 'sms3898', 'sms3899', 'sms3900!', 'sms3901', 'sms3902', 'sms3903', 'sms3904', 'sms3905', 'sms3906', 'sms3907', 'sms3908', 'sms3909', 'sms3910!', 'sms3911', 'sms3912', 'sms3913', 'sms3914', 'sms3915', 'sms3916', 'sms3917', 'sms3918', 'sms3919', 'sms3920', 'sms3921', 'sms3922', 'sms3923', 'sms3924!', 'sms3925', 'sms3926', 'sms3927', 'sms3928', 'sms3929', 'sms3930', 'sms3931', 'sms3932', 'sms3933', 'sms3934', 'sms3935', 'sms3936!', 'sms3937!', 'sms3938', 'sms3939', 'sms3940', 'sms3941', 'sms3942', 'sms3943', 'sms3944', 'sms3945', 'sms3946', 'sms3947', 'sms3948', 'sms3949', 'sms3950', 'sms3951!', 'sms3952', 'sms3953', 'sms3954', 'sms3955!', 'sms3956', 'sms3957', 'sms3958', 'sms3959', 'sms3960!', 'sms3961', 'sms3962', 'sms3963', 'sms3964', 'sms3965', 'sms3966!', 'sms3967', 'sms3968', 'sms3969', 'sms3970', 'sms3971', 'sms3972', 'sms3973', 'sms3974', 'sms3975', 'sms3976', 'sms3977', 'sms3978', 'sms3979', 'sms3980', 'sms3981!', 'sms3982', 'sms3983', 'sms3984!', 'sms3985', 'sms3986', 'sms3987', 'sms3988', 'sms3989', 'sms3990', 'sms3991', 'sms3992', 'sms3993', 'sms3994', 'sms3995', 'sms3996', 'sms3997', 'sms3998', 'sms3999', 'sms4000', 'sms4001', 'sms4002', 'sms4003', 'sms4004!', 'sms4005', 'sms4006', 'sms4007', 'sms4008', 'sms4009!', 'sms4010', 'sms4011', 'sms4012', 'sms4013', 'sms4014', 'sms4015', 'sms4016', 'sms4017', 'sms4018', 'sms4019', 'sms4020', 'sms4021', 'sms4022', 'sms4023', 'sms4024', 'sms4025', 'sms4026', 'sms4027', 'sms4028', 'sms4029', 'sms4030', 'sms4031', 'sms4032', 'sms4033!', 'sms4034', 'sms4035', 'sms4036!', 'sms4037', 'sms4038', 'sms4039', 'sms4040', 'sms4041', 'sms4042', 'sms4043!', 'sms4044', 'sms4045', 'sms4046', 'sms4047', 'sms4048', 'sms4049', 'sms4050', 'sms4051', 'sms4052', 'sms4053', 'sms4054!', 'sms4055', 'sms4056', 'sms4057', 'sms4058', 'sms4059', 'sms4060!', 'sms4061', 'sms4062!', 'sms4063', 'sms4064', 'sms4065', 'sms4066', 'sms4067!', 'sms4068!', 'sms4069', 'sms4070', 'sms4071', 'sms4072', 'sms4073', 'sms4074', 'sms4075', 'sms4076!', 'sms4077', 'sms4078', 'sms4079', 'sms4080', 'sms4081', 'sms4082', 'sms4083', 'sms4084', 'sms4085', 'sms4086', 'sms4087', 'sms4088', 'sms4089', 'sms4090', 'sms4091', 'sms4092', 'sms4093', 'sms4094!', 'sms4095', 'sms4096', 'sms4097', 'sms4098', 'sms4099', 'sms4100', 'sms4101', 'sms4102', 'sms4103', 'sms4104', 'sms4105!', 'sms4106!', 'sms4107', 'sms4108', 'sms4109', 'sms4110', 'sms4111', 'sms4112', 'sms4113', 'sms4114', 'sms4115', 'sms4116!', 'sms4117', 'sms4118', 'sms4119', 'sms4120', 'sms4121', 'sms4122', 'sms4123', 'sms4124', 'sms4125', 'sms4126', 'sms4127', 'sms4128', 'sms4129!', 'sms4130', 'sms4131!', 'sms4132', 'sms4133', 'sms4134', 'sms4135', 'sms4136', 'sms4137', 'sms4138', 'sms4139', 'sms4140', 'sms4141', 'sms4142!', 'sms4143', 'sms4144', 'sms4145', 'sms4146', 'sms4147', 'sms4148', 'sms4149!', 'sms4150', 'sms4151', 'sms4152', 'sms4153!', 'sms4154', 'sms4155', 'sms4156', 'sms4157', 'sms4158', 'sms4159', 'sms4160', 'sms4161', 'sms4162', 'sms4163', 'sms4164', 'sms4165', 'sms4166', 'sms4167', 'sms4168', 'sms4169', 'sms4170', 'sms4171!', 'sms4172', 'sms4173', 'sms4174', 'sms4175', 'sms4176', 'sms4177', 'sms4178', 'sms4179!', 'sms4180', 'sms4181', 'sms4182', 'sms4183!', 'sms4184', 'sms4185', 'sms4186', 'sms4187', 'sms4188', 'sms4189', 'sms4190', 'sms4191', 'sms4192', 'sms4193', 'sms4194', 'sms4195!', 'sms4196!', 'sms4197', 'sms4198', 'sms4199', 'sms4200', 'sms4201', 'sms4202', 'sms4203', 'sms4204', 'sms4205', 'sms4206', 'sms4207', 'sms4208', 'sms4209', 'sms4210', 'sms4211', 'sms4212', 'sms4213!', 'sms4214!', 'sms4215', 'sms4216', 'sms4217', 'sms4218!', 'sms4219', 'sms4220', 'sms4221', 'sms4222', 'sms4223', 'sms4224', 'sms4225', 'sms4226', 'sms4227', 'sms4228', 'sms4229', 'sms4230!', 'sms4231', 'sms4232!', 'sms4233!', 'sms4234', 'sms4235', 'sms4236', 'sms4237', 'sms4238', 'sms4239', 'sms4240', 'sms4241', 'sms4242', 'sms4243', 'sms4244', 'sms4245', 'sms4246', 'sms4247', 'sms4248', 'sms4249', 'sms4250!', 'sms4251', 'sms4252', 'sms4253', 'sms4254', 'sms4255', 'sms4256!', 'sms4257', 'sms4258', 'sms4259', 'sms4260', 'sms4261', 'sms4262', 'sms4263', 'sms4264', 'sms4265', 'sms4266', 'sms4267', 'sms4268', 'sms4269!', 'sms4270', 'sms4271', 'sms4272', 'sms4273', 'sms4274', 'sms4275', 'sms4276', 'sms4277!', 'sms4278', 'sms4279', 'sms4280', 'sms4281', 'sms4282', 'sms4283!', 'sms4284', 'sms4285', 'sms4286', 'sms4287', 'sms4288', 'sms4289', 'sms4290', 'sms4291', 'sms4292!', 'sms4293!', 'sms4294', 'sms4295!', 'sms4296', 'sms4297', 'sms4298', 'sms4299', 'sms4300', 'sms4301', 'sms4302!', 'sms4303', 'sms4304', 'sms4305', 'sms4306!', 'sms4307', 'sms4308!', 'sms4309', 'sms4310', 'sms4311', 'sms4312', 'sms4313', 'sms4314', 'sms4315', 'sms4316', 'sms4317', 'sms4318', 'sms4319', 'sms4320!', 'sms4321', 'sms4322', 'sms4323', 'sms4324', 'sms4325!', 'sms4326', 'sms4327', 'sms4328', 'sms4329', 'sms4330', 'sms4331', 'sms4332', 'sms4333!', 'sms4334', 'sms4335', 'sms4336!', 'sms4337', 'sms4338!', 'sms4339', 'sms4340', 'sms4341!', 'sms4342', 'sms4343', 'sms4344!', 'sms4345', 'sms4346', 'sms4347', 'sms4348', 'sms4349', 'sms4350', 'sms4351', 'sms4352', 'sms4353', 'sms4354', 'sms4355', 'sms4356', 'sms4357', 'sms4358', 'sms4359', 'sms4360', 'sms4361', 'sms4362', 'sms4363!', 'sms4364', 'sms4365', 'sms4366', 'sms4367!', 'sms4368', 'sms4369', 'sms4370', 'sms4371', 'sms4372', 'sms4373', 'sms4374', 'sms4375!', 'sms4376', 'sms4377!', 'sms4378', 'sms4379', 'sms4380!', 'sms4381', 'sms4382', 'sms4383', 'sms4384', 'sms4385!', 'sms4386', 'sms4387', 'sms4388', 'sms4389', 'sms4390', 'sms4391', 'sms4392', 'sms4393', 'sms4394', 'sms4395', 'sms4396', 'sms4397', 'sms4398', 'sms4399', 'sms4400', 'sms4401', 'sms4402!', 'sms4403', 'sms4404', 'sms4405', 'sms4406!', 'sms4407', 'sms4408', 'sms4409', 'sms4410', 'sms4411', 'sms4412!', 'sms4413', 'sms4414', 'sms4415', 'sms4416', 'sms4417', 'sms4418', 'sms4419', 'sms4420', 'sms4421', 'sms4422', 'sms4423', 'sms4424', 'sms4425', 'sms4426', 'sms4427', 'sms4428', 'sms4429!', 'sms4430', 'sms4431', 'sms4432', 'sms4433', 'sms4434', 'sms4435', 'sms4436', 'sms4437', 'sms4438', 'sms4439', 'sms4440', 'sms4441', 'sms4442', 'sms4443!', 'sms4444', 'sms4445', 'sms4446', 'sms4447', 'sms4448', 'sms4449', 'sms4450', 'sms4451', 'sms4452', 'sms4453', 'sms4454!', 'sms4455!', 'sms4456', 'sms4457', 'sms4458', 'sms4459', 'sms4460', 'sms4461!', 'sms4462', 'sms4463', 'sms4464', 'sms4465!', 'sms4466!', 'sms4467', 'sms4468', 'sms4469', 'sms4470!', 'sms4471', 'sms4472', 'sms4473', 'sms4474', 'sms4475', 'sms4476', 'sms4477', 'sms4478', 'sms4479!', 'sms4480', 'sms4481', 'sms4482', 'sms4483', 'sms4484', 'sms4485', 'sms4486', 'sms4487', 'sms4488', 'sms4489', 'sms4490', 'sms4491', 'sms4492', 'sms4493!', 'sms4494', 'sms4495', 'sms4496', 'sms4497!', 'sms4498', 'sms4499', 'sms4500', 'sms4501', 'sms4502!', 'sms4503', 'sms4504', 'sms4505', 'sms4506', 'sms4507', 'sms4508', 'sms4509', 'sms4510', 'sms4511', 'sms4512', 'sms4513', 'sms4514', 'sms4515!', 'sms4516', 'sms4517', 'sms4518', 'sms4519', 'sms4520', 'sms4521', 'sms4522', 'sms4523', 'sms4524', 'sms4525', 'sms4526', 'sms4527', 'sms4528', 'sms4529', 'sms4530', 'sms4531', 'sms4532', 'sms4533', 'sms4534!', 'sms4535', 'sms4536', 'sms4537', 'sms4538', 'sms4539', 'sms4540', 'sms4541', 'sms4542', 'sms4543!', 'sms4544', 'sms4545', 'sms4546', 'sms4547', 'sms4548', 'sms4549', 'sms4550!', 'sms4551', 'sms4552', 'sms4553', 'sms4554', 'sms4555', 'sms4556', 'sms4557!', 'sms4558', 'sms4559!', 'sms4560', 'sms4561', 'sms4562', 'sms4563', 'sms4564', 'sms4565', 'sms4566', 'sms4567', 'sms4568', 'sms4569', 'sms4570', 'sms4571', 'sms4572', 'sms4573', 'sms4574', 'sms4575', 'sms4576', 'sms4577', 'sms4578', 'sms4579!', 'sms4580', 'sms4581', 'sms4582', 'sms4583', 'sms4584', 'sms4585', 'sms4586', 'sms4587', 'sms4588', 'sms4589', 'sms4590', 'sms4591', 'sms4592', 'sms4593', 'sms4594', 'sms4595', 'sms4596', 'sms4597', 'sms4598', 'sms4599', 'sms4600', 'sms4601', 'sms4602', 'sms4603', 'sms4604', 'sms4605', 'sms4606', 'sms4607!', 'sms4608', 'sms4609', 'sms4610', 'sms4611', 'sms4612', 'sms4613', 'sms4614', 'sms4615', 'sms4616', 'sms4617', 'sms4618', 'sms4619', 'sms4620', 'sms4621', 'sms4622', 'sms4623', 'sms4624', 'sms4625', 'sms4626', 'sms4627', 'sms4628', 'sms4629!', 'sms4630!', 'sms4631!', 'sms4632', 'sms4633!', 'sms4634', 'sms4635!', 'sms4636', 'sms4637', 'sms4638', 'sms4639', 'sms4640', 'sms4641', 'sms4642!', 'sms4643!', 'sms4644', 'sms4645', 'sms4646!', 'sms4647', 'sms4648', 'sms4649', 'sms4650', 'sms4651', 'sms4652', 'sms4653', 'sms4654', 'sms4655', 'sms4656', 'sms4657', 'sms4658', 'sms4659', 'sms4660', 'sms4661', 'sms4662', 'sms4663', 'sms4664', 'sms4665', 'sms4666', 'sms4667', 'sms4668', 'sms4669', 'sms4670', 'sms4671', 'sms4672', 'sms4673', 'sms4674', 'sms4675', 'sms4676', 'sms4677', 'sms4678', 'sms4679', 'sms4680', 'sms4681', 'sms4682', 'sms4683', 'sms4684', 'sms4685', 'sms4686', 'sms4687', 'sms4688', 'sms4689', 'sms4690', 'sms4691', 'sms4692!', 'sms4693', 'sms4694', 'sms4695', 'sms4696', 'sms4697', 'sms4698', 'sms4699', 'sms4700', 'sms4701', 'sms4702', 'sms4703', 'sms4704', 'sms4705', 'sms4706', 'sms4707', 'sms4708!', 'sms4709', 'sms4710', 'sms4711', 'sms4712', 'sms4713', 'sms4714!', 'sms4715', 'sms4716', 'sms4717', 'sms4718', 'sms4719', 'sms4720', 'sms4721!', 'sms4722', 'sms4723', 'sms4724', 'sms4725!', 'sms4726', 'sms4727!', 'sms4728', 'sms4729', 'sms4730', 'sms4731!', 'sms4732!', 'sms4733!', 'sms4734', 'sms4735', 'sms4736', 'sms4737', 'sms4738', 'sms4739', 'sms4740', 'sms4741', 'sms4742', 'sms4743', 'sms4744', 'sms4745', 'sms4746', 'sms4747!', 'sms4748', 'sms4749', 'sms4750', 'sms4751', 'sms4752!', 'sms4753', 'sms4754', 'sms4755', 'sms4756', 'sms4757!', 'sms4758', 'sms4759', 'sms4760', 'sms4761', 'sms4762!', 'sms4763', 'sms4764', 'sms4765', 'sms4766!', 'sms4767', 'sms4768', 'sms4769', 'sms4770', 'sms4771', 'sms4772', 'sms4773', 'sms4774', 'sms4775', 'sms4776', 'sms4777', 'sms4778', 'sms4779', 'sms4780', 'sms4781', 'sms4782', 'sms4783', 'sms4784', 'sms4785', 'sms4786', 'sms4787', 'sms4788', 'sms4789!', 'sms4790', 'sms4791!', 'sms4792', 'sms4793', 'sms4794', 'sms4795', 'sms4796', 'sms4797', 'sms4798', 'sms4799', 'sms4800', 'sms4801', 'sms4802!', 'sms4803', 'sms4804', 'sms4805!', 'sms4806', 'sms4807', 'sms4808', 'sms4809', 'sms4810', 'sms4811', 'sms4812!', 'sms4813', 'sms4814', 'sms4815', 'sms4816', 'sms4817', 'sms4818', 'sms4819', 'sms4820', 'sms4821', 'sms4822', 'sms4823', 'sms4824', 'sms4825', 'sms4826', 'sms4827', 'sms4828', 'sms4829', 'sms4830', 'sms4831!', 'sms4832!', 'sms4833', 'sms4834', 'sms4835', 'sms4836']\n"
     ]
    }
   ],
   "source": [
    "# processed\n",
    "index = ['sms{}{}'.format(i, '!'*j) for (i,j) in zip(range(len(sms)), sms.spam)]  # <2>\n",
    "print(index)\n"
   ],
   "metadata": {
    "collapsed": false,
    "pycharm": {
     "name": "#%%\n"
    }
   }
  },
  {
   "cell_type": "code",
   "execution_count": 24,
   "outputs": [],
   "source": [],
   "metadata": {
    "collapsed": false,
    "pycharm": {
     "name": "#%%\n"
    }
   }
  },
  {
   "cell_type": "code",
   "execution_count": 25,
   "outputs": [
    {
     "name": "stdout",
     "output_type": "stream",
     "text": [
      "4837\n"
     ]
    }
   ],
   "source": [
    "print(len(sms.values))"
   ],
   "metadata": {
    "collapsed": false,
    "pycharm": {
     "name": "#%%\n"
    }
   }
  },
  {
   "cell_type": "code",
   "execution_count": 26,
   "outputs": [
    {
     "name": "stdout",
     "output_type": "stream",
     "text": [
      "         spam                                               text\n",
      "sms0        0  Go until jurong point, crazy.. Available only ...\n",
      "sms1        0                      Ok lar... Joking wif u oni...\n",
      "sms2!       1  Free entry in 2 a wkly comp to win FA Cup fina...\n",
      "sms3        0  U dun say so early hor... U c already then say...\n",
      "sms4        0  Nah I don't think he goes to usf, he lives aro...\n",
      "...       ...                                                ...\n",
      "sms4832!    1  This is the 2nd time we have tried 2 contact u...\n",
      "sms4833     0               Will ü b going to esplanade fr home?\n",
      "sms4834     0  Pity, * was in mood for that. So...any other s...\n",
      "sms4835     0  The guy did some bitching but I acted like i'd...\n",
      "sms4836     0                         Rofl. Its true to its name\n",
      "\n",
      "[4837 rows x 2 columns]\n"
     ]
    }
   ],
   "source": [
    "sms = pd.DataFrame(sms.values, columns=sms.columns, index=index)\n",
    "print(sms)"
   ],
   "metadata": {
    "collapsed": false,
    "pycharm": {
     "name": "#%%\n"
    }
   }
  },
  {
   "cell_type": "code",
   "execution_count": 27,
   "outputs": [
    {
     "name": "stdout",
     "output_type": "stream",
     "text": [
      "[False False  True ... False False False]\n"
     ]
    }
   ],
   "source": [
    "mask = sms.spam.astype(bool).values\n",
    "print(mask)"
   ],
   "metadata": {
    "collapsed": false,
    "pycharm": {
     "name": "#%%\n"
    }
   }
  },
  {
   "cell_type": "code",
   "execution_count": 28,
   "outputs": [
    {
     "name": "stdout",
     "output_type": "stream",
     "text": [
      "       spam                                               text\n",
      "sms0      0  Go until jurong point, crazy.. Available only ...\n",
      "sms1      0                      Ok lar... Joking wif u oni...\n",
      "sms2!     1  Free entry in 2 a wkly comp to win FA Cup fina...\n",
      "sms3      0  U dun say so early hor... U c already then say...\n",
      "sms4      0  Nah I don't think he goes to usf, he lives aro...\n"
     ]
    }
   ],
   "source": [
    "sms['spam'] = sms.spam.astype(int)\n",
    "\n",
    "print(sms.head())"
   ],
   "metadata": {
    "collapsed": false,
    "pycharm": {
     "name": "#%%\n"
    }
   }
  },
  {
   "cell_type": "code",
   "execution_count": 28,
   "outputs": [],
   "source": [],
   "metadata": {
    "collapsed": false,
    "pycharm": {
     "name": "#%%\n"
    }
   }
  },
  {
   "cell_type": "code",
   "execution_count": 29,
   "outputs": [],
   "source": [
    "# tf-idf\n",
    "from sklearn.feature_extraction.text import TfidfVectorizer, CountVectorizer\n",
    "from nltk.tokenize.casual import casual_tokenize\n",
    "\n",
    "n_samples = 4837 # the number of samples in the data file\n",
    "n_features = 100 # the size of vocabulary\n",
    "n_components = 10 # number of topics\n",
    "n_top_words = 20\n",
    "tfidf_vectorizer = TfidfVectorizer(\n",
    "    max_df=0.95, min_df=2, max_features=n_features, stop_words=\"english\"\n",
    ")\n",
    "tfidf = tfidf_vectorizer.fit_transform(sms.text)\n"
   ],
   "metadata": {
    "collapsed": false,
    "pycharm": {
     "name": "#%%\n"
    }
   }
  },
  {
   "cell_type": "code",
   "execution_count": 29,
   "outputs": [],
   "source": [],
   "metadata": {
    "collapsed": false,
    "pycharm": {
     "name": "#%%\n"
    }
   }
  },
  {
   "cell_type": "code",
   "execution_count": 30,
   "outputs": [
    {
     "name": "stdout",
     "output_type": "stream",
     "text": [
      "sms0        Go until jurong point, crazy.. Available only ...\n",
      "sms1                            Ok lar... Joking wif u oni...\n",
      "sms2!       Free entry in 2 a wkly comp to win FA Cup fina...\n",
      "sms3        U dun say so early hor... U c already then say...\n",
      "sms4        Nah I don't think he goes to usf, he lives aro...\n",
      "                                  ...                        \n",
      "sms4832!    This is the 2nd time we have tried 2 contact u...\n",
      "sms4833                  Will ü b going to esplanade fr home?\n",
      "sms4834     Pity, * was in mood for that. So...any other s...\n",
      "sms4835     The guy did some bitching but I acted like i'd...\n",
      "sms4836                            Rofl. Its true to its name\n",
      "Name: text, Length: 4837, dtype: object\n",
      "  (0, 90)\t0.6031124926870588\n",
      "  (0, 22)\t0.5176074766773238\n",
      "  (0, 23)\t0.6069084125735416\n",
      "  (1, 59)\t1.0\n",
      "  (2, 83)\t0.48439813208824334\n",
      "  (2, 76)\t0.4829785002787425\n",
      "  (2, 94)\t0.5717532507003389\n",
      "  (2, 19)\t0.4529773043006825\n",
      "  (3, 68)\t1.0\n",
      "  (4, 79)\t0.7178345360826945\n",
      "  (4, 17)\t0.6962137450574662\n",
      "  (5, 69)\t0.44022926063147866\n",
      "  (5, 38)\t0.417639394995982\n",
      "  (5, 92)\t0.49158349841711985\n",
      "  (5, 28)\t0.48557400896208847\n",
      "  (5, 59)\t0.392860127444518\n",
      "  (6, 38)\t1.0\n",
      "  (8, 7)\t0.8863236322170877\n",
      "  (8, 63)\t0.463066322435036\n",
      "  (9, 49)\t0.7506785517009349\n",
      "  (9, 19)\t0.6606676259785906\n",
      "  (10, 81)\t0.44340236258828497\n",
      "  (10, 87)\t0.4860804020091481\n",
      "  (10, 89)\t0.42197264502394655\n",
      "  (10, 30)\t0.43725497269019686\n",
      "  :\t:\n",
      "  (4826, 9)\t1.0\n",
      "  (4827, 2)\t0.547402406977676\n",
      "  (4827, 41)\t0.4830913653890177\n",
      "  (4827, 68)\t0.5432029577593555\n",
      "  (4827, 59)\t0.4146129329906499\n",
      "  (4828, 41)\t0.7387284821218081\n",
      "  (4828, 38)\t0.6740031377538309\n",
      "  (4829, 88)\t0.7626247818700768\n",
      "  (4829, 17)\t0.6468411258397365\n",
      "  (4831, 62)\t0.4689109528625413\n",
      "  (4831, 65)\t0.45414000336252175\n",
      "  (4831, 76)\t0.4300191123073308\n",
      "  (4831, 19)\t0.403307596877145\n",
      "  (4831, 23)\t0.475716218961504\n",
      "  (4832, 10)\t0.4831855003515846\n",
      "  (4832, 80)\t0.3862108936824903\n",
      "  (4832, 95)\t0.4538723458715346\n",
      "  (4832, 7)\t0.44345836277010253\n",
      "  (4832, 63)\t0.46337618841853656\n",
      "  (4833, 20)\t0.704460506945847\n",
      "  (4833, 30)\t0.7097431888743985\n",
      "  (4835, 15)\t0.5289785522621849\n",
      "  (4835, 38)\t0.46122481843663216\n",
      "  (4835, 92)\t0.5428858305047153\n",
      "  (4835, 19)\t0.46122481843663216\n"
     ]
    }
   ],
   "source": [
    "print(sms.text)\n",
    "print(tfidf)"
   ],
   "metadata": {
    "collapsed": false,
    "pycharm": {
     "name": "#%%\n"
    }
   }
  },
  {
   "cell_type": "code",
   "execution_count": 31,
   "outputs": [
    {
     "name": "stdout",
     "output_type": "stream",
     "text": [
      "['150p' 'amp' 'ask' 'babe' 'buy' 'care' 'cash' 'claim' 'com' 'come'\n",
      " 'contact' 'cos' 'da' 'day' 'dear' 'did' 'doing' 'don' 'dont' 'free'\n",
      " 'going' 'good' 'got' 'great' 'gt' 'gud' 'ham' 'happy' 'hey' 'hi' 'home'\n",
      " 'hope' 'im' 'just' 'know' 'later' 'let' 'life' 'like' 'll' 'lol' 'lor'\n",
      " 'love' 'lt' 'make' 'meet' 'message' 'min' 'miss' 'mobile' 'morning' 'msg'\n",
      " 'need' 'new' 'nice' 'night' 'nokia' 'number' 'oh' 'ok' 'phone' 'pick'\n",
      " 'pls' 'prize' 'really' 'reply' 'right' 'said' 'say' 'send' 'sent' 'sorry'\n",
      " 'spam' 'stop' 'sure' 'tell' 'text' 'thanks' 'thing' 'think' 'time'\n",
      " 'today' 'tomorrow' 'txt' 'uk' 'ur' 'urgent' 've' 'wait' 'want' 'wat'\n",
      " 'way' 'week' 'went' 'win' 'won' 'work' 'www' 'yeah' 'yes']\n"
     ]
    }
   ],
   "source": [
    "tfidf_feature_names = tfidf_vectorizer.get_feature_names_out()\n",
    "print(tfidf_feature_names)"
   ],
   "metadata": {
    "collapsed": false,
    "pycharm": {
     "name": "#%%\n"
    }
   }
  },
  {
   "cell_type": "markdown",
   "source": [
    "## LSA, based on tf-idf"
   ],
   "metadata": {
    "collapsed": false,
    "pycharm": {
     "name": "#%% md\n"
    }
   }
  },
  {
   "cell_type": "code",
   "execution_count": 32,
   "outputs": [
    {
     "name": "stdout",
     "output_type": "stream",
     "text": [
      "(4837, 10)\n"
     ]
    }
   ],
   "source": [
    "# LSA: truncated SVD\n",
    "import pandas as pd\n",
    "from sklearn.decomposition import TruncatedSVD\n",
    "svd = TruncatedSVD(n_components=10, n_iter=100)\n",
    "svd_topic_vectors = svd.fit_transform(tfidf)\n",
    "print(svd_topic_vectors.shape)"
   ],
   "metadata": {
    "collapsed": false,
    "pycharm": {
     "name": "#%%\n"
    }
   }
  },
  {
   "cell_type": "code",
   "execution_count": 33,
   "outputs": [
    {
     "data": {
      "text/plain": "array([ 0.13964066, -0.02516564, -0.08486374, -0.05789016,  0.11626841,\n       -0.02019815, -0.14759302, -0.03664547,  0.40928776,  0.0885199 ])"
     },
     "execution_count": 33,
     "metadata": {},
     "output_type": "execute_result"
    }
   ],
   "source": [
    "svd_topic_vectors[0]"
   ],
   "metadata": {
    "collapsed": false,
    "pycharm": {
     "name": "#%%\n"
    }
   }
  },
  {
   "cell_type": "code",
   "execution_count": 34,
   "outputs": [
    {
     "data": {
      "text/plain": "(10, 100)"
     },
     "execution_count": 34,
     "metadata": {},
     "output_type": "execute_result"
    }
   ],
   "source": [
    "topic_terms = svd.components_\n",
    "topic_terms.shape"
   ],
   "metadata": {
    "collapsed": false,
    "pycharm": {
     "name": "#%%\n"
    }
   }
  },
  {
   "cell_type": "code",
   "execution_count": 35,
   "outputs": [
    {
     "name": "stdout",
     "output_type": "stream",
     "text": [
      "[0.02738133 0.03117358 0.04758964 0.03075928 0.02801685 0.02949884\n",
      " 0.02564204 0.03160582 0.02685654 0.18049621 0.02245162 0.03081482\n",
      " 0.06841281 0.09694943 0.03922428 0.06540164 0.03772829 0.08971527\n",
      " 0.07628069 0.11415699 0.09933842 0.12010634 0.14997204 0.04476538\n",
      " 0.30160925 0.02104281 0.00972225 0.02848262 0.04920226 0.0570938\n",
      " 0.09313356 0.05384937 0.03053648 0.2876546  0.16152156 0.08710991\n",
      " 0.04362883 0.02737943 0.19145986 0.19639793 0.03316675 0.11314324\n",
      " 0.08283205 0.30493229 0.0432378  0.03137136 0.03252396 0.04344136\n",
      " 0.03045    0.04828395 0.03223498 0.05486027 0.08995282 0.05169542\n",
      " 0.02313635 0.0568031  0.02087749 0.03234184 0.05936034 0.48328112\n",
      " 0.04440482 0.0305485  0.04442203 0.02111722 0.03590178 0.0614797\n",
      " 0.04303779 0.04414721 0.04142198 0.0852431  0.03874579 0.09002369\n",
      " 0.00174903 0.06408436 0.03286349 0.06831005 0.08569453 0.02664199\n",
      " 0.02179298 0.0708218  0.14554728 0.07457604 0.04846899 0.06803763\n",
      " 0.02617065 0.23325786 0.01400181 0.03780331 0.0306703  0.10733405\n",
      " 0.05777617 0.04450774 0.05285712 0.02346638 0.02497596 0.02742643\n",
      " 0.04178021 0.03127326 0.04469294 0.037356  ]\n"
     ]
    }
   ],
   "source": [
    "print(topic_terms[0])"
   ],
   "metadata": {
    "collapsed": false,
    "pycharm": {
     "name": "#%%\n"
    }
   }
  },
  {
   "cell_type": "code",
   "execution_count": 36,
   "outputs": [
    {
     "data": {
      "text/plain": "        0      1      2      3      4      5      6      7      8      9\n0   0.140 -0.025 -0.085 -0.058  0.116 -0.020 -0.148 -0.037  0.409  0.089\n1   0.483  0.785  0.287  0.132 -0.128 -0.027  0.003  0.024 -0.061  0.020\n2   0.140 -0.053 -0.196 -0.154 -0.213 -0.030  0.205 -0.089 -0.045  0.390\n3   0.041 -0.005 -0.021  0.005  0.004  0.016 -0.015  0.010  0.025 -0.003\n4   0.113 -0.037 -0.053 -0.019  0.067  0.063  0.010  0.192 -0.076  0.060\n5   0.357  0.245  0.047  0.024 -0.026  0.384  0.016 -0.096 -0.026  0.023\n6   0.191 -0.079 -0.009  0.016  0.113  0.894  0.003 -0.314 -0.041 -0.100\n7   0.000  0.000  0.000  0.000  0.000  0.000  0.000  0.000  0.000  0.000\n8   0.038 -0.015 -0.059 -0.038 -0.086 -0.012  0.030 -0.023 -0.004  0.059\n9   0.112 -0.050 -0.161 -0.123 -0.206 -0.035  0.157 -0.097 -0.027  0.370\n10  0.177 -0.051 -0.112 -0.069  0.129 -0.009 -0.079  0.128 -0.049  0.129\n11  0.141 -0.061 -0.140 -0.130 -0.155  0.010  0.065  0.050 -0.003  0.083\n12  0.121 -0.052 -0.169 -0.114 -0.218 -0.019  0.113 -0.072 -0.021  0.271\n13  0.057 -0.020 -0.042  0.003  0.027  0.019  0.006  0.004  0.015  0.024\n14  0.000  0.000  0.000  0.000  0.000  0.000  0.000  0.000  0.000  0.000\n15  0.071 -0.029 -0.083 -0.065 -0.116 -0.007  0.048 -0.022 -0.006  0.107",
      "text/html": "<div>\n<style scoped>\n    .dataframe tbody tr th:only-of-type {\n        vertical-align: middle;\n    }\n\n    .dataframe tbody tr th {\n        vertical-align: top;\n    }\n\n    .dataframe thead th {\n        text-align: right;\n    }\n</style>\n<table border=\"1\" class=\"dataframe\">\n  <thead>\n    <tr style=\"text-align: right;\">\n      <th></th>\n      <th>0</th>\n      <th>1</th>\n      <th>2</th>\n      <th>3</th>\n      <th>4</th>\n      <th>5</th>\n      <th>6</th>\n      <th>7</th>\n      <th>8</th>\n      <th>9</th>\n    </tr>\n  </thead>\n  <tbody>\n    <tr>\n      <th>0</th>\n      <td>0.140</td>\n      <td>-0.025</td>\n      <td>-0.085</td>\n      <td>-0.058</td>\n      <td>0.116</td>\n      <td>-0.020</td>\n      <td>-0.148</td>\n      <td>-0.037</td>\n      <td>0.409</td>\n      <td>0.089</td>\n    </tr>\n    <tr>\n      <th>1</th>\n      <td>0.483</td>\n      <td>0.785</td>\n      <td>0.287</td>\n      <td>0.132</td>\n      <td>-0.128</td>\n      <td>-0.027</td>\n      <td>0.003</td>\n      <td>0.024</td>\n      <td>-0.061</td>\n      <td>0.020</td>\n    </tr>\n    <tr>\n      <th>2</th>\n      <td>0.140</td>\n      <td>-0.053</td>\n      <td>-0.196</td>\n      <td>-0.154</td>\n      <td>-0.213</td>\n      <td>-0.030</td>\n      <td>0.205</td>\n      <td>-0.089</td>\n      <td>-0.045</td>\n      <td>0.390</td>\n    </tr>\n    <tr>\n      <th>3</th>\n      <td>0.041</td>\n      <td>-0.005</td>\n      <td>-0.021</td>\n      <td>0.005</td>\n      <td>0.004</td>\n      <td>0.016</td>\n      <td>-0.015</td>\n      <td>0.010</td>\n      <td>0.025</td>\n      <td>-0.003</td>\n    </tr>\n    <tr>\n      <th>4</th>\n      <td>0.113</td>\n      <td>-0.037</td>\n      <td>-0.053</td>\n      <td>-0.019</td>\n      <td>0.067</td>\n      <td>0.063</td>\n      <td>0.010</td>\n      <td>0.192</td>\n      <td>-0.076</td>\n      <td>0.060</td>\n    </tr>\n    <tr>\n      <th>5</th>\n      <td>0.357</td>\n      <td>0.245</td>\n      <td>0.047</td>\n      <td>0.024</td>\n      <td>-0.026</td>\n      <td>0.384</td>\n      <td>0.016</td>\n      <td>-0.096</td>\n      <td>-0.026</td>\n      <td>0.023</td>\n    </tr>\n    <tr>\n      <th>6</th>\n      <td>0.191</td>\n      <td>-0.079</td>\n      <td>-0.009</td>\n      <td>0.016</td>\n      <td>0.113</td>\n      <td>0.894</td>\n      <td>0.003</td>\n      <td>-0.314</td>\n      <td>-0.041</td>\n      <td>-0.100</td>\n    </tr>\n    <tr>\n      <th>7</th>\n      <td>0.000</td>\n      <td>0.000</td>\n      <td>0.000</td>\n      <td>0.000</td>\n      <td>0.000</td>\n      <td>0.000</td>\n      <td>0.000</td>\n      <td>0.000</td>\n      <td>0.000</td>\n      <td>0.000</td>\n    </tr>\n    <tr>\n      <th>8</th>\n      <td>0.038</td>\n      <td>-0.015</td>\n      <td>-0.059</td>\n      <td>-0.038</td>\n      <td>-0.086</td>\n      <td>-0.012</td>\n      <td>0.030</td>\n      <td>-0.023</td>\n      <td>-0.004</td>\n      <td>0.059</td>\n    </tr>\n    <tr>\n      <th>9</th>\n      <td>0.112</td>\n      <td>-0.050</td>\n      <td>-0.161</td>\n      <td>-0.123</td>\n      <td>-0.206</td>\n      <td>-0.035</td>\n      <td>0.157</td>\n      <td>-0.097</td>\n      <td>-0.027</td>\n      <td>0.370</td>\n    </tr>\n    <tr>\n      <th>10</th>\n      <td>0.177</td>\n      <td>-0.051</td>\n      <td>-0.112</td>\n      <td>-0.069</td>\n      <td>0.129</td>\n      <td>-0.009</td>\n      <td>-0.079</td>\n      <td>0.128</td>\n      <td>-0.049</td>\n      <td>0.129</td>\n    </tr>\n    <tr>\n      <th>11</th>\n      <td>0.141</td>\n      <td>-0.061</td>\n      <td>-0.140</td>\n      <td>-0.130</td>\n      <td>-0.155</td>\n      <td>0.010</td>\n      <td>0.065</td>\n      <td>0.050</td>\n      <td>-0.003</td>\n      <td>0.083</td>\n    </tr>\n    <tr>\n      <th>12</th>\n      <td>0.121</td>\n      <td>-0.052</td>\n      <td>-0.169</td>\n      <td>-0.114</td>\n      <td>-0.218</td>\n      <td>-0.019</td>\n      <td>0.113</td>\n      <td>-0.072</td>\n      <td>-0.021</td>\n      <td>0.271</td>\n    </tr>\n    <tr>\n      <th>13</th>\n      <td>0.057</td>\n      <td>-0.020</td>\n      <td>-0.042</td>\n      <td>0.003</td>\n      <td>0.027</td>\n      <td>0.019</td>\n      <td>0.006</td>\n      <td>0.004</td>\n      <td>0.015</td>\n      <td>0.024</td>\n    </tr>\n    <tr>\n      <th>14</th>\n      <td>0.000</td>\n      <td>0.000</td>\n      <td>0.000</td>\n      <td>0.000</td>\n      <td>0.000</td>\n      <td>0.000</td>\n      <td>0.000</td>\n      <td>0.000</td>\n      <td>0.000</td>\n      <td>0.000</td>\n    </tr>\n    <tr>\n      <th>15</th>\n      <td>0.071</td>\n      <td>-0.029</td>\n      <td>-0.083</td>\n      <td>-0.065</td>\n      <td>-0.116</td>\n      <td>-0.007</td>\n      <td>0.048</td>\n      <td>-0.022</td>\n      <td>-0.006</td>\n      <td>0.107</td>\n    </tr>\n  </tbody>\n</table>\n</div>"
     },
     "execution_count": 36,
     "metadata": {},
     "output_type": "execute_result"
    }
   ],
   "source": [
    "svd_topic_vectors = pd.DataFrame(svd_topic_vectors)\n",
    "svd_topic_vectors.round(3).head(16)\n"
   ],
   "metadata": {
    "collapsed": false,
    "pycharm": {
     "name": "#%%\n"
    }
   }
  },
  {
   "cell_type": "code",
   "execution_count": 37,
   "outputs": [
    {
     "data": {
      "text/plain": "array([[ 2.73813336e-02,  3.11735809e-02,  4.75896389e-02,\n         3.07592755e-02,  2.80168452e-02,  2.94988379e-02,\n         2.56420435e-02,  3.16058222e-02,  2.68565412e-02,\n         1.80496210e-01,  2.24516177e-02,  3.08148201e-02,\n         6.84128120e-02,  9.69494278e-02,  3.92242781e-02,\n         6.54016393e-02,  3.77282913e-02,  8.97152659e-02,\n         7.62806928e-02,  1.14156994e-01,  9.93384190e-02,\n         1.20106344e-01,  1.49972037e-01,  4.47653809e-02,\n         3.01609246e-01,  2.10428120e-02,  9.72225188e-03,\n         2.84826165e-02,  4.92022639e-02,  5.70938036e-02,\n         9.31335585e-02,  5.38493652e-02,  3.05364815e-02,\n         2.87654598e-01,  1.61521560e-01,  8.71099130e-02,\n         4.36288280e-02,  2.73794287e-02,  1.91459862e-01,\n         1.96397934e-01,  3.31667476e-02,  1.13143236e-01,\n         8.28320491e-02,  3.04932288e-01,  4.32377952e-02,\n         3.13713551e-02,  3.25239559e-02,  4.34413645e-02,\n         3.04499985e-02,  4.82839478e-02,  3.22349792e-02,\n         5.48602693e-02,  8.99528193e-02,  5.16954167e-02,\n         2.31363485e-02,  5.68030962e-02,  2.08774891e-02,\n         3.23418398e-02,  5.93603419e-02,  4.83281116e-01,\n         4.44048218e-02,  3.05484996e-02,  4.44220297e-02,\n         2.11172249e-02,  3.59017789e-02,  6.14797015e-02,\n         4.30377930e-02,  4.41472119e-02,  4.14219752e-02,\n         8.52430950e-02,  3.87457900e-02,  9.00236879e-02,\n         1.74902952e-03,  6.40843633e-02,  3.28634850e-02,\n         6.83100453e-02,  8.56945312e-02,  2.66419942e-02,\n         2.17929814e-02,  7.08218018e-02,  1.45547282e-01,\n         7.45760429e-02,  4.84689909e-02,  6.80376250e-02,\n         2.61706486e-02,  2.33257860e-01,  1.40018101e-02,\n         3.78033090e-02,  3.06703007e-02,  1.07334047e-01,\n         5.77761656e-02,  4.45077435e-02,  5.28571184e-02,\n         2.34663788e-02,  2.49759617e-02,  2.74264275e-02,\n         4.17802142e-02,  3.12732571e-02,  4.46929402e-02,\n         3.73559981e-02],\n       [-9.56280520e-03, -1.30566831e-02,  1.43115045e-02,\n        -5.63274667e-03, -2.92200843e-03,  6.41467039e-03,\n        -1.10204895e-02, -1.09618098e-02, -1.84718302e-02,\n        -2.74675627e-02, -1.06964952e-02,  1.25919068e-03,\n        -2.29429628e-02, -4.85308899e-02, -8.79527937e-03,\n        -1.09419830e-02, -7.16723982e-03, -3.88657122e-02,\n        -7.22164658e-03, -4.82047694e-02,  1.58546180e-02,\n        -1.76932830e-02, -3.85703510e-02, -2.82218126e-02,\n        -3.84588449e-01, -8.73451152e-03, -3.32072533e-03,\n        -1.06163961e-02, -8.74733846e-03, -1.74595450e-02,\n         4.80100586e-03, -1.40302042e-02, -8.28533910e-03,\n        -1.48312582e-01, -7.41488716e-02, -7.61717848e-03,\n        -8.63674315e-03, -9.90464549e-03, -7.89726503e-02,\n        -4.08507034e-02,  1.25664653e-03,  1.32831278e-01,\n        -3.22582086e-02, -3.90089168e-01, -1.10239626e-02,\n        -9.06765055e-04, -6.89675266e-03, -3.48626578e-02,\n        -1.00834834e-02, -2.42912506e-02, -1.09041767e-02,\n        -6.20748322e-04, -1.29675303e-02, -2.22721829e-02,\n        -5.73507322e-03, -1.24734833e-02, -1.01466328e-02,\n        -1.00495484e-02,  9.57967797e-06,  7.85101753e-01,\n        -7.73410489e-03,  1.54475479e-03, -2.26096647e-02,\n        -1.11517507e-02, -1.31844384e-02, -2.42480368e-02,\n        -1.85376731e-02,  1.94116446e-02, -4.73441993e-03,\n        -3.86185783e-02, -2.07663272e-02, -1.48450020e-02,\n        -5.82662814e-04, -3.02820596e-02, -9.73547327e-03,\n        -8.13130414e-03, -2.50618708e-02, -8.27623281e-03,\n        -9.95722393e-03, -1.36101896e-02, -2.50813653e-02,\n        -2.02352253e-02, -6.47759267e-03, -2.57971006e-02,\n        -1.22642318e-02, -2.27418857e-02, -9.17045610e-03,\n        -1.03025887e-02, -1.35992284e-03, -5.08710271e-02,\n         1.97752734e-02, -5.96186490e-03, -1.90372921e-02,\n        -7.23646047e-03, -1.21591760e-02, -1.38999115e-02,\n         3.41211027e-03, -1.45836754e-02, -5.95185872e-03,\n        -1.38002478e-02],\n       [-3.60031510e-02, -2.47486149e-02, -7.36990800e-03,\n        -2.57782299e-02, -2.98405735e-03, -1.66343853e-02,\n        -3.05491143e-02, -4.77171109e-02, -1.40705210e-02,\n        -7.15235742e-02, -2.10764946e-02, -1.03705238e-02,\n        -3.90847451e-02, -6.51909511e-02, -2.78978681e-02,\n        -3.02211600e-02, -2.75118450e-02, -4.64897674e-02,\n        -4.78028740e-02, -1.65281913e-01, -3.74058885e-02,\n        -8.68948682e-02, -1.02198353e-01, -2.38667592e-02,\n         4.77948937e-01, -1.86329054e-02, -4.66318329e-03,\n        -2.49149391e-02, -3.16072443e-02, -3.48846930e-02,\n        -3.99164385e-02, -2.48949984e-02, -3.13757423e-02,\n        -4.61573703e-01, -9.14027027e-02, -2.74140343e-02,\n        -1.40773037e-02, -2.72970154e-02, -9.04278234e-03,\n        -6.78360650e-02, -1.62415776e-02,  1.79164867e-02,\n        -6.97164631e-02,  4.84287095e-01, -2.20271761e-02,\n        -2.44411385e-02, -3.59231651e-02, -5.61310277e-03,\n        -2.45095135e-02, -6.86933900e-02, -1.55854298e-02,\n        -2.13945389e-02, -6.13151802e-02, -5.70954371e-02,\n        -1.49696294e-02, -2.72794975e-02, -3.10039207e-02,\n        -2.55248739e-02, -1.97971356e-02,  2.86756401e-01,\n        -4.35293339e-02, -1.99838007e-02, -2.15266908e-02,\n        -3.67406452e-02, -2.12119890e-02, -6.41753133e-02,\n        -2.02191796e-02,  3.77897919e-03, -2.08733407e-02,\n        -4.64528749e-02, -2.92481751e-02, -5.20741879e-02,\n        -7.64452613e-04, -7.40426294e-02, -1.64101750e-02,\n        -2.49526679e-02, -1.06364391e-01, -2.48755952e-02,\n        -1.43727305e-02, -2.90104468e-02, -6.46094097e-02,\n        -3.13481844e-02, -1.69081052e-02, -1.02646411e-01,\n        -3.61740861e-02, -2.23262595e-01, -1.46928901e-02,\n        -3.91688351e-02, -4.60884470e-03, -9.67915098e-02,\n        -2.89832698e-02, -3.01729803e-02, -5.34945494e-02,\n        -2.85425532e-03, -3.58197125e-02, -3.77959672e-02,\n        -2.19363126e-02, -4.49005269e-02, -2.74379512e-02,\n        -3.65940939e-02],\n       [-2.89068888e-02, -2.21240209e-02,  2.33937156e-03,\n        -9.85046269e-03, -2.97881023e-03, -1.36691645e-02,\n        -4.28949819e-02, -3.90256954e-02, -1.58502749e-02,\n        -1.88500972e-01, -2.56529892e-02, -1.28863010e-02,\n        -6.54108525e-02, -6.14751352e-02, -3.24366590e-02,\n         9.75432313e-03, -8.97191192e-03,  2.07342258e-02,\n        -9.73990511e-03, -1.32729303e-01, -1.11610549e-01,\n        -9.32232201e-02, -3.67473921e-02, -1.20112691e-02,\n         4.69061004e-02, -1.16872397e-02, -5.93238714e-03,\n        -3.12608700e-02, -2.87497370e-02, -1.97947309e-02,\n        -7.07605102e-02, -1.26534327e-02,  9.21578987e-04,\n         7.23271848e-01,  3.48604683e-02, -1.20573588e-02,\n         6.45089755e-04, -2.84812697e-02,  1.58206530e-02,\n         1.38902455e-02,  1.86663562e-02, -4.54842405e-02,\n        -5.62879027e-02,  5.28330118e-02, -2.37281657e-02,\n        -1.19851205e-02,  4.02945657e-04,  3.76789343e-02,\n        -1.53696794e-02, -4.75166094e-02, -3.17052355e-02,\n        -4.61681738e-02, -3.86160842e-02, -3.67905891e-02,\n        -8.66274455e-03, -1.68792497e-02, -2.91222300e-02,\n        -1.92601360e-02, -8.04673692e-03,  1.31926413e-01,\n        -2.94318909e-02, -2.01694058e-02, -2.33147890e-02,\n        -6.76156843e-03,  4.95329435e-03, -3.61386111e-02,\n         5.43066851e-04,  4.30697804e-03,  4.58092572e-03,\n        -4.22769931e-02,  1.24677816e-02,  2.46074114e-03,\n        -7.07616952e-04, -3.31479146e-02,  7.59891518e-03,\n        -3.22112913e-02, -4.44392573e-02,  1.63424654e-03,\n        -4.58243507e-04, -4.63514719e-02, -9.71339484e-02,\n        -7.10816213e-02, -1.98501104e-02, -1.06849248e-01,\n        -2.17662415e-02, -5.36325923e-01, -1.91903038e-02,\n         3.60165000e-03, -7.65333125e-03, -4.17878540e-02,\n        -5.23612015e-02, -1.62956245e-02, -3.38012236e-03,\n        -2.76992170e-03, -3.59565265e-02,  7.45645789e-04,\n        -7.37776020e-03, -4.04717020e-02,  1.63288037e-02,\n        -2.12337944e-02],\n       [-4.30376984e-02,  1.81451584e-03,  2.83606422e-02,\n         2.08675297e-02,  1.13488593e-02,  1.44875346e-03,\n        -4.44773616e-02, -7.21967769e-02, -4.29333854e-02,\n         3.64612187e-01, -3.57329342e-02,  2.05633919e-02,\n         1.11754037e-01, -1.11673564e-02, -1.26292720e-02,\n         6.29591805e-03,  3.63940811e-02,  7.02413027e-02,\n         2.84346256e-02, -2.00543985e-01,  1.57365413e-01,\n         6.06052775e-02,  1.86083988e-01,  5.21697237e-03,\n        -1.09311027e-01, -5.94283014e-03, -2.43342334e-03,\n         4.76143034e-03,  3.74703281e-02, -9.37323300e-03,\n         1.24808311e-01,  1.06232322e-02,  1.46861744e-02,\n        -2.18836804e-01,  1.07522036e-01,  2.34109829e-01,\n         2.74725634e-02, -2.29711887e-03,  1.12750551e-01,\n         4.21204771e-01,  1.25276764e-02,  8.10175319e-02,\n         3.11951570e-02, -1.08719183e-01,  4.17416598e-03,\n         2.86292169e-02, -2.52423108e-02, -2.17175530e-02,\n        -1.62587842e-03, -9.75611963e-02,  1.47906586e-02,\n        -4.46196647e-02,  2.38476147e-02, -4.64295322e-02,\n         7.34251867e-03,  3.96288388e-02, -4.84306558e-02,\n        -1.93615304e-02,  5.98472448e-02, -1.27867853e-01,\n        -1.17454005e-02,  2.26382482e-02,  3.72336597e-04,\n        -4.77805348e-02,  7.68794420e-03, -7.01225226e-02,\n         2.36116792e-02,  5.81774499e-03,  4.25648809e-03,\n        -4.64313178e-02, -2.74714716e-02,  2.12896000e-01,\n        -4.38952734e-04, -6.85663447e-02,  2.74133966e-02,\n         1.48705712e-02, -4.34279633e-02, -2.20108133e-03,\n         1.68042717e-02,  2.50605625e-02,  1.07405693e-01,\n        -2.72235175e-03,  4.87125510e-02, -1.45005251e-01,\n        -4.38070237e-02, -4.52166613e-01, -3.16918414e-02,\n         1.45469965e-02,  8.75171057e-03,  8.80099548e-02,\n         2.78285035e-02,  1.21584943e-02, -4.20789183e-02,\n         5.70052487e-03, -5.48806198e-02, -4.04049401e-02,\n         4.46716014e-02, -6.82259086e-02,  7.42173888e-02,\n        -7.09426009e-03],\n       [ 1.41995130e-03, -2.89527625e-03, -4.97744767e-03,\n        -3.94241390e-03,  5.92385289e-03,  3.99025224e-03,\n        -9.08201413e-03, -9.77648964e-03, -4.88922072e-03,\n        -2.26935770e-01,  3.66214493e-04,  4.06282779e-03,\n        -4.96483584e-02,  1.90454793e-02,  4.76038332e-03,\n         3.10535266e-02,  1.14920304e-03,  4.17197590e-02,\n         4.66149151e-02, -3.19267130e-02, -3.50637713e-02,\n         1.49615565e-03, -5.71881751e-02,  9.17298197e-03,\n        -8.32955973e-02,  1.72054766e-02, -5.07338631e-04,\n         4.73619931e-03,  1.82729226e-02,  7.92380655e-03,\n        -2.53108001e-02,  1.07160334e-02,  6.48529913e-03,\n        -1.28588329e-01,  1.97813744e-01, -8.88733618e-02,\n         2.52126744e-02,  6.16041256e-03,  8.93924764e-01,\n        -1.61918089e-01,  1.04546133e-02,  3.10971605e-02,\n         2.17318832e-02, -8.76001429e-02, -2.20670863e-03,\n         4.41173325e-03, -4.72617090e-03, -1.93664158e-02,\n         4.35381349e-03, -1.79610347e-02,  7.07966440e-03,\n        -1.07968227e-02,  1.97969987e-02, -6.71839343e-03,\n         3.11065409e-03,  1.16630130e-02, -6.66226009e-03,\n         2.09643628e-03, -4.12152976e-04, -2.67564103e-02,\n         2.03350649e-03, -7.34233311e-03, -3.14756393e-03,\n        -6.50387022e-03,  6.44805643e-03, -3.61992572e-03,\n         1.26446187e-02,  7.15269864e-03,  1.64778986e-02,\n         2.67255752e-02,  7.11613071e-03, -1.06496997e-01,\n        -1.05705506e-04,  1.76955898e-02, -7.36129590e-03,\n         1.49329227e-02, -2.94665765e-02, -5.59084264e-03,\n         4.04014526e-03,  4.72735508e-02,  1.89469858e-02,\n        -5.78176311e-03, -2.77498684e-02, -1.88607771e-03,\n         5.37091192e-03, -6.17475692e-02, -6.05159359e-03,\n         1.43995112e-02, -7.02712488e-03, -5.03669612e-02,\n         6.35987527e-03, -1.30318050e-03,  1.70243050e-03,\n        -2.30007072e-04, -1.37551450e-03,  1.98462760e-03,\n        -4.42704407e-03, -4.67099392e-03,  7.18362392e-03,\n         2.93354609e-02],\n       [ 2.05484236e-02,  2.55580707e-03,  2.10367092e-03,\n        -1.85008113e-02, -2.48964055e-03, -9.82151192e-04,\n         1.96366730e-02,  2.52701156e-02,  1.69870413e-02,\n        -5.18363734e-01,  1.15649694e-02, -1.32175712e-02,\n        -3.81434049e-02, -5.20148919e-02, -1.84761846e-02,\n        -3.19590363e-02, -1.54978492e-02,  2.24854392e-02,\n        -1.68005392e-02,  1.71614139e-01, -9.74022786e-02,\n        -1.11469251e-01, -2.34428590e-01, -1.23808752e-02,\n        -3.89204912e-03, -1.26375735e-02,  5.17688743e-04,\n        -2.08997615e-02, -2.34535191e-02, -3.25955802e-03,\n        -7.18778960e-02, -1.82371036e-02, -9.55745754e-03,\n        -1.15507213e-01,  5.37851195e-02,  2.73228298e-01,\n         2.84969765e-02, -4.70151767e-03,  3.22457719e-03,\n         5.87691871e-01, -9.32648120e-03, -2.07226507e-02,\n        -5.12953159e-02, -7.48533071e-03, -1.10976694e-02,\n         2.02499204e-02,  1.05851999e-02, -1.14071832e-02,\n        -5.38521021e-03,  5.85061232e-02, -2.36013714e-02,\n         2.58318487e-02, -2.77076517e-02,  1.53405306e-02,\n        -1.79503552e-02, -2.53089877e-02,  2.74011944e-02,\n         1.77785196e-04, -2.71860744e-02,  3.44394589e-03,\n         3.32062083e-02,  1.12001725e-02,  2.36403511e-02,\n         1.53720678e-02, -1.12580954e-02,  4.99230899e-02,\n         1.88363732e-02,  2.23881413e-03, -1.45019059e-02,\n         3.71562156e-02,  4.76764041e-03,  2.89389441e-01,\n         3.21926271e-04,  4.74513710e-02,  1.51397349e-02,\n        -1.82516950e-02,  1.65605948e-01,  4.29580728e-03,\n        -1.89714007e-03, -7.57332034e-03, -1.12576339e-01,\n        -2.06970389e-02, -2.10872351e-02,  6.11302707e-02,\n         1.99318745e-02,  6.89765359e-02,  1.18222093e-02,\n        -1.05515238e-02, -1.84501377e-02, -1.01615129e-01,\n        -3.10671323e-02, -1.57212613e-02,  1.77943973e-02,\n        -6.51442095e-03,  3.12196270e-02,  1.15203433e-02,\n         1.11689186e-02,  3.08003526e-02,  4.13563514e-02,\n         1.92428450e-02],\n       [ 8.76823268e-03,  4.55635664e-02,  1.17062596e-02,\n         5.04952412e-02, -4.72218107e-03,  2.97533267e-02,\n        -8.73774834e-03, -2.06885046e-02, -1.37441647e-02,\n        -3.10343248e-01,  5.08524169e-03, -2.01497020e-03,\n         1.63682521e-02,  1.81138256e-01,  5.57321982e-02,\n         6.65442447e-02,  2.09847154e-02,  2.07368546e-01,\n         1.03763612e-01, -1.14343871e-01,  4.28096594e-02,\n         3.97340354e-01, -9.09225872e-02,  5.66359288e-02,\n        -8.41909974e-03,  1.17212950e-02,  4.24999505e-04,\n         5.28058528e-02,  3.54115733e-02,  3.35130334e-02,\n        -4.58645921e-02,  6.91507717e-02,  1.62548435e-02,\n        -1.33507176e-01,  5.67942764e-01, -7.37822127e-02,\n         9.74081595e-02,  3.17075963e-02, -3.14365959e-01,\n        -1.21944399e-01,  9.04031226e-03, -8.59509037e-02,\n         2.22850480e-01, -1.36082611e-02,  3.01668239e-02,\n        -2.02135864e-03,  2.32433148e-03, -1.24222266e-02,\n         4.49492552e-02, -2.83321915e-02,  7.22135673e-02,\n         3.69644070e-03,  9.20875239e-02,  9.54122825e-03,\n         2.33324816e-02,  8.19856527e-02, -1.84195174e-02,\n        -3.49548100e-03,  2.27306096e-02,  2.38233452e-02,\n         4.93863819e-03, -1.06287060e-02,  4.01242370e-02,\n        -1.05945818e-02,  3.07514628e-02, -1.64346482e-02,\n        -2.31735237e-03,  2.52150372e-02,  9.83056832e-03,\n         2.10800215e-02, -8.87009472e-03, -5.80579097e-02,\n         2.10131194e-05, -1.71693373e-02,  1.93441159e-02,\n        -2.47285026e-03, -4.33297350e-02,  1.95075272e-02,\n         3.12710404e-02,  6.63886890e-02, -7.14044363e-02,\n         3.09650310e-02, -1.27290863e-02, -2.78414865e-02,\n        -1.75626060e-02, -1.30530487e-01, -8.24159228e-03,\n         8.46036290e-03,  1.03971138e-02,  8.97576008e-02,\n        -3.97207425e-02,  8.72523353e-03, -1.58746700e-03,\n         9.94056477e-03, -4.05050351e-03, -1.37218190e-02,\n         8.27801044e-03, -2.20366836e-02, -1.29255381e-02,\n         2.29290950e-02],\n       [-1.21886103e-02, -8.86341395e-03, -1.56561553e-03,\n         2.28453568e-03,  2.53147075e-02,  1.18765900e-02,\n         7.25440657e-03, -1.81145011e-03, -3.80643670e-03,\n        -4.93072072e-01, -4.29708754e-03,  3.95704787e-02,\n         1.79521627e-01,  3.25904837e-02,  2.86751274e-02,\n         4.25283629e-02,  3.31833714e-02, -8.35193506e-02,\n        -8.41347427e-02, -2.73120328e-02,  2.90390304e-01,\n         8.67468831e-02,  6.48611993e-01,  1.91805870e-02,\n         2.01754463e-02, -5.07392440e-03,  8.38396145e-04,\n         6.76987178e-03,  2.76203617e-02,  1.71309425e-02,\n         4.45990073e-02,  9.32825846e-03,  6.23938389e-03,\n        -2.94695248e-03, -2.00628304e-01,  2.80218734e-02,\n        -3.45225847e-02, -1.41043038e-03, -4.11172006e-02,\n        -6.58305791e-02,  7.98836043e-03,  2.87873162e-01,\n         5.66179927e-03,  1.71035844e-02, -3.50087253e-03,\n         1.98468186e-02,  1.06112950e-02, -5.73427548e-03,\n        -3.17099560e-03, -1.24246434e-02,  7.10398174e-03,\n         1.14669058e-02, -3.76160834e-02,  2.25619249e-02,\n         1.12101484e-02,  7.98263400e-03, -5.61925332e-03,\n         9.17893335e-03,  1.49321633e-02, -6.05679740e-02,\n         6.86043159e-03, -2.27960642e-02, -1.04953430e-02,\n        -4.26705204e-03,  1.69847479e-02, -6.07142094e-03,\n        -1.46907809e-02, -1.29307046e-03,  2.54710920e-02,\n         4.76921624e-03, -9.79862525e-03, -6.00259737e-04,\n        -2.30194779e-05, -1.41792314e-02, -5.24474261e-03,\n        -1.99114261e-02, -3.49189037e-02,  4.29791362e-03,\n         1.78958363e-03, -2.46093069e-02, -3.03596836e-02,\n         3.86058347e-02, -2.57788735e-02, -1.93371350e-02,\n         6.18145151e-04, -1.97864025e-02, -2.18157662e-03,\n         3.63064839e-02,  4.21034759e-04, -1.55804181e-01,\n         1.02668208e-01,  2.09291814e-02, -9.60055843e-04,\n         3.21535887e-03, -1.08543540e-02, -6.37272254e-04,\n         4.66868883e-02, -7.00834128e-03, -4.58472689e-03,\n         8.82484761e-04],\n       [ 4.13485983e-02, -3.39190534e-02,  2.78713777e-02,\n        -2.35047911e-02,  6.38312844e-03, -2.36960756e-02,\n         1.42964749e-02,  4.53443783e-02,  3.70584533e-02,\n         4.79658562e-02,  2.57423901e-02,  1.22506766e-02,\n         3.65987704e-03, -1.84091603e-01, -3.86227169e-02,\n        -1.53623912e-02, -1.03616466e-03,  1.03425552e-01,\n         5.53761094e-02,  4.36216771e-01,  9.25316402e-02,\n        -4.11321383e-01,  2.03706305e-01, -2.65516153e-02,\n         4.97887647e-03, -3.31043302e-02, -1.46382871e-03,\n        -4.39279065e-02,  1.94468646e-02, -4.59204215e-03,\n        -3.80672501e-02, -5.61691148e-02, -1.67347810e-02,\n        -1.55652456e-01,  3.20149510e-01, -7.98047344e-02,\n         4.46094902e-02, -4.11701901e-02, -9.99858110e-02,\n        -1.49339780e-01, -1.65865889e-02,  9.93280259e-02,\n        -1.21194813e-01,  4.87430038e-03, -2.99415743e-02,\n         7.48974431e-03,  3.78114612e-02,  4.36144722e-03,\n        -1.40056714e-02,  1.08359225e-01, -9.11135789e-02,\n         2.97544261e-02,  5.00250285e-03,  8.52037092e-02,\n        -2.53442833e-02, -4.29208996e-02,  6.68323691e-02,\n         3.39163257e-02,  1.02407573e-03,  2.00779204e-02,\n         6.46798379e-02,  5.98252953e-03,  4.79956521e-02,\n         4.13489233e-02, -3.04079199e-02,  1.15005933e-01,\n         1.06642616e-02, -6.38556498e-03, -3.04334011e-03,\n         3.37162083e-02,  5.21796904e-03, -9.91931297e-02,\n         1.24571867e-04,  1.21947956e-01,  4.73667745e-03,\n         1.50687949e-02,  2.06724900e-01, -5.77672230e-03,\n        -2.89382427e-03, -1.67799736e-02, -1.22361483e-02,\n         5.01453754e-03, -1.64814339e-03,  1.19245460e-01,\n         5.22310445e-02, -3.47070590e-01,  3.19297929e-02,\n         2.38339078e-02,  3.71379277e-03,  2.02513694e-01,\n        -1.33575074e-03, -2.42958790e-02,  6.58821178e-02,\n        -1.34499617e-02,  6.12564982e-02,  3.38714649e-02,\n        -7.94912099e-04,  5.76903762e-02, -2.42272883e-03,\n         4.44494425e-02]])"
     },
     "execution_count": 37,
     "metadata": {},
     "output_type": "execute_result"
    }
   ],
   "source": [
    "topic_terms"
   ],
   "metadata": {
    "collapsed": false,
    "pycharm": {
     "name": "#%%\n"
    }
   }
  },
  {
   "cell_type": "code",
   "execution_count": 38,
   "outputs": [],
   "source": [
    "# illustrated topics after truncated SVD: display topics and terms\n",
    "top_terms = 30\n",
    "TOTAL_TOPICS = 10 # we assume the optimal number of topics\n",
    "vocabulary = np.array(tfidf_feature_names)\n",
    "topic_key_term_idxs = np.argsort(-np.absolute(topic_terms), axis=1)[:,:top_terms]\n",
    "topic_keyterm_weights = np.array([topic_terms[row, columns] for row, columns in list(zip(np.arange(TOTAL_TOPICS), topic_key_term_idxs))])"
   ],
   "metadata": {
    "collapsed": false,
    "pycharm": {
     "name": "#%%\n"
    }
   }
  },
  {
   "cell_type": "code",
   "execution_count": 39,
   "outputs": [],
   "source": [
    "topic_keyterms = vocabulary[topic_key_term_idxs]\n",
    "topic_keyterms_weights = list(zip(topic_keyterms, topic_keyterm_weights))\n"
   ],
   "metadata": {
    "collapsed": false,
    "pycharm": {
     "name": "#%%\n"
    }
   }
  },
  {
   "cell_type": "code",
   "execution_count": 40,
   "outputs": [
    {
     "name": "stdout",
     "output_type": "stream",
     "text": [
      "[59 43 24 33 85 39 38  9 34 22 80 21 19 41 89 20 13 30 71 52 17 35 76 69\n",
      " 42 18 81 79 12 75]\n",
      "['ok' 'lt' 'gt' 'just' 'ur' 'll' 'like' 'come' 'know' 'got' 'time' 'good'\n",
      " 'free' 'lor' 'want' 'going' 'day' 'home' 'sorry' 'need' 'don' 'later'\n",
      " 'text' 'send' 'love' 'dont' 'today' 'think' 'da' 'tell']\n",
      "(array(['ok', 'lt', 'gt', 'just', 'ur', 'll', 'like', 'come', 'know',\n",
      "       'got', 'time', 'good', 'free', 'lor', 'want', 'going', 'day',\n",
      "       'home', 'sorry', 'need', 'don', 'later', 'text', 'send', 'love',\n",
      "       'dont', 'today', 'think', 'da', 'tell'], dtype=object), array([0.48328112, 0.30493229, 0.30160925, 0.2876546 , 0.23325786,\n",
      "       0.19639793, 0.19145986, 0.18049621, 0.16152156, 0.14997204,\n",
      "       0.14554728, 0.12010634, 0.11415699, 0.11314324, 0.10733405,\n",
      "       0.09933842, 0.09694943, 0.09313356, 0.09002369, 0.08995282,\n",
      "       0.08971527, 0.08710991, 0.08569453, 0.0852431 , 0.08283205,\n",
      "       0.07628069, 0.07457604, 0.0708218 , 0.06841281, 0.06831005]))\n"
     ]
    }
   ],
   "source": [
    "# topic_terms.shape\n",
    "print(topic_key_term_idxs[0])\n",
    "print(tfidf_feature_names[topic_key_term_idxs[0]])\n",
    "print(topic_keyterms_weights[0])"
   ],
   "metadata": {
    "collapsed": false,
    "pycharm": {
     "name": "#%%\n"
    }
   }
  },
  {
   "cell_type": "code",
   "execution_count": 41,
   "outputs": [
    {
     "name": "stdout",
     "output_type": "stream",
     "text": [
      "Topic #1:\n",
      "==================================================\n",
      "Direction 1: [('ok', 0.483), ('lt', 0.305), ('gt', 0.302), ('just', 0.288), ('ur', 0.233), ('ll', 0.196), ('like', 0.191), ('come', 0.18), ('know', 0.162), ('got', 0.15), ('time', 0.146), ('good', 0.12), ('free', 0.114), ('lor', 0.113), ('want', 0.107), ('going', 0.099), ('day', 0.097), ('home', 0.093), ('sorry', 0.09), ('need', 0.09), ('don', 0.09), ('later', 0.087), ('text', 0.086), ('send', 0.085), ('love', 0.083), ('dont', 0.076), ('today', 0.075), ('think', 0.071), ('da', 0.068), ('tell', 0.068)]\n",
      "Direction 2: []\n",
      "Topic #2:\n",
      "==================================================\n",
      "Direction 1: [('ok', 0.785), ('lor', 0.133)]\n",
      "Direction 2: [('lt', -0.39), ('gt', -0.385), ('just', -0.148), ('like', -0.079), ('know', -0.074), ('want', -0.051), ('day', -0.049), ('free', -0.048), ('ll', -0.041), ('don', -0.039), ('send', -0.039), ('got', -0.039), ('min', -0.035), ('love', -0.032), ('stop', -0.03), ('great', -0.028), ('come', -0.027), ('txt', -0.026), ('time', -0.025), ('text', -0.025), ('mobile', -0.024), ('reply', -0.024), ('da', -0.023), ('ur', -0.023), ('pls', -0.023), ('new', -0.022), ('sent', -0.021), ('today', -0.02)]\n",
      "Topic #3:\n",
      "==================================================\n",
      "Direction 1: [('lt', 0.484), ('gt', 0.478), ('ok', 0.287)]\n",
      "Direction 2: [('just', -0.462), ('ur', -0.223), ('free', -0.165), ('text', -0.106), ('txt', -0.103), ('got', -0.102), ('want', -0.097), ('know', -0.091), ('good', -0.087), ('stop', -0.074), ('come', -0.072), ('love', -0.07), ('mobile', -0.069), ('ll', -0.068), ('day', -0.065), ('time', -0.065), ('reply', -0.064), ('need', -0.061), ('new', -0.057), ('week', -0.053), ('sorry', -0.052), ('dont', -0.048), ('claim', -0.048), ('don', -0.046), ('send', -0.046), ('www', -0.045), ('phone', -0.044)]\n",
      "Topic #4:\n",
      "==================================================\n",
      "Direction 1: [('just', 0.723), ('ok', 0.132), ('lt', 0.053), ('gt', 0.047), ('min', 0.038)]\n",
      "Direction 2: [('ur', -0.536), ('come', -0.189), ('free', -0.133), ('going', -0.112), ('txt', -0.107), ('time', -0.097), ('good', -0.093), ('today', -0.071), ('home', -0.071), ('da', -0.065), ('day', -0.061), ('love', -0.056), ('wat', -0.052), ('mobile', -0.048), ('think', -0.046), ('msg', -0.046), ('lor', -0.045), ('text', -0.044), ('cash', -0.043), ('send', -0.042), ('want', -0.042), ('www', -0.04), ('claim', -0.039), ('need', -0.039), ('new', -0.037)]\n",
      "Topic #5:\n",
      "==================================================\n",
      "Direction 1: [('ll', 0.421), ('come', 0.365), ('later', 0.234), ('sorry', 0.213), ('got', 0.186), ('going', 0.157), ('home', 0.125), ('like', 0.113), ('da', 0.112), ('know', 0.108), ('time', 0.107), ('want', 0.088), ('lor', 0.081), ('yeah', 0.074), ('don', 0.07), ('good', 0.061), ('oh', 0.06)]\n",
      "Direction 2: [('ur', -0.452), ('just', -0.219), ('free', -0.201), ('txt', -0.145), ('ok', -0.128), ('gt', -0.109), ('lt', -0.109), ('mobile', -0.098), ('claim', -0.072), ('reply', -0.07), ('stop', -0.069), ('www', -0.068), ('win', -0.055)]\n",
      "Topic #6:\n",
      "==================================================\n",
      "Direction 1: [('like', 0.894), ('know', 0.198), ('think', 0.047), ('dont', 0.047), ('don', 0.042), ('lor', 0.031), ('did', 0.031), ('yes', 0.029), ('send', 0.027), ('let', 0.025), ('love', 0.022), ('need', 0.02)]\n",
      "Direction 2: [('come', -0.227), ('ll', -0.162), ('just', -0.129), ('sorry', -0.106), ('later', -0.089), ('lt', -0.088), ('gt', -0.083), ('ur', -0.062), ('got', -0.057), ('want', -0.05), ('da', -0.05), ('going', -0.035), ('free', -0.032), ('text', -0.029), ('tomorrow', -0.028), ('ok', -0.027), ('home', -0.025), ('min', -0.019)]\n",
      "Topic #7:\n",
      "==================================================\n",
      "Direction 1: [('ll', 0.588), ('sorry', 0.289), ('later', 0.273), ('free', 0.172), ('text', 0.166), ('ur', 0.069), ('txt', 0.061), ('mobile', 0.059), ('know', 0.054), ('reply', 0.05), ('stop', 0.047), ('yeah', 0.041), ('send', 0.037), ('phone', 0.033), ('win', 0.031), ('www', 0.031), ('let', 0.028)]\n",
      "Direction 2: [('come', -0.518), ('got', -0.234), ('just', -0.116), ('time', -0.113), ('good', -0.111), ('want', -0.102), ('going', -0.097), ('home', -0.072), ('day', -0.052), ('love', -0.051), ('da', -0.038), ('did', -0.032), ('wat', -0.031)]\n",
      "Topic #8:\n",
      "==================================================\n",
      "Direction 1: [('know', 0.568), ('good', 0.397), ('love', 0.223), ('don', 0.207), ('day', 0.181), ('dont', 0.104), ('let', 0.097), ('need', 0.092), ('want', 0.09), ('night', 0.082), ('morning', 0.072), ('hope', 0.069), ('did', 0.067), ('think', 0.066), ('great', 0.057), ('dear', 0.056), ('happy', 0.053), ('babe', 0.05)]\n",
      "Direction 2: [('like', -0.314), ('come', -0.31), ('just', -0.134), ('ur', -0.131), ('ll', -0.122), ('free', -0.114), ('got', -0.091), ('lor', -0.086), ('later', -0.074), ('time', -0.071), ('sorry', -0.058), ('home', -0.046)]\n",
      "Topic #9:\n",
      "==================================================\n",
      "Direction 1: [('got', 0.649), ('going', 0.29), ('lor', 0.288), ('da', 0.18), ('wat', 0.103), ('good', 0.087), ('work', 0.047), ('home', 0.045), ('did', 0.043), ('cos', 0.04), ('today', 0.039), ('ve', 0.036), ('doing', 0.033), ('day', 0.033), ('dear', 0.029), ('later', 0.028), ('hey', 0.028)]\n",
      "Direction 2: [('come', -0.493), ('know', -0.201), ('want', -0.156), ('dont', -0.084), ('don', -0.084), ('ll', -0.066), ('ok', -0.061), ('like', -0.041), ('need', -0.038), ('text', -0.035), ('let', -0.035), ('time', -0.03), ('free', -0.027)]\n",
      "Topic #10:\n",
      "==================================================\n",
      "Direction 1: [('free', 0.436), ('know', 0.32), ('text', 0.207), ('got', 0.204), ('want', 0.203), ('stop', 0.122), ('txt', 0.119), ('reply', 0.115), ('mobile', 0.108), ('don', 0.103), ('lor', 0.099), ('going', 0.093), ('new', 0.085), ('nokia', 0.067), ('week', 0.066), ('phone', 0.065), ('win', 0.061), ('www', 0.058), ('dont', 0.055)]\n",
      "Direction 2: [('good', -0.411), ('ur', -0.347), ('day', -0.184), ('just', -0.156), ('ll', -0.149), ('love', -0.121), ('like', -0.1), ('sorry', -0.099), ('morning', -0.091), ('later', -0.08), ('hope', -0.056)]\n"
     ]
    }
   ],
   "source": [
    "for n in range(TOTAL_TOPICS):\n",
    "    print('Topic #'+str(n+1)+':')\n",
    "    print('='*50)\n",
    "    d1 = []\n",
    "    d2 = []\n",
    "    terms, weights = topic_keyterms_weights[n]\n",
    "    term_weights = sorted([(t, w) for t, w in zip(terms, weights)],\n",
    "                          key=lambda row: -abs(row[1]))\n",
    "\n",
    "    for term, wt in term_weights:\n",
    "        if wt >= 0:\n",
    "            d1.append((term, round(wt, 3)))\n",
    "        else:\n",
    "            d2.append((term,round(wt,3)))\n",
    "    print('Direction 1:', d1)\n",
    "    print('Direction 2:', d2)"
   ],
   "metadata": {
    "collapsed": false,
    "pycharm": {
     "name": "#%%\n"
    }
   }
  },
  {
   "cell_type": "code",
   "execution_count": 41,
   "outputs": [],
   "source": [],
   "metadata": {
    "collapsed": false,
    "pycharm": {
     "name": "#%%\n"
    }
   }
  },
  {
   "cell_type": "code",
   "execution_count": null,
   "outputs": [],
   "source": [],
   "metadata": {
    "collapsed": false,
    "pycharm": {
     "name": "#%%\n"
    }
   }
  }
 ],
 "metadata": {
  "kernelspec": {
   "display_name": "Python 3",
   "language": "python",
   "name": "python3"
  },
  "language_info": {
   "codemirror_mode": {
    "name": "ipython",
    "version": 2
   },
   "file_extension": ".py",
   "mimetype": "text/x-python",
   "name": "python",
   "nbconvert_exporter": "python",
   "pygments_lexer": "ipython2",
   "version": "2.7.6"
  }
 },
 "nbformat": 4,
 "nbformat_minor": 0
}