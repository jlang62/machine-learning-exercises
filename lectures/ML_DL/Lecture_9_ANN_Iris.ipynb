{
 "cells": [
  {
   "cell_type": "code",
   "execution_count": 11,
   "metadata": {},
   "outputs": [
    {
     "name": "stderr",
     "output_type": "stream",
     "text": [
      "2023-10-03 14:00:10.873945: I tensorflow/core/platform/cpu_feature_guard.cc:182] This TensorFlow binary is optimized to use available CPU instructions in performance-critical operations.\n",
      "To enable the following instructions: AVX2 FMA, in other operations, rebuild TensorFlow with the appropriate compiler flags.\n"
     ]
    }
   ],
   "source": [
    "# importing the required libraries\n",
    "import pandas as pd\n",
    "import numpy as np\n",
    "import sklearn\n",
    "from sklearn.model_selection import train_test_split\n",
    "from sklearn.metrics import accuracy_score\n",
    "import matplotlib.pyplot as plt\n",
    "%matplotlib inline\n",
    "\n",
    "from tpot import TPOTClassifier\n",
    "from sklearn.datasets import load_iris\n",
    "\n",
    "import keras\n",
    "import tensorflow as tf"
   ]
  },
  {
   "cell_type": "code",
   "execution_count": 4,
   "metadata": {},
   "outputs": [],
   "source": [
    "df_iris = load_iris(return_X_y=False, as_frame=True).frame"
   ]
  },
  {
   "cell_type": "code",
   "execution_count": 9,
   "metadata": {},
   "outputs": [
    {
     "data": {
      "text/html": [
       "<div>\n",
       "<style scoped>\n",
       "    .dataframe tbody tr th:only-of-type {\n",
       "        vertical-align: middle;\n",
       "    }\n",
       "\n",
       "    .dataframe tbody tr th {\n",
       "        vertical-align: top;\n",
       "    }\n",
       "\n",
       "    .dataframe thead th {\n",
       "        text-align: right;\n",
       "    }\n",
       "</style>\n",
       "<table border=\"1\" class=\"dataframe\">\n",
       "  <thead>\n",
       "    <tr style=\"text-align: right;\">\n",
       "      <th></th>\n",
       "      <th>sepal length (cm)</th>\n",
       "      <th>sepal width (cm)</th>\n",
       "      <th>petal length (cm)</th>\n",
       "      <th>petal width (cm)</th>\n",
       "      <th>target</th>\n",
       "    </tr>\n",
       "  </thead>\n",
       "  <tbody>\n",
       "    <tr>\n",
       "      <th>0</th>\n",
       "      <td>5.1</td>\n",
       "      <td>3.5</td>\n",
       "      <td>1.4</td>\n",
       "      <td>0.2</td>\n",
       "      <td>0</td>\n",
       "    </tr>\n",
       "    <tr>\n",
       "      <th>1</th>\n",
       "      <td>4.9</td>\n",
       "      <td>3.0</td>\n",
       "      <td>1.4</td>\n",
       "      <td>0.2</td>\n",
       "      <td>0</td>\n",
       "    </tr>\n",
       "    <tr>\n",
       "      <th>2</th>\n",
       "      <td>4.7</td>\n",
       "      <td>3.2</td>\n",
       "      <td>1.3</td>\n",
       "      <td>0.2</td>\n",
       "      <td>0</td>\n",
       "    </tr>\n",
       "    <tr>\n",
       "      <th>3</th>\n",
       "      <td>4.6</td>\n",
       "      <td>3.1</td>\n",
       "      <td>1.5</td>\n",
       "      <td>0.2</td>\n",
       "      <td>0</td>\n",
       "    </tr>\n",
       "    <tr>\n",
       "      <th>4</th>\n",
       "      <td>5.0</td>\n",
       "      <td>3.6</td>\n",
       "      <td>1.4</td>\n",
       "      <td>0.2</td>\n",
       "      <td>0</td>\n",
       "    </tr>\n",
       "  </tbody>\n",
       "</table>\n",
       "</div>"
      ],
      "text/plain": [
       "   sepal length (cm)  sepal width (cm)  petal length (cm)  petal width (cm)  \\\n",
       "0                5.1               3.5                1.4               0.2   \n",
       "1                4.9               3.0                1.4               0.2   \n",
       "2                4.7               3.2                1.3               0.2   \n",
       "3                4.6               3.1                1.5               0.2   \n",
       "4                5.0               3.6                1.4               0.2   \n",
       "\n",
       "   target  \n",
       "0       0  \n",
       "1       0  \n",
       "2       0  \n",
       "3       0  \n",
       "4       0  "
      ]
     },
     "execution_count": 9,
     "metadata": {},
     "output_type": "execute_result"
    }
   ],
   "source": [
    "df_iris.head()"
   ]
  },
  {
   "cell_type": "code",
   "execution_count": 7,
   "metadata": {},
   "outputs": [],
   "source": [
    "X = df_iris.drop('target', axis=1)\n",
    "y = df_iris['target']"
   ]
  },
  {
   "cell_type": "code",
   "execution_count": 8,
   "metadata": {},
   "outputs": [],
   "source": [
    "X_train,X_test,y_train,y_test = train_test_split(X,y,stratify=df_iris['target'],random_state=10,test_size=0.2)"
   ]
  },
  {
   "cell_type": "code",
   "execution_count": 12,
   "metadata": {},
   "outputs": [],
   "source": [
    "from keras.models import Sequential"
   ]
  },
  {
   "cell_type": "code",
   "execution_count": 13,
   "metadata": {},
   "outputs": [],
   "source": [
    "from keras.layers import InputLayer, Dense"
   ]
  },
  {
   "cell_type": "code",
   "execution_count": 14,
   "metadata": {},
   "outputs": [
    {
     "data": {
      "text/plain": [
       "4"
      ]
     },
     "execution_count": 14,
     "metadata": {},
     "output_type": "execute_result"
    }
   ],
   "source": [
    "input_neurons = X_train.shape[1]\n",
    "input_neurons"
   ]
  },
  {
   "cell_type": "code",
   "execution_count": 15,
   "metadata": {},
   "outputs": [],
   "source": [
    "output_neurons = 1"
   ]
  },
  {
   "cell_type": "code",
   "execution_count": 16,
   "metadata": {},
   "outputs": [],
   "source": [
    "number_of_hidden_layers = 2\n",
    "neuron_hidden_layer_1 = 8\n",
    "neuron_hidden_layer_2 = 4"
   ]
  },
  {
   "cell_type": "code",
   "execution_count": 17,
   "metadata": {},
   "outputs": [],
   "source": [
    "# defining the architecture of the model\n",
    "model = Sequential()\n",
    "model.add(InputLayer(input_shape=(input_neurons,)))\n",
    "model.add(Dense(units=neuron_hidden_layer_1, activation='relu'))\n",
    "model.add(Dense(units=neuron_hidden_layer_2, activation='relu'))\n",
    "model.add(Dense(units=output_neurons, activation='sigmoid'))"
   ]
  },
  {
   "cell_type": "code",
   "execution_count": 18,
   "metadata": {},
   "outputs": [
    {
     "name": "stdout",
     "output_type": "stream",
     "text": [
      "Model: \"sequential\"\n",
      "_________________________________________________________________\n",
      " Layer (type)                Output Shape              Param #   \n",
      "=================================================================\n",
      " dense (Dense)               (None, 8)                 40        \n",
      "                                                                 \n",
      " dense_1 (Dense)             (None, 4)                 36        \n",
      "                                                                 \n",
      " dense_2 (Dense)             (None, 1)                 5         \n",
      "                                                                 \n",
      "=================================================================\n",
      "Total params: 81 (324.00 Byte)\n",
      "Trainable params: 81 (324.00 Byte)\n",
      "Non-trainable params: 0 (0.00 Byte)\n",
      "_________________________________________________________________\n"
     ]
    }
   ],
   "source": [
    "# summary of the model\n",
    "model.summary()"
   ]
  },
  {
   "cell_type": "code",
   "execution_count": 19,
   "metadata": {},
   "outputs": [],
   "source": [
    "# compiling the model\n",
    "\n",
    "# loss as binary_crossentropy, since we have binary classification problem\n",
    "# defining the optimizer as adam\n",
    "# Evaluation metric as accuracy\n",
    "\n",
    "model.compile(loss='binary_crossentropy',optimizer='Adam',metrics=['accuracy'])"
   ]
  },
  {
   "cell_type": "code",
   "execution_count": 20,
   "metadata": {},
   "outputs": [
    {
     "name": "stdout",
     "output_type": "stream",
     "text": [
      "Epoch 1/100\n",
      "4/4 [==============================] - 1s 78ms/step - loss: 2.2972 - accuracy: 0.3333 - val_loss: 2.0812 - val_accuracy: 0.3333\n",
      "Epoch 2/100\n",
      "4/4 [==============================] - 0s 12ms/step - loss: 2.0317 - accuracy: 0.3333 - val_loss: 1.8345 - val_accuracy: 0.3333\n",
      "Epoch 3/100\n",
      "4/4 [==============================] - 0s 11ms/step - loss: 1.7793 - accuracy: 0.3333 - val_loss: 1.5995 - val_accuracy: 0.3333\n",
      "Epoch 4/100\n",
      "4/4 [==============================] - 0s 23ms/step - loss: 1.5572 - accuracy: 0.3333 - val_loss: 1.3770 - val_accuracy: 0.3333\n",
      "Epoch 5/100\n",
      "4/4 [==============================] - 0s 16ms/step - loss: 1.3331 - accuracy: 0.3333 - val_loss: 1.1745 - val_accuracy: 0.3333\n",
      "Epoch 6/100\n",
      "4/4 [==============================] - 0s 12ms/step - loss: 1.1409 - accuracy: 0.3333 - val_loss: 0.9898 - val_accuracy: 0.3333\n",
      "Epoch 7/100\n",
      "4/4 [==============================] - 0s 14ms/step - loss: 0.9546 - accuracy: 0.3333 - val_loss: 0.8281 - val_accuracy: 0.3333\n",
      "Epoch 8/100\n",
      "4/4 [==============================] - 0s 14ms/step - loss: 0.7951 - accuracy: 0.2500 - val_loss: 0.6870 - val_accuracy: 0.2000\n",
      "Epoch 9/100\n",
      "4/4 [==============================] - 0s 13ms/step - loss: 0.6576 - accuracy: 0.2333 - val_loss: 0.5652 - val_accuracy: 0.3333\n",
      "Epoch 10/100\n",
      "4/4 [==============================] - 0s 12ms/step - loss: 0.5561 - accuracy: 0.3333 - val_loss: 0.4588 - val_accuracy: 0.3333\n",
      "Epoch 11/100\n",
      "4/4 [==============================] - 0s 13ms/step - loss: 0.4596 - accuracy: 0.3333 - val_loss: 0.3708 - val_accuracy: 0.3333\n",
      "Epoch 12/100\n",
      "4/4 [==============================] - 0s 14ms/step - loss: 0.3626 - accuracy: 0.3333 - val_loss: 0.3010 - val_accuracy: 0.3333\n",
      "Epoch 13/100\n",
      "4/4 [==============================] - 0s 12ms/step - loss: 0.3001 - accuracy: 0.3333 - val_loss: 0.2399 - val_accuracy: 0.3333\n",
      "Epoch 14/100\n",
      "4/4 [==============================] - 0s 15ms/step - loss: 0.2423 - accuracy: 0.3333 - val_loss: 0.1880 - val_accuracy: 0.3333\n",
      "Epoch 15/100\n",
      "4/4 [==============================] - 0s 12ms/step - loss: 0.1932 - accuracy: 0.3333 - val_loss: 0.1430 - val_accuracy: 0.3333\n",
      "Epoch 16/100\n",
      "4/4 [==============================] - 0s 11ms/step - loss: 0.1498 - accuracy: 0.3333 - val_loss: 0.1041 - val_accuracy: 0.3333\n",
      "Epoch 17/100\n",
      "4/4 [==============================] - 0s 12ms/step - loss: 0.1103 - accuracy: 0.3333 - val_loss: 0.0699 - val_accuracy: 0.3333\n",
      "Epoch 18/100\n",
      "4/4 [==============================] - 0s 11ms/step - loss: 0.0842 - accuracy: 0.3333 - val_loss: 0.0370 - val_accuracy: 0.3333\n",
      "Epoch 19/100\n",
      "4/4 [==============================] - 0s 12ms/step - loss: 0.0470 - accuracy: 0.3333 - val_loss: 0.0094 - val_accuracy: 0.3333\n",
      "Epoch 20/100\n",
      "4/4 [==============================] - 0s 14ms/step - loss: 0.0249 - accuracy: 0.3333 - val_loss: -0.0176 - val_accuracy: 0.3333\n",
      "Epoch 21/100\n",
      "4/4 [==============================] - 0s 15ms/step - loss: -0.0026 - accuracy: 0.3333 - val_loss: -0.0418 - val_accuracy: 0.3333\n",
      "Epoch 22/100\n",
      "4/4 [==============================] - 0s 12ms/step - loss: -0.0270 - accuracy: 0.3333 - val_loss: -0.0643 - val_accuracy: 0.3333\n",
      "Epoch 23/100\n",
      "4/4 [==============================] - 0s 12ms/step - loss: -0.0506 - accuracy: 0.3333 - val_loss: -0.0852 - val_accuracy: 0.3333\n",
      "Epoch 24/100\n",
      "4/4 [==============================] - 0s 12ms/step - loss: -0.0696 - accuracy: 0.3333 - val_loss: -0.1060 - val_accuracy: 0.3333\n",
      "Epoch 25/100\n",
      "4/4 [==============================] - 0s 12ms/step - loss: -0.0924 - accuracy: 0.3333 - val_loss: -0.1251 - val_accuracy: 0.3333\n",
      "Epoch 26/100\n",
      "4/4 [==============================] - 0s 12ms/step - loss: -0.1071 - accuracy: 0.3333 - val_loss: -0.1458 - val_accuracy: 0.3333\n",
      "Epoch 27/100\n",
      "4/4 [==============================] - 0s 12ms/step - loss: -0.1282 - accuracy: 0.3333 - val_loss: -0.1653 - val_accuracy: 0.3333\n",
      "Epoch 28/100\n",
      "4/4 [==============================] - 0s 13ms/step - loss: -0.1482 - accuracy: 0.3333 - val_loss: -0.1838 - val_accuracy: 0.3333\n",
      "Epoch 29/100\n",
      "4/4 [==============================] - 0s 12ms/step - loss: -0.1651 - accuracy: 0.3333 - val_loss: -0.2025 - val_accuracy: 0.3333\n",
      "Epoch 30/100\n",
      "4/4 [==============================] - 0s 12ms/step - loss: -0.1841 - accuracy: 0.3333 - val_loss: -0.2206 - val_accuracy: 0.3333\n",
      "Epoch 31/100\n",
      "4/4 [==============================] - 0s 12ms/step - loss: -0.2019 - accuracy: 0.3333 - val_loss: -0.2388 - val_accuracy: 0.3333\n",
      "Epoch 32/100\n",
      "4/4 [==============================] - 0s 27ms/step - loss: -0.2208 - accuracy: 0.3333 - val_loss: -0.2567 - val_accuracy: 0.3333\n",
      "Epoch 33/100\n",
      "4/4 [==============================] - 0s 13ms/step - loss: -0.2389 - accuracy: 0.3333 - val_loss: -0.2745 - val_accuracy: 0.3333\n",
      "Epoch 34/100\n",
      "4/4 [==============================] - 0s 13ms/step - loss: -0.2536 - accuracy: 0.3333 - val_loss: -0.2933 - val_accuracy: 0.3333\n",
      "Epoch 35/100\n",
      "4/4 [==============================] - 0s 11ms/step - loss: -0.2728 - accuracy: 0.3333 - val_loss: -0.3115 - val_accuracy: 0.3333\n",
      "Epoch 36/100\n",
      "4/4 [==============================] - 0s 12ms/step - loss: -0.2890 - accuracy: 0.3333 - val_loss: -0.3299 - val_accuracy: 0.3333\n",
      "Epoch 37/100\n",
      "4/4 [==============================] - 0s 12ms/step - loss: -0.3084 - accuracy: 0.3333 - val_loss: -0.3475 - val_accuracy: 0.3333\n",
      "Epoch 38/100\n",
      "4/4 [==============================] - 0s 13ms/step - loss: -0.3261 - accuracy: 0.3333 - val_loss: -0.3655 - val_accuracy: 0.3333\n",
      "Epoch 39/100\n",
      "4/4 [==============================] - 0s 12ms/step - loss: -0.3457 - accuracy: 0.3333 - val_loss: -0.3832 - val_accuracy: 0.3333\n",
      "Epoch 40/100\n",
      "4/4 [==============================] - 0s 13ms/step - loss: -0.3627 - accuracy: 0.3333 - val_loss: -0.4015 - val_accuracy: 0.3333\n",
      "Epoch 41/100\n",
      "4/4 [==============================] - 0s 13ms/step - loss: -0.3824 - accuracy: 0.3333 - val_loss: -0.4195 - val_accuracy: 0.3333\n",
      "Epoch 42/100\n",
      "4/4 [==============================] - 0s 13ms/step - loss: -0.3998 - accuracy: 0.3333 - val_loss: -0.4384 - val_accuracy: 0.3333\n",
      "Epoch 43/100\n",
      "4/4 [==============================] - 0s 12ms/step - loss: -0.4208 - accuracy: 0.3333 - val_loss: -0.4564 - val_accuracy: 0.3333\n",
      "Epoch 44/100\n",
      "4/4 [==============================] - 0s 11ms/step - loss: -0.4379 - accuracy: 0.3333 - val_loss: -0.4767 - val_accuracy: 0.3333\n",
      "Epoch 45/100\n",
      "4/4 [==============================] - 0s 12ms/step - loss: -0.4566 - accuracy: 0.3333 - val_loss: -0.4976 - val_accuracy: 0.3333\n",
      "Epoch 46/100\n",
      "4/4 [==============================] - 0s 18ms/step - loss: -0.4796 - accuracy: 0.3333 - val_loss: -0.5177 - val_accuracy: 0.3333\n",
      "Epoch 47/100\n",
      "4/4 [==============================] - 0s 15ms/step - loss: -0.4964 - accuracy: 0.3333 - val_loss: -0.5396 - val_accuracy: 0.3333\n",
      "Epoch 48/100\n",
      "4/4 [==============================] - 0s 14ms/step - loss: -0.5189 - accuracy: 0.3333 - val_loss: -0.5611 - val_accuracy: 0.3333\n",
      "Epoch 49/100\n",
      "4/4 [==============================] - 0s 34ms/step - loss: -0.5427 - accuracy: 0.3333 - val_loss: -0.5817 - val_accuracy: 0.3333\n",
      "Epoch 50/100\n",
      "4/4 [==============================] - 0s 14ms/step - loss: -0.5623 - accuracy: 0.3333 - val_loss: -0.6038 - val_accuracy: 0.3333\n",
      "Epoch 51/100\n",
      "4/4 [==============================] - 0s 14ms/step - loss: -0.5846 - accuracy: 0.3333 - val_loss: -0.6259 - val_accuracy: 0.3333\n",
      "Epoch 52/100\n",
      "4/4 [==============================] - 0s 13ms/step - loss: -0.6072 - accuracy: 0.3333 - val_loss: -0.6489 - val_accuracy: 0.3333\n",
      "Epoch 53/100\n",
      "4/4 [==============================] - 0s 12ms/step - loss: -0.6289 - accuracy: 0.3333 - val_loss: -0.6727 - val_accuracy: 0.3333\n",
      "Epoch 54/100\n",
      "4/4 [==============================] - 0s 12ms/step - loss: -0.6509 - accuracy: 0.3333 - val_loss: -0.6974 - val_accuracy: 0.3333\n",
      "Epoch 55/100\n",
      "4/4 [==============================] - 0s 12ms/step - loss: -0.6783 - accuracy: 0.3333 - val_loss: -0.7209 - val_accuracy: 0.3333\n",
      "Epoch 56/100\n",
      "4/4 [==============================] - 0s 12ms/step - loss: -0.7032 - accuracy: 0.3333 - val_loss: -0.7445 - val_accuracy: 0.3333\n",
      "Epoch 57/100\n",
      "4/4 [==============================] - 0s 13ms/step - loss: -0.7246 - accuracy: 0.3333 - val_loss: -0.7710 - val_accuracy: 0.3333\n",
      "Epoch 58/100\n",
      "4/4 [==============================] - 0s 13ms/step - loss: -0.7515 - accuracy: 0.3333 - val_loss: -0.7977 - val_accuracy: 0.3333\n",
      "Epoch 59/100\n",
      "4/4 [==============================] - 0s 20ms/step - loss: -0.7791 - accuracy: 0.3333 - val_loss: -0.8244 - val_accuracy: 0.3333\n",
      "Epoch 60/100\n",
      "4/4 [==============================] - 0s 24ms/step - loss: -0.8039 - accuracy: 0.3333 - val_loss: -0.8525 - val_accuracy: 0.3333\n",
      "Epoch 61/100\n",
      "4/4 [==============================] - 0s 15ms/step - loss: -0.8348 - accuracy: 0.3333 - val_loss: -0.8793 - val_accuracy: 0.3333\n",
      "Epoch 62/100\n",
      "4/4 [==============================] - 0s 13ms/step - loss: -0.8573 - accuracy: 0.3333 - val_loss: -0.9083 - val_accuracy: 0.3333\n",
      "Epoch 63/100\n",
      "4/4 [==============================] - 0s 13ms/step - loss: -0.8847 - accuracy: 0.3333 - val_loss: -0.9360 - val_accuracy: 0.3333\n",
      "Epoch 64/100\n",
      "4/4 [==============================] - 0s 13ms/step - loss: -0.9106 - accuracy: 0.3333 - val_loss: -0.9618 - val_accuracy: 0.3333\n",
      "Epoch 65/100\n",
      "4/4 [==============================] - 0s 14ms/step - loss: -0.9392 - accuracy: 0.3333 - val_loss: -0.9871 - val_accuracy: 0.3333\n",
      "Epoch 66/100\n",
      "4/4 [==============================] - 0s 37ms/step - loss: -0.9659 - accuracy: 0.3333 - val_loss: -1.0137 - val_accuracy: 0.3333\n",
      "Epoch 67/100\n",
      "4/4 [==============================] - 0s 14ms/step - loss: -0.9919 - accuracy: 0.3333 - val_loss: -1.0418 - val_accuracy: 0.3333\n",
      "Epoch 68/100\n",
      "4/4 [==============================] - 0s 13ms/step - loss: -1.0209 - accuracy: 0.3333 - val_loss: -1.0704 - val_accuracy: 0.3333\n",
      "Epoch 69/100\n",
      "4/4 [==============================] - 0s 14ms/step - loss: -1.0498 - accuracy: 0.3333 - val_loss: -1.0999 - val_accuracy: 0.3333\n",
      "Epoch 70/100\n",
      "4/4 [==============================] - 0s 12ms/step - loss: -1.0800 - accuracy: 0.3333 - val_loss: -1.1301 - val_accuracy: 0.3333\n",
      "Epoch 71/100\n",
      "4/4 [==============================] - 0s 12ms/step - loss: -1.1108 - accuracy: 0.3333 - val_loss: -1.1612 - val_accuracy: 0.3333\n",
      "Epoch 72/100\n",
      "4/4 [==============================] - 0s 11ms/step - loss: -1.1423 - accuracy: 0.3333 - val_loss: -1.1933 - val_accuracy: 0.3333\n",
      "Epoch 73/100\n",
      "4/4 [==============================] - 0s 12ms/step - loss: -1.1745 - accuracy: 0.3333 - val_loss: -1.2258 - val_accuracy: 0.3333\n",
      "Epoch 74/100\n",
      "4/4 [==============================] - 0s 12ms/step - loss: -1.2056 - accuracy: 0.3333 - val_loss: -1.2602 - val_accuracy: 0.3333\n",
      "Epoch 75/100\n",
      "4/4 [==============================] - 0s 13ms/step - loss: -1.2423 - accuracy: 0.3333 - val_loss: -1.2942 - val_accuracy: 0.3333\n",
      "Epoch 76/100\n",
      "4/4 [==============================] - 0s 12ms/step - loss: -1.2781 - accuracy: 0.3333 - val_loss: -1.3281 - val_accuracy: 0.3333\n",
      "Epoch 77/100\n",
      "4/4 [==============================] - 0s 12ms/step - loss: -1.3137 - accuracy: 0.3333 - val_loss: -1.3633 - val_accuracy: 0.3333\n",
      "Epoch 78/100\n",
      "4/4 [==============================] - 0s 12ms/step - loss: -1.3437 - accuracy: 0.3333 - val_loss: -1.4022 - val_accuracy: 0.3333\n",
      "Epoch 79/100\n",
      "4/4 [==============================] - 0s 12ms/step - loss: -1.3866 - accuracy: 0.3333 - val_loss: -1.4395 - val_accuracy: 0.3333\n",
      "Epoch 80/100\n",
      "4/4 [==============================] - 0s 12ms/step - loss: -1.4243 - accuracy: 0.3333 - val_loss: -1.4779 - val_accuracy: 0.3333\n",
      "Epoch 81/100\n",
      "4/4 [==============================] - 0s 13ms/step - loss: -1.4614 - accuracy: 0.3333 - val_loss: -1.5178 - val_accuracy: 0.3333\n",
      "Epoch 82/100\n",
      "4/4 [==============================] - 0s 15ms/step - loss: -1.5001 - accuracy: 0.3333 - val_loss: -1.5592 - val_accuracy: 0.3333\n",
      "Epoch 83/100\n",
      "4/4 [==============================] - 0s 13ms/step - loss: -1.5414 - accuracy: 0.3333 - val_loss: -1.6010 - val_accuracy: 0.3333\n",
      "Epoch 84/100\n",
      "4/4 [==============================] - 0s 13ms/step - loss: -1.5867 - accuracy: 0.3333 - val_loss: -1.6421 - val_accuracy: 0.3333\n",
      "Epoch 85/100\n",
      "4/4 [==============================] - 0s 20ms/step - loss: -1.6261 - accuracy: 0.3333 - val_loss: -1.6856 - val_accuracy: 0.3333\n",
      "Epoch 86/100\n",
      "4/4 [==============================] - 0s 13ms/step - loss: -1.6723 - accuracy: 0.3333 - val_loss: -1.7292 - val_accuracy: 0.3333\n",
      "Epoch 87/100\n",
      "4/4 [==============================] - 0s 22ms/step - loss: -1.7201 - accuracy: 0.3333 - val_loss: -1.7722 - val_accuracy: 0.3333\n",
      "Epoch 88/100\n",
      "4/4 [==============================] - 0s 12ms/step - loss: -1.7564 - accuracy: 0.3333 - val_loss: -1.8214 - val_accuracy: 0.3333\n",
      "Epoch 89/100\n",
      "4/4 [==============================] - 0s 12ms/step - loss: -1.8082 - accuracy: 0.3333 - val_loss: -1.8696 - val_accuracy: 0.3333\n",
      "Epoch 90/100\n",
      "4/4 [==============================] - 0s 12ms/step - loss: -1.8564 - accuracy: 0.3333 - val_loss: -1.9187 - val_accuracy: 0.3333\n",
      "Epoch 91/100\n",
      "4/4 [==============================] - 0s 11ms/step - loss: -1.9110 - accuracy: 0.3333 - val_loss: -1.9670 - val_accuracy: 0.3333\n",
      "Epoch 92/100\n",
      "4/4 [==============================] - 0s 11ms/step - loss: -1.9569 - accuracy: 0.3333 - val_loss: -2.0197 - val_accuracy: 0.3333\n",
      "Epoch 93/100\n",
      "4/4 [==============================] - 0s 12ms/step - loss: -2.0108 - accuracy: 0.3333 - val_loss: -2.0732 - val_accuracy: 0.3333\n",
      "Epoch 94/100\n",
      "4/4 [==============================] - 0s 12ms/step - loss: -2.0632 - accuracy: 0.3333 - val_loss: -2.1280 - val_accuracy: 0.3333\n",
      "Epoch 95/100\n",
      "4/4 [==============================] - 0s 12ms/step - loss: -2.1217 - accuracy: 0.3333 - val_loss: -2.1828 - val_accuracy: 0.3333\n",
      "Epoch 96/100\n",
      "4/4 [==============================] - 0s 13ms/step - loss: -2.1780 - accuracy: 0.3333 - val_loss: -2.2393 - val_accuracy: 0.3333\n",
      "Epoch 97/100\n",
      "4/4 [==============================] - 0s 14ms/step - loss: -2.2391 - accuracy: 0.3333 - val_loss: -2.2949 - val_accuracy: 0.3333\n",
      "Epoch 98/100\n",
      "4/4 [==============================] - 0s 14ms/step - loss: -2.2962 - accuracy: 0.3333 - val_loss: -2.3559 - val_accuracy: 0.3333\n",
      "Epoch 99/100\n",
      "4/4 [==============================] - 0s 15ms/step - loss: -2.3549 - accuracy: 0.3333 - val_loss: -2.4201 - val_accuracy: 0.3333\n",
      "Epoch 100/100\n",
      "4/4 [==============================] - 0s 15ms/step - loss: -2.4194 - accuracy: 0.3333 - val_loss: -2.4847 - val_accuracy: 0.3333\n"
     ]
    }
   ],
   "source": [
    "# training the model\n",
    "\n",
    "# passing the independent and dependent features for training set for training the model\n",
    "\n",
    "# validation data will be evaluated at the end of each epoch\n",
    "\n",
    "# setting the epochs as 50\n",
    "\n",
    "# storing the trained model in model_history variable which will be used to visualize the training process\n",
    "\n",
    "model_history = model.fit(X_train, y_train, validation_data=(X_test, y_test), epochs=100)"
   ]
  },
  {
   "cell_type": "code",
   "execution_count": 21,
   "metadata": {},
   "outputs": [
    {
     "name": "stdout",
     "output_type": "stream",
     "text": [
      "4/4 [==============================] - 0s 2ms/step - loss: -2.4616 - accuracy: 0.3333\n",
      "\n",
      "accuracy: 33.33%\n"
     ]
    }
   ],
   "source": [
    "scores = model.evaluate(X_train, y_train)\n",
    "print(\"\\n%s: %.2f%%\" % (model.metrics_names[1], scores[1]*100))"
   ]
  },
  {
   "cell_type": "code",
   "execution_count": 22,
   "metadata": {},
   "outputs": [
    {
     "name": "stdout",
     "output_type": "stream",
     "text": [
      "1/1 [==============================] - 0s 34ms/step - loss: -2.4847 - accuracy: 0.3333\n",
      "\n",
      "accuracy: 33.33%\n"
     ]
    }
   ],
   "source": [
    "scores = model.evaluate(X_test, y_test)\n",
    "print(\"\\n%s: %.2f%%\" % (model.metrics_names[1], scores[1]*100))"
   ]
  },
  {
   "cell_type": "code",
   "execution_count": 30,
   "metadata": {},
   "outputs": [
    {
     "data": {
      "image/png": "[encoded data removed]",
      "text/plain": [
       "<Figure size 640x480 with 1 Axes>"
      ]
     },
     "metadata": {},
     "output_type": "display_data"
    }
   ],
   "source": [
    "# summarize history for loss\n",
    "plt.plot(model_history.history['accuracy'])\n",
    "plt.plot(model_history.history['val_accuracy'])\n",
    "plt.title('model accuracy')\n",
    "plt.ylabel('accuracy')\n",
    "plt.xlabel('epoch')\n",
    "plt.legend(['train', 'validation'], loc='lower right')\n",
    "plt.show()"
   ]
  },
  {
   "cell_type": "code",
   "execution_count": 31,
   "metadata": {},
   "outputs": [],
   "source": [
    "X_train,X_test,y_train,y_test = train_test_split(X,y,stratify=df_iris['target'],random_state=10,train_size=0.75, test_size=0.25)"
   ]
  },
  {
   "cell_type": "code",
   "execution_count": 37,
   "metadata": {},
   "outputs": [
    {
     "data": {
      "application/vnd.jupyter.widget-view+json": {
       "model_id": "d7f51dd0383e412a998d692f83c10b61",
       "version_major": 2,
       "version_minor": 0
      },
      "text/plain": [
       "Optimization Progress:   0%|          | 0/120 [00:00<?, ?pipeline/s]"
      ]
     },
     "metadata": {},
     "output_type": "display_data"
    },
    {
     "name": "stdout",
     "output_type": "stream",
     "text": [
      "\n",
      "Generation 1 - Current best internal CV score: 0.9731225296442687\n",
      "\n",
      "Generation 2 - Current best internal CV score: 0.9731225296442687\n",
      "\n",
      "Generation 3 - Current best internal CV score: 0.9731225296442687\n",
      "\n",
      "Generation 4 - Current best internal CV score: 0.9731225296442687\n",
      "\n",
      "Generation 5 - Current best internal CV score: 0.9731225296442687\n",
      "\n",
      "Best pipeline: MLPClassifier(input_matrix, alpha=0.0001, learning_rate_init=0.001)\n",
      "0.9736842105263158\n"
     ]
    }
   ],
   "source": [
    "tpot = TPOTClassifier(generations=5, population_size=20, cv=5, random_state=42, verbosity=2)\n",
    "tpot.fit(X_train, y_train)\n",
    "print(tpot.score(X_test, y_test))"
   ]
  },
  {
   "cell_type": "code",
   "execution_count": 33,
   "metadata": {},
   "outputs": [],
   "source": [
    "tpot.export('tpot_iris_pipeline.py')"
   ]
  },
  {
   "cell_type": "code",
   "execution_count": 38,
   "metadata": {},
   "outputs": [
    {
     "name": "stderr",
     "output_type": "stream",
     "text": [
      "/Users/jesselang/anaconda3/lib/python3.11/site-packages/sklearn/neural_network/_multilayer_perceptron.py:691: ConvergenceWarning: Stochastic Optimizer: Maximum iterations (200) reached and the optimization hasn't converged yet.\n",
      "  warnings.warn(\n"
     ]
    }
   ],
   "source": [
    "from sklearn.neural_network import MLPClassifier\n",
    "from sklearn.pipeline import make_pipeline\n",
    "from tpot.builtins import ZeroCount\n",
    "\n",
    "# NOTE: Make sure that the outcome column is labeled 'target' in the data file\n",
    "features = X\n",
    "training_features, testing_features, training_target, testing_target = \\\n",
    "            train_test_split(features, y, random_state=None)\n",
    "\n",
    "# Average CV score on the training set was: 0.9822134387351777\n",
    "exported_pipeline = make_pipeline(\n",
    "    ZeroCount(),\n",
    "    MLPClassifier(alpha=0.0001, learning_rate_init=0.001)\n",
    ")\n",
    "\n",
    "exported_pipeline.fit(training_features, training_target)\n",
    "results = exported_pipeline.predict(testing_features)\n"
   ]
  },
  {
   "cell_type": "code",
   "execution_count": 39,
   "metadata": {},
   "outputs": [
    {
     "name": "stdout",
     "output_type": "stream",
     "text": [
      "1.0\n"
     ]
    }
   ],
   "source": [
    "# get the accuracy\n",
    "print(accuracy_score(testing_target, results))"
   ]
  },
  {
   "cell_type": "code",
   "execution_count": null,
   "metadata": {},
   "outputs": [],
   "source": []
  }
 ],
 "metadata": {
  "kernelspec": {
   "display_name": "base",
   "language": "python",
   "name": "python3"
  },
  "language_info": {
   "codemirror_mode": {
    "name": "ipython",
    "version": 3
   },
   "file_extension": ".py",
   "mimetype": "text/x-python",
   "name": "python",
   "nbconvert_exporter": "python",
   "pygments_lexer": "ipython3",
   "version": "3.11.4"
  },
  "orig_nbformat": 4
 },
 "nbformat": 4,
 "nbformat_minor": 2
}
