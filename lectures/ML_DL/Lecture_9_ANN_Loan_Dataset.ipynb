{
 "cells": [
  {
   "cell_type": "markdown",
   "metadata": {
    "colab_type": "text",
    "id": "WjKX7h16glKA"
   },
   "source": [
    "# Steps to build a Neural Network using Keras\n",
    "\n",
    "<ol>1. Loading the dataset</ol>\n",
    "<ol>2. Creating training and validation set</ol>\n",
    "<ol>3. Defining the architecture of the model</ol>\n",
    "<ol>4. Compiling the model (defining loss function, optimizer)</ol>\n",
    "<ol>5. Training the model</ol>\n",
    "<ol>6. Evaluating model performance on training and validation set</ol>"
   ]
  },
  {
   "cell_type": "markdown",
   "metadata": {
    "colab_type": "text",
    "id": "56f3bnnIglKI"
   },
   "source": [
    "## 1. Loading the dataset"
   ]
  },
  {
   "cell_type": "code",
   "execution_count": 1,
   "metadata": {
    "colab": {},
    "colab_type": "code",
    "id": "as3tljzfglKN"
   },
   "outputs": [],
   "source": [
    "# importing the required libraries\n",
    "import pandas as pd\n",
    "import numpy as np\n",
    "import sklearn\n",
    "from sklearn.model_selection import train_test_split\n",
    "from sklearn.metrics import accuracy_score\n",
    "import matplotlib.pyplot as plt\n",
    "%matplotlib inline"
   ]
  },
  {
   "cell_type": "code",
   "execution_count": 2,
   "metadata": {
    "colab": {
     "base_uri": "https://localhost:8080/",
     "height": 34
    },
    "colab_type": "code",
    "id": "Bzp09t1S_07z",
    "outputId": "36299c21-5a1c-48a2-801b-2116013119e7"
   },
   "outputs": [
    {
     "name": "stdout",
     "output_type": "stream",
     "text": [
      "Version of sklearn: 1.3.0\n"
     ]
    }
   ],
   "source": [
    "# check version on sklearn\n",
    "print('Version of sklearn:', sklearn.__version__)"
   ]
  },
  {
   "cell_type": "code",
   "execution_count": 3,
   "metadata": {},
   "outputs": [
    {
     "name": "stdout",
     "output_type": "stream",
     "text": [
      "Version of numpy: 1.24.3\n"
     ]
    }
   ],
   "source": [
    "# check version on sklearn\n",
    "print('Version of numpy:', np.__version__)"
   ]
  },
  {
   "cell_type": "code",
   "execution_count": 4,
   "metadata": {
    "colab": {},
    "colab_type": "code",
    "id": "UXQcz5rtglKe"
   },
   "outputs": [],
   "source": [
    "# loading the pre-processed dataset\n",
    "data = pd.read_csv('../data/loan_prediction_data.csv')"
   ]
  },
  {
   "cell_type": "code",
   "execution_count": 5,
   "metadata": {},
   "outputs": [
    {
     "data": {
      "text/plain": [
       "(614, 13)"
      ]
     },
     "execution_count": 5,
     "metadata": {},
     "output_type": "execute_result"
    }
   ],
   "source": [
    "data.shape"
   ]
  },
  {
   "cell_type": "code",
   "execution_count": 6,
   "metadata": {
    "colab": {
     "base_uri": "https://localhost:8080/",
     "height": 226
    },
    "colab_type": "code",
    "id": "ntuq8jfzglKp",
    "outputId": "ee3cd3ba-0f54-4435-b81b-6e25347f2138",
    "scrolled": false
   },
   "outputs": [
    {
     "data": {
      "text/html": [
       "<div>\n",
       "<style scoped>\n",
       "    .dataframe tbody tr th:only-of-type {\n",
       "        vertical-align: middle;\n",
       "    }\n",
       "\n",
       "    .dataframe tbody tr th {\n",
       "        vertical-align: top;\n",
       "    }\n",
       "\n",
       "    .dataframe thead th {\n",
       "        text-align: right;\n",
       "    }\n",
       "</style>\n",
       "<table border=\"1\" class=\"dataframe\">\n",
       "  <thead>\n",
       "    <tr style=\"text-align: right;\">\n",
       "      <th></th>\n",
       "      <th>Loan_ID</th>\n",
       "      <th>Gender</th>\n",
       "      <th>Married</th>\n",
       "      <th>Dependents</th>\n",
       "      <th>Education</th>\n",
       "      <th>Self_Employed</th>\n",
       "      <th>ApplicantIncome</th>\n",
       "      <th>CoapplicantIncome</th>\n",
       "      <th>LoanAmount</th>\n",
       "      <th>Loan_Amount_Term</th>\n",
       "      <th>Credit_History</th>\n",
       "      <th>Property_Area</th>\n",
       "      <th>Loan_Status</th>\n",
       "    </tr>\n",
       "  </thead>\n",
       "  <tbody>\n",
       "    <tr>\n",
       "      <th>0</th>\n",
       "      <td>LP001002</td>\n",
       "      <td>0.0</td>\n",
       "      <td>0.0</td>\n",
       "      <td>0.000000</td>\n",
       "      <td>1.0</td>\n",
       "      <td>0.0</td>\n",
       "      <td>0.070489</td>\n",
       "      <td>0.000000</td>\n",
       "      <td>0.198860</td>\n",
       "      <td>0.74359</td>\n",
       "      <td>1.0</td>\n",
       "      <td>1.0</td>\n",
       "      <td>1.0</td>\n",
       "    </tr>\n",
       "    <tr>\n",
       "      <th>1</th>\n",
       "      <td>LP001003</td>\n",
       "      <td>0.0</td>\n",
       "      <td>1.0</td>\n",
       "      <td>0.333333</td>\n",
       "      <td>1.0</td>\n",
       "      <td>0.0</td>\n",
       "      <td>0.054830</td>\n",
       "      <td>0.036192</td>\n",
       "      <td>0.172214</td>\n",
       "      <td>0.74359</td>\n",
       "      <td>1.0</td>\n",
       "      <td>0.0</td>\n",
       "      <td>0.0</td>\n",
       "    </tr>\n",
       "    <tr>\n",
       "      <th>2</th>\n",
       "      <td>LP001005</td>\n",
       "      <td>0.0</td>\n",
       "      <td>1.0</td>\n",
       "      <td>0.000000</td>\n",
       "      <td>1.0</td>\n",
       "      <td>1.0</td>\n",
       "      <td>0.035250</td>\n",
       "      <td>0.000000</td>\n",
       "      <td>0.082489</td>\n",
       "      <td>0.74359</td>\n",
       "      <td>1.0</td>\n",
       "      <td>1.0</td>\n",
       "      <td>1.0</td>\n",
       "    </tr>\n",
       "    <tr>\n",
       "      <th>3</th>\n",
       "      <td>LP001006</td>\n",
       "      <td>0.0</td>\n",
       "      <td>1.0</td>\n",
       "      <td>0.000000</td>\n",
       "      <td>0.0</td>\n",
       "      <td>0.0</td>\n",
       "      <td>0.030093</td>\n",
       "      <td>0.056592</td>\n",
       "      <td>0.160637</td>\n",
       "      <td>0.74359</td>\n",
       "      <td>1.0</td>\n",
       "      <td>1.0</td>\n",
       "      <td>1.0</td>\n",
       "    </tr>\n",
       "    <tr>\n",
       "      <th>4</th>\n",
       "      <td>LP001008</td>\n",
       "      <td>0.0</td>\n",
       "      <td>0.0</td>\n",
       "      <td>0.000000</td>\n",
       "      <td>1.0</td>\n",
       "      <td>0.0</td>\n",
       "      <td>0.072356</td>\n",
       "      <td>0.000000</td>\n",
       "      <td>0.191027</td>\n",
       "      <td>0.74359</td>\n",
       "      <td>1.0</td>\n",
       "      <td>1.0</td>\n",
       "      <td>1.0</td>\n",
       "    </tr>\n",
       "  </tbody>\n",
       "</table>\n",
       "</div>"
      ],
      "text/plain": [
       "    Loan_ID  Gender  Married  Dependents  Education  Self_Employed  \\\n",
       "0  LP001002     0.0      0.0    0.000000        1.0            0.0   \n",
       "1  LP001003     0.0      1.0    0.333333        1.0            0.0   \n",
       "2  LP001005     0.0      1.0    0.000000        1.0            1.0   \n",
       "3  LP001006     0.0      1.0    0.000000        0.0            0.0   \n",
       "4  LP001008     0.0      0.0    0.000000        1.0            0.0   \n",
       "\n",
       "   ApplicantIncome  CoapplicantIncome  LoanAmount  Loan_Amount_Term  \\\n",
       "0         0.070489           0.000000    0.198860           0.74359   \n",
       "1         0.054830           0.036192    0.172214           0.74359   \n",
       "2         0.035250           0.000000    0.082489           0.74359   \n",
       "3         0.030093           0.056592    0.160637           0.74359   \n",
       "4         0.072356           0.000000    0.191027           0.74359   \n",
       "\n",
       "   Credit_History  Property_Area  Loan_Status  \n",
       "0             1.0            1.0          1.0  \n",
       "1             1.0            0.0          0.0  \n",
       "2             1.0            1.0          1.0  \n",
       "3             1.0            1.0          1.0  \n",
       "4             1.0            1.0          1.0  "
      ]
     },
     "execution_count": 6,
     "metadata": {},
     "output_type": "execute_result"
    }
   ],
   "source": [
    "# looking at the first five rows of the dataset\n",
    "data.head()"
   ]
  },
  {
   "cell_type": "code",
   "execution_count": 7,
   "metadata": {
    "colab": {
     "base_uri": "https://localhost:8080/",
     "height": 260
    },
    "colab_type": "code",
    "id": "2iqbEhkaglK0",
    "outputId": "10fdd584-d6c9-473e-fcfb-abc7dd62592e"
   },
   "outputs": [
    {
     "data": {
      "text/plain": [
       "Loan_ID              0\n",
       "Gender               0\n",
       "Married              0\n",
       "Dependents           0\n",
       "Education            0\n",
       "Self_Employed        0\n",
       "ApplicantIncome      0\n",
       "CoapplicantIncome    0\n",
       "LoanAmount           0\n",
       "Loan_Amount_Term     0\n",
       "Credit_History       0\n",
       "Property_Area        0\n",
       "Loan_Status          0\n",
       "dtype: int64"
      ]
     },
     "execution_count": 7,
     "metadata": {},
     "output_type": "execute_result"
    }
   ],
   "source": [
    "# checking missing values\n",
    "data.isnull().sum()"
   ]
  },
  {
   "cell_type": "code",
   "execution_count": 8,
   "metadata": {
    "colab": {
     "base_uri": "https://localhost:8080/",
     "height": 260
    },
    "colab_type": "code",
    "id": "QOnBYzGnglK-",
    "outputId": "4df9b24f-8955-4b06-f668-b3be91087d4f"
   },
   "outputs": [
    {
     "data": {
      "text/plain": [
       "Loan_ID               object\n",
       "Gender               float64\n",
       "Married              float64\n",
       "Dependents           float64\n",
       "Education            float64\n",
       "Self_Employed        float64\n",
       "ApplicantIncome      float64\n",
       "CoapplicantIncome    float64\n",
       "LoanAmount           float64\n",
       "Loan_Amount_Term     float64\n",
       "Credit_History       float64\n",
       "Property_Area        float64\n",
       "Loan_Status          float64\n",
       "dtype: object"
      ]
     },
     "execution_count": 8,
     "metadata": {},
     "output_type": "execute_result"
    }
   ],
   "source": [
    "# checking the data type\n",
    "data.dtypes"
   ]
  },
  {
   "cell_type": "code",
   "execution_count": 9,
   "metadata": {
    "colab": {},
    "colab_type": "code",
    "id": "TYuwXXuNglLI"
   },
   "outputs": [],
   "source": [
    "# removing the loan_ID since these are just the unique values\n",
    "data = data.drop('Loan_ID', axis=1)"
   ]
  },
  {
   "cell_type": "code",
   "execution_count": 10,
   "metadata": {},
   "outputs": [
    {
     "data": {
      "text/html": [
       "<div>\n",
       "<style scoped>\n",
       "    .dataframe tbody tr th:only-of-type {\n",
       "        vertical-align: middle;\n",
       "    }\n",
       "\n",
       "    .dataframe tbody tr th {\n",
       "        vertical-align: top;\n",
       "    }\n",
       "\n",
       "    .dataframe thead th {\n",
       "        text-align: right;\n",
       "    }\n",
       "</style>\n",
       "<table border=\"1\" class=\"dataframe\">\n",
       "  <thead>\n",
       "    <tr style=\"text-align: right;\">\n",
       "      <th></th>\n",
       "      <th>Gender</th>\n",
       "      <th>Married</th>\n",
       "      <th>Dependents</th>\n",
       "      <th>Education</th>\n",
       "      <th>Self_Employed</th>\n",
       "      <th>ApplicantIncome</th>\n",
       "      <th>CoapplicantIncome</th>\n",
       "      <th>LoanAmount</th>\n",
       "      <th>Loan_Amount_Term</th>\n",
       "      <th>Credit_History</th>\n",
       "      <th>Property_Area</th>\n",
       "      <th>Loan_Status</th>\n",
       "    </tr>\n",
       "  </thead>\n",
       "  <tbody>\n",
       "    <tr>\n",
       "      <th>0</th>\n",
       "      <td>0.0</td>\n",
       "      <td>0.0</td>\n",
       "      <td>0.000000</td>\n",
       "      <td>1.0</td>\n",
       "      <td>0.0</td>\n",
       "      <td>0.070489</td>\n",
       "      <td>0.000000</td>\n",
       "      <td>0.198860</td>\n",
       "      <td>0.74359</td>\n",
       "      <td>1.0</td>\n",
       "      <td>1.0</td>\n",
       "      <td>1.0</td>\n",
       "    </tr>\n",
       "    <tr>\n",
       "      <th>1</th>\n",
       "      <td>0.0</td>\n",
       "      <td>1.0</td>\n",
       "      <td>0.333333</td>\n",
       "      <td>1.0</td>\n",
       "      <td>0.0</td>\n",
       "      <td>0.054830</td>\n",
       "      <td>0.036192</td>\n",
       "      <td>0.172214</td>\n",
       "      <td>0.74359</td>\n",
       "      <td>1.0</td>\n",
       "      <td>0.0</td>\n",
       "      <td>0.0</td>\n",
       "    </tr>\n",
       "    <tr>\n",
       "      <th>2</th>\n",
       "      <td>0.0</td>\n",
       "      <td>1.0</td>\n",
       "      <td>0.000000</td>\n",
       "      <td>1.0</td>\n",
       "      <td>1.0</td>\n",
       "      <td>0.035250</td>\n",
       "      <td>0.000000</td>\n",
       "      <td>0.082489</td>\n",
       "      <td>0.74359</td>\n",
       "      <td>1.0</td>\n",
       "      <td>1.0</td>\n",
       "      <td>1.0</td>\n",
       "    </tr>\n",
       "    <tr>\n",
       "      <th>3</th>\n",
       "      <td>0.0</td>\n",
       "      <td>1.0</td>\n",
       "      <td>0.000000</td>\n",
       "      <td>0.0</td>\n",
       "      <td>0.0</td>\n",
       "      <td>0.030093</td>\n",
       "      <td>0.056592</td>\n",
       "      <td>0.160637</td>\n",
       "      <td>0.74359</td>\n",
       "      <td>1.0</td>\n",
       "      <td>1.0</td>\n",
       "      <td>1.0</td>\n",
       "    </tr>\n",
       "    <tr>\n",
       "      <th>4</th>\n",
       "      <td>0.0</td>\n",
       "      <td>0.0</td>\n",
       "      <td>0.000000</td>\n",
       "      <td>1.0</td>\n",
       "      <td>0.0</td>\n",
       "      <td>0.072356</td>\n",
       "      <td>0.000000</td>\n",
       "      <td>0.191027</td>\n",
       "      <td>0.74359</td>\n",
       "      <td>1.0</td>\n",
       "      <td>1.0</td>\n",
       "      <td>1.0</td>\n",
       "    </tr>\n",
       "  </tbody>\n",
       "</table>\n",
       "</div>"
      ],
      "text/plain": [
       "   Gender  Married  Dependents  Education  Self_Employed  ApplicantIncome  \\\n",
       "0     0.0      0.0    0.000000        1.0            0.0         0.070489   \n",
       "1     0.0      1.0    0.333333        1.0            0.0         0.054830   \n",
       "2     0.0      1.0    0.000000        1.0            1.0         0.035250   \n",
       "3     0.0      1.0    0.000000        0.0            0.0         0.030093   \n",
       "4     0.0      0.0    0.000000        1.0            0.0         0.072356   \n",
       "\n",
       "   CoapplicantIncome  LoanAmount  Loan_Amount_Term  Credit_History  \\\n",
       "0           0.000000    0.198860           0.74359             1.0   \n",
       "1           0.036192    0.172214           0.74359             1.0   \n",
       "2           0.000000    0.082489           0.74359             1.0   \n",
       "3           0.056592    0.160637           0.74359             1.0   \n",
       "4           0.000000    0.191027           0.74359             1.0   \n",
       "\n",
       "   Property_Area  Loan_Status  \n",
       "0            1.0          1.0  \n",
       "1            0.0          0.0  \n",
       "2            1.0          1.0  \n",
       "3            1.0          1.0  \n",
       "4            1.0          1.0  "
      ]
     },
     "execution_count": 10,
     "metadata": {},
     "output_type": "execute_result"
    }
   ],
   "source": [
    "data.head()"
   ]
  },
  {
   "cell_type": "code",
   "execution_count": 11,
   "metadata": {
    "colab": {
     "base_uri": "https://localhost:8080/",
     "height": 34
    },
    "colab_type": "code",
    "id": "r7XkDkLqglLQ",
    "outputId": "088bd30a-4bd9-4fe4-f85a-29865e5b9fe2"
   },
   "outputs": [
    {
     "data": {
      "text/plain": [
       "(614, 12)"
      ]
     },
     "execution_count": 11,
     "metadata": {},
     "output_type": "execute_result"
    }
   ],
   "source": [
    "# looking at the shape of the data\n",
    "data.shape"
   ]
  },
  {
   "cell_type": "code",
   "execution_count": 12,
   "metadata": {
    "colab": {},
    "colab_type": "code",
    "id": "wy5U75eiglLZ"
   },
   "outputs": [],
   "source": [
    "# separating the independent and dependent variables\n",
    "\n",
    "# storing all the independent variables as X\n",
    "X = data.drop('Loan_Status', axis=1)\n",
    "\n",
    "# storing the dependent variable as y\n",
    "y = data['Loan_Status']"
   ]
  },
  {
   "cell_type": "code",
   "execution_count": 13,
   "metadata": {
    "colab": {
     "base_uri": "https://localhost:8080/",
     "height": 34
    },
    "colab_type": "code",
    "id": "73Z_cXPVglLi",
    "outputId": "ee7c420d-9bdf-412a-c703-08e8f2444576",
    "scrolled": true
   },
   "outputs": [
    {
     "data": {
      "text/plain": [
       "((614, 11), (614,))"
      ]
     },
     "execution_count": 13,
     "metadata": {},
     "output_type": "execute_result"
    }
   ],
   "source": [
    "# shape of independent and dependent variables\n",
    "X.shape, y.shape"
   ]
  },
  {
   "cell_type": "code",
   "execution_count": 14,
   "metadata": {},
   "outputs": [
    {
     "data": {
      "text/plain": [
       "0      1.0\n",
       "1      0.0\n",
       "2      1.0\n",
       "3      1.0\n",
       "4      1.0\n",
       "      ... \n",
       "609    1.0\n",
       "610    1.0\n",
       "611    1.0\n",
       "612    1.0\n",
       "613    0.0\n",
       "Name: Loan_Status, Length: 614, dtype: float64"
      ]
     },
     "execution_count": 14,
     "metadata": {},
     "output_type": "execute_result"
    }
   ],
   "source": [
    "y"
   ]
  },
  {
   "cell_type": "markdown",
   "metadata": {
    "colab_type": "text",
    "id": "2tIAIoEZglLr"
   },
   "source": [
    "## 2. Creating training and validation set"
   ]
  },
  {
   "cell_type": "code",
   "execution_count": 15,
   "metadata": {
    "colab": {},
    "colab_type": "code",
    "id": "4jvMxwYZglLu"
   },
   "outputs": [],
   "source": [
    "# Creating training and validation set\n",
    "\n",
    "# stratify will make sure that the distribution of classes in train and validation set it similar\n",
    "# random state to regenerate the same train and validation set\n",
    "# test size 0.2 will keep 20% data in validation and remaining 80% in train set\n",
    "\n",
    "X_train,X_test,y_train,y_test = train_test_split(X,y,stratify=data['Loan_Status'],random_state=10,test_size=0.2)"
   ]
  },
  {
   "cell_type": "code",
   "execution_count": 16,
   "metadata": {
    "colab": {
     "base_uri": "https://localhost:8080/",
     "height": 34
    },
    "colab_type": "code",
    "id": "3HG0SIb2glL3",
    "outputId": "f29f1d66-8cce-4561-d3f6-30baaf8922fd"
   },
   "outputs": [
    {
     "data": {
      "text/plain": [
       "(((491, 11), (491,)), ((123, 11), (123,)))"
      ]
     },
     "execution_count": 16,
     "metadata": {},
     "output_type": "execute_result"
    }
   ],
   "source": [
    "# shape of training and validation set\n",
    "(X_train.shape, y_train.shape), (X_test.shape, y_test.shape)"
   ]
  },
  {
   "cell_type": "code",
   "execution_count": 17,
   "metadata": {},
   "outputs": [
    {
     "data": {
      "text/html": [
       "<div>\n",
       "<style scoped>\n",
       "    .dataframe tbody tr th:only-of-type {\n",
       "        vertical-align: middle;\n",
       "    }\n",
       "\n",
       "    .dataframe tbody tr th {\n",
       "        vertical-align: top;\n",
       "    }\n",
       "\n",
       "    .dataframe thead th {\n",
       "        text-align: right;\n",
       "    }\n",
       "</style>\n",
       "<table border=\"1\" class=\"dataframe\">\n",
       "  <thead>\n",
       "    <tr style=\"text-align: right;\">\n",
       "      <th></th>\n",
       "      <th>Gender</th>\n",
       "      <th>Married</th>\n",
       "      <th>Dependents</th>\n",
       "      <th>Education</th>\n",
       "      <th>Self_Employed</th>\n",
       "      <th>ApplicantIncome</th>\n",
       "      <th>CoapplicantIncome</th>\n",
       "      <th>LoanAmount</th>\n",
       "      <th>Loan_Amount_Term</th>\n",
       "      <th>Credit_History</th>\n",
       "      <th>Property_Area</th>\n",
       "    </tr>\n",
       "  </thead>\n",
       "  <tbody>\n",
       "    <tr>\n",
       "      <th>164</th>\n",
       "      <td>0.0</td>\n",
       "      <td>1.0</td>\n",
       "      <td>0.000000</td>\n",
       "      <td>1.0</td>\n",
       "      <td>0.0</td>\n",
       "      <td>0.113457</td>\n",
       "      <td>0.000000</td>\n",
       "      <td>0.095514</td>\n",
       "      <td>0.358974</td>\n",
       "      <td>1.0</td>\n",
       "      <td>1.0</td>\n",
       "    </tr>\n",
       "    <tr>\n",
       "      <th>171</th>\n",
       "      <td>0.0</td>\n",
       "      <td>1.0</td>\n",
       "      <td>1.000000</td>\n",
       "      <td>1.0</td>\n",
       "      <td>0.0</td>\n",
       "      <td>0.638380</td>\n",
       "      <td>0.000000</td>\n",
       "      <td>1.000000</td>\n",
       "      <td>0.615385</td>\n",
       "      <td>1.0</td>\n",
       "      <td>1.0</td>\n",
       "    </tr>\n",
       "    <tr>\n",
       "      <th>546</th>\n",
       "      <td>0.0</td>\n",
       "      <td>0.0</td>\n",
       "      <td>0.000000</td>\n",
       "      <td>0.0</td>\n",
       "      <td>0.0</td>\n",
       "      <td>0.039678</td>\n",
       "      <td>0.000000</td>\n",
       "      <td>0.102750</td>\n",
       "      <td>0.051282</td>\n",
       "      <td>1.0</td>\n",
       "      <td>0.5</td>\n",
       "    </tr>\n",
       "    <tr>\n",
       "      <th>226</th>\n",
       "      <td>0.0</td>\n",
       "      <td>1.0</td>\n",
       "      <td>0.000000</td>\n",
       "      <td>0.0</td>\n",
       "      <td>1.0</td>\n",
       "      <td>0.056710</td>\n",
       "      <td>0.000000</td>\n",
       "      <td>0.186686</td>\n",
       "      <td>0.743590</td>\n",
       "      <td>1.0</td>\n",
       "      <td>1.0</td>\n",
       "    </tr>\n",
       "    <tr>\n",
       "      <th>176</th>\n",
       "      <td>0.0</td>\n",
       "      <td>1.0</td>\n",
       "      <td>0.666667</td>\n",
       "      <td>1.0</td>\n",
       "      <td>0.0</td>\n",
       "      <td>0.023438</td>\n",
       "      <td>0.038856</td>\n",
       "      <td>0.133140</td>\n",
       "      <td>0.743590</td>\n",
       "      <td>1.0</td>\n",
       "      <td>0.0</td>\n",
       "    </tr>\n",
       "    <tr>\n",
       "      <th>...</th>\n",
       "      <td>...</td>\n",
       "      <td>...</td>\n",
       "      <td>...</td>\n",
       "      <td>...</td>\n",
       "      <td>...</td>\n",
       "      <td>...</td>\n",
       "      <td>...</td>\n",
       "      <td>...</td>\n",
       "      <td>...</td>\n",
       "      <td>...</td>\n",
       "      <td>...</td>\n",
       "    </tr>\n",
       "    <tr>\n",
       "      <th>560</th>\n",
       "      <td>0.0</td>\n",
       "      <td>1.0</td>\n",
       "      <td>0.666667</td>\n",
       "      <td>0.0</td>\n",
       "      <td>0.0</td>\n",
       "      <td>0.043599</td>\n",
       "      <td>0.005808</td>\n",
       "      <td>0.143271</td>\n",
       "      <td>0.743590</td>\n",
       "      <td>1.0</td>\n",
       "      <td>0.5</td>\n",
       "    </tr>\n",
       "    <tr>\n",
       "      <th>503</th>\n",
       "      <td>0.0</td>\n",
       "      <td>1.0</td>\n",
       "      <td>0.333333</td>\n",
       "      <td>0.0</td>\n",
       "      <td>0.0</td>\n",
       "      <td>0.048237</td>\n",
       "      <td>0.127247</td>\n",
       "      <td>0.186686</td>\n",
       "      <td>0.743590</td>\n",
       "      <td>1.0</td>\n",
       "      <td>0.0</td>\n",
       "    </tr>\n",
       "    <tr>\n",
       "      <th>343</th>\n",
       "      <td>0.0</td>\n",
       "      <td>1.0</td>\n",
       "      <td>1.000000</td>\n",
       "      <td>0.0</td>\n",
       "      <td>0.0</td>\n",
       "      <td>0.037390</td>\n",
       "      <td>0.000000</td>\n",
       "      <td>0.094067</td>\n",
       "      <td>0.743590</td>\n",
       "      <td>1.0</td>\n",
       "      <td>0.5</td>\n",
       "    </tr>\n",
       "    <tr>\n",
       "      <th>148</th>\n",
       "      <td>1.0</td>\n",
       "      <td>0.0</td>\n",
       "      <td>0.000000</td>\n",
       "      <td>1.0</td>\n",
       "      <td>0.0</td>\n",
       "      <td>0.121831</td>\n",
       "      <td>0.039984</td>\n",
       "      <td>0.312590</td>\n",
       "      <td>0.743590</td>\n",
       "      <td>1.0</td>\n",
       "      <td>0.0</td>\n",
       "    </tr>\n",
       "    <tr>\n",
       "      <th>303</th>\n",
       "      <td>0.0</td>\n",
       "      <td>1.0</td>\n",
       "      <td>0.333333</td>\n",
       "      <td>1.0</td>\n",
       "      <td>0.0</td>\n",
       "      <td>0.018244</td>\n",
       "      <td>0.043272</td>\n",
       "      <td>0.125904</td>\n",
       "      <td>0.743590</td>\n",
       "      <td>1.0</td>\n",
       "      <td>1.0</td>\n",
       "    </tr>\n",
       "  </tbody>\n",
       "</table>\n",
       "<p>491 rows × 11 columns</p>\n",
       "</div>"
      ],
      "text/plain": [
       "     Gender  Married  Dependents  Education  Self_Employed  ApplicantIncome  \\\n",
       "164     0.0      1.0    0.000000        1.0            0.0         0.113457   \n",
       "171     0.0      1.0    1.000000        1.0            0.0         0.638380   \n",
       "546     0.0      0.0    0.000000        0.0            0.0         0.039678   \n",
       "226     0.0      1.0    0.000000        0.0            1.0         0.056710   \n",
       "176     0.0      1.0    0.666667        1.0            0.0         0.023438   \n",
       "..      ...      ...         ...        ...            ...              ...   \n",
       "560     0.0      1.0    0.666667        0.0            0.0         0.043599   \n",
       "503     0.0      1.0    0.333333        0.0            0.0         0.048237   \n",
       "343     0.0      1.0    1.000000        0.0            0.0         0.037390   \n",
       "148     1.0      0.0    0.000000        1.0            0.0         0.121831   \n",
       "303     0.0      1.0    0.333333        1.0            0.0         0.018244   \n",
       "\n",
       "     CoapplicantIncome  LoanAmount  Loan_Amount_Term  Credit_History  \\\n",
       "164           0.000000    0.095514          0.358974             1.0   \n",
       "171           0.000000    1.000000          0.615385             1.0   \n",
       "546           0.000000    0.102750          0.051282             1.0   \n",
       "226           0.000000    0.186686          0.743590             1.0   \n",
       "176           0.038856    0.133140          0.743590             1.0   \n",
       "..                 ...         ...               ...             ...   \n",
       "560           0.005808    0.143271          0.743590             1.0   \n",
       "503           0.127247    0.186686          0.743590             1.0   \n",
       "343           0.000000    0.094067          0.743590             1.0   \n",
       "148           0.039984    0.312590          0.743590             1.0   \n",
       "303           0.043272    0.125904          0.743590             1.0   \n",
       "\n",
       "     Property_Area  \n",
       "164            1.0  \n",
       "171            1.0  \n",
       "546            0.5  \n",
       "226            1.0  \n",
       "176            0.0  \n",
       "..             ...  \n",
       "560            0.5  \n",
       "503            0.0  \n",
       "343            0.5  \n",
       "148            0.0  \n",
       "303            1.0  \n",
       "\n",
       "[491 rows x 11 columns]"
      ]
     },
     "execution_count": 17,
     "metadata": {},
     "output_type": "execute_result"
    }
   ],
   "source": [
    "X_train"
   ]
  },
  {
   "cell_type": "markdown",
   "metadata": {
    "colab_type": "text",
    "id": "e9PNy3T1glL_"
   },
   "source": [
    "## 3. Defining the architecture of the model"
   ]
  },
  {
   "cell_type": "code",
   "execution_count": 19,
   "metadata": {
    "colab": {
     "base_uri": "https://localhost:8080/",
     "height": 52
    },
    "colab_type": "code",
    "id": "IsccfqUYglMC",
    "outputId": "2aefd623-9fbd-4c36-d19a-7f1248bc315a",
    "scrolled": true
   },
   "outputs": [
    {
     "name": "stderr",
     "output_type": "stream",
     "text": [
      "2023-10-03 12:58:26.926571: I tensorflow/core/platform/cpu_feature_guard.cc:182] This TensorFlow binary is optimized to use available CPU instructions in performance-critical operations.\n",
      "To enable the following instructions: AVX2 FMA, in other operations, rebuild TensorFlow with the appropriate compiler flags.\n"
     ]
    },
    {
     "name": "stdout",
     "output_type": "stream",
     "text": [
      "2.14.0\n",
      "2.14.0\n"
     ]
    }
   ],
   "source": [
    "# checking the version of keras\n",
    "import keras\n",
    "import tensorflow as tf\n",
    "\n",
    "print(keras.__version__)\n",
    "print(tf.__version__)"
   ]
  },
  {
   "cell_type": "markdown",
   "metadata": {
    "colab_type": "text",
    "id": "LbHAzzxZglMR"
   },
   "source": [
    "### a. Create a model\n",
    "\n",
    "<img src='https://drive.google.com/uc?id=1iZNZ3kwSHRNf-Irn3DZmMuBb6K-Lro7w'>"
   ]
  },
  {
   "cell_type": "code",
   "execution_count": 20,
   "metadata": {
    "colab": {},
    "colab_type": "code",
    "id": "O-Pl7OO8glMT"
   },
   "outputs": [],
   "source": [
    "# importing the sequential model\n",
    "from keras.models import Sequential"
   ]
  },
  {
   "cell_type": "markdown",
   "metadata": {
    "colab_type": "text",
    "id": "q6SQ3N1NglMZ"
   },
   "source": [
    "### b. Defining different layers\n",
    "\n",
    "<img src='https://drive.google.com/uc?id=16X6De2hua1XJBe3dfmUUeGTgP6PbXEpc'>"
   ]
  },
  {
   "cell_type": "code",
   "execution_count": 21,
   "metadata": {
    "colab": {},
    "colab_type": "code",
    "id": "NDU-YCD0glMb",
    "scrolled": true
   },
   "outputs": [],
   "source": [
    "# importing different layers from keras\n",
    "from keras.layers import InputLayer, Dense "
   ]
  },
  {
   "cell_type": "code",
   "execution_count": 23,
   "metadata": {
    "colab": {
     "base_uri": "https://localhost:8080/",
     "height": 34
    },
    "colab_type": "code",
    "id": "xtOwk66BglMl",
    "outputId": "4600bf56-d133-4453-e936-9618e49ec0a7"
   },
   "outputs": [
    {
     "data": {
      "text/plain": [
       "(491, 11)"
      ]
     },
     "execution_count": 23,
     "metadata": {},
     "output_type": "execute_result"
    }
   ],
   "source": [
    "# number of input neurons\n",
    "X_train.shape"
   ]
  },
  {
   "cell_type": "code",
   "execution_count": 24,
   "metadata": {
    "colab": {
     "base_uri": "https://localhost:8080/",
     "height": 34
    },
    "colab_type": "code",
    "id": "dA2TqMbsglMq",
    "outputId": "a2ecf898-134c-4716-d528-a6f20e0afbe8",
    "scrolled": true
   },
   "outputs": [
    {
     "data": {
      "text/plain": [
       "11"
      ]
     },
     "execution_count": 24,
     "metadata": {},
     "output_type": "execute_result"
    }
   ],
   "source": [
    "# number of features in the data\n",
    "X_train.shape[1]"
   ]
  },
  {
   "cell_type": "code",
   "execution_count": 25,
   "metadata": {
    "colab": {},
    "colab_type": "code",
    "id": "ajgIDiLSglMx"
   },
   "outputs": [
    {
     "data": {
      "text/plain": [
       "11"
      ]
     },
     "execution_count": 25,
     "metadata": {},
     "output_type": "execute_result"
    }
   ],
   "source": [
    "# defining input neurons\n",
    "input_neurons = X_train.shape[1]\n",
    "input_neurons"
   ]
  },
  {
   "cell_type": "code",
   "execution_count": 28,
   "metadata": {
    "colab": {},
    "colab_type": "code",
    "id": "fu76LxuVglM6"
   },
   "outputs": [],
   "source": [
    "# number of output neurons\n",
    "\n",
    "# since loan prediction is a binary classification problem, we will have single neuron in the output layer "
   ]
  },
  {
   "cell_type": "code",
   "execution_count": 26,
   "metadata": {
    "colab": {},
    "colab_type": "code",
    "id": "taMhxkl4glNB"
   },
   "outputs": [],
   "source": [
    "# define number of output neurons\n",
    "output_neurons = 1"
   ]
  },
  {
   "cell_type": "code",
   "execution_count": 27,
   "metadata": {
    "colab": {},
    "colab_type": "code",
    "id": "cHsm2c7kglNF"
   },
   "outputs": [],
   "source": [
    "# number of hidden layers and hidden neurons\n",
    "\n",
    "# It is a hyperparameter and we can pick the hidden layers and hidden neurons on our own"
   ]
  },
  {
   "cell_type": "code",
   "execution_count": 48,
   "metadata": {
    "colab": {},
    "colab_type": "code",
    "id": "sMqdeXysqztM"
   },
   "outputs": [],
   "source": [
    "# define hidden layers and neuron in each layer\n",
    "number_of_hidden_layers = 2\n",
    "neuron_hidden_layer_1 = 20\n",
    "neuron_hidden_layer_2 = 10\n",
    "neuron_hidden_layer_3 = 5\n"
   ]
  },
  {
   "cell_type": "code",
   "execution_count": 31,
   "metadata": {
    "colab": {},
    "colab_type": "code",
    "id": "HKTCB3K1glNQ"
   },
   "outputs": [],
   "source": [
    "# activation function of different layers\n",
    "\n",
    "# for now we have picked relu as an activation function for hidden layers, you can change it as well\n",
    "# since it is a binary classification problem, we have used sigmoid activation function in the final layer"
   ]
  },
  {
   "cell_type": "code",
   "execution_count": 49,
   "metadata": {
    "colab": {
     "base_uri": "https://localhost:8080/",
     "height": 141
    },
    "colab_type": "code",
    "id": "lJeV8sQyq1rj",
    "outputId": "1d37a21b-d06f-4461-d479-a8e0e5b2411e"
   },
   "outputs": [],
   "source": [
    "# defining the architecture of the model\n",
    "model = Sequential()\n",
    "model.add(InputLayer(input_shape=(input_neurons,)))\n",
    "model.add(Dense(units=neuron_hidden_layer_1, activation='relu'))\n",
    "model.add(Dense(units=neuron_hidden_layer_2, activation='relu'))\n",
    "model.add(Dense(units=neuron_hidden_layer_3, activation='relu'))\n",
    "model.add(Dense(units=output_neurons, activation='sigmoid'))"
   ]
  },
  {
   "cell_type": "code",
   "execution_count": 50,
   "metadata": {
    "colab": {
     "base_uri": "https://localhost:8080/",
     "height": 260
    },
    "colab_type": "code",
    "id": "E9tXg_08q3n0",
    "outputId": "478c6811-7326-4ea5-dbd8-cb5aef5bc76e"
   },
   "outputs": [
    {
     "name": "stdout",
     "output_type": "stream",
     "text": [
      "Model: \"sequential_1\"\n",
      "_________________________________________________________________\n",
      " Layer (type)                Output Shape              Param #   \n",
      "=================================================================\n",
      " dense_3 (Dense)             (None, 20)                240       \n",
      "                                                                 \n",
      " dense_4 (Dense)             (None, 10)                210       \n",
      "                                                                 \n",
      " dense_5 (Dense)             (None, 5)                 55        \n",
      "                                                                 \n",
      " dense_6 (Dense)             (None, 1)                 6         \n",
      "                                                                 \n",
      "=================================================================\n",
      "Total params: 511 (2.00 KB)\n",
      "Trainable params: 511 (2.00 KB)\n",
      "Non-trainable params: 0 (0.00 Byte)\n",
      "_________________________________________________________________\n"
     ]
    }
   ],
   "source": [
    "# summary of the model\n",
    "model.summary()"
   ]
  },
  {
   "cell_type": "code",
   "execution_count": 51,
   "metadata": {
    "colab": {
     "base_uri": "https://localhost:8080/",
     "height": 34
    },
    "colab_type": "code",
    "id": "PnsVNEbZglNf",
    "outputId": "0cff710b-3396-4072-b35f-86d56f415922"
   },
   "outputs": [
    {
     "data": {
      "text/plain": [
       "220"
      ]
     },
     "execution_count": 51,
     "metadata": {},
     "output_type": "execute_result"
    }
   ],
   "source": [
    "# number of parameters between input and first hidden layer\n",
    "input_neurons*neuron_hidden_layer_1"
   ]
  },
  {
   "cell_type": "code",
   "execution_count": 52,
   "metadata": {
    "colab": {
     "base_uri": "https://localhost:8080/",
     "height": 34
    },
    "colab_type": "code",
    "id": "npisFmvIglNl",
    "outputId": "3dd0fe81-ec95-4a3d-eb1f-3cb560ea134a",
    "scrolled": true
   },
   "outputs": [
    {
     "data": {
      "text/plain": [
       "240"
      ]
     },
     "execution_count": 52,
     "metadata": {},
     "output_type": "execute_result"
    }
   ],
   "source": [
    "# number of parameters between input and first hidden layer\n",
    "\n",
    "# adding the bias for each neuron of first hidden layer\n",
    "\n",
    "input_neurons*neuron_hidden_layer_1 + 20"
   ]
  },
  {
   "cell_type": "code",
   "execution_count": 53,
   "metadata": {
    "colab": {
     "base_uri": "https://localhost:8080/",
     "height": 34
    },
    "colab_type": "code",
    "id": "j37Xpr-8glNq",
    "outputId": "47b9b623-5fef-49cb-af33-99a4b28cf7a6"
   },
   "outputs": [
    {
     "data": {
      "text/plain": [
       "210"
      ]
     },
     "execution_count": 53,
     "metadata": {},
     "output_type": "execute_result"
    }
   ],
   "source": [
    "# number of parameters between first and second hidden layer\n",
    "\n",
    "neuron_hidden_layer_1*neuron_hidden_layer_2 + 10"
   ]
  },
  {
   "cell_type": "code",
   "execution_count": 54,
   "metadata": {
    "colab": {
     "base_uri": "https://localhost:8080/",
     "height": 34
    },
    "colab_type": "code",
    "id": "UXrvaFnXglNu",
    "outputId": "a0296d75-8754-41aa-f090-dd97200c5288"
   },
   "outputs": [
    {
     "data": {
      "text/plain": [
       "11"
      ]
     },
     "execution_count": 54,
     "metadata": {},
     "output_type": "execute_result"
    }
   ],
   "source": [
    "# number of parameters between second hidden and output layer\n",
    "\n",
    "neuron_hidden_layer_2*output_neurons + 1"
   ]
  },
  {
   "cell_type": "markdown",
   "metadata": {
    "colab_type": "text",
    "id": "xm1bbbE_glNz"
   },
   "source": [
    "## 4. Compiling the model (defining loss function, optimizer)"
   ]
  },
  {
   "cell_type": "code",
   "execution_count": 56,
   "metadata": {
    "colab": {
     "base_uri": "https://localhost:8080/",
     "height": 159
    },
    "colab_type": "code",
    "id": "P6hqkDWIglN0",
    "outputId": "985326f0-f71a-4646-f113-6844db41b2f3"
   },
   "outputs": [],
   "source": [
    "# compiling the model\n",
    "\n",
    "# loss as binary_crossentropy, since we have binary classification problem\n",
    "# defining the optimizer as adam\n",
    "# Evaluation metric as accuracy\n",
    "\n",
    "model.compile(loss='binary_crossentropy',optimizer='Adam',metrics=['accuracy'])"
   ]
  },
  {
   "cell_type": "markdown",
   "metadata": {
    "colab_type": "text",
    "id": "T1oVMpRMglN5"
   },
   "source": [
    "## 5. Training the model"
   ]
  },
  {
   "cell_type": "code",
   "execution_count": 57,
   "metadata": {
    "colab": {
     "base_uri": "https://localhost:8080/",
     "height": 1000
    },
    "colab_type": "code",
    "id": "pViJI3-TglN6",
    "outputId": "5833bd46-ca45-4644-9b4b-35e6ba628e48"
   },
   "outputs": [
    {
     "name": "stdout",
     "output_type": "stream",
     "text": [
      "Epoch 1/100\n",
      "16/16 [==============================] - 1s 16ms/step - loss: 0.6696 - accuracy: 0.6701 - val_loss: 0.6542 - val_accuracy: 0.6911\n",
      "Epoch 2/100\n",
      "16/16 [==============================] - 0s 5ms/step - loss: 0.6443 - accuracy: 0.6864 - val_loss: 0.6329 - val_accuracy: 0.6911\n",
      "Epoch 3/100\n",
      "16/16 [==============================] - 0s 5ms/step - loss: 0.6233 - accuracy: 0.6864 - val_loss: 0.6130 - val_accuracy: 0.6911\n",
      "Epoch 4/100\n",
      "16/16 [==============================] - 0s 5ms/step - loss: 0.6062 - accuracy: 0.6864 - val_loss: 0.5984 - val_accuracy: 0.6911\n",
      "Epoch 5/100\n",
      "16/16 [==============================] - 0s 5ms/step - loss: 0.5954 - accuracy: 0.6864 - val_loss: 0.5917 - val_accuracy: 0.6911\n",
      "Epoch 6/100\n",
      "16/16 [==============================] - 0s 4ms/step - loss: 0.5902 - accuracy: 0.6864 - val_loss: 0.5864 - val_accuracy: 0.6911\n",
      "Epoch 7/100\n",
      "16/16 [==============================] - 0s 5ms/step - loss: 0.5852 - accuracy: 0.6864 - val_loss: 0.5815 - val_accuracy: 0.6911\n",
      "Epoch 8/100\n",
      "16/16 [==============================] - 0s 6ms/step - loss: 0.5811 - accuracy: 0.6864 - val_loss: 0.5772 - val_accuracy: 0.6911\n",
      "Epoch 9/100\n",
      "16/16 [==============================] - 0s 5ms/step - loss: 0.5762 - accuracy: 0.6864 - val_loss: 0.5728 - val_accuracy: 0.6911\n",
      "Epoch 10/100\n",
      "16/16 [==============================] - 0s 5ms/step - loss: 0.5714 - accuracy: 0.6864 - val_loss: 0.5679 - val_accuracy: 0.6911\n",
      "Epoch 11/100\n",
      "16/16 [==============================] - 0s 5ms/step - loss: 0.5668 - accuracy: 0.6864 - val_loss: 0.5618 - val_accuracy: 0.6911\n",
      "Epoch 12/100\n",
      "16/16 [==============================] - 0s 5ms/step - loss: 0.5612 - accuracy: 0.6864 - val_loss: 0.5563 - val_accuracy: 0.6911\n",
      "Epoch 13/100\n",
      "16/16 [==============================] - 0s 5ms/step - loss: 0.5555 - accuracy: 0.6864 - val_loss: 0.5500 - val_accuracy: 0.6911\n",
      "Epoch 14/100\n",
      "16/16 [==============================] - 0s 5ms/step - loss: 0.5481 - accuracy: 0.6864 - val_loss: 0.5431 - val_accuracy: 0.6911\n",
      "Epoch 15/100\n",
      "16/16 [==============================] - 0s 4ms/step - loss: 0.5405 - accuracy: 0.7047 - val_loss: 0.5356 - val_accuracy: 0.7154\n",
      "Epoch 16/100\n",
      "16/16 [==============================] - 0s 5ms/step - loss: 0.5336 - accuracy: 0.7291 - val_loss: 0.5294 - val_accuracy: 0.7967\n",
      "Epoch 17/100\n",
      "16/16 [==============================] - 0s 4ms/step - loss: 0.5280 - accuracy: 0.7963 - val_loss: 0.5204 - val_accuracy: 0.8130\n",
      "Epoch 18/100\n",
      "16/16 [==============================] - 0s 4ms/step - loss: 0.5199 - accuracy: 0.8065 - val_loss: 0.5121 - val_accuracy: 0.8130\n",
      "Epoch 19/100\n",
      "16/16 [==============================] - 0s 8ms/step - loss: 0.5117 - accuracy: 0.8065 - val_loss: 0.5049 - val_accuracy: 0.8130\n",
      "Epoch 20/100\n",
      "16/16 [==============================] - 0s 4ms/step - loss: 0.5037 - accuracy: 0.8086 - val_loss: 0.4977 - val_accuracy: 0.8130\n",
      "Epoch 21/100\n",
      "16/16 [==============================] - 0s 4ms/step - loss: 0.4965 - accuracy: 0.8086 - val_loss: 0.4931 - val_accuracy: 0.8130\n",
      "Epoch 22/100\n",
      "16/16 [==============================] - 0s 6ms/step - loss: 0.4907 - accuracy: 0.8086 - val_loss: 0.4869 - val_accuracy: 0.8130\n",
      "Epoch 23/100\n",
      "16/16 [==============================] - 0s 4ms/step - loss: 0.4857 - accuracy: 0.8086 - val_loss: 0.4844 - val_accuracy: 0.8130\n",
      "Epoch 24/100\n",
      "16/16 [==============================] - 0s 5ms/step - loss: 0.4828 - accuracy: 0.8086 - val_loss: 0.4807 - val_accuracy: 0.8130\n",
      "Epoch 25/100\n",
      "16/16 [==============================] - 0s 4ms/step - loss: 0.4773 - accuracy: 0.8086 - val_loss: 0.4779 - val_accuracy: 0.8130\n",
      "Epoch 26/100\n",
      "16/16 [==============================] - 0s 5ms/step - loss: 0.4739 - accuracy: 0.8086 - val_loss: 0.4776 - val_accuracy: 0.8130\n",
      "Epoch 27/100\n",
      "16/16 [==============================] - 0s 5ms/step - loss: 0.4724 - accuracy: 0.8086 - val_loss: 0.4753 - val_accuracy: 0.8130\n",
      "Epoch 28/100\n",
      "16/16 [==============================] - 0s 5ms/step - loss: 0.4740 - accuracy: 0.8086 - val_loss: 0.4738 - val_accuracy: 0.8130\n",
      "Epoch 29/100\n",
      "16/16 [==============================] - 0s 6ms/step - loss: 0.4711 - accuracy: 0.8086 - val_loss: 0.4751 - val_accuracy: 0.8130\n",
      "Epoch 30/100\n",
      "16/16 [==============================] - 0s 5ms/step - loss: 0.4683 - accuracy: 0.8086 - val_loss: 0.4748 - val_accuracy: 0.8130\n",
      "Epoch 31/100\n",
      "16/16 [==============================] - 0s 5ms/step - loss: 0.4680 - accuracy: 0.8086 - val_loss: 0.4740 - val_accuracy: 0.8130\n",
      "Epoch 32/100\n",
      "16/16 [==============================] - 0s 5ms/step - loss: 0.4641 - accuracy: 0.8106 - val_loss: 0.4728 - val_accuracy: 0.8130\n",
      "Epoch 33/100\n",
      "16/16 [==============================] - 0s 5ms/step - loss: 0.4644 - accuracy: 0.8086 - val_loss: 0.4744 - val_accuracy: 0.8130\n",
      "Epoch 34/100\n",
      "16/16 [==============================] - 0s 5ms/step - loss: 0.4619 - accuracy: 0.8126 - val_loss: 0.4735 - val_accuracy: 0.8130\n",
      "Epoch 35/100\n",
      "16/16 [==============================] - 0s 5ms/step - loss: 0.4655 - accuracy: 0.8106 - val_loss: 0.4750 - val_accuracy: 0.8130\n",
      "Epoch 36/100\n",
      "16/16 [==============================] - 0s 7ms/step - loss: 0.4820 - accuracy: 0.8086 - val_loss: 0.4732 - val_accuracy: 0.8130\n",
      "Epoch 37/100\n",
      "16/16 [==============================] - 0s 7ms/step - loss: 0.4796 - accuracy: 0.8106 - val_loss: 0.4759 - val_accuracy: 0.8130\n",
      "Epoch 38/100\n",
      "16/16 [==============================] - 0s 5ms/step - loss: 0.4611 - accuracy: 0.8106 - val_loss: 0.4815 - val_accuracy: 0.8211\n",
      "Epoch 39/100\n",
      "16/16 [==============================] - 0s 4ms/step - loss: 0.4649 - accuracy: 0.8106 - val_loss: 0.4736 - val_accuracy: 0.8130\n",
      "Epoch 40/100\n",
      "16/16 [==============================] - 0s 6ms/step - loss: 0.4566 - accuracy: 0.8126 - val_loss: 0.4765 - val_accuracy: 0.8130\n",
      "Epoch 41/100\n",
      "16/16 [==============================] - 0s 5ms/step - loss: 0.4581 - accuracy: 0.8126 - val_loss: 0.4744 - val_accuracy: 0.8130\n",
      "Epoch 42/100\n",
      "16/16 [==============================] - 0s 6ms/step - loss: 0.4574 - accuracy: 0.8126 - val_loss: 0.4758 - val_accuracy: 0.8130\n",
      "Epoch 43/100\n",
      "16/16 [==============================] - 0s 5ms/step - loss: 0.4557 - accuracy: 0.8126 - val_loss: 0.4762 - val_accuracy: 0.8130\n",
      "Epoch 44/100\n",
      "16/16 [==============================] - 0s 5ms/step - loss: 0.4553 - accuracy: 0.8126 - val_loss: 0.4759 - val_accuracy: 0.8130\n",
      "Epoch 45/100\n",
      "16/16 [==============================] - 0s 5ms/step - loss: 0.4536 - accuracy: 0.8126 - val_loss: 0.4754 - val_accuracy: 0.8130\n",
      "Epoch 46/100\n",
      "16/16 [==============================] - 0s 5ms/step - loss: 0.4540 - accuracy: 0.8126 - val_loss: 0.4757 - val_accuracy: 0.8130\n",
      "Epoch 47/100\n",
      "16/16 [==============================] - 0s 5ms/step - loss: 0.4573 - accuracy: 0.8086 - val_loss: 0.4766 - val_accuracy: 0.8211\n",
      "Epoch 48/100\n",
      "16/16 [==============================] - 0s 5ms/step - loss: 0.4553 - accuracy: 0.8126 - val_loss: 0.4771 - val_accuracy: 0.8130\n",
      "Epoch 49/100\n",
      "16/16 [==============================] - 0s 5ms/step - loss: 0.4519 - accuracy: 0.8126 - val_loss: 0.4781 - val_accuracy: 0.8211\n",
      "Epoch 50/100\n",
      "16/16 [==============================] - 0s 5ms/step - loss: 0.4541 - accuracy: 0.8106 - val_loss: 0.4770 - val_accuracy: 0.8130\n",
      "Epoch 51/100\n",
      "16/16 [==============================] - 0s 4ms/step - loss: 0.4545 - accuracy: 0.8126 - val_loss: 0.4781 - val_accuracy: 0.8130\n",
      "Epoch 52/100\n",
      "16/16 [==============================] - 0s 4ms/step - loss: 0.4505 - accuracy: 0.8126 - val_loss: 0.4813 - val_accuracy: 0.8211\n",
      "Epoch 53/100\n",
      "16/16 [==============================] - 0s 4ms/step - loss: 0.4540 - accuracy: 0.8106 - val_loss: 0.4782 - val_accuracy: 0.8130\n",
      "Epoch 54/100\n",
      "16/16 [==============================] - 0s 4ms/step - loss: 0.4501 - accuracy: 0.8126 - val_loss: 0.4789 - val_accuracy: 0.8211\n",
      "Epoch 55/100\n",
      "16/16 [==============================] - 0s 4ms/step - loss: 0.4531 - accuracy: 0.8106 - val_loss: 0.4798 - val_accuracy: 0.8130\n",
      "Epoch 56/100\n",
      "16/16 [==============================] - 0s 4ms/step - loss: 0.4498 - accuracy: 0.8106 - val_loss: 0.4800 - val_accuracy: 0.8211\n",
      "Epoch 57/100\n",
      "16/16 [==============================] - 0s 4ms/step - loss: 0.4492 - accuracy: 0.8126 - val_loss: 0.4793 - val_accuracy: 0.8211\n",
      "Epoch 58/100\n",
      "16/16 [==============================] - 0s 4ms/step - loss: 0.4497 - accuracy: 0.8126 - val_loss: 0.4800 - val_accuracy: 0.8211\n",
      "Epoch 59/100\n",
      "16/16 [==============================] - 0s 8ms/step - loss: 0.4487 - accuracy: 0.8106 - val_loss: 0.4808 - val_accuracy: 0.8211\n",
      "Epoch 60/100\n",
      "16/16 [==============================] - 0s 5ms/step - loss: 0.4480 - accuracy: 0.8106 - val_loss: 0.4818 - val_accuracy: 0.8211\n",
      "Epoch 61/100\n",
      "16/16 [==============================] - 0s 4ms/step - loss: 0.4509 - accuracy: 0.8126 - val_loss: 0.4804 - val_accuracy: 0.8211\n",
      "Epoch 62/100\n",
      "16/16 [==============================] - 0s 4ms/step - loss: 0.4471 - accuracy: 0.8106 - val_loss: 0.4829 - val_accuracy: 0.8211\n",
      "Epoch 63/100\n",
      "16/16 [==============================] - 0s 4ms/step - loss: 0.4469 - accuracy: 0.8106 - val_loss: 0.4825 - val_accuracy: 0.8211\n",
      "Epoch 64/100\n",
      "16/16 [==============================] - 0s 4ms/step - loss: 0.4467 - accuracy: 0.8106 - val_loss: 0.4835 - val_accuracy: 0.8211\n",
      "Epoch 65/100\n",
      "16/16 [==============================] - 0s 5ms/step - loss: 0.4472 - accuracy: 0.8106 - val_loss: 0.4836 - val_accuracy: 0.8211\n",
      "Epoch 66/100\n",
      "16/16 [==============================] - 0s 5ms/step - loss: 0.4465 - accuracy: 0.8106 - val_loss: 0.4823 - val_accuracy: 0.8211\n",
      "Epoch 67/100\n",
      "16/16 [==============================] - 0s 4ms/step - loss: 0.4458 - accuracy: 0.8106 - val_loss: 0.4857 - val_accuracy: 0.8211\n",
      "Epoch 68/100\n",
      "16/16 [==============================] - 0s 4ms/step - loss: 0.4462 - accuracy: 0.8126 - val_loss: 0.4831 - val_accuracy: 0.8211\n",
      "Epoch 69/100\n",
      "16/16 [==============================] - 0s 4ms/step - loss: 0.4462 - accuracy: 0.8106 - val_loss: 0.4843 - val_accuracy: 0.8211\n",
      "Epoch 70/100\n",
      "16/16 [==============================] - 0s 4ms/step - loss: 0.4441 - accuracy: 0.8106 - val_loss: 0.4837 - val_accuracy: 0.8211\n",
      "Epoch 71/100\n",
      "16/16 [==============================] - 0s 4ms/step - loss: 0.4442 - accuracy: 0.8106 - val_loss: 0.4845 - val_accuracy: 0.8211\n",
      "Epoch 72/100\n",
      "16/16 [==============================] - 0s 4ms/step - loss: 0.4447 - accuracy: 0.8106 - val_loss: 0.4859 - val_accuracy: 0.8211\n",
      "Epoch 73/100\n",
      "16/16 [==============================] - 0s 4ms/step - loss: 0.4462 - accuracy: 0.8106 - val_loss: 0.4863 - val_accuracy: 0.8211\n",
      "Epoch 74/100\n",
      "16/16 [==============================] - 0s 4ms/step - loss: 0.4461 - accuracy: 0.8126 - val_loss: 0.4860 - val_accuracy: 0.8211\n",
      "Epoch 75/100\n",
      "16/16 [==============================] - 0s 4ms/step - loss: 0.4427 - accuracy: 0.8126 - val_loss: 0.4893 - val_accuracy: 0.8211\n",
      "Epoch 76/100\n",
      "16/16 [==============================] - 0s 4ms/step - loss: 0.4428 - accuracy: 0.8106 - val_loss: 0.4874 - val_accuracy: 0.8211\n",
      "Epoch 77/100\n",
      "16/16 [==============================] - 0s 5ms/step - loss: 0.4427 - accuracy: 0.8106 - val_loss: 0.4885 - val_accuracy: 0.8211\n",
      "Epoch 78/100\n",
      "16/16 [==============================] - 0s 5ms/step - loss: 0.4418 - accuracy: 0.8086 - val_loss: 0.4883 - val_accuracy: 0.8211\n",
      "Epoch 79/100\n",
      "16/16 [==============================] - 0s 4ms/step - loss: 0.4428 - accuracy: 0.8106 - val_loss: 0.4889 - val_accuracy: 0.8211\n",
      "Epoch 80/100\n",
      "16/16 [==============================] - 0s 5ms/step - loss: 0.4425 - accuracy: 0.8126 - val_loss: 0.4891 - val_accuracy: 0.8211\n",
      "Epoch 81/100\n",
      "16/16 [==============================] - 0s 4ms/step - loss: 0.4417 - accuracy: 0.8106 - val_loss: 0.4899 - val_accuracy: 0.8211\n",
      "Epoch 82/100\n",
      "16/16 [==============================] - 0s 7ms/step - loss: 0.4404 - accuracy: 0.8126 - val_loss: 0.4911 - val_accuracy: 0.8211\n",
      "Epoch 83/100\n",
      "16/16 [==============================] - 0s 6ms/step - loss: 0.4408 - accuracy: 0.8126 - val_loss: 0.4911 - val_accuracy: 0.8211\n",
      "Epoch 84/100\n",
      "16/16 [==============================] - 0s 4ms/step - loss: 0.4396 - accuracy: 0.8126 - val_loss: 0.4913 - val_accuracy: 0.8211\n",
      "Epoch 85/100\n",
      "16/16 [==============================] - 0s 4ms/step - loss: 0.4404 - accuracy: 0.8126 - val_loss: 0.4926 - val_accuracy: 0.8211\n",
      "Epoch 86/100\n",
      "16/16 [==============================] - 0s 4ms/step - loss: 0.4423 - accuracy: 0.8167 - val_loss: 0.4923 - val_accuracy: 0.8211\n",
      "Epoch 87/100\n",
      "16/16 [==============================] - 0s 4ms/step - loss: 0.4400 - accuracy: 0.8106 - val_loss: 0.4942 - val_accuracy: 0.8211\n",
      "Epoch 88/100\n",
      "16/16 [==============================] - 0s 4ms/step - loss: 0.4394 - accuracy: 0.8106 - val_loss: 0.4938 - val_accuracy: 0.8211\n",
      "Epoch 89/100\n",
      "16/16 [==============================] - 0s 4ms/step - loss: 0.4390 - accuracy: 0.8106 - val_loss: 0.4943 - val_accuracy: 0.8211\n",
      "Epoch 90/100\n",
      "16/16 [==============================] - 0s 4ms/step - loss: 0.4384 - accuracy: 0.8106 - val_loss: 0.4965 - val_accuracy: 0.8211\n",
      "Epoch 91/100\n",
      "16/16 [==============================] - 0s 4ms/step - loss: 0.4386 - accuracy: 0.8126 - val_loss: 0.4951 - val_accuracy: 0.8211\n",
      "Epoch 92/100\n",
      "16/16 [==============================] - 0s 4ms/step - loss: 0.4378 - accuracy: 0.8126 - val_loss: 0.4958 - val_accuracy: 0.8211\n",
      "Epoch 93/100\n",
      "16/16 [==============================] - 0s 4ms/step - loss: 0.4365 - accuracy: 0.8147 - val_loss: 0.4970 - val_accuracy: 0.8211\n",
      "Epoch 94/100\n",
      "16/16 [==============================] - 0s 4ms/step - loss: 0.4395 - accuracy: 0.8147 - val_loss: 0.4976 - val_accuracy: 0.8211\n",
      "Epoch 95/100\n",
      "16/16 [==============================] - 0s 5ms/step - loss: 0.4400 - accuracy: 0.8126 - val_loss: 0.4967 - val_accuracy: 0.8211\n",
      "Epoch 96/100\n",
      "16/16 [==============================] - 0s 4ms/step - loss: 0.4428 - accuracy: 0.8167 - val_loss: 0.4968 - val_accuracy: 0.8211\n",
      "Epoch 97/100\n",
      "16/16 [==============================] - 0s 4ms/step - loss: 0.4393 - accuracy: 0.8126 - val_loss: 0.4967 - val_accuracy: 0.8211\n",
      "Epoch 98/100\n",
      "16/16 [==============================] - 0s 4ms/step - loss: 0.4373 - accuracy: 0.8187 - val_loss: 0.4988 - val_accuracy: 0.8211\n",
      "Epoch 99/100\n",
      "16/16 [==============================] - 0s 4ms/step - loss: 0.4365 - accuracy: 0.8106 - val_loss: 0.4976 - val_accuracy: 0.8211\n",
      "Epoch 100/100\n",
      "16/16 [==============================] - 0s 4ms/step - loss: 0.4373 - accuracy: 0.8126 - val_loss: 0.5002 - val_accuracy: 0.8211\n"
     ]
    }
   ],
   "source": [
    "# training the model\n",
    "\n",
    "# passing the independent and dependent features for training set for training the model\n",
    "\n",
    "# validation data will be evaluated at the end of each epoch\n",
    "\n",
    "# setting the epochs as 50\n",
    "\n",
    "# storing the trained model in model_history variable which will be used to visualize the training process\n",
    "\n",
    "model_history = model.fit(X_train, y_train, validation_data=(X_test, y_test), epochs=100)"
   ]
  },
  {
   "cell_type": "markdown",
   "metadata": {
    "colab_type": "text",
    "id": "hBZ_3aumglN9"
   },
   "source": [
    "## 6. Evaluating model performance on validation set"
   ]
  },
  {
   "cell_type": "markdown",
   "metadata": {},
   "source": [
    " loss: 0.4258 - accuracy: 0.8187\n",
    " loss: 0.4918 - accuracy: 0.8211"
   ]
  },
  {
   "cell_type": "code",
   "execution_count": 58,
   "metadata": {},
   "outputs": [
    {
     "name": "stdout",
     "output_type": "stream",
     "text": [
      "16/16 [==============================] - 0s 2ms/step - loss: 0.4343 - accuracy: 0.8126\n",
      "\n",
      "accuracy: 81.26%\n"
     ]
    }
   ],
   "source": [
    "scores = model.evaluate(X_train, y_train)\n",
    "print(\"\\n%s: %.2f%%\" % (model.metrics_names[1], scores[1]*100))"
   ]
  },
  {
   "cell_type": "code",
   "execution_count": 59,
   "metadata": {},
   "outputs": [
    {
     "name": "stdout",
     "output_type": "stream",
     "text": [
      "4/4 [==============================] - 0s 2ms/step - loss: 0.5002 - accuracy: 0.8211\n",
      "\n",
      "accuracy: 82.11%\n"
     ]
    }
   ],
   "source": [
    "scores = model.evaluate(X_test, y_test)\n",
    "print(\"\\n%s: %.2f%%\" % (model.metrics_names[1], scores[1]*100))"
   ]
  },
  {
   "cell_type": "code",
   "execution_count": 42,
   "metadata": {},
   "outputs": [
    {
     "name": "stderr",
     "output_type": "stream",
     "text": [
      "/Users/jesselang/anaconda3/lib/python3.11/site-packages/keras/src/engine/training.py:3079: UserWarning: You are saving your model as an HDF5 file via `model.save()`. This file format is considered legacy. We recommend using instead the native Keras format, e.g. `model.save('my_model.keras')`.\n",
      "  saving_api.save_model(\n"
     ]
    }
   ],
   "source": [
    "model.save(\"Loan_Class.h5\")"
   ]
  },
  {
   "cell_type": "markdown",
   "metadata": {
    "colab_type": "text",
    "id": "rLvGzvLcglOH"
   },
   "source": [
    "### Visualizing the model performance"
   ]
  },
  {
   "cell_type": "code",
   "execution_count": 43,
   "metadata": {
    "colab": {
     "base_uri": "https://localhost:8080/",
     "height": 295
    },
    "colab_type": "code",
    "id": "68APv0UuglOI",
    "outputId": "46fd92e3-6329-40c1-c8d0-d3eb7379ed2a",
    "scrolled": true
   },
   "outputs": [
    {
     "data": {
      "image/png": "[encoded data removed]",
      "text/plain": [
       "<Figure size 640x480 with 1 Axes>"
      ]
     },
     "metadata": {},
     "output_type": "display_data"
    }
   ],
   "source": [
    "# summarize history for loss\n",
    "plt.plot(model_history.history['accuracy'])\n",
    "plt.plot(model_history.history['val_accuracy'])\n",
    "plt.title('model accuracy')\n",
    "plt.ylabel('accuracy')\n",
    "plt.xlabel('epoch')\n",
    "plt.legend(['train', 'validation'], loc='lower right')\n",
    "plt.show()"
   ]
  },
  {
   "cell_type": "markdown",
   "metadata": {},
   "source": [
    "### Netron for Visualization"
   ]
  },
  {
   "cell_type": "code",
   "execution_count": 45,
   "metadata": {},
   "outputs": [
    {
     "name": "stdout",
     "output_type": "stream",
     "text": [
      "Collecting netron\n",
      "  Obtaining dependency information for netron from https://files.pythonhosted.org/packages/d0/c1/ae46f79f8078b4d9933e0040a5f0048f45e31076fe274f08c38fe068eb67/netron-7.2.1-py3-none-any.whl.metadata\n",
      "  Downloading netron-7.2.1-py3-none-any.whl.metadata (1.4 kB)\n",
      "Downloading netron-7.2.1-py3-none-any.whl (1.6 MB)\n",
      "\u001b[2K   \u001b[90m━━━━━━━━━━━━━━━━━━━━━━━━━━━━━━━━━━━━━━━━\u001b[0m \u001b[32m1.6/1.6 MB\u001b[0m \u001b[31m17.7 MB/s\u001b[0m eta \u001b[36m0:00:00\u001b[0m00:01\u001b[0m00:01\u001b[0m\n",
      "\u001b[?25hInstalling collected packages: netron\n",
      "Successfully installed netron-7.2.1\n"
     ]
    }
   ],
   "source": [
    "! pip install --upgrade netron"
   ]
  },
  {
   "cell_type": "code",
   "execution_count": 46,
   "metadata": {},
   "outputs": [],
   "source": [
    "import netron"
   ]
  },
  {
   "cell_type": "code",
   "execution_count": 47,
   "metadata": {},
   "outputs": [
    {
     "name": "stdout",
     "output_type": "stream",
     "text": [
      "Serving 'Loan_Class.h5' at http://localhost:8080\n"
     ]
    },
    {
     "data": {
      "text/plain": [
       "('localhost', 8080)"
      ]
     },
     "execution_count": 47,
     "metadata": {},
     "output_type": "execute_result"
    }
   ],
   "source": [
    "netron.start(\"Loan_Class.h5\")"
   ]
  },
  {
   "cell_type": "code",
   "execution_count": null,
   "metadata": {},
   "outputs": [],
   "source": []
  }
 ],
 "metadata": {
  "accelerator": "GPU",
  "colab": {
   "collapsed_sections": [],
   "name": "9.5 Solving Loan Prediction problem using Neural Network.ipynb",
   "provenance": []
  },
  "kernelspec": {
   "display_name": "Python 3",
   "language": "python",
   "name": "python3"
  },
  "language_info": {
   "codemirror_mode": {
    "name": "ipython",
    "version": 3
   },
   "file_extension": ".py",
   "mimetype": "text/x-python",
   "name": "python",
   "nbconvert_exporter": "python",
   "pygments_lexer": "ipython3",
   "version": "3.11.4"
  }
 },
 "nbformat": 4,
 "nbformat_minor": 1
}
